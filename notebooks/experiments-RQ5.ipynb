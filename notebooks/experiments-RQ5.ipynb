{
 "cells": [
  {
   "cell_type": "code",
   "execution_count": 2,
   "id": "698bf1dd-e86f-435a-b184-5d21bfb2e417",
   "metadata": {},
   "outputs": [],
   "source": [
    "#### we need to explore the efficacy of using a different c parameter\n",
    "#### which query will we use?\n",
    "#### which dataset will we use?\n",
    "\n",
    "#### How will we evaluate?\n",
    "\n",
    "#### okay, we've decided on the format, let's load the video dataset and perform the experiments......\n",
    "\n",
    "%load_ext autoreload\n",
    "%autoreload 2\n",
    "\n",
    "\n"
   ]
  },
  {
   "cell_type": "code",
   "execution_count": 3,
   "id": "fbaf47a7-dfea-4c72-9e89-926111f3cac8",
   "metadata": {},
   "outputs": [],
   "source": [
    "\n",
    "import sys\n",
    "sys.path.append('/nethome/jbang36/eko')"
   ]
  },
  {
   "cell_type": "code",
   "execution_count": 4,
   "id": "72b02a2e-49f6-4448-83f1-a1c709457fbc",
   "metadata": {},
   "outputs": [
    {
     "name": "stderr",
     "output_type": "stream",
     "text": [
      "11-24-2022 22:42:22 [info:049]INFO : meta data of the video /srv/data/jbang36/video_data/dashcam960/video.mp4 is (74880, 540, 960, 3)\n",
      "meta data of the video /srv/data/jbang36/video_data/dashcam960/video.mp4 is (74880, 540, 960, 3)\n",
      "100%|██████████| 74880/74880 [01:16<00:00, 978.69it/s]\n"
     ]
    }
   ],
   "source": [
    "### let's run the experiment and get the results\n",
    "video_names = ['cherry960', 'ua_detra960', 'dashcam960', 'jackson']\n",
    "video_name = 'dashcam960'\n",
    "category = 'car'\n",
    "\n",
    "from eko_paper2022.motivation.main import *\n",
    "\n",
    "images = load_dataset(video_name)"
   ]
  },
  {
   "cell_type": "code",
   "execution_count": 40,
   "id": "2895ddb9-5b0a-412a-ad09-f9cd94f566e5",
   "metadata": {},
   "outputs": [],
   "source": [
    "anchor_count = int( len(images) * 0.01) ### this is the variable\n",
    "aggregate_error_param = 0.05\n",
    "anchor_per = 0.5\n",
    "dnn_invocation = int(len(images) * 0.1)\n",
    "\n"
   ]
  },
  {
   "cell_type": "code",
   "execution_count": 41,
   "id": "7971846c-3da7-4186-a83a-b2f161436c41",
   "metadata": {
    "scrolled": true,
    "tags": []
   },
   "outputs": [
    {
     "name": "stdout",
     "output_type": "stream",
     "text": [
      "index initializing....\n",
      "number of training instances:  1\n",
      "mining complete!\n",
      "training complete!\n",
      "inferring complete!\n",
      "returning 6240 frames in 0.4853404499590397 seconds\n",
      "adfasdfasdfsaf 748 0.5 374\n",
      "total number of iframes:  6240\n",
      "total number of anchors selected in index construction:  374\n",
      "final number that has been selected:  374\n",
      "bucketing complete!\n"
     ]
    },
    {
     "data": {
      "application/vnd.jupyter.widget-view+json": {
       "model_id": "2ea177634d884dea9540200e31798491",
       "version_major": 2,
       "version_minor": 0
      },
      "text/plain": [
       "Target DNN Invocations:   0%|          | 0/374 [00:00<?, ?it/s]"
      ]
     },
     "metadata": {},
     "output_type": "display_data"
    },
    {
     "name": "stdout",
     "output_type": "stream",
     "text": [
      "index initializing....\n",
      "number of training instances:  1\n",
      "mining complete!\n",
      "training complete!\n",
      "inferring complete!\n",
      "returning 6240 frames in 0.4932790733873844 seconds\n",
      "adfasdfasdfsaf 748 0.5 374\n",
      "total number of iframes:  6240\n",
      "total number of anchors selected in index construction:  374\n",
      "final number that has been selected:  374\n",
      "bucketing complete!\n"
     ]
    },
    {
     "data": {
      "application/vnd.jupyter.widget-view+json": {
       "model_id": "9d3fc8c23ca44e839fde4e261e64d452",
       "version_major": 2,
       "version_minor": 0
      },
      "text/plain": [
       "Target DNN Invocations:   0%|          | 0/374 [00:00<?, ?it/s]"
      ]
     },
     "metadata": {},
     "output_type": "display_data"
    },
    {
     "name": "stdout",
     "output_type": "stream",
     "text": [
      "index initializing....\n",
      "number of training instances:  1\n",
      "mining complete!\n",
      "training complete!\n",
      "inferring complete!\n",
      "returning 6240 frames in 0.4933997429907322 seconds\n",
      "adfasdfasdfsaf 748 0.5 374\n",
      "total number of iframes:  6240\n",
      "total number of anchors selected in index construction:  374\n",
      "final number that has been selected:  374\n",
      "bucketing complete!\n"
     ]
    },
    {
     "data": {
      "application/vnd.jupyter.widget-view+json": {
       "model_id": "b3b9ee80609547bb8d8984f13df02f8e",
       "version_major": 2,
       "version_minor": 0
      },
      "text/plain": [
       "Target DNN Invocations:   0%|          | 0/374 [00:00<?, ?it/s]"
      ]
     },
     "metadata": {},
     "output_type": "display_data"
    },
    {
     "name": "stdout",
     "output_type": "stream",
     "text": [
      "index initializing....\n",
      "number of training instances:  1\n",
      "mining complete!\n",
      "training complete!\n",
      "inferring complete!\n",
      "returning 6240 frames in 0.4848865158855915 seconds\n",
      "adfasdfasdfsaf 748 0.5 374\n",
      "total number of iframes:  6240\n",
      "total number of anchors selected in index construction:  374\n",
      "final number that has been selected:  374\n",
      "bucketing complete!\n"
     ]
    },
    {
     "data": {
      "application/vnd.jupyter.widget-view+json": {
       "model_id": "ff99665a0f5a438bbdae850bcf3005d2",
       "version_major": 2,
       "version_minor": 0
      },
      "text/plain": [
       "Target DNN Invocations:   0%|          | 0/374 [00:00<?, ?it/s]"
      ]
     },
     "metadata": {},
     "output_type": "display_data"
    },
    {
     "name": "stdout",
     "output_type": "stream",
     "text": [
      "index initializing....\n",
      "number of training instances:  1\n",
      "mining complete!\n",
      "training complete!\n",
      "inferring complete!\n",
      "returning 6240 frames in 0.4911045543849468 seconds\n",
      "adfasdfasdfsaf 748 0.5 374\n",
      "total number of iframes:  6240\n",
      "total number of anchors selected in index construction:  374\n",
      "final number that has been selected:  374\n",
      "bucketing complete!\n"
     ]
    },
    {
     "data": {
      "application/vnd.jupyter.widget-view+json": {
       "model_id": "84307b879cb24b749ed3156ce195797e",
       "version_major": 2,
       "version_minor": 0
      },
      "text/plain": [
       "Target DNN Invocations:   0%|          | 0/374 [00:00<?, ?it/s]"
      ]
     },
     "metadata": {},
     "output_type": "display_data"
    }
   ],
   "source": [
    "\n",
    "from eko_paper2022.experiments.main import execute_ekomab\n",
    "\n",
    "c_params = [0, 1, 2, 3, 4]\n",
    "ekos = []\n",
    "for c_param in c_params:\n",
    "\n",
    "    eko_mab = execute_ekomab(images, video_name, category = category, nb_buckets = anchor_count, anchor_percentage = anchor_per, c_param = c_param)\n",
    "    ekos.append(eko_mab)\n",
    "    \n",
    "    "
   ]
  },
  {
   "cell_type": "code",
   "execution_count": null,
   "id": "58f62178-2be4-4b4f-bb7e-73bc52ce6eb1",
   "metadata": {},
   "outputs": [],
   "source": []
  },
  {
   "cell_type": "code",
   "execution_count": null,
   "id": "1dff6e5f-3f38-4a4b-9b49-4a100f630eaa",
   "metadata": {},
   "outputs": [],
   "source": []
  },
  {
   "cell_type": "code",
   "execution_count": 39,
   "id": "a7040e72-79ab-4f7a-8415-49d7788f2231",
   "metadata": {
    "scrolled": true,
    "tags": []
   },
   "outputs": [
    {
     "name": "stdout",
     "output_type": "stream",
     "text": [
      "0\n"
     ]
    },
    {
     "name": "stderr",
     "output_type": "stream",
     "text": [
      "100%|██████████| 3744/3744 [01:00<00:00, 61.69it/s] \n"
     ]
    },
    {
     "data": {
      "application/vnd.jupyter.widget-view+json": {
       "model_id": "a574e755ed72454f8f1385227e6bf247",
       "version_major": 2,
       "version_minor": 0
      },
      "text/plain": [
       "Propagation:   0%|          | 0/74880 [00:00<?, ?it/s]"
      ]
     },
     "metadata": {},
     "output_type": "display_data"
    },
    {
     "name": "stdout",
     "output_type": "stream",
     "text": [
      "r 15.0\n",
      "NightStreetAggregateQuery\n",
      "---------------------------  -----------------------------------------------------------------------------------------------------------------------------------------------------------------------------------\n",
      "initial_estimate             157375.5\n",
      "debiased_estimate            157969.07843060367\n",
      "nb_samples                   8343\n",
      "y_pred                       [          4           4           4 ...           0           0           0]\n",
      "y_true                       [DNNOutputCacheFloat(idx=0) DNNOutputCacheFloat(idx=1) DNNOutputCacheFloat(idx=2) ... DNNOutputCacheFloat(idx=74877) DNNOutputCacheFloat(idx=74878) DNNOutputCacheFloat(idx=74879)]\n",
      "actual_estimate              157784.0\n",
      "---------------------\n",
      "1\n"
     ]
    },
    {
     "name": "stderr",
     "output_type": "stream",
     "text": [
      "100%|██████████| 3744/3744 [01:00<00:00, 62.13it/s] \n"
     ]
    },
    {
     "data": {
      "application/vnd.jupyter.widget-view+json": {
       "model_id": "f1ac3bdec0114e8d9f723fc642a166ea",
       "version_major": 2,
       "version_minor": 0
      },
      "text/plain": [
       "Propagation:   0%|          | 0/74880 [00:00<?, ?it/s]"
      ]
     },
     "metadata": {},
     "output_type": "display_data"
    },
    {
     "name": "stdout",
     "output_type": "stream",
     "text": [
      "r 15.0\n",
      "NightStreetAggregateQuery\n",
      "---------------------------  -----------------------------------------------------------------------------------------------------------------------------------------------------------------------------------\n",
      "initial_estimate             157725.5\n",
      "debiased_estimate            157888.050945195\n",
      "nb_samples                   8420\n",
      "y_pred                       [          4      3.9167      3.8333 ...           0           0           0]\n",
      "y_true                       [DNNOutputCacheFloat(idx=0) DNNOutputCacheFloat(idx=1) DNNOutputCacheFloat(idx=2) ... DNNOutputCacheFloat(idx=74877) DNNOutputCacheFloat(idx=74878) DNNOutputCacheFloat(idx=74879)]\n",
      "actual_estimate              157784.0\n",
      "---------------------\n",
      "2\n"
     ]
    },
    {
     "name": "stderr",
     "output_type": "stream",
     "text": [
      "100%|██████████| 3744/3744 [01:00<00:00, 62.26it/s] \n"
     ]
    },
    {
     "data": {
      "application/vnd.jupyter.widget-view+json": {
       "model_id": "6cceac6aad5940e2a2ff6648ea6ef76f",
       "version_major": 2,
       "version_minor": 0
      },
      "text/plain": [
       "Propagation:   0%|          | 0/74880 [00:00<?, ?it/s]"
      ]
     },
     "metadata": {},
     "output_type": "display_data"
    },
    {
     "name": "stdout",
     "output_type": "stream",
     "text": [
      "r 15.0\n",
      "NightStreetAggregateQuery\n",
      "---------------------------  -----------------------------------------------------------------------------------------------------------------------------------------------------------------------------------\n",
      "initial_estimate             157444.0\n",
      "debiased_estimate            158933.5184426337\n",
      "nb_samples                   8382\n",
      "y_pred                       [          4      3.9167      3.8333 ...           0           0           0]\n",
      "y_true                       [DNNOutputCacheFloat(idx=0) DNNOutputCacheFloat(idx=1) DNNOutputCacheFloat(idx=2) ... DNNOutputCacheFloat(idx=74877) DNNOutputCacheFloat(idx=74878) DNNOutputCacheFloat(idx=74879)]\n",
      "actual_estimate              157784.0\n",
      "---------------------\n",
      "3\n"
     ]
    },
    {
     "name": "stderr",
     "output_type": "stream",
     "text": [
      "100%|██████████| 3744/3744 [01:00<00:00, 61.86it/s] \n"
     ]
    },
    {
     "data": {
      "application/vnd.jupyter.widget-view+json": {
       "model_id": "08e8310df7654bff90bd04f11380ae89",
       "version_major": 2,
       "version_minor": 0
      },
      "text/plain": [
       "Propagation:   0%|          | 0/74880 [00:00<?, ?it/s]"
      ]
     },
     "metadata": {},
     "output_type": "display_data"
    },
    {
     "name": "stdout",
     "output_type": "stream",
     "text": [
      "r 15.0\n",
      "NightStreetAggregateQuery\n",
      "---------------------------  -----------------------------------------------------------------------------------------------------------------------------------------------------------------------------------\n",
      "initial_estimate             157621.5\n",
      "debiased_estimate            157178.1164309426\n",
      "nb_samples                   8368\n",
      "y_pred                       [          4      3.9167      3.8333 ...           0           0           0]\n",
      "y_true                       [DNNOutputCacheFloat(idx=0) DNNOutputCacheFloat(idx=1) DNNOutputCacheFloat(idx=2) ... DNNOutputCacheFloat(idx=74877) DNNOutputCacheFloat(idx=74878) DNNOutputCacheFloat(idx=74879)]\n",
      "actual_estimate              157784.0\n",
      "---------------------\n",
      "4\n"
     ]
    },
    {
     "name": "stderr",
     "output_type": "stream",
     "text": [
      "100%|██████████| 3744/3744 [00:57<00:00, 65.67it/s] \n"
     ]
    },
    {
     "data": {
      "application/vnd.jupyter.widget-view+json": {
       "model_id": "b9bd0b9ed188465a84c648e16cb5c205",
       "version_major": 2,
       "version_minor": 0
      },
      "text/plain": [
       "Propagation:   0%|          | 0/74880 [00:00<?, ?it/s]"
      ]
     },
     "metadata": {},
     "output_type": "display_data"
    },
    {
     "name": "stdout",
     "output_type": "stream",
     "text": [
      "r 15.0\n",
      "NightStreetAggregateQuery\n",
      "---------------------------  -----------------------------------------------------------------------------------------------------------------------------------------------------------------------------------\n",
      "initial_estimate             157889.5\n",
      "debiased_estimate            157615.29886952278\n",
      "nb_samples                   8292\n",
      "y_pred                       [          4      3.9167      3.8333 ...           0           0           0]\n",
      "y_true                       [DNNOutputCacheFloat(idx=0) DNNOutputCacheFloat(idx=1) DNNOutputCacheFloat(idx=2) ... DNNOutputCacheFloat(idx=74877) DNNOutputCacheFloat(idx=74878) DNNOutputCacheFloat(idx=74879)]\n",
      "actual_estimate              157784.0\n",
      "---------------------\n"
     ]
    }
   ],
   "source": [
    "from eko_paper2022.experiments.main import *\n",
    "\n",
    "\n",
    "for c_param, eko in zip(c_params, ekos):\n",
    "    print(c_param)\n",
    "    query, times = query_process_aggregate(eko, error = aggregate_error_param)\n",
    "    print('---------------------')"
   ]
  },
  {
   "cell_type": "code",
   "execution_count": 37,
   "id": "d4ad9deb-26dc-4189-ab32-b4ec6af8f5ee",
   "metadata": {},
   "outputs": [
    {
     "name": "stdout",
     "output_type": "stream",
     "text": [
      "hello world\n"
     ]
    }
   ],
   "source": [
    "print('hello world')"
   ]
  },
  {
   "cell_type": "code",
   "execution_count": null,
   "id": "0c25d627-3be4-48ff-8c0e-66c9e5675973",
   "metadata": {},
   "outputs": [],
   "source": []
  },
  {
   "cell_type": "code",
   "execution_count": null,
   "id": "23b17365-e526-4a08-90a4-ef33d58d24a8",
   "metadata": {},
   "outputs": [],
   "source": []
  },
  {
   "cell_type": "code",
   "execution_count": 42,
   "id": "b30df005-52ff-4a37-84b3-5f68b3a5bd0c",
   "metadata": {},
   "outputs": [
    {
     "name": "stderr",
     "output_type": "stream",
     "text": [
      "/srv/data/jbang36/anaconda3/envs/eko22/lib/python3.9/site-packages/numpy/core/fromnumeric.py:3723: RuntimeWarning: Degrees of freedom <= 0 for slice\n",
      "  return _methods._var(a, axis=axis, dtype=dtype, out=out, ddof=ddof,\n",
      "/srv/data/jbang36/anaconda3/envs/eko22/lib/python3.9/site-packages/numpy/core/_methods.py:222: RuntimeWarning: invalid value encountered in true_divide\n",
      "  arrmean = um.true_divide(arrmean, div, out=arrmean, casting='unsafe',\n",
      "/srv/data/jbang36/anaconda3/envs/eko22/lib/python3.9/site-packages/numpy/core/_methods.py:254: RuntimeWarning: invalid value encountered in double_scalars\n",
      "  ret = ret.dtype.type(ret / rcount)\n"
     ]
    },
    {
     "name": "stdout",
     "output_type": "stream",
     "text": [
      "0\n"
     ]
    },
    {
     "name": "stderr",
     "output_type": "stream",
     "text": [
      "  0%|          | 0/374 [00:00<?, ?it/s]/nethome/jbang36/eko/eko_paper2022/system_architecture/mab.py:173: RuntimeWarning: divide by zero encountered in double_scalars\n",
      "  mab_value = reward + c_param * np.sqrt(2 * np.log(len(rep_indices)) / len(members))\n",
      "/nethome/jbang36/eko/eko_paper2022/system_architecture/mab.py:173: RuntimeWarning: invalid value encountered in double_scalars\n",
      "  mab_value = reward + c_param * np.sqrt(2 * np.log(len(rep_indices)) / len(members))\n",
      "100%|██████████| 374/374 [00:03<00:00, 103.92it/s]\n"
     ]
    },
    {
     "data": {
      "application/vnd.jupyter.widget-view+json": {
       "model_id": "44a1edd51fbf488f8f6400e48741badf",
       "version_major": 2,
       "version_minor": 0
      },
      "text/plain": [
       "Propagation:   0%|          | 0/74880 [00:00<?, ?it/s]"
      ]
     },
     "metadata": {},
     "output_type": "display_data"
    },
    {
     "name": "stdout",
     "output_type": "stream",
     "text": [
      "0.7960610817753675 0.12322714620244775\n",
      "----------------------\n",
      "1\n"
     ]
    },
    {
     "name": "stderr",
     "output_type": "stream",
     "text": [
      "100%|██████████| 374/374 [00:00<00:00, 1225.66it/s]\n"
     ]
    },
    {
     "data": {
      "application/vnd.jupyter.widget-view+json": {
       "model_id": "311fab7b887940ed906aff45bd5b4cef",
       "version_major": 2,
       "version_minor": 0
      },
      "text/plain": [
       "Propagation:   0%|          | 0/74880 [00:00<?, ?it/s]"
      ]
     },
     "metadata": {},
     "output_type": "display_data"
    },
    {
     "name": "stdout",
     "output_type": "stream",
     "text": [
      "0.8388435666237298 0.12947907922060709\n",
      "----------------------\n",
      "2\n"
     ]
    },
    {
     "name": "stderr",
     "output_type": "stream",
     "text": [
      "100%|██████████| 374/374 [00:00<00:00, 1292.43it/s]\n"
     ]
    },
    {
     "data": {
      "application/vnd.jupyter.widget-view+json": {
       "model_id": "e288d871439d41fa89630b1a327d6f1f",
       "version_major": 2,
       "version_minor": 0
      },
      "text/plain": [
       "Propagation:   0%|          | 0/74880 [00:00<?, ?it/s]"
      ]
     },
     "metadata": {},
     "output_type": "display_data"
    },
    {
     "name": "stdout",
     "output_type": "stream",
     "text": [
      "0.8280400572246066 0.12786638978482748\n",
      "----------------------\n",
      "3\n"
     ]
    },
    {
     "name": "stderr",
     "output_type": "stream",
     "text": [
      "100%|██████████| 374/374 [00:00<00:00, 1274.28it/s]\n"
     ]
    },
    {
     "data": {
      "application/vnd.jupyter.widget-view+json": {
       "model_id": "1be7a2c3ce994f41b34d27d7047f8148",
       "version_major": 2,
       "version_minor": 0
      },
      "text/plain": [
       "Propagation:   0%|          | 0/74880 [00:00<?, ?it/s]"
      ]
     },
     "metadata": {},
     "output_type": "display_data"
    },
    {
     "name": "stdout",
     "output_type": "stream",
     "text": [
      "0.8393264840182648 0.12994300357884506\n",
      "----------------------\n",
      "4\n"
     ]
    },
    {
     "name": "stderr",
     "output_type": "stream",
     "text": [
      "100%|██████████| 374/374 [00:00<00:00, 1275.19it/s]\n"
     ]
    },
    {
     "data": {
      "application/vnd.jupyter.widget-view+json": {
       "model_id": "cd98982a9353421fbd44fb69460049de",
       "version_major": 2,
       "version_minor": 0
      },
      "text/plain": [
       "Propagation:   0%|          | 0/74880 [00:00<?, ?it/s]"
      ]
     },
     "metadata": {},
     "output_type": "display_data"
    },
    {
     "name": "stdout",
     "output_type": "stream",
     "text": [
      "0.8393288781458836 0.13040692793708303\n",
      "----------------------\n"
     ]
    }
   ],
   "source": [
    "from eko_paper2022.experiments.main import *\n",
    "\n",
    "for c_param, eko in zip(c_params, ekos):\n",
    "    print(c_param)\n",
    "    precision, recall = query_process_precision(eko, dnn_invocation = dnn_invocation)\n",
    "    print(precision, recall)\n",
    "    print('----------------------')"
   ]
  },
  {
   "cell_type": "code",
   "execution_count": 9,
   "id": "380dd8b1-791a-4c5c-bde9-617180c9e219",
   "metadata": {},
   "outputs": [
    {
     "name": "stdout",
     "output_type": "stream",
     "text": [
      "41.475247524752476 121.31054936531682 837 6\n",
      "41.475247524752476 9.59743577491316 77 35\n",
      "41.475247524752476 4.386283885576732 56 38\n",
      "41.475247524752476 3.07527366376528 50 39\n",
      "41.475247524752476 2.0275042425560996 48 40\n"
     ]
    }
   ],
   "source": [
    "### just for the record, let's check the distribution of the anchors\n",
    "\n",
    "\n",
    "for eko in ekos:\n",
    "    cluster_dict = eko.cluster_dict\n",
    "    member_counts = []\n",
    "\n",
    "    for key in cluster_dict:\n",
    "        member_counts.append( len(cluster_dict[key]['members']) )\n",
    "\n",
    "    print(np.average(member_counts), np.std(member_counts), max(member_counts), min(member_counts))"
   ]
  },
  {
   "cell_type": "code",
   "execution_count": 10,
   "id": "16d57728-e057-41f2-a0e1-6da6388e1196",
   "metadata": {},
   "outputs": [
    {
     "data": {
      "text/plain": [
       "(array([    0.73077,           0,           0,    0.038462,           0,           0,           0,    0.038462,           0,           0,           0,         0.5,           0,           0,           0,    0.076923,           0,           0,           0,     0.19231,           0,           0,           0,     0.23077,\n",
       "                  0,           0,     0.15385,           0,           0,           0,     0.23077,           0,           0,           0,     0.15385,           0,           0,           0,    0.076923,           0,           0,           0,     0.23077,           0,           0,           0,     0.46154,           0,\n",
       "                  0,     0.73077]),\n",
       " array([         43,       43.26,       43.52,       43.78,       44.04,        44.3,       44.56,       44.82,       45.08,       45.34,        45.6,       45.86,       46.12,       46.38,       46.64,        46.9,       47.16,       47.42,       47.68,       47.94,        48.2,       48.46,       48.72,       48.98,\n",
       "              49.24,        49.5,       49.76,       50.02,       50.28,       50.54,        50.8,       51.06,       51.32,       51.58,       51.84,        52.1,       52.36,       52.62,       52.88,       53.14,        53.4,       53.66,       53.92,       54.18,       54.44,        54.7,       54.96,       55.22,\n",
       "              55.48,       55.74,          56]),\n",
       " <BarContainer object of 50 artists>)"
      ]
     },
     "execution_count": 10,
     "metadata": {},
     "output_type": "execute_result"
    },
    {
     "data": {
      "image/png": "[encoded data removed]",
      "text/plain": [
       "<Figure size 432x288 with 1 Axes>"
      ]
     },
     "metadata": {
      "needs_background": "light"
     },
     "output_type": "display_data"
    }
   ],
   "source": [
    "### draw the histogram\n",
    "import matplotlib.pyplot as plt\n",
    "\n",
    "eko = ekos[3]\n",
    "\n",
    "cluster_dict = eko.cluster_dict\n",
    "member_counts = []\n",
    "\n",
    "for key in cluster_dict:\n",
    "    member_counts.append( len(cluster_dict[key]['members']) )\n",
    "\n",
    "x = member_counts\n",
    "plt.hist(x, 50, density=True, facecolor='g', alpha=0.75)"
   ]
  },
  {
   "cell_type": "code",
   "execution_count": null,
   "id": "e05e0aa0-8d8a-4970-b0f9-bf196c7d93f2",
   "metadata": {},
   "outputs": [],
   "source": [
    "#### how many cluster\n"
   ]
  },
  {
   "cell_type": "code",
   "execution_count": null,
   "id": "d7038340-e575-422d-a620-95f3c77d4242",
   "metadata": {},
   "outputs": [],
   "source": []
  },
  {
   "cell_type": "code",
   "execution_count": null,
   "id": "8c980b61-bd00-45bd-b52b-68eb3659e567",
   "metadata": {},
   "outputs": [],
   "source": []
  },
  {
   "cell_type": "code",
   "execution_count": null,
   "id": "9eb8a23b-174b-405d-9080-066404e195a0",
   "metadata": {},
   "outputs": [],
   "source": []
  },
  {
   "cell_type": "code",
   "execution_count": null,
   "id": "c521bd47-2fa7-4f32-a827-e0b2c7831d0e",
   "metadata": {},
   "outputs": [],
   "source": []
  },
  {
   "cell_type": "code",
   "execution_count": 11,
   "id": "0be96e01-ef15-4a46-b22f-390c71bd3fec",
   "metadata": {},
   "outputs": [],
   "source": [
    "thr = 1 / 140"
   ]
  },
  {
   "cell_type": "code",
   "execution_count": 12,
   "id": "6e261efd-007d-4460-adc6-a55f36c01422",
   "metadata": {},
   "outputs": [],
   "source": [
    "def f1_score(precisions, recalls):\n",
    "    f1s = []\n",
    "    for precision, recall in zip(precisions, recalls):\n",
    "        f1s.append(2* precision * recall / (precision + recall))\n",
    "    return f1s"
   ]
  },
  {
   "cell_type": "code",
   "execution_count": null,
   "id": "f09644ca-9bba-4ed2-927e-046347fa3fca",
   "metadata": {},
   "outputs": [],
   "source": []
  },
  {
   "cell_type": "code",
   "execution_count": null,
   "id": "0687e48b-3d22-44c3-82a1-5462ba1dfa3d",
   "metadata": {},
   "outputs": [],
   "source": [
    "### we will be updating the experiments... now we draw heatmaps.\n",
    "\n",
    "\n",
    "cherry_q_1 = np.array([])\n",
    "cherry_q_5 = np.array([])\n",
    "cherry_q_10 = np.array([])"
   ]
  },
  {
   "cell_type": "code",
   "execution_count": null,
   "id": "f47aad76-e51e-4a95-8e36-5daf8fb339c2",
   "metadata": {},
   "outputs": [],
   "source": []
  },
  {
   "cell_type": "code",
   "execution_count": null,
   "id": "69a7bac0-ffd1-4e68-8653-2d89faf3622e",
   "metadata": {},
   "outputs": [],
   "source": []
  },
  {
   "cell_type": "code",
   "execution_count": 20,
   "id": "0587fbe8-a6ad-449d-80a6-78355b6ef7f8",
   "metadata": {},
   "outputs": [],
   "source": [
    "### we draw a heat map for the new data\n",
    "\n",
    "\n",
    "\n",
    "def heatmap(data, row_labels, col_labels, ax=None,\n",
    "            cbar_kw=None, cbarlabel=\"\", xlabel = 'C Value', ylabel = 'Sampling Budget',title = '', **kwargs):\n",
    "    \"\"\"\n",
    "    Create a heatmap from a numpy array and two lists of labels.\n",
    "\n",
    "    Parameters\n",
    "    ----------\n",
    "    data\n",
    "        A 2D numpy array of shape (M, N).\n",
    "    row_labels\n",
    "        A list or array of length M with the labels for the rows.\n",
    "    col_labels\n",
    "        A list or array of length N with the labels for the columns.\n",
    "    ax\n",
    "        A `matplotlib.axes.Axes` instance to which the heatmap is plotted.  If\n",
    "        not provided, use current axes or create a new one.  Optional.\n",
    "    cbar_kw\n",
    "        A dictionary with arguments to `matplotlib.Figure.colorbar`.  Optional.\n",
    "    cbarlabel\n",
    "        The label for the colorbar.  Optional.\n",
    "    **kwargs\n",
    "        All other arguments are forwarded to `imshow`.\n",
    "    \"\"\"\n",
    "\n",
    "    if ax is None:\n",
    "        ax = plt.gca()\n",
    "\n",
    "    if cbar_kw is None:\n",
    "        cbar_kw = {}\n",
    "\n",
    "    # Plot the heatmap\n",
    "    im = ax.imshow(data, **kwargs)\n",
    "\n",
    "    # Create colorbar\n",
    "    cbar = ax.figure.colorbar(im, ax=ax)\n",
    "    cbar.ax.set_ylabel(cbarlabel, rotation=-90, weight = 'bold', va=\"bottom\")\n",
    "    print(col_labels)\n",
    "    print(row_labels)\n",
    "\n",
    "    # Show all ticks and label them with the respective list entries.\n",
    "    ax.set_xticks(np.arange(data.shape[1]))\n",
    "    ax.set_yticks(np.arange(data.shape[0]))\n",
    "    ax.set_xticklabels(row_labels, weight = 'normal')\n",
    "    ax.set_yticklabels(col_labels, weight = 'normal')\n",
    "    ax.set_xlabel(xlabel, weight = 'bold')\n",
    "    ax.set_ylabel(ylabel, weight = 'bold')\n",
    "    ax.set_title(title, weight = 'bold')\n",
    "\n",
    "    \n",
    "    \n",
    "    # Let the horizontal axes labeling appear on top.\n",
    "    ax.tick_params(top=True, bottom=False,\n",
    "                   labeltop=True, labelbottom=False)\n",
    "\n",
    "    # Rotate the tick labels and set their alignment.\n",
    "    plt.setp(ax.get_xticklabels(), ha=\"right\",\n",
    "             rotation_mode=\"anchor\")\n",
    "\n",
    "    # Turn spines off and create white grid.\n",
    "    ax.spines[:].set_visible(False)\n",
    "\n",
    "    ax.set_xticks(np.arange(data.shape[1]+1)-.5, minor=True)\n",
    "    ax.set_yticks(np.arange(data.shape[0]+1)-.5, minor=True)\n",
    "    ax.grid(which=\"minor\", color=\"w\", linestyle='-', linewidth=10)\n",
    "    ax.tick_params(which=\"minor\", bottom=False, left=False)\n",
    "\n",
    "    return im, cbar\n",
    "\n",
    "\n",
    "def annotate_heatmap(im, data=None, valfmt=\"{x:.2f}\",\n",
    "                     textcolors=(\"black\", \"white\"),\n",
    "                     threshold=None, **textkw):\n",
    "    \"\"\"\n",
    "    A function to annotate a heatmap.\n",
    "\n",
    "    Parameters\n",
    "    ----------\n",
    "    im\n",
    "        The AxesImage to be labeled.\n",
    "    data\n",
    "        Data used to annotate.  If None, the image's data is used.  Optional.\n",
    "    valfmt\n",
    "        The format of the annotations inside the heatmap.  This should either\n",
    "        use the string format method, e.g. \"$ {x:.2f}\", or be a\n",
    "        `matplotlib.ticker.Formatter`.  Optional.\n",
    "    textcolors\n",
    "        A pair of colors.  The first is used for values below a threshold,\n",
    "        the second for those above.  Optional.\n",
    "    threshold\n",
    "        Value in data units according to which the colors from textcolors are\n",
    "        applied.  If None (the default) uses the middle of the colormap as\n",
    "        separation.  Optional.\n",
    "    **kwargs\n",
    "        All other arguments are forwarded to each call to `text` used to create\n",
    "        the text labels.\n",
    "    \"\"\"\n",
    "\n",
    "    if not isinstance(data, (list, np.ndarray)):\n",
    "        data = im.get_array()\n",
    "\n",
    "    # Normalize the threshold to the images color range.\n",
    "    if threshold is not None:\n",
    "        threshold = im.norm(threshold)\n",
    "    else:\n",
    "        threshold = im.norm(data.max())/2.\n",
    "\n",
    "    # Set default alignment to center, but allow it to be\n",
    "    # overwritten by textkw.\n",
    "    kw = dict(horizontalalignment=\"center\",\n",
    "              verticalalignment=\"center\")\n",
    "    kw.update(textkw)\n",
    "\n",
    "    # Get the formatter in case a string is supplied\n",
    "    if isinstance(valfmt, str):\n",
    "        valfmt = matplotlib.ticker.StrMethodFormatter(valfmt)\n",
    "\n",
    "    # Loop over the data and create a `Text` for each \"pixel\".\n",
    "    # Change the text's color depending on the data.\n",
    "    texts = []\n",
    "    for i in range(data.shape[0]):\n",
    "        for j in range(data.shape[1]):\n",
    "            kw.update(color=textcolors[int(im.norm(data[i, j]) > threshold)])\n",
    "            text = im.axes.text(j, i, valfmt(data[i, j], None), **kw)\n",
    "            texts.append(text)\n",
    "\n",
    "    return texts"
   ]
  },
  {
   "cell_type": "code",
   "execution_count": null,
   "id": "8bbe1c6d-81b2-4b65-b36f-4df3f76cfaa3",
   "metadata": {},
   "outputs": [],
   "source": []
  },
  {
   "cell_type": "code",
   "execution_count": 15,
   "id": "b0051f83-cd25-4f19-9767-951c170bfad0",
   "metadata": {},
   "outputs": [],
   "source": [
    "a = np.array([7633, 7512, 5382, 7189, 7266])\n",
    "b = np.array([6022, 5921, 5546, 5428, 5490])\n",
    "c = np.array([5518, 4985, 5053, 5055, 4961])\n",
    "\n",
    "a = a / max(a)\n",
    "b = b / max(b)\n",
    "c = c / max(c)"
   ]
  },
  {
   "cell_type": "code",
   "execution_count": 16,
   "id": "8162b054-7b1e-44fb-b7ad-ecebeaab2428",
   "metadata": {},
   "outputs": [],
   "source": [
    "data1 = np.array([a,b,c])"
   ]
  },
  {
   "cell_type": "code",
   "execution_count": 17,
   "id": "913ade12-471c-4990-9a3b-bb9c1acbf6fd",
   "metadata": {},
   "outputs": [],
   "source": [
    "a = np.array([11243, 12094, 12104, 9631, 10591])\n",
    "b = np.array([9044, 9190, 9061, 8857, 9411])\n",
    "c = np.array([8343, 8420, 8382, 8368, 8292])\n",
    "\n",
    "a = a / max(a)\n",
    "b = b / max(b)\n",
    "c = c / max(c)\n",
    "\n",
    "data3 = np.array([a,b,c])"
   ]
  },
  {
   "cell_type": "code",
   "execution_count": null,
   "id": "de7e3d2c-952b-4d0c-b823-d9861da3231f",
   "metadata": {},
   "outputs": [],
   "source": []
  },
  {
   "cell_type": "code",
   "execution_count": null,
   "id": "d66e8200-b14d-40eb-a2e6-01c061bc51cc",
   "metadata": {},
   "outputs": [],
   "source": []
  },
  {
   "cell_type": "code",
   "execution_count": null,
   "id": "bc5be7e0-7c36-48aa-8ddf-7b2a31478881",
   "metadata": {},
   "outputs": [],
   "source": []
  },
  {
   "cell_type": "code",
   "execution_count": null,
   "id": "cf0cad72-ab45-4469-91f2-0e885cf0f9de",
   "metadata": {},
   "outputs": [],
   "source": []
  },
  {
   "cell_type": "code",
   "execution_count": 1,
   "id": "b36113d1-2023-4a27-ac9f-7ee2f8475f80",
   "metadata": {},
   "outputs": [],
   "source": [
    "def f1_score2(arr):\n",
    "    result = []\n",
    "    for p,r in arr:\n",
    "        result.append( 2 * p * r / (p + r) )\n",
    "        \n",
    "    return np.array(result)"
   ]
  },
  {
   "cell_type": "code",
   "execution_count": 2,
   "id": "83e22d3c-da47-4793-8b2b-9bb21d49e819",
   "metadata": {},
   "outputs": [],
   "source": [
    "import numpy as np"
   ]
  },
  {
   "cell_type": "code",
   "execution_count": null,
   "id": "5dfe2755-7555-44d7-a5f6-dddf3ccd0cdb",
   "metadata": {},
   "outputs": [],
   "source": []
  },
  {
   "cell_type": "code",
   "execution_count": null,
   "id": "d0e8a6db-321c-42eb-8203-e7ce536dfca9",
   "metadata": {},
   "outputs": [],
   "source": []
  },
  {
   "cell_type": "code",
   "execution_count": 3,
   "id": "2e4dbc4f-1e73-4c6e-8570-37d18957239a",
   "metadata": {},
   "outputs": [
    {
     "data": {
      "text/plain": [
       "(array([0.17752809, 0.17752809, 0.82179641, 0.76855346, 0.17701149]),\n",
       " array([0.19505155, 0.91826087, 0.91826087, 0.91826087, 0.91826087]),\n",
       " array([0.93475936, 0.95497382, 0.9447619 , 0.9447619 , 0.95497382]))"
      ]
     },
     "execution_count": 3,
     "metadata": {},
     "output_type": "execute_result"
    }
   ],
   "source": [
    "## data2\n",
    "\n",
    "a = np.array([(0.79, 0.1), (0.79, 0.10), (0.94, 0.73), (0.94, 0.65), (0.77, 0.1)])\n",
    "b = np.array([(0.86, 0.11), (0.96, 0.88), (0.96, 0.88), (0.96, 0.88), (0.96, 0.88)])\n",
    "c = np.array([(0.95, 0.92), (0.96, 0.95), (0.96, 0.93), (0.96, 0.93), (0.96, 0.95)])\n",
    "\n",
    "a = f1_score2(a)\n",
    "b = f1_score2(b)\n",
    "c = f1_score2(c)\n",
    "\n",
    "a,b,c"
   ]
  },
  {
   "cell_type": "code",
   "execution_count": 4,
   "id": "2d511454-dce6-41ba-b16f-aeff3261d199",
   "metadata": {},
   "outputs": [
    {
     "data": {
      "text/plain": [
       "array([5.63291139, 5.63291139, 1.2168464 , 1.30114566, 5.64935065])"
      ]
     },
     "execution_count": 4,
     "metadata": {},
     "output_type": "execute_result"
    }
   ],
   "source": [
    "a = 1 / a\n",
    "b = 1 / b\n",
    "c = 1 / c\n",
    "\n",
    "a"
   ]
  },
  {
   "cell_type": "code",
   "execution_count": 5,
   "id": "68634eca-ce81-46f9-8ea8-26cce5627fac",
   "metadata": {},
   "outputs": [],
   "source": [
    "a = a / max(a)\n",
    "b = b / max(b)\n",
    "c = c / max(c)"
   ]
  },
  {
   "cell_type": "code",
   "execution_count": 6,
   "id": "f1e4f230-a157-44a8-ac49-74c157e9eaf3",
   "metadata": {},
   "outputs": [
    {
     "data": {
      "text/plain": [
       "array([0.99709006, 0.99709006, 0.2153958 , 0.23031774, 1.        ])"
      ]
     },
     "execution_count": 6,
     "metadata": {},
     "output_type": "execute_result"
    }
   ],
   "source": [
    "a"
   ]
  },
  {
   "cell_type": "code",
   "execution_count": 7,
   "id": "4ef6b823-4162-49b1-8480-4f3278acab09",
   "metadata": {},
   "outputs": [],
   "source": [
    "data2 = np.array([a, b, c])"
   ]
  },
  {
   "cell_type": "code",
   "execution_count": 8,
   "id": "cc35a1e6-96d8-490d-8634-32554949e5a2",
   "metadata": {},
   "outputs": [
    {
     "name": "stdout",
     "output_type": "stream",
     "text": [
      "[0.20869565 0.22515464 0.22479167 0.22515464 0.22515464] [0.2262     0.24156863 0.90824176 0.90276243 0.90276243] [0.9136612  0.93433155 0.92956989 0.92956989 0.93433155]\n"
     ]
    }
   ],
   "source": [
    "\n",
    "a = np.array([(0.80, 0.12), (0.84, 0.13), (0.83, 0.13), (0.84, 0.13), (0.84, 0.13)])\n",
    "b = np.array([(0.87, 0.13), (0.88, 0.14), (0.95, 0.87), (0.95, 0.86), (0.95, 0.86)])\n",
    "c = np.array([(0.95, 0.88), (0.96, 0.91), (0.95, 0.91), (0.95, 0.91), (0.96, 0.91)])\n",
    "\n",
    "a = f1_score2(a)\n",
    "b = f1_score2(b)\n",
    "c = f1_score2(c)\n",
    "\n",
    "print(a,b,c)\n",
    "a = 1 / a\n",
    "b = 1 / b\n",
    "c = 1 / c\n",
    "\n",
    "a = a / max(a)\n",
    "b = b / max(b)\n",
    "c = c / max(c)\n",
    "\n",
    "data4 = np.array([a, b, c])\n"
   ]
  },
  {
   "cell_type": "code",
   "execution_count": 9,
   "id": "e3d0c224-b01d-414e-87c2-28cdcbc22c2c",
   "metadata": {},
   "outputs": [
    {
     "data": {
      "text/plain": [
       "array([[1.        , 0.92689919, 0.92839586, 0.92689919, 0.92689919],\n",
       "       [1.        , 0.93637987, 0.24905263, 0.25056426, 0.25056426],\n",
       "       [1.        , 0.97787686, 0.98288597, 0.98288597, 0.97787686]])"
      ]
     },
     "execution_count": 9,
     "metadata": {},
     "output_type": "execute_result"
    }
   ],
   "source": [
    "data4"
   ]
  },
  {
   "cell_type": "code",
   "execution_count": null,
   "id": "34569b59-fa7f-471f-8ae7-eff07afc6081",
   "metadata": {},
   "outputs": [],
   "source": []
  },
  {
   "cell_type": "code",
   "execution_count": null,
   "id": "14a6fd97-063c-4bb5-bf46-b072cae9ccca",
   "metadata": {},
   "outputs": [],
   "source": []
  },
  {
   "cell_type": "code",
   "execution_count": null,
   "id": "5e8ca91f-2c27-47a1-bc81-0ee6663d5ffa",
   "metadata": {},
   "outputs": [],
   "source": []
  },
  {
   "cell_type": "code",
   "execution_count": null,
   "id": "c8b95570-f1e6-457c-bfc1-a2fe07c52a61",
   "metadata": {},
   "outputs": [],
   "source": []
  },
  {
   "cell_type": "code",
   "execution_count": 10,
   "id": "8e69a9b5-41c2-432e-8f97-86c97b620a11",
   "metadata": {},
   "outputs": [],
   "source": [
    "row = ['1%', '5%', '10%']\n",
    "col = [0, 1, 2, 3, 4]\n"
   ]
  },
  {
   "cell_type": "code",
   "execution_count": 21,
   "id": "7dbef895-9deb-4734-bb6c-c4f3c28cdfa4",
   "metadata": {},
   "outputs": [
    {
     "name": "stdout",
     "output_type": "stream",
     "text": [
      "['1%', '5%', '10%']\n",
      "[0, 1, 2, 3, 4]\n",
      "['1%', '5%', '10%']\n",
      "[0, 1, 2, 3, 4]\n",
      "['1%', '5%', '10%']\n",
      "[0, 1, 2, 3, 4]\n",
      "['1%', '5%', '10%']\n",
      "[0, 1, 2, 3, 4]\n"
     ]
    },
    {
     "data": {
      "image/png": "[encoded data removed]",
      "text/plain": [
       "<Figure size 720x432 with 8 Axes>"
      ]
     },
     "metadata": {
      "needs_background": "light"
     },
     "output_type": "display_data"
    }
   ],
   "source": [
    "import numpy as np\n",
    "import matplotlib\n",
    "import matplotlib as mpl\n",
    "import matplotlib.pyplot as plt\n",
    "\n",
    "\n",
    "font = {\n",
    "        'weight' : 'normal',\n",
    "        'size'   : 15}\n",
    "\n",
    "matplotlib.rc('font', **font)\n",
    "matplotlib.rc('ytick', labelsize=15)\n",
    "\n",
    "rows = 2\n",
    "columns = 2\n",
    "fig_size = (10, 6)\n",
    "fig, axes = plt.subplots(rows, columns, sharey = False, sharex=True, figsize=fig_size)\n",
    "\n",
    "#fig, ax = plt.subplots()\n",
    "\n",
    "im, cbar = heatmap(data1, col, row, ax=axes[0,0],\n",
    "                   cmap=\"Blues\", xlabel = '', title = 'Cherry | Q1')\n",
    "#texts = annotate_heatmap(im, valfmt=\"{x:.1f}\")\n",
    "\n",
    "im, cbar = heatmap(data3, col, row, ax=axes[0,1],\n",
    "                   cmap=\"Blues\", ylabel = '', xlabel = '', title = 'Dashcam | Q1', cbarlabel=\"Normalized Time \\n(Lower is Better)\")\n",
    "\n",
    "im, cbar = heatmap(data2, col, row, ax=axes[1,0],\n",
    "                   cmap=\"Blues\", title = 'Cherry | Q2')\n",
    "\n",
    "im, cbar = heatmap(data4, col, row, ax=axes[1,1],\n",
    "                   cmap=\"Blues\", ylabel = '', title = 'Dashcam | Q2',  cbarlabel=\"Normalized\\nReciprocal of F1-Score \\n(Lower is Better)\")\n",
    "\n",
    "\n",
    "fig.tight_layout()\n",
    "\n",
    "plt.savefig('plots/rq5.png',  bbox_inches='tight')\n",
    "plt.show()\n",
    "\n"
   ]
  },
  {
   "cell_type": "code",
   "execution_count": 63,
   "id": "a7a9e724-c45d-4a7b-ae31-dc6031dd55de",
   "metadata": {},
   "outputs": [
    {
     "name": "stdout",
     "output_type": "stream",
     "text": [
      "['Farmer Joe', 'Upland Bros.', 'Smith Gardening', 'Agrifun', 'Organiculture', 'BioGoods Ltd.', 'Cornylee Corp.']\n",
      "['cucumber', 'tomato', 'lettuce', 'asparagus', 'potato', 'wheat', 'barley']\n"
     ]
    },
    {
     "data": {
      "image/png": "[encoded data removed]",
      "text/plain": [
       "<Figure size 432x288 with 2 Axes>"
      ]
     },
     "metadata": {
      "needs_background": "light"
     },
     "output_type": "display_data"
    }
   ],
   "source": [
    "import numpy as np\n",
    "import matplotlib\n",
    "import matplotlib as mpl\n",
    "import matplotlib.pyplot as plt\n",
    "\n",
    "vegetables = [\"cucumber\", \"tomato\", \"lettuce\", \"asparagus\",\n",
    "              \"potato\", \"wheat\", \"barley\"]\n",
    "farmers = [\"Farmer Joe\", \"Upland Bros.\", \"Smith Gardening\",\n",
    "           \"Agrifun\", \"Organiculture\", \"BioGoods Ltd.\", \"Cornylee Corp.\"]\n",
    "\n",
    "harvest = np.array([[0.8, 2.4, 2.5, 3.9, 0.0, 4.0, 0.0],\n",
    "                    [2.4, 0.0, 4.0, 1.0, 2.7, 0.0, 0.0],\n",
    "                    [1.1, 2.4, 0.8, 4.3, 1.9, 4.4, 0.0],\n",
    "                    [0.6, 0.0, 0.3, 0.0, 3.1, 0.0, 0.0],\n",
    "                    [0.7, 1.7, 0.6, 2.6, 2.2, 6.2, 0.0],\n",
    "                    [1.3, 1.2, 0.0, 0.0, 0.0, 3.2, 5.1],\n",
    "                    [0.1, 2.0, 0.0, 1.4, 0.0, 1.9, 6.3]])\n",
    "\n",
    "fig, ax = plt.subplots()\n",
    "\n",
    "im, cbar = heatmap(harvest, vegetables, farmers, ax=ax,\n",
    "                   cmap=\"YlGn\", cbarlabel=\"harvest [t/year]\")\n",
    "texts = annotate_heatmap(im, valfmt=\"{x:.1f} t\")\n",
    "\n",
    "fig.tight_layout()\n",
    "plt.show()"
   ]
  },
  {
   "cell_type": "code",
   "execution_count": null,
   "id": "2da618f4-b484-4334-ae5e-49817adbb0bd",
   "metadata": {},
   "outputs": [],
   "source": []
  },
  {
   "cell_type": "code",
   "execution_count": null,
   "id": "0d727a77-d741-4db9-8c5f-7efd1d8a101c",
   "metadata": {},
   "outputs": [],
   "source": []
  },
  {
   "cell_type": "code",
   "execution_count": null,
   "id": "e7c1082c-2c3a-4421-81e2-6f28f36a52bb",
   "metadata": {},
   "outputs": [],
   "source": []
  },
  {
   "cell_type": "code",
   "execution_count": null,
   "id": "997627a9-088c-4982-8cb1-d09d34496116",
   "metadata": {},
   "outputs": [],
   "source": []
  },
  {
   "cell_type": "code",
   "execution_count": 19,
   "id": "a43d5fb5-dfc3-4ec5-99be-a595009fd46d",
   "metadata": {},
   "outputs": [],
   "source": [
    "#### Data Logs\n",
    "### data for q1\n",
    "\n",
    "cherry_ic = [36.5, 36.5, 36.5, 36.5, 36.5]\n",
    "cherry_q = np.array([ 808, 782, 762, 754, 769 ]) * thr\n",
    "\n",
    "dashcam_ic = [28.3, 28.3, 28.3, 28.3, 28.3]\n",
    "dashcam_q = np.array([ 3726, 3810, 3812, 3683, 3811 ]) * thr\n",
    "\n",
    "detrac_ic = [34.25588856935501,\n",
    " 33.79428261071443,\n",
    " 33.91505955457687,\n",
    " 34.5066773250699,\n",
    " 33.28187974467873,\n",
    " 34.63254488557577]\n",
    "detrac_q = [ 94.414,      94.025,      95.411,      96.026,      97.475,      97.931]"
   ]
  },
  {
   "cell_type": "code",
   "execution_count": 20,
   "id": "afd5f9ab-2ea7-4c70-9fc7-9841c6c083ac",
   "metadata": {},
   "outputs": [],
   "source": [
    "#### data for q2\n",
    "\n",
    "cherry_p = [0.95, 0.96, 0.96, 0.96, 0.96]\n",
    "cherry_r = [0.84, 0.89, 0.88, 0.89, 0.87]\n",
    "cherry_f = f1_score(cherry_p, cherry_r)\n",
    "\n",
    "dashcam_p = [0.85, 0.96, 0.95, 0.87, 0.87]\n",
    "dashcam_r = [0.07, 0.82, 0.86, 0.07, 0.07]\n",
    "dashcam_f = f1_score(dashcam_p, dashcam_r)\n",
    "\n"
   ]
  },
  {
   "cell_type": "code",
   "execution_count": 21,
   "id": "31825d1e-eb9d-450c-a85a-ae164a083910",
   "metadata": {},
   "outputs": [
    {
     "data": {
      "text/plain": [
       "[0.8916201117318435,\n",
       " 0.9236756756756755,\n",
       " 0.9182608695652175,\n",
       " 0.9236756756756755,\n",
       " 0.9127868852459016]"
      ]
     },
     "execution_count": 21,
     "metadata": {},
     "output_type": "execute_result"
    }
   ],
   "source": [
    "cherry_f"
   ]
  },
  {
   "cell_type": "code",
   "execution_count": 22,
   "id": "e335f600-3c13-436a-a438-de599ffcb44f",
   "metadata": {},
   "outputs": [
    {
     "data": {
      "text/plain": [
       "[0.12934782608695655,\n",
       " 0.8844943820224719,\n",
       " 0.9027624309392265,\n",
       " 0.1295744680851064,\n",
       " 0.1295744680851064]"
      ]
     },
     "execution_count": 22,
     "metadata": {},
     "output_type": "execute_result"
    }
   ],
   "source": [
    "dashcam_f"
   ]
  },
  {
   "cell_type": "code",
   "execution_count": 23,
   "id": "67d29639-0aab-49c0-b642-d5d974ba73ba",
   "metadata": {},
   "outputs": [
    {
     "name": "stderr",
     "output_type": "stream",
     "text": [
      "Using categorical units to plot a list of strings that are all parsable as floats or dates. If these strings should be plotted as numbers, cast to the appropriate data type before plotting.\n",
      "Using categorical units to plot a list of strings that are all parsable as floats or dates. If these strings should be plotted as numbers, cast to the appropriate data type before plotting.\n",
      "Using categorical units to plot a list of strings that are all parsable as floats or dates. If these strings should be plotted as numbers, cast to the appropriate data type before plotting.\n",
      "<ipython-input-23-24ada1338b34>:36: UserWarning: FixedFormatter should only be used together with FixedLocator\n",
      "  axes[i][j].set_xticklabels(x_axis_names, rotation = 30, ha = 'right',rotation_mode='anchor')\n",
      "Using categorical units to plot a list of strings that are all parsable as floats or dates. If these strings should be plotted as numbers, cast to the appropriate data type before plotting.\n",
      "Using categorical units to plot a list of strings that are all parsable as floats or dates. If these strings should be plotted as numbers, cast to the appropriate data type before plotting.\n",
      "<ipython-input-23-24ada1338b34>:47: UserWarning: FixedFormatter should only be used together with FixedLocator\n",
      "  axes[i][j].set_xticklabels(x_axis_names, rotation = 30, ha = 'right', rotation_mode='anchor')\n",
      "<ipython-input-23-24ada1338b34>:51: UserWarning: FixedFormatter should only be used together with FixedLocator\n",
      "  axes[i][j].set_xticklabels(x_axis_names,  rotation_mode='anchor')\n",
      "Using categorical units to plot a list of strings that are all parsable as floats or dates. If these strings should be plotted as numbers, cast to the appropriate data type before plotting.\n",
      "<ipython-input-23-24ada1338b34>:60: UserWarning: FixedFormatter should only be used together with FixedLocator\n",
      "  axes[i][j].set_xticklabels(x_axis_names,   rotation_mode='anchor')\n",
      "Using categorical units to plot a list of strings that are all parsable as floats or dates. If these strings should be plotted as numbers, cast to the appropriate data type before plotting.\n",
      "<ipython-input-23-24ada1338b34>:71: UserWarning: FixedFormatter should only be used together with FixedLocator\n",
      "  axes[i][j].set_xticklabels(x_axis_names,  rotation_mode='anchor')\n"
     ]
    },
    {
     "data": {
      "image/png": "[encoded data removed]",
      "text/plain": [
       "<Figure size 576x360 with 4 Axes>"
      ]
     },
     "metadata": {
      "needs_background": "light"
     },
     "output_type": "display_data"
    }
   ],
   "source": [
    "import numpy as np\n",
    "import matplotlib.pyplot as plt\n",
    "%matplotlib inline\n",
    "import matplotlib\n",
    "\n",
    "font = {\n",
    "        'weight' : 'bold',\n",
    "        'size'   : 15}\n",
    "\n",
    "matplotlib.rc('font', **font)\n",
    "matplotlib.rc('ytick', labelsize=15)\n",
    "\n",
    "\n",
    "x_axis_names = ['0', '1', '2', '3', '4']\n",
    "\n",
    "x = np.arange(len(x_axis_names))\n",
    "\n",
    "\n",
    "### we need to do subplots\n",
    "rows = 2\n",
    "columns = 2\n",
    "fig_size = (8, 5)\n",
    "fig, axes = plt.subplots(rows, columns, sharey = False, sharex=True, figsize=fig_size)\n",
    "\n",
    "\n",
    "i = 0\n",
    "j = 0\n",
    "width = 0.6\n",
    "\n",
    "axes[i][j].bar(x_axis_names, cherry_ic, width, label='Index Construction')\n",
    "axes[i][j].bar(x_axis_names, cherry_q, width, bottom = cherry_ic, label='Query Execution', color = 'lightsteelblue')\n",
    "axes[i][j].set_ylabel('Time (s)', weight = 'bold', size = 15)\n",
    "#axes[i][j].set_ylim(0, 200)\n",
    "#axes[i][j].set_yticks([0, 50, 100, 150, 200])\n",
    "\n",
    "axes[i][j].set_xticklabels(x_axis_names, rotation = 30, ha = 'right',rotation_mode='anchor')\n",
    "#plt.ylim(0, 2)\n",
    "#plt.xticks(x, x_axis_names)\n",
    "axes[i][j].set_title('Cherry | Q1', weight = 'bold', size = 15)\n",
    "\n",
    "\n",
    "i = 0\n",
    "j = 1\n",
    "\n",
    "axes[i][j].bar(x_axis_names, dashcam_ic, width, label='Index Construction')\n",
    "axes[i][j].bar(x_axis_names, dashcam_q, width, bottom = dashcam_ic, label='Query Execution', color = 'lightsteelblue')\n",
    "axes[i][j].set_xticklabels(x_axis_names, rotation = 30, ha = 'right', rotation_mode='anchor')\n",
    "#axes[i][j].set_ylabel('Time (s)', weight = 'bold', size = 15)\n",
    "axes[i][j].set_title('Dashcam | Q1', weight = 'bold', size = 15)\n",
    "\n",
    "axes[i][j].set_xticklabels(x_axis_names,  rotation_mode='anchor')\n",
    "\n",
    "\n",
    "i = 1\n",
    "j = 0\n",
    "\n",
    "axes[i][j].bar(x_axis_names, cherry_f, width, label='F1-Score', color = 'slategray')\n",
    "axes[i][j].set_title('Cherry | Q2', weight = 'bold', size = 15)\n",
    "axes[i][j].set_ylabel('F1-Score', weight = 'bold', size = 15)\n",
    "axes[i][j].set_xticklabels(x_axis_names,   rotation_mode='anchor')\n",
    "\n",
    "\n",
    "\n",
    "i = 1\n",
    "j = 1\n",
    "axes[i][j].bar(x_axis_names, dashcam_f, width, label='F1-Score', color = 'slategray')\n",
    "\n",
    "axes[i][j].set_title('Dashcam | Q2', weight = 'bold', size = 15)\n",
    "#axes[i][j].set_ylabel('F1-Score', weight = 'bold', size = 15)\n",
    "\n",
    "axes[i][j].set_xticklabels(x_axis_names,  rotation_mode='anchor')\n",
    "\n",
    "\n",
    "\n",
    "\n",
    "plt.tight_layout()\n",
    "\n",
    "lgd = axes[0][0].legend(loc='upper center', bbox_to_anchor=(1, 1.6),\n",
    "          fancybox=True, shadow=True, ncol=10)\n",
    "\n",
    "\n",
    "#plt.legend()\n",
    "plt.savefig('plots/rq5.png', bbox_extra_artists=(lgd,), bbox_inches='tight')\n",
    "plt.show()"
   ]
  },
  {
   "cell_type": "code",
   "execution_count": null,
   "id": "cb70fa68-a64e-4ce4-a0d5-a6a6d02bcc33",
   "metadata": {},
   "outputs": [],
   "source": []
  },
  {
   "cell_type": "code",
   "execution_count": null,
   "id": "d932c90a-8af0-4bd3-8ac6-34f72089ffa3",
   "metadata": {},
   "outputs": [],
   "source": []
  }
 ],
 "metadata": {
  "kernelspec": {
   "display_name": "Python 3",
   "language": "python",
   "name": "python3"
  },
  "language_info": {
   "codemirror_mode": {
    "name": "ipython",
    "version": 3
   },
   "file_extension": ".py",
   "mimetype": "text/x-python",
   "name": "python",
   "nbconvert_exporter": "python",
   "pygments_lexer": "ipython3",
   "version": "3.9.7"
  }
 },
 "nbformat": 4,
 "nbformat_minor": 5
}
