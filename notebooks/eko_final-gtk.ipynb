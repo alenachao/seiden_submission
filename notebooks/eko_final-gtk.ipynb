{
 "cells": [
  {
   "cell_type": "code",
   "execution_count": 1,
   "id": "5d0d460b-78f2-4d10-8fa2-27e7b4299fbc",
   "metadata": {},
   "outputs": [],
   "source": [
    "%load_ext autoreload\n",
    "%autoreload 2"
   ]
  },
  {
   "cell_type": "code",
   "execution_count": null,
   "id": "0ce14d47-8ef3-489c-8802-21cd55a85505",
   "metadata": {},
   "outputs": [],
   "source": [
    "### In this script, we will take care of the precision queries."
   ]
  },
  {
   "cell_type": "code",
   "execution_count": null,
   "id": "af5bdac1-1bdc-4282-86cf-45578e02b9ae",
   "metadata": {},
   "outputs": [],
   "source": []
  },
  {
   "cell_type": "code",
   "execution_count": 2,
   "id": "44a1fb0a-07f7-44ce-b2b3-8ab0393b97c0",
   "metadata": {},
   "outputs": [],
   "source": [
    "\n",
    "import sys\n",
    "sys.path.append('/nethome/jbang36/eko')\n"
   ]
  },
  {
   "cell_type": "code",
   "execution_count": 3,
   "id": "03ce896d-4cb0-488d-a611-2e40080fb849",
   "metadata": {},
   "outputs": [
    {
     "name": "stderr",
     "output_type": "stream",
     "text": [
      "11-15-2022 11:31:50 [info:049]INFO : meta data of the video /srv/data/jbang36/video_data/cherry960/video.mp4 is (100000, 540, 960, 3)\n",
      "meta data of the video /srv/data/jbang36/video_data/cherry960/video.mp4 is (100000, 540, 960, 3)\n",
      "100%|██████████| 100000/100000 [01:52<00:00, 885.88it/s]\n"
     ]
    }
   ],
   "source": [
    "### let's run the experiment and get the results\n",
    "video_names = ['cherry960', 'ua_detra960', 'dashcam960', 'jackson']\n",
    "video_name = 'cherry960'\n",
    "category = 'bus'\n",
    "\n",
    "from eko_paper2022.motivation.main import *\n",
    "\n",
    "images = load_dataset(video_name)\n"
   ]
  },
  {
   "cell_type": "code",
   "execution_count": null,
   "id": "7a840c0d-6127-42c0-bcff-be3646074376",
   "metadata": {},
   "outputs": [],
   "source": [
    "images.shape"
   ]
  },
  {
   "cell_type": "code",
   "execution_count": null,
   "id": "7c83b66c-4652-4ec2-89cf-c4404778c6ab",
   "metadata": {},
   "outputs": [],
   "source": []
  },
  {
   "cell_type": "code",
   "execution_count": null,
   "id": "abaa89be-f2a8-4c80-af1e-a63fce3bfd46",
   "metadata": {},
   "outputs": [],
   "source": []
  },
  {
   "cell_type": "code",
   "execution_count": null,
   "id": "ebc2eadd-f98d-4de1-ab4b-aea335a79278",
   "metadata": {},
   "outputs": [],
   "source": [
    "category"
   ]
  },
  {
   "cell_type": "code",
   "execution_count": null,
   "id": "bd4e770a-a0e1-43b6-98eb-96138596c26b",
   "metadata": {},
   "outputs": [],
   "source": [
    "\n",
    "from eko_paper2022.motivation.main import execute_ekoalt\n",
    "from eko_paper2022.experiments.main import *\n",
    "\n",
    "nb_buckets = int(len(images) * 0.1)\n",
    "eko = execute_ekoalt(images, video_name, category = category, nb_buckets = nb_buckets)\n",
    "query, times = query_process_aggregate(eko)\n",
    "\n",
    "a = query.y_pred\n",
    "b = query.y_true\n",
    "gt_aggregate = []\n",
    "for bb in b:\n",
    "    gt_aggregate.append(float(bb))\n",
    "gt_aggregate = np.array(gt_aggregate)"
   ]
  },
  {
   "cell_type": "markdown",
   "id": "35103e48-1313-45c7-8a99-e02087105e0f",
   "metadata": {},
   "source": [
    "### Real final version -- sigmoid function\n"
   ]
  },
  {
   "cell_type": "code",
   "execution_count": null,
   "id": "117c9239-0525-4975-8806-aa621aea35f2",
   "metadata": {},
   "outputs": [],
   "source": [
    "#### okay, finally, we move onto getting the sigmoid function working.....\n",
    "#### to get this to work, basically we have to rewrite the propagate function\n",
    "#### okay, function has been implemented, let's run it and see!!!!\n",
    "\n",
    "\n",
    "\n",
    "\n",
    "\n",
    "\n",
    "\n"
   ]
  },
  {
   "cell_type": "markdown",
   "id": "2d6b4222-6657-4772-817c-c769fce195de",
   "metadata": {},
   "source": [
    "### Okay, we need to redo this... let's just figure things out one by one"
   ]
  },
  {
   "cell_type": "code",
   "execution_count": null,
   "id": "5e5692c5-0f8f-44b6-a533-f45dfe60ac72",
   "metadata": {
    "jupyter": {
     "source_hidden": true
    },
    "tags": []
   },
   "outputs": [],
   "source": [
    "### let's start by why this doesn't make any sense....okay the values that we get just by getting the iframes is as follows:\n",
    "\n",
    "### things we must do.... first, let's change the video name, images, anchor_counts\n",
    "### so for the labels, we need a really short version to test\n",
    "\n",
    "### load tasti labels and save up to 100\n",
    "\n",
    "import pandas as pd\n",
    "directory = '/srv/data/jbang36/video_data/cherry960/tasti_labels.csv'\n",
    "tmp = pd.read_csv(directory)\n",
    "\n",
    "\n",
    "\n",
    "\n",
    "tmp[:100]\n",
    "\n",
    "### save video of 100 cherry frames\n",
    "\n",
    "from eko_utils.video_utils import save_np_to_compressed_video\n",
    "images_short = images[:100]\n",
    "np_arr = images_short\n",
    "save_directory = '/srv/data/jbang36/video_data/cherry100/video.mp4'\n",
    "save_np_to_compressed_video(np_arr, save_directory)\n",
    "\n",
    "\n",
    "\n",
    "#### save this into the dataset\n",
    "\n",
    "#### what about cherry short?\n",
    "from eko_paper2022.motivation.main import *\n",
    "\n",
    "video_name = 'cherry100'\n",
    "images = load_dataset(video_name)\n",
    "\n",
    "\n",
    "\n",
    "images.shape\n",
    "\n",
    "cherry100_labels = tmp[:100]\n",
    "cherry100_labels.to_csv('/srv/data/jbang36/video_data/cherry100/tasti_labels.csv')\n"
   ]
  },
  {
   "cell_type": "code",
   "execution_count": null,
   "id": "62964450-275b-46c5-b202-c4794796efe5",
   "metadata": {},
   "outputs": [],
   "source": [
    "images.shape"
   ]
  },
  {
   "cell_type": "code",
   "execution_count": 7,
   "id": "e8020e78-ddec-4275-9102-dc9341ab8c81",
   "metadata": {},
   "outputs": [],
   "source": [
    "anchor_count = int(len(images) * 0.1)"
   ]
  },
  {
   "cell_type": "code",
   "execution_count": 8,
   "id": "4a7fadf6-da6c-4811-a594-aa2fb201191f",
   "metadata": {},
   "outputs": [
    {
     "data": {
      "text/plain": [
       "10000"
      ]
     },
     "execution_count": 8,
     "metadata": {},
     "output_type": "execute_result"
    }
   ],
   "source": [
    "anchor_count"
   ]
  },
  {
   "cell_type": "code",
   "execution_count": 9,
   "id": "dad3ce96-8d4a-435f-9aed-a2ad93247431",
   "metadata": {},
   "outputs": [
    {
     "name": "stdout",
     "output_type": "stream",
     "text": [
      "index initializing....\n",
      "number of training instances:  1\n",
      "mining complete!\n",
      "training complete!\n",
      "inferring complete!\n",
      "returning 8334 frames in 0.3926246203482151 seconds\n",
      "bucketing complete!\n"
     ]
    },
    {
     "data": {
      "application/json": {
       "ascii": false,
       "bar_format": null,
       "colour": null,
       "elapsed": 0.014043331146240234,
       "initial": 0,
       "n": 0,
       "ncols": null,
       "nrows": null,
       "postfix": null,
       "prefix": "Target DNN Invocations",
       "rate": null,
       "total": 8335,
       "unit": "it",
       "unit_divisor": 1000,
       "unit_scale": false
      },
      "application/vnd.jupyter.widget-view+json": {
       "model_id": "d592f4601c9345bf81c40c9235645f61",
       "version_major": 2,
       "version_minor": 0
      },
      "text/plain": [
       "Target DNN Invocations:   0%|          | 0/8335 [00:00<?, ?it/s]"
      ]
     },
     "metadata": {},
     "output_type": "display_data"
    }
   ],
   "source": [
    "### #### load the dataset and labels try eko on it -- both the original version and the new version\n",
    "\n",
    "from eko_paper2022.experiments.main import execute_ekomab\n",
    "\n",
    "\n",
    "eko_mab = execute_ekomab(images, video_name, category = category, nb_buckets = anchor_count)\n",
    "\n",
    "\n",
    "\n",
    "\n",
    "\n"
   ]
  },
  {
   "cell_type": "code",
   "execution_count": null,
   "id": "4bd9c81b-1f95-4726-8861-d168b07e68ec",
   "metadata": {
    "tags": []
   },
   "outputs": [],
   "source": [
    "query, times = query_process_aggregate(eko_mab)\n"
   ]
  },
  {
   "cell_type": "code",
   "execution_count": null,
   "id": "56acb594-33a0-4e5c-ad60-4dd805cd6572",
   "metadata": {
    "tags": []
   },
   "outputs": [],
   "source": [
    "### grab the final results\n",
    "ekomab_aggregate = query.y_pred\n",
    "ekomab_aggregate[2000:3000]"
   ]
  },
  {
   "cell_type": "code",
   "execution_count": null,
   "id": "9bd47239-88a7-461e-a4b7-5e6cf9313376",
   "metadata": {},
   "outputs": [],
   "source": [
    "import matplotlib.pyplot as plt\n",
    "plt.figure(figsize = (20,3))\n",
    "start, end = 2850, 3000\n",
    "plt.plot(gt_aggregate[start:end], label = 'gt')\n",
    "plt.plot(ekomab_aggregate[start:end], label = 'eko')\n",
    "plt.legend()"
   ]
  },
  {
   "cell_type": "code",
   "execution_count": null,
   "id": "faad4214-5c4e-457c-9326-34634336054f",
   "metadata": {},
   "outputs": [],
   "source": []
  },
  {
   "cell_type": "code",
   "execution_count": null,
   "id": "c6bd7b5b-7995-4ad6-8968-3fd2e9bb3436",
   "metadata": {},
   "outputs": [],
   "source": []
  },
  {
   "cell_type": "code",
   "execution_count": 13,
   "id": "5afb9b10-257a-45c7-b2ef-dd2b594b2b7a",
   "metadata": {
    "tags": []
   },
   "outputs": [
    {
     "data": {
      "application/json": {
       "ascii": false,
       "bar_format": null,
       "colour": null,
       "elapsed": 0.012845039367675781,
       "initial": 0,
       "n": 0,
       "ncols": null,
       "nrows": null,
       "postfix": null,
       "prefix": "Sigmoid based Propagation",
       "rate": null,
       "total": 100000,
       "unit": "it",
       "unit_divisor": 1000,
       "unit_scale": false
      },
      "application/vnd.jupyter.widget-view+json": {
       "model_id": "416ecb3fa4a5433aab432fc643a7acb2",
       "version_major": 2,
       "version_minor": 0
      },
      "text/plain": [
       "Sigmoid based Propagation:   0%|          | 0/100000 [00:00<?, ?it/s]"
      ]
     },
     "metadata": {},
     "output_type": "display_data"
    },
    {
     "data": {
      "text/plain": [
       "(6.227436823104693e-01, 0.80859375)"
      ]
     },
     "execution_count": 13,
     "metadata": {},
     "output_type": "execute_result"
    }
   ],
   "source": [
    "\n",
    "dnn_invocation = int(len(images) * 0.1)\n",
    "from eko_paper2022.experiments.main import *\n",
    "\n",
    "\n",
    "precision, recall = query_process_precision(eko_mab, dnn_invocation = dnn_invocation)\n",
    "precision, recall"
   ]
  },
  {
   "cell_type": "code",
   "execution_count": 14,
   "id": "1c02fe49-8b6a-4a4f-9c33-b6eb7c158aa0",
   "metadata": {},
   "outputs": [],
   "source": [
    "dnn_invocation = 20000"
   ]
  },
  {
   "cell_type": "code",
   "execution_count": 15,
   "id": "42459b62-6b65-42e6-aaf8-bdd28cf73f29",
   "metadata": {
    "tags": []
   },
   "outputs": [
    {
     "data": {
      "application/json": {
       "ascii": false,
       "bar_format": null,
       "colour": null,
       "elapsed": 0.012835025787353516,
       "initial": 0,
       "n": 0,
       "ncols": null,
       "nrows": null,
       "postfix": null,
       "prefix": "Sigmoid based Propagation",
       "rate": null,
       "total": 100000,
       "unit": "it",
       "unit_divisor": 1000,
       "unit_scale": false
      },
      "application/vnd.jupyter.widget-view+json": {
       "model_id": "c4ff1b9c02a1405dbabe67de3e642f1e",
       "version_major": 2,
       "version_minor": 0
      },
      "text/plain": [
       "Sigmoid based Propagation:   0%|          | 0/100000 [00:00<?, ?it/s]"
      ]
     },
     "metadata": {},
     "output_type": "display_data"
    },
    {
     "data": {
      "text/plain": [
       "(2.56e-02, 1.0)"
      ]
     },
     "execution_count": 15,
     "metadata": {},
     "output_type": "execute_result"
    }
   ],
   "source": [
    "precision, recall = query_process_recall(eko_mab, dnn_invocation = dnn_invocation)\n",
    "precision, recall"
   ]
  },
  {
   "cell_type": "code",
   "execution_count": null,
   "id": "abc426fb-d475-40d8-85ea-fe965247ead0",
   "metadata": {},
   "outputs": [],
   "source": []
  },
  {
   "cell_type": "code",
   "execution_count": null,
   "id": "8639f355-8b20-4e6f-b3f6-d54142bec872",
   "metadata": {},
   "outputs": [],
   "source": []
  },
  {
   "cell_type": "code",
   "execution_count": null,
   "id": "dfbe5e45-2979-4d27-a090-8d19644ce7ee",
   "metadata": {},
   "outputs": [],
   "source": []
  },
  {
   "cell_type": "code",
   "execution_count": null,
   "id": "904cb37f-3210-4e5a-a09a-bdf99f5b8567",
   "metadata": {},
   "outputs": [],
   "source": []
  },
  {
   "cell_type": "code",
   "execution_count": null,
   "id": "2cca8d69-3a16-49c1-ad58-92312d2af5dd",
   "metadata": {},
   "outputs": [],
   "source": []
  },
  {
   "cell_type": "code",
   "execution_count": null,
   "id": "f9b06cb6-3685-4b01-9b66-5ad8d53d8ebb",
   "metadata": {},
   "outputs": [],
   "source": []
  },
  {
   "cell_type": "code",
   "execution_count": null,
   "id": "a433483d-0557-4dc7-a959-af14dfc88355",
   "metadata": {},
   "outputs": [],
   "source": []
  },
  {
   "cell_type": "code",
   "execution_count": null,
   "id": "c9ed5eb6-1f1d-4d0a-a864-906c4b919b2f",
   "metadata": {},
   "outputs": [],
   "source": []
  },
  {
   "cell_type": "code",
   "execution_count": null,
   "id": "5821b145-f00f-41f9-bd32-ce3ddea99dc0",
   "metadata": {},
   "outputs": [],
   "source": []
  },
  {
   "cell_type": "code",
   "execution_count": null,
   "id": "35094e07-50f7-4476-90cc-dc95b883080d",
   "metadata": {},
   "outputs": [],
   "source": []
  },
  {
   "cell_type": "code",
   "execution_count": null,
   "id": "88e65997-c7a8-4dcf-8175-a798e9343fde",
   "metadata": {},
   "outputs": [],
   "source": [
    "#### now we go into individual methods and compute their numbers...\n",
    "#### we will do precision and recall in 1 pass\n",
    "\n",
    "\n"
   ]
  },
  {
   "cell_type": "markdown",
   "id": "fe0e2d02-4e18-4a43-b786-69753f24bd87",
   "metadata": {},
   "source": [
    "#### SVM"
   ]
  },
  {
   "cell_type": "code",
   "execution_count": null,
   "id": "ff165596-2b0b-4f9d-a139-9cd7196ff7b4",
   "metadata": {},
   "outputs": [],
   "source": [
    "\n",
    "from eko_paper2022.experiments.svm_wrapper import SVMWrapper\n",
    "\n",
    "\n",
    "svm_wrapper = SVMWrapper()\n",
    "labels = gt_aggregate\n",
    "\n",
    "st = time.perf_counter()\n",
    "svm_wrapper.train(images, labels)\n",
    "et  = time.perf_counter()\n",
    "\n",
    "et - st\n"
   ]
  },
  {
   "cell_type": "code",
   "execution_count": null,
   "id": "dab4cfe3-9ed8-4ebc-859f-ba31c7fe75d8",
   "metadata": {},
   "outputs": [],
   "source": []
  },
  {
   "cell_type": "code",
   "execution_count": null,
   "id": "4c2ac196-75c3-4952-abe4-2411c1fd21c4",
   "metadata": {},
   "outputs": [],
   "source": [
    "### svm_precision\n",
    "\n",
    "svm_retrieval = svm_wrapper.inference_retrieval(images)"
   ]
  },
  {
   "cell_type": "code",
   "execution_count": null,
   "id": "b60b37a6-72cc-4967-a9e5-d9d7c2195d97",
   "metadata": {},
   "outputs": [],
   "source": [
    "dnn_invocation = int(len(images) * 0.1)\n"
   ]
  },
  {
   "cell_type": "code",
   "execution_count": null,
   "id": "ad34d779-7a02-464c-8ef2-ad61a76a27ff",
   "metadata": {
    "tags": []
   },
   "outputs": [],
   "source": [
    "\n",
    "precision, recall = query_process_precision(None, dnn_invocation = dnn_invocation, y = (svm_retrieval, gt_retrieval))\n",
    "precision, recall"
   ]
  },
  {
   "cell_type": "code",
   "execution_count": null,
   "id": "2633d99d-e7d8-4790-8243-611ede4ffc89",
   "metadata": {},
   "outputs": [],
   "source": [
    "precision, recall = query_process_recall(None, dnn_invocation = dnn_invocation, y = (svm_retrieval, gt_retrieval))\n",
    "precision, recall"
   ]
  },
  {
   "cell_type": "code",
   "execution_count": null,
   "id": "21bc8793-f4d8-47aa-9a8b-fbd0ecb5e57e",
   "metadata": {},
   "outputs": [],
   "source": []
  },
  {
   "cell_type": "markdown",
   "id": "882f2fa6-327e-4c5f-aea7-ecdf6a81d28d",
   "metadata": {},
   "source": [
    "## Resnet-18"
   ]
  },
  {
   "cell_type": "code",
   "execution_count": null,
   "id": "3e94fc8c-3ad3-40c9-aab7-864e2dfb1d81",
   "metadata": {},
   "outputs": [],
   "source": [
    "## Resnet-18\n",
    "\n",
    "images.shape\n",
    "### load the labels -- it's loading the csv file \n",
    "label_file = f'/srv/data/jbang36/video_data/{video_name}/tasti_labels.csv'\n",
    "\n",
    "from eko_paper2022.experiments.resnet_wrapper import ResnetWrapper\n",
    "\n",
    "\n",
    "resnet = ResnetWrapper()\n",
    "\n",
    "labels = resnet._load_labels(images, label_file)\n",
    "\n"
   ]
  },
  {
   "cell_type": "code",
   "execution_count": null,
   "id": "8251a12b-aaac-42c2-800f-af7b863ed52b",
   "metadata": {
    "tags": []
   },
   "outputs": [],
   "source": [
    "### okay, let's try the training step..\n",
    "st = time.perf_counter()\n",
    "resnet.train(images, labels)\n",
    "et = time.perf_counter()"
   ]
  },
  {
   "cell_type": "code",
   "execution_count": null,
   "id": "ef360750-11f2-40b8-9e31-01085b0bd235",
   "metadata": {},
   "outputs": [],
   "source": [
    "et - st"
   ]
  },
  {
   "cell_type": "code",
   "execution_count": null,
   "id": "78328293-7963-40ce-ab5e-780ca9f99376",
   "metadata": {
    "tags": []
   },
   "outputs": [],
   "source": [
    "resnet_retrieval = resnet.inference_retrieval(images, image_size = 224)"
   ]
  },
  {
   "cell_type": "code",
   "execution_count": null,
   "id": "56dfa3fa-a7b8-4f0b-a433-0745095df09d",
   "metadata": {
    "tags": []
   },
   "outputs": [],
   "source": [
    "\n",
    "precision, recall = query_process_precision(None, dnn_invocation = dnn_invocation, y = (resnet_retrieval, gt_retrieval))\n",
    "precision, recall\n"
   ]
  },
  {
   "cell_type": "code",
   "execution_count": null,
   "id": "fa4217be-1e96-430e-9e10-c7112f99603f",
   "metadata": {
    "tags": []
   },
   "outputs": [],
   "source": [
    "precision, recall = query_process_recall(None, dnn_invocation = dnn_invocation, y = (resnet_retrieval, gt_retrieval))\n",
    "precision, recall\n"
   ]
  },
  {
   "cell_type": "code",
   "execution_count": null,
   "id": "7a31f1f6-197b-4b42-aea9-673dca549daf",
   "metadata": {},
   "outputs": [],
   "source": []
  },
  {
   "cell_type": "code",
   "execution_count": null,
   "id": "295470a2-313b-4818-9782-4a6b88fa859f",
   "metadata": {},
   "outputs": [],
   "source": []
  },
  {
   "cell_type": "markdown",
   "id": "dd474b07-3181-49b8-9882-62798dee9db5",
   "metadata": {},
   "source": [
    "### EKO"
   ]
  },
  {
   "cell_type": "code",
   "execution_count": null,
   "id": "61eb1b8a-7c4f-401c-a4e5-f203425892e0",
   "metadata": {},
   "outputs": [],
   "source": [
    "#### let's try eko\n",
    "\n",
    "anchor_count = int( len(images) * 0.1 )\n",
    "\n",
    "eko = execute_ekoalt(images, video_name, nb_buckets = anchor_count)\n"
   ]
  },
  {
   "cell_type": "code",
   "execution_count": null,
   "id": "31ae6dd9-b941-461f-bfa6-6fbd4b6f3101",
   "metadata": {
    "tags": []
   },
   "outputs": [],
   "source": [
    "### Q2:\n",
    "dnn_invocation = int(len(images) * 0.1)\n",
    "\n",
    "precision, recall = query_process_precision(eko, dnn_invocation = dnn_invocation)\n",
    "precision, recall\n",
    "\n"
   ]
  },
  {
   "cell_type": "code",
   "execution_count": null,
   "id": "43f537dd-21ac-4eee-a68a-4047fcf08486",
   "metadata": {},
   "outputs": [],
   "source": [
    "### Q2:\n",
    "precision, recall = query_process_recall(eko, dnn_invocation = dnn_invocation)\n",
    "precision, recall\n",
    "\n"
   ]
  },
  {
   "cell_type": "markdown",
   "id": "eb0732b3-14f2-416d-8091-2f8f63277cf3",
   "metadata": {},
   "source": [
    "### EKO I-frame only"
   ]
  },
  {
   "cell_type": "code",
   "execution_count": null,
   "id": "c068eb0e-78f2-489d-b676-048cb78a373c",
   "metadata": {},
   "outputs": [],
   "source": [
    "\n",
    "anchor_count = int( len(images) * 0.1 )\n",
    "\n",
    "anchor_count"
   ]
  },
  {
   "cell_type": "code",
   "execution_count": null,
   "id": "72c0b709-da78-4e4f-a693-fd0e7d33a712",
   "metadata": {},
   "outputs": [],
   "source": [
    "#### let's try eko\n",
    "from eko_paper2022.experiments.main import execute_ekomab\n",
    "\n",
    "eko = execute_ekomab(images, video_name, nb_buckets = anchor_count)"
   ]
  },
  {
   "cell_type": "code",
   "execution_count": null,
   "id": "ced9a2c9-a9ab-48f7-ad51-795be3429aca",
   "metadata": {},
   "outputs": [],
   "source": [
    "### Q2:\n",
    "dnn_invocation = int(len(images) * 0.1)\n",
    "\n",
    "precision, recall = query_process_precision(eko, dnn_invocation = dnn_invocation)\n",
    "precision, recall\n"
   ]
  },
  {
   "cell_type": "code",
   "execution_count": null,
   "id": "4710c1ce-3e12-4e6a-aae8-5e64d87343ad",
   "metadata": {},
   "outputs": [],
   "source": [
    "### Q2:\n",
    "precision, recall = query_process_recall(eko, dnn_invocation = dnn_invocation)\n",
    "precision, recall"
   ]
  },
  {
   "cell_type": "code",
   "execution_count": null,
   "id": "4f1546b1-fe94-4973-92c7-26b91a504a2f",
   "metadata": {},
   "outputs": [],
   "source": [
    "reps = eko.reps"
   ]
  },
  {
   "cell_type": "code",
   "execution_count": null,
   "id": "1884dabe-ca1e-41cd-8b9b-6adeb932cb8c",
   "metadata": {},
   "outputs": [],
   "source": [
    "len(reps)"
   ]
  },
  {
   "cell_type": "code",
   "execution_count": null,
   "id": "fa1d4db2-e13c-4a28-a14f-7cb624df6a5b",
   "metadata": {},
   "outputs": [],
   "source": [
    "images.shape"
   ]
  },
  {
   "cell_type": "markdown",
   "id": "e14aaff2-6fa0-4d81-bd91-99f9a279b97b",
   "metadata": {},
   "source": [
    "### EKO I-frames + MAB"
   ]
  },
  {
   "cell_type": "code",
   "execution_count": null,
   "id": "79af380a-2878-4e49-a811-1f5e086b195d",
   "metadata": {},
   "outputs": [],
   "source": [
    "\n",
    "anchor_count = int( len(images) * 0.1 )\n",
    "\n",
    "anchor_count"
   ]
  },
  {
   "cell_type": "code",
   "execution_count": null,
   "id": "819512a8-91ce-46b5-8ada-8fa25353e461",
   "metadata": {},
   "outputs": [],
   "source": [
    "#### let's try a very vvery simple dataset\n",
    "\n",
    "anchor_count = 20\n",
    "video_length = 100\n",
    "images_short = images[:100]\n",
    "\n",
    "initial_anchors = [0, 10, 20, 30, 40, 50, 60, 70, 99]\n"
   ]
  },
  {
   "cell_type": "code",
   "execution_count": null,
   "id": "85c7efe9-37ec-4d92-9fc0-80a4ff49af80",
   "metadata": {},
   "outputs": [],
   "source": [
    "images_short.shape"
   ]
  },
  {
   "cell_type": "code",
   "execution_count": null,
   "id": "4fe52043-2f04-4f88-9c35-b34f9c9279e8",
   "metadata": {},
   "outputs": [],
   "source": [
    "#### let's try eko\n",
    "from eko_paper2022.experiments.main import execute_ekomab\n",
    "\n",
    "eko = execute_ekomab(images, video_name, nb_buckets = anchor_count)\n",
    "\n",
    "### Q2:\n",
    "dnn_invocation = int(len(images_short) * 0.1)\n",
    "\n",
    "precision, recall = query_process_precision(eko, dnn_invocation = dnn_invocation)\n",
    "precision, recall"
   ]
  },
  {
   "cell_type": "code",
   "execution_count": null,
   "id": "3e1532f0-bbed-4f00-b45d-443d9a2af66a",
   "metadata": {},
   "outputs": [],
   "source": []
  },
  {
   "cell_type": "code",
   "execution_count": null,
   "id": "fbe06d76-7dec-406c-b7d0-fe3809e8c4c1",
   "metadata": {
    "tags": []
   },
   "outputs": [],
   "source": []
  },
  {
   "cell_type": "code",
   "execution_count": null,
   "id": "32a81c47-b4b3-4740-b6fc-cbe0a46d9830",
   "metadata": {
    "tags": []
   },
   "outputs": [],
   "source": [
    "reps = eko.reps"
   ]
  },
  {
   "cell_type": "code",
   "execution_count": null,
   "id": "29985db5-3fc8-48de-afed-68d511269a3d",
   "metadata": {},
   "outputs": [],
   "source": [
    "len(reps), len(set(reps))"
   ]
  },
  {
   "cell_type": "code",
   "execution_count": null,
   "id": "3c295ae0-7859-4880-a066-4e336ddc6fa6",
   "metadata": {},
   "outputs": [],
   "source": [
    "eko.topk_reps.shape"
   ]
  },
  {
   "cell_type": "code",
   "execution_count": null,
   "id": "0cf16667-9f9a-4004-aaf5-1e8a96420210",
   "metadata": {},
   "outputs": [],
   "source": [
    "eko.topk_dists.shape"
   ]
  },
  {
   "cell_type": "code",
   "execution_count": null,
   "id": "970266c4-30ef-4763-8e95-d5dbad68c4d5",
   "metadata": {},
   "outputs": [],
   "source": [
    "eko.topk_dists"
   ]
  },
  {
   "cell_type": "code",
   "execution_count": null,
   "id": "93d6654e-6446-4227-aefb-111fd63ec0f8",
   "metadata": {},
   "outputs": [],
   "source": [
    "### topk dists seems a bit wrong??"
   ]
  },
  {
   "cell_type": "code",
   "execution_count": null,
   "id": "f260d3ec-7353-4524-a9b3-0de321387889",
   "metadata": {},
   "outputs": [],
   "source": [
    "len(reps)"
   ]
  },
  {
   "cell_type": "code",
   "execution_count": null,
   "id": "4e9646fb-687e-4f9a-9ea3-891ba28170c9",
   "metadata": {},
   "outputs": [],
   "source": [
    "len(set(reps))"
   ]
  },
  {
   "cell_type": "code",
   "execution_count": null,
   "id": "357ecb69-e090-4a2a-9aa7-004ec4bb47bb",
   "metadata": {},
   "outputs": [],
   "source": [
    "### Q2:\n",
    "precision, recall = query_process_recall(eko, dnn_invocation = dnn_invocation)\n",
    "precision, recall"
   ]
  },
  {
   "cell_type": "code",
   "execution_count": null,
   "id": "5e78e0c1-de51-4d31-b19c-52260b97cac6",
   "metadata": {},
   "outputs": [],
   "source": [
    "len(reps)"
   ]
  },
  {
   "cell_type": "code",
   "execution_count": null,
   "id": "3488fb41-4dee-434f-b41e-c44f7b5df22b",
   "metadata": {
    "tags": []
   },
   "outputs": [],
   "source": [
    "reps = eko.reps\n",
    "min(reps), max(reps), len(reps)"
   ]
  },
  {
   "cell_type": "markdown",
   "id": "b9851ce7-c833-486e-9c58-d63272e12a97",
   "metadata": {},
   "source": [
    "### EKO I-frames + Sigmoid Function"
   ]
  },
  {
   "cell_type": "code",
   "execution_count": null,
   "id": "5921d423-8733-4060-a604-bf01f27a32b5",
   "metadata": {},
   "outputs": [],
   "source": [
    "import matplotlib.pyplot as plt\n",
    "\n",
    "x_axis = np.array([-5, -4, -3, -2, -1, 0, 1, 2, 3, 4, 5])\n",
    "y_axis = 1 / (1 + np.exp(-(x_axis-2)))\n",
    "\n",
    "plt.plot(x_axis, y_axis)"
   ]
  },
  {
   "cell_type": "code",
   "execution_count": null,
   "id": "9ef0328a-2b4a-4bcf-bf26-4569907f33ba",
   "metadata": {},
   "outputs": [],
   "source": []
  },
  {
   "cell_type": "code",
   "execution_count": null,
   "id": "b25929df-bbbb-4d32-9f0f-922505fc3a3c",
   "metadata": {},
   "outputs": [],
   "source": []
  },
  {
   "cell_type": "markdown",
   "id": "7a392c01-76df-4733-85b7-26dc5ef3ed75",
   "metadata": {},
   "source": [
    "### TASTIPT"
   ]
  },
  {
   "cell_type": "code",
   "execution_count": null,
   "id": "6e16006d-b8f8-4e79-b79e-2c9b53aab6c4",
   "metadata": {
    "tags": []
   },
   "outputs": [],
   "source": [
    "from eko_paper2022.motivation.main import execute_tastipt\n",
    "\n",
    "tastipt = execute_tastipt(images, video_name, category = category, redo = False, image_size = 224, nb_buckets = anchor_count)\n",
    "\n"
   ]
  },
  {
   "cell_type": "code",
   "execution_count": null,
   "id": "cab31ad1-1a8a-4a91-a126-1a916fb631ce",
   "metadata": {
    "tags": []
   },
   "outputs": [],
   "source": [
    "### Q2:\n",
    "### Q2:\n",
    "precision, recall = query_process_precision(tastipt, dnn_invocation = dnn_invocation)\n",
    "precision, recall\n",
    "\n"
   ]
  },
  {
   "cell_type": "code",
   "execution_count": null,
   "id": "00d3953b-04ba-41e7-b54f-40784b626b6f",
   "metadata": {},
   "outputs": [],
   "source": [
    "### Q2:\n",
    "precision, recall = query_process_recall(tastipt, dnn_invocation = dnn_invocation)\n",
    "precision, recall\n",
    "\n"
   ]
  },
  {
   "cell_type": "code",
   "execution_count": null,
   "id": "2de886e2-0e75-433c-ba29-3883a29ddfdf",
   "metadata": {},
   "outputs": [],
   "source": []
  },
  {
   "cell_type": "code",
   "execution_count": null,
   "id": "fbde92e2-3985-4e77-9dde-839de841a140",
   "metadata": {},
   "outputs": [],
   "source": [
    "def f1_score(precisions, recalls):\n",
    "    f1s = []\n",
    "    for precision, recall in zip(precisions, recalls):\n",
    "        f1s.append(2* precision * recall / (precision + recall))\n",
    "    return f1s"
   ]
  },
  {
   "cell_type": "code",
   "execution_count": null,
   "id": "18c54d5b-b307-4045-9949-139ca32d65fe",
   "metadata": {},
   "outputs": [],
   "source": []
  },
  {
   "cell_type": "code",
   "execution_count": null,
   "id": "f4f87fa1-e8ae-433a-9680-eaa7f05192ac",
   "metadata": {},
   "outputs": [],
   "source": []
  },
  {
   "cell_type": "code",
   "execution_count": null,
   "id": "f0b5e524-523a-4a5d-b1db-a6046c7613c6",
   "metadata": {},
   "outputs": [],
   "source": [
    "#### Q2 additional records\n",
    "names = ['eko_iframes', 'eko]\n",
    "\n",
    "cherry_p = [0.96]\n",
    "cherry_r = [0.96]\n",
    "\n",
    "detrac_p = [0.98]\n",
    "detrac_r = [0.97]\n",
    "\n",
    "dashcam_p = [0.96]\n",
    "dashcam_r = [0.95]\n",
    "\n",
    "jackson_p = [0.78]\n",
    "jackson_r = [0.71]\n",
    "\n",
    "#### Q3 additional records\n",
    "cherry_p = [0.96]\n",
    "cherry_r = [0.95]\n",
    "\n",
    "detrac_p = [0.98]\n",
    "detrac_r = [0.95]\n",
    "\n",
    "dashcam_p = [0.95]\n",
    "dashcam_r = [0.94]\n",
    "\n",
    "jackson_p = [0.66]\n",
    "jackson_r = [0.79]\n"
   ]
  },
  {
   "cell_type": "code",
   "execution_count": null,
   "id": "4229d292-8a8a-4d51-b696-2ad51cbcbc61",
   "metadata": {},
   "outputs": [],
   "source": [
    "#### Q2\n",
    "\n",
    "\n",
    "\n",
    "x_axis_names = ['SVM', 'Resnet-18', 'TASTI-PT', 'EKO', 'EKO_mab', 'EKO_mab_sigmoid']\n",
    "\n",
    "\n",
    "cherry_p = np.array([0.99, 0.97, 0.94, 0.96, 0.95, 0.95]) \n",
    "cherry_r = np.array([0.19, 0.52, 0.91, 0.96, 0.96, 0.96])\n",
    "cherry_f = f1_score(cherry_p, cherry_r)\n",
    "\n",
    "detrac_p = np.array([1.0, 0.96, 0.96, 0.98, 0.98, 0.98]) \n",
    "detrac_r = np.array([0.90, 0.94, 0.98, 0.97, 0.97, 0.97])\n",
    "detrac_f = f1_score(detrac_p, detrac_r)\n",
    "\n",
    "dashcam_p = np.array([1.0, 0.96, 0.94, 0.95, 0.96, 0.95]) \n",
    "dashcam_r = np.array([0.09, 0.61, 0.87, 0.92, 0.92, 0.92])\n",
    "dashcam_f = f1_score(dashcam_p, dashcam_r)\n",
    "\n",
    "jackson_p = np.array([1.0, 1.0, 0.63, 0.77, 0.62, 0.64]) \n",
    "jackson_r = np.array([0.26, 0.19, 0.8, 0.75, 0.70, 0.69])\n",
    "jackson_f = f1_score(jackson_p, jackson_r)\n"
   ]
  },
  {
   "cell_type": "code",
   "execution_count": null,
   "id": "98762bfe-edf5-4340-9ec4-ce44ff626a73",
   "metadata": {},
   "outputs": [],
   "source": [
    "import numpy as np\n",
    "import matplotlib.pyplot as plt\n",
    "%matplotlib inline\n",
    "import matplotlib\n",
    "\n",
    "font = {\n",
    "        'weight' : 'bold',\n",
    "        'size'   : 15}\n",
    "\n",
    "matplotlib.rc('font', **font)\n",
    "matplotlib.rc('ytick', labelsize=15)\n",
    "\n",
    "\n",
    "x_axis_names = ['SVM', 'Resnet-18', 'TASTI-PT', 'EKO', 'EKO_mab', 'EKO_mab_sigmoid']\n",
    "\n",
    "x = np.arange(len(x_axis_names))\n",
    "\n",
    "\n",
    "### we need to do subplots\n",
    "rows = 2\n",
    "columns = 2\n",
    "fig_size = (8, 5)\n",
    "fig, axes = plt.subplots(rows, columns, sharey = False, sharex=True, figsize=fig_size)\n",
    "\n",
    "\n",
    "i = 0\n",
    "j = 0\n",
    "width = 0.6\n",
    "\n",
    "axes[i][j].bar(x_axis_names, cherry_f, width)\n",
    "axes[i][j].set_ylabel('F1-Score', weight = 'bold', size = 15)\n",
    "#axes[i][j].set_ylim(0, 200)\n",
    "#axes[i][j].set_yticks([0, 50, 100, 150, 200])\n",
    "\n",
    "axes[i][j].set_xticklabels(x_axis_names, rotation = 30, ha = 'right',rotation_mode='anchor')\n",
    "#plt.ylim(0, 2)\n",
    "#plt.xticks(x, x_axis_names)\n",
    "axes[i][j].set_title('Cherry', weight = 'bold', size = 15)\n",
    "\n",
    "\n",
    "i = 0\n",
    "j = 1\n",
    "axes[i][j].bar(x_axis_names, detrac_f, width)\n",
    "axes[i][j].set_title('UA-DETRAC', weight = 'bold', size = 15)\n",
    "axes[i][j].set_xticklabels(x_axis_names, rotation = 30, ha = 'right', rotation_mode='anchor')\n",
    "\n",
    "\n",
    "i = 1\n",
    "j = 0\n",
    "axes[i][j].bar(x_axis_names, dashcam_f, width)\n",
    "axes[i][j].set_xticklabels(x_axis_names, rotation = 30, ha = 'right', rotation_mode='anchor')\n",
    "axes[i][j].set_ylabel('F1-Score', weight = 'bold', size = 15)\n",
    "\n",
    "axes[i][j].set_title('Dashcam', weight = 'bold', size = 15)\n",
    "\n",
    "\n",
    "i = 1\n",
    "j = 1\n",
    "axes[i][j].bar(x_axis_names, jackson_f, width)\n",
    "\n",
    "axes[i][j].set_title('Jackson', weight = 'bold', size = 15)\n",
    "axes[i][j].set_xticklabels(x_axis_names, rotation = 30, ha = 'right', rotation_mode='anchor')\n",
    "\n",
    "\n",
    "fig.tight_layout()\n",
    "\n",
    "#plt.legend()\n",
    "plt.savefig('plots/query-execution-q2.png')\n",
    "plt.show()"
   ]
  },
  {
   "cell_type": "markdown",
   "id": "55965793-24a7-47ae-a8aa-ba687256239c",
   "metadata": {},
   "source": [
    "## Q3"
   ]
  },
  {
   "cell_type": "code",
   "execution_count": null,
   "id": "215140e9-d0f7-49b3-9bc1-333eb5b5fd55",
   "metadata": {},
   "outputs": [],
   "source": [
    "#### Q3\n",
    "\n",
    "\n",
    "\n",
    "x_axis_names = ['SVM', 'Resnet-18', 'TASTI-PT', 'EKO', 'EKO_mab', 'EKO_mab_sigmoid']\n",
    "\n",
    "\n",
    "\n",
    "cherry_p = np.array([0.63, 0.42, 0.91, 0.96, 0.95, 0.95]) \n",
    "cherry_r = np.array([0.96, 0.96, 0.92, 0.95, 0.95, 0.94])\n",
    "cherry_f = f1_score(cherry_p, cherry_r)\n",
    "\n",
    "detrac_p = np.array([0.94, 0.96, 0.98, 0.98, 0.98, 0.98]) \n",
    "detrac_r = np.array([0.96, 0.95, 0.95, 0.95, 0.95, 0.95])\n",
    "detrac_f = f1_score(detrac_p, detrac_r)\n",
    "\n",
    "dashcam_p = np.array([0.6, 0.7, 0.92, 0.95, 0.95, 0.95]) \n",
    "dashcam_r = np.array([0.96, 0.96, 0.91, 0.94, 0.94, 0.93])\n",
    "dashcam_f = f1_score(dashcam_p, dashcam_r)\n",
    "\n",
    "jackson_p = np.array([0.19, 0.04, 0.55, 0.70, 0.57, 0.60]) \n",
    "jackson_r = np.array([0.96, 0.98, 0.88, 0.85, 0.82, 0.79])\n",
    "jackson_f = f1_score(jackson_p, jackson_r)"
   ]
  },
  {
   "cell_type": "code",
   "execution_count": null,
   "id": "c24e4cea-971c-4639-a677-bc8bfb0bd9a0",
   "metadata": {},
   "outputs": [],
   "source": [
    "cherry_f"
   ]
  },
  {
   "cell_type": "code",
   "execution_count": null,
   "id": "ba0cdf12-d72c-4ed1-82db-a94af28d2f88",
   "metadata": {},
   "outputs": [],
   "source": [
    "import numpy as np\n",
    "import matplotlib.pyplot as plt\n",
    "%matplotlib inline\n",
    "import matplotlib\n",
    "\n",
    "font = {\n",
    "        'weight' : 'bold',\n",
    "        'size'   : 15}\n",
    "\n",
    "matplotlib.rc('font', **font)\n",
    "matplotlib.rc('ytick', labelsize=15)\n",
    "\n",
    "\n",
    "x_axis_names = ['SVM', 'Resnet-18', 'TASTI-PT', 'EKO', 'EKO_mab', 'EKO_mab_sigmoid']\n",
    "\n",
    "\n",
    "x = np.arange(len(x_axis_names))\n",
    "\n",
    "\n",
    "### we need to do subplots\n",
    "rows = 2\n",
    "columns = 2\n",
    "fig_size = (8, 5)\n",
    "fig, axes = plt.subplots(rows, columns, sharey = False, sharex=True, figsize=fig_size)\n",
    "\n",
    "\n",
    "i = 0\n",
    "j = 0\n",
    "width = 0.6\n",
    "\n",
    "axes[i][j].bar(x_axis_names, cherry_f, width)\n",
    "axes[i][j].set_ylabel('F1-Score', weight = 'bold', size = 15)\n",
    "#axes[i][j].set_ylim(0, 200)\n",
    "#axes[i][j].set_yticks([0, 50, 100, 150, 200])\n",
    "\n",
    "axes[i][j].set_xticklabels(x_axis_names, rotation = 30, ha = 'right',rotation_mode='anchor')\n",
    "#plt.ylim(0, 2)\n",
    "#plt.xticks(x, x_axis_names)\n",
    "axes[i][j].set_title('Cherry', weight = 'bold', size = 15)\n",
    "\n",
    "\n",
    "i = 0\n",
    "j = 1\n",
    "axes[i][j].bar(x_axis_names, detrac_f, width)\n",
    "axes[i][j].set_title('UA-DETRAC', weight = 'bold', size = 15)\n",
    "axes[i][j].set_xticklabels(x_axis_names, rotation = 30, ha = 'right', rotation_mode='anchor')\n",
    "\n",
    "\n",
    "i = 1\n",
    "j = 0\n",
    "axes[i][j].bar(x_axis_names, dashcam_f, width)\n",
    "axes[i][j].set_xticklabels(x_axis_names, rotation = 30, ha = 'right', rotation_mode='anchor')\n",
    "axes[i][j].set_ylabel('F1-Score', weight = 'bold', size = 15)\n",
    "\n",
    "axes[i][j].set_title('Dashcam', weight = 'bold', size = 15)\n",
    "\n",
    "\n",
    "i = 1\n",
    "j = 1\n",
    "axes[i][j].bar(x_axis_names, jackson_f, width)\n",
    "\n",
    "axes[i][j].set_title('Jackson', weight = 'bold', size = 15)\n",
    "axes[i][j].set_xticklabels(x_axis_names, rotation = 30, ha = 'right', rotation_mode='anchor')\n",
    "\n",
    "\n",
    "fig.tight_layout()\n",
    "\n",
    "#plt.legend()\n",
    "plt.savefig('plots/query-execution-q3.png')\n",
    "plt.show()"
   ]
  },
  {
   "cell_type": "code",
   "execution_count": null,
   "id": "f6f9800f-f1f5-4583-bfa7-ba17f915bdf0",
   "metadata": {},
   "outputs": [],
   "source": []
  },
  {
   "cell_type": "code",
   "execution_count": null,
   "id": "d431b0c4-4c7c-4b13-8f23-1ed27ebc23fe",
   "metadata": {},
   "outputs": [],
   "source": []
  },
  {
   "cell_type": "code",
   "execution_count": null,
   "id": "38535b55-b285-40ae-aac4-7600a02b86ce",
   "metadata": {},
   "outputs": [],
   "source": [
    "### Cherry Q1\n",
    "cherry_q1 = np.array([3341, 2352, 1900, 1759]) * (1 / 140) + np.array([0, 0, 4.2, 4])\n",
    "cherry_q2 = np.array([-1, -1, 300, 300]) * 1 / 140 + np.array([0, 0, 4.2, 4])\n",
    "cherry_q3 = np.array([100, 100, 100, 600]) * 1 / 140 + np.array([0, 0, 4.2, 4])\n",
    "detrac_q1 = np.array([55607, 28323, 23147, 20943]) * (1 / 140) + np.array([0, 0, 3.9, 4.5])\n",
    "detrac_q2 = np.array([210, 210, 210, 210]) * (1 / 140) + np.array([0, 0, 3.9, 4.5])\n",
    "detrac_q3 = np.array([100, 100, 110, 100]) * (1 / 140) + np.array([0, 0, 3.9, 4.5])\n",
    "\n",
    "dashcam_q1 = np.array([20679, 14638, 8426, 7571]) * (1 / 140) + np.array([0, 0, 3.7, 3.9])\n",
    "dashcam_q2 = np.array([-1, -1, 240, 210]) * (1 / 140) + np.array([0, 0, 3.7, 3.9])\n",
    "dashcam_q3 = np.array([100, 100, 100, 100]) * (1 / 140) + np.array([0, 0, 3.7, 3.9])\n",
    "\n",
    "dashcam_q1 = np.array([1316, 921, 1145, 1425]) * (1 / 140) + np.array([0, 0, 13, 12])\n",
    "dashcam_q2 = np.array([-1, -1, -1, -1]) * (1 / 140) + np.array([0, 0, 13, 12])\n",
    "dashcam_q3 = np.array([1500, 17600, -1, -1]) * (1 / 140) + np.array([0, 0, 13, 12])\n"
   ]
  },
  {
   "cell_type": "code",
   "execution_count": null,
   "id": "a98cb171-532f-486e-811b-6b44b8884402",
   "metadata": {},
   "outputs": [],
   "source": [
    "dashcam_q1"
   ]
  },
  {
   "cell_type": "code",
   "execution_count": null,
   "id": "7502e52a-9786-4fc7-b50d-d47f07d10f06",
   "metadata": {},
   "outputs": [],
   "source": []
  },
  {
   "cell_type": "code",
   "execution_count": null,
   "id": "c2f9a3ec-fb19-4f06-bcd1-40825e79f1dc",
   "metadata": {},
   "outputs": [],
   "source": [
    "THR = 1 / 140\n",
    "\n",
    "\n",
    "#### Q1\n",
    "x_axis_names = ['SVM', 'Resnet-18', 'TASTI-PT', 'EKO']\n",
    "cherry_q1_others = [0, 0, 4.2, 3.9]\n",
    "cherry_q1_post = [3300 * THR, 2545 * THR, 1892 * THR, 1829 * THR]\n",
    "\n",
    "#### Q2\n",
    "cherry_q2_others = [0, 0, 4.2, 3.9]\n",
    "cherry_q2_post = [1219 * THR, 886 * THR, 779 * THR, 778 * THR]\n",
    "\n",
    "#### Q3\n",
    "cherry_q3_others = [0, 0, 4.2, 3.9]\n",
    "cherry_q3_post = [1219 * THR, 886 * THR, 779 * THR, 778 * THR]\n",
    "\n",
    "\n",
    "#### Q1\n",
    "detrac_q1_others = [0, 0, 4.2, 3.9]\n",
    "detrac_q1_post = [1219 * THR, 886 * THR, 779 * THR, 778 * THR]\n",
    "\n",
    "\n",
    "#### Q2\n",
    "detrac_q2_others = [0, 0, 4.2, 3.9]\n",
    "detrac_q2_post = [1219 * THR, 886 * THR, 779 * THR, 778 * THR]\n",
    "\n",
    "\n",
    "#### Q3\n",
    "detrac_q3_others = [0, 0, 4.2, 3.9]\n",
    "detrac_q3_post = [1219 * THR, 886 * THR, 779 * THR, 778 * THR]\n",
    "\n",
    "\n",
    "#### Q1\n",
    "dashcam_q1_others = [0, 0, 4.2, 3.9]\n",
    "dashcam_q1_post = [1219 * THR, 886 * THR, 779 * THR, 778 * THR]\n",
    "\n",
    "\n",
    "#### Q2\n",
    "dashcam_q2_others = [0, 0, 4.2, 3.9]\n",
    "dashcam_q2_post = [1219 * THR, 886 * THR, 779 * THR, 778 * THR]\n",
    "\n",
    "\n",
    "#### Q3\n",
    "dashcam_q3_others = [0, 0, 4.2, 3.9]\n",
    "dashcam_q3_post = [1219 * THR, 886 * THR, 779 * THR, 778 * THR]\n",
    "\n",
    "\n",
    "#### Q1\n",
    "jackson_q1_others = [0, 0, 4.2, 3.9]\n",
    "jackson_q1_post = [1219 * THR, 886 * THR, 779 * THR, 778 * THR]\n",
    "\n",
    "\n",
    "#### Q2\n",
    "jackson_q2_others = [0, 0, 4.2, 3.9]\n",
    "jackson_q2_post = [1219 * THR, 886 * THR, 779 * THR, 778 * THR]\n",
    "\n",
    "\n",
    "#### Q3\n",
    "jackson_q3_others = [0, 0, 4.2, 3.9]\n",
    "jackson_q3_post = [1219 * THR, 886 * THR, 779 * THR, 778 * THR]\n",
    "\n",
    "\n",
    "\n",
    "import numpy as np\n",
    "import matplotlib.pyplot as plt\n",
    "%matplotlib inline\n",
    "\n",
    "\n",
    "### we need to do subplots\n",
    "rows = 1\n",
    "columns = 3\n",
    "i = 1\n",
    "fig = plt.figure(figsize = (15,3))\n",
    "fig.add_subplot(rows, columns, i)\n",
    "plt.bar(x - width, cherry_values, width, label = 'Cherry')\n",
    "plt.bar(x, ua_values, width, label = 'UA_DETRAC')\n",
    "plt.bar(x + width, da_values, width, label = 'Dashcam')\n",
    "plt.ylabel('Time (s)')\n",
    "plt.xticks(x, x_axis_names)\n",
    "plt.title('Q1 -- Aggregate')\n",
    "\n",
    "\n",
    "i = 2\n",
    "fig.add_subplot(rows, columns, i)\n",
    "plt.bar(x - width, cherry_values, width, label = 'Cherry')\n",
    "plt.bar(x, ua_values, width, label = 'UA_DETRAC')\n",
    "plt.bar(x + width, da_values, width, label = 'Dashcam')\n",
    "plt.xticks(x, x_axis_names)\n",
    "plt.title('Q2 -- Precision')\n",
    "\n",
    "\n",
    "\n",
    "i = 3\n",
    "fig.add_subplot(rows, columns, i)\n",
    "plt.bar(x - width, cherry_values, width, label = 'Cherry')\n",
    "plt.bar(x, ua_values, width, label = 'UA_DETRAC')\n",
    "plt.bar(x + width, da_values, width, label = 'Dashcam')\n",
    "plt.xticks(x, x_axis_names)\n",
    "plt.title('Q3 -- Recall')\n",
    "\n",
    "\n",
    "\n",
    "\n",
    "plt.xticks(x, x_axis_names)\n",
    "plt.legend()\n",
    "plt.show()\n",
    "\n"
   ]
  },
  {
   "cell_type": "code",
   "execution_count": null,
   "id": "58352758-0fce-462b-b10a-308797267ca2",
   "metadata": {},
   "outputs": [],
   "source": []
  },
  {
   "cell_type": "code",
   "execution_count": null,
   "id": "38ca18fd-1aec-40cf-adfc-e967c752d127",
   "metadata": {},
   "outputs": [],
   "source": [
    "### TODO: Need to include the YOLOv5 inference time for EKO -- this is pretty significant"
   ]
  },
  {
   "cell_type": "code",
   "execution_count": null,
   "id": "7c7a6942-7f1d-4ddb-993f-46e8fa9d410d",
   "metadata": {},
   "outputs": [],
   "source": [
    "### generate the outcome graph first \n",
    "import numpy as np\n",
    "import matplotlib.pyplot as plt\n",
    "%matplotlib inline\n",
    "### drawing function for the graph\n",
    "\n",
    "#### Q1 values\n",
    "\n",
    "x_axis_names = ['YOLOv5', 'TASTI-PT', 'EKO']\n",
    "cherry_values = [0, 9.68, 9.5]\n",
    "ua_values = [0, 61.25, 65.4]\n",
    "da_values = [0, 3.3 + 21.47, 2.9 + 22.17]\n",
    "\n",
    "\n",
    "##### Q2 values\n",
    "cherry_values = [0, 4.48 + 7.14, 4.26 + 7.14]\n",
    "ua_values = [0, 11.18, 12.94]\n",
    "da_values = [0, 3.57 + 7.14, 3.4 + 7.14]\n",
    "\n",
    "##### Q3 values\n",
    "cherry_values = [0, 4.56 + 7.14, 4.32 + 7.14]\n",
    "ua_values = [0, 11.84, 11.04]\n",
    "da_values = [0, 3.4 + 7.14, 3.4 + 7.14]\n",
    "\n",
    "\n",
    "x = np.arange(len(x_axis_names))\n",
    "width = 0.2\n",
    "\n",
    "\n",
    "### we need to do subplots\n",
    "rows = 1\n",
    "columns = 3\n",
    "i = 1\n",
    "fig = plt.figure(figsize = (15,3))\n",
    "fig.add_subplot(rows, columns, i)\n",
    "plt.bar(x - width, cherry_values, width, label = 'Cherry')\n",
    "plt.bar(x, ua_values, width, label = 'UA_DETRAC')\n",
    "plt.bar(x + width, da_values, width, label = 'Dashcam')\n",
    "plt.ylabel('Time (s)')\n",
    "plt.xticks(x, x_axis_names)\n",
    "plt.title('Q1 -- Aggregate')\n",
    "\n",
    "\n",
    "\n",
    "\n",
    "\n",
    "i = 2\n",
    "fig.add_subplot(rows, columns, i)\n",
    "plt.bar(x - width, cherry_values, width, label = 'Cherry')\n",
    "plt.bar(x, ua_values, width, label = 'UA_DETRAC')\n",
    "plt.bar(x + width, da_values, width, label = 'Dashcam')\n",
    "plt.xticks(x, x_axis_names)\n",
    "plt.title('Q2 -- Precision')\n",
    "\n",
    "\n",
    "\n",
    "i = 3\n",
    "fig.add_subplot(rows, columns, i)\n",
    "plt.bar(x - width, cherry_values, width, label = 'Cherry')\n",
    "plt.bar(x, ua_values, width, label = 'UA_DETRAC')\n",
    "plt.bar(x + width, da_values, width, label = 'Dashcam')\n",
    "plt.xticks(x, x_axis_names)\n",
    "plt.title('Q3 -- Recall')\n",
    "\n",
    "\n",
    "\n",
    "\n",
    "plt.xticks(x, x_axis_names)\n",
    "plt.legend()\n",
    "plt.show()\n"
   ]
  },
  {
   "cell_type": "code",
   "execution_count": null,
   "id": "6d10bd56-050d-4722-9312-6b0f384da566",
   "metadata": {},
   "outputs": [],
   "source": [
    "cherry_values = [0, 9.68, 9.5]\n",
    "ua_values = [0, 61.25, 65.4]\n",
    "da_values = [0, 3.3 + 21.47, 2.9 + 22.17]\n",
    "\n",
    "\n",
    "##### Q2 values\n",
    "cherry_values2 = [0, 4.48 + 7.14, 4.26 + 7.14]\n",
    "ua_values2 = [0, 11.18, 12.94]\n",
    "da_values2 = [0, 3.57 + 7.14, 3.4 + 7.14]\n",
    "\n",
    "##### Q3 values\n",
    "cherry_values3 = [0, 4.56 + 7.14, 4.32 + 7.14]\n",
    "ua_values3 = [0, 11.84, 11.04]\n",
    "da_values3 = [0, 3.4 + 7.14, 3.4 + 7.14]"
   ]
  },
  {
   "cell_type": "code",
   "execution_count": null,
   "id": "4dd49179-99c3-4125-9e4f-95dd09d460eb",
   "metadata": {},
   "outputs": [],
   "source": [
    "tmp = np.array([cherry_values, ua_values, da_values, cherry_values2, ua_values2, da_values2, cherry_values3, ua_values3, da_values3])\n",
    "tmp.mean(axis = 0)"
   ]
  },
  {
   "cell_type": "code",
   "execution_count": null,
   "id": "345f2553-55bb-4841-848a-3a8dc9a2816f",
   "metadata": {},
   "outputs": [],
   "source": [
    "print('hello world')"
   ]
  },
  {
   "cell_type": "code",
   "execution_count": null,
   "id": "f780a99b-518b-4dc0-981c-14785655dbbb",
   "metadata": {},
   "outputs": [],
   "source": []
  }
 ],
 "metadata": {
  "kernelspec": {
   "display_name": "Python 3",
   "language": "python",
   "name": "python3"
  },
  "language_info": {
   "codemirror_mode": {
    "name": "ipython",
    "version": 3
   },
   "file_extension": ".py",
   "mimetype": "text/x-python",
   "name": "python",
   "nbconvert_exporter": "python",
   "pygments_lexer": "ipython3",
   "version": "3.9.7"
  }
 },
 "nbformat": 4,
 "nbformat_minor": 5
}
