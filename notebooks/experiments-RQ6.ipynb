{
 "cells": [
  {
   "cell_type": "code",
   "execution_count": 1,
   "id": "aca7c3d8-8dbe-45cc-92e0-93fd3d28418b",
   "metadata": {},
   "outputs": [],
   "source": [
    "### okay, now we move onto performing experiments on RQ6\n"
   ]
  },
  {
   "cell_type": "code",
   "execution_count": 1,
   "id": "b47ac79d-ea47-4dc6-95dc-48053d722d2d",
   "metadata": {},
   "outputs": [
    {
     "name": "stderr",
     "output_type": "stream",
     "text": [
      "11-27-2022 15:30:39 [info:049]INFO : meta data of the video /srv/data/jbang36/video_data/cherry960/video.mp4 is (100000, 540, 960, 3)\n",
      "meta data of the video /srv/data/jbang36/video_data/cherry960/video.mp4 is (100000, 540, 960, 3)\n",
      "100%|██████████| 100000/100000 [01:46<00:00, 941.49it/s]\n"
     ]
    }
   ],
   "source": [
    "%load_ext autoreload\n",
    "%autoreload 2\n",
    "\n",
    "\n",
    "import sys\n",
    "sys.path.append('/nethome/jbang36/eko')\n",
    "\n",
    "\n",
    "## cherry960\n",
    "video_name = 'cherry960'\n",
    "\n",
    "from eko_paper2022.motivation.main import *\n",
    "\n",
    "images = load_dataset(video_name)\n"
   ]
  },
  {
   "cell_type": "code",
   "execution_count": 2,
   "id": "794d24fa-b5b0-4fc5-8223-8324115be803",
   "metadata": {},
   "outputs": [
    {
     "data": {
      "text/plain": [
       "(100000, 540, 960, 3)"
      ]
     },
     "execution_count": 2,
     "metadata": {},
     "output_type": "execute_result"
    }
   ],
   "source": [
    "#### \n",
    "\n",
    "\n",
    "images.shape"
   ]
  },
  {
   "cell_type": "code",
   "execution_count": 3,
   "id": "14b4a771-4cca-4bcc-bdd3-d7eaca6bef53",
   "metadata": {},
   "outputs": [],
   "source": [
    "#### we have fixed the code, let's go and run it.\n",
    "\n",
    "category = 'car'\n",
    "\n",
    "\n",
    "### run eko on the two categories | use Q2 as to see how the f1-score changes\n",
    "anchor_count = int( len(images) * 0.1) ### this is the variable\n",
    "anchor_per = 0.5\n",
    "dnn_invocation = int(len(images) * 0.1)\n",
    "\n",
    "\n",
    "\n"
   ]
  },
  {
   "cell_type": "code",
   "execution_count": 4,
   "id": "81f7f483-30ea-4c5d-b423-2648f0b859f0",
   "metadata": {},
   "outputs": [
    {
     "name": "stdout",
     "output_type": "stream",
     "text": [
      "index initializing....\n",
      "number of training instances:  1\n",
      "mining complete!\n",
      "training complete!\n",
      "inferring complete!\n",
      "returning 6240 frames in 0.4886644557118416 seconds\n",
      "adfasdfasdfsaf 7488 0.5 3744\n",
      "total number of iframes:  6240\n",
      "total number of anchors selected in index construction:  3744\n",
      "final number that has been selected:  3744\n",
      "bucketing complete!\n"
     ]
    },
    {
     "data": {
      "application/vnd.jupyter.widget-view+json": {
       "model_id": "1570174337ee4ecc97f7d98efe2db88d",
       "version_major": 2,
       "version_minor": 0
      },
      "text/plain": [
       "Target DNN Invocations:   0%|          | 0/3744 [00:00<?, ?it/s]"
      ]
     },
     "metadata": {},
     "output_type": "display_data"
    }
   ],
   "source": [
    "\n",
    "from eko_paper2022.experiments.main import execute_ekomab\n",
    "c_param = 2\n",
    "eko_mab = execute_ekomab(images, video_name, keep = True, category = category, nb_buckets = anchor_count, anchor_percentage = anchor_per, c_param = c_param)\n"
   ]
  },
  {
   "cell_type": "code",
   "execution_count": null,
   "id": "afae8e8e-ca11-47e6-a919-f629f71cd0d7",
   "metadata": {},
   "outputs": [],
   "source": []
  },
  {
   "cell_type": "code",
   "execution_count": null,
   "id": "6a4582dd-603b-42a4-a208-24539e415df0",
   "metadata": {},
   "outputs": [],
   "source": []
  },
  {
   "cell_type": "code",
   "execution_count": 5,
   "id": "69ae956b-1d0e-4936-98c4-9e78edda302c",
   "metadata": {},
   "outputs": [
    {
     "name": "stderr",
     "output_type": "stream",
     "text": [
      "100%|██████████| 3744/3744 [00:14<00:00, 258.74it/s]\n"
     ]
    },
    {
     "data": {
      "application/vnd.jupyter.widget-view+json": {
       "model_id": "181aadc92f3345ae8ad780d25fa6bae7",
       "version_major": 2,
       "version_minor": 0
      },
      "text/plain": [
       "Propagation:   0%|          | 0/74880 [00:00<?, ?it/s]"
      ]
     },
     "metadata": {},
     "output_type": "display_data"
    },
    {
     "name": "stdout",
     "output_type": "stream",
     "text": [
      "0.9562262225109028 0.9106393319489241\n"
     ]
    }
   ],
   "source": [
    "from eko_paper2022.experiments.main import *\n",
    "\n",
    "precision, recall = query_process_precision(eko_mab, dnn_invocation = dnn_invocation)\n",
    "print(precision, recall)\n"
   ]
  },
  {
   "cell_type": "code",
   "execution_count": 6,
   "id": "2d3d2bfd-26d6-401e-b788-73e099dd5df8",
   "metadata": {},
   "outputs": [
    {
     "data": {
      "text/plain": [
       "(7488, 7488)"
      ]
     },
     "execution_count": 6,
     "metadata": {},
     "output_type": "execute_result"
    }
   ],
   "source": [
    "reps = eko_mab.reps\n",
    "base_reps = eko_mab.base_reps\n",
    "\n",
    "len(reps), len(base_reps)"
   ]
  },
  {
   "cell_type": "code",
   "execution_count": 7,
   "id": "0ca6e71e-8ec1-47b0-8d52-3d679b7bdbf5",
   "metadata": {},
   "outputs": [],
   "source": [
    "### change the category\n",
    "\n",
    "category = 'bus'\n",
    "\n",
    "eko_mab.update_category(category)"
   ]
  },
  {
   "cell_type": "code",
   "execution_count": 8,
   "id": "65e42972-2271-448c-ad61-8658c7650a4a",
   "metadata": {},
   "outputs": [
    {
     "name": "stderr",
     "output_type": "stream",
     "text": [
      "0it [00:00, ?it/s]\n"
     ]
    },
    {
     "data": {
      "application/vnd.jupyter.widget-view+json": {
       "model_id": "324744ce4940489382bb184f44a5d9e3",
       "version_major": 2,
       "version_minor": 0
      },
      "text/plain": [
       "Propagation:   0%|          | 0/74880 [00:00<?, ?it/s]"
      ]
     },
     "metadata": {},
     "output_type": "display_data"
    },
    {
     "name": "stdout",
     "output_type": "stream",
     "text": [
      "0.5375502905677246 0.5716662705015451\n"
     ]
    }
   ],
   "source": [
    "from eko_paper2022.experiments.main import *\n",
    "\n",
    "precision, recall = query_process_precision(eko_mab, dnn_invocation = dnn_invocation)\n",
    "print(precision, recall)\n"
   ]
  },
  {
   "cell_type": "code",
   "execution_count": null,
   "id": "83798bc5-7183-4732-b1dc-be96964e5783",
   "metadata": {},
   "outputs": [],
   "source": []
  },
  {
   "cell_type": "markdown",
   "id": "9f837b07-873e-4170-8b87-ef3971d5d5dc",
   "metadata": {},
   "source": [
    "### what happens, if we use EKO but refresh....??\n",
    "\n"
   ]
  },
  {
   "cell_type": "code",
   "execution_count": 3,
   "id": "c55bdb9c-e9bb-40f0-a4a6-93dd61aadb6d",
   "metadata": {},
   "outputs": [
    {
     "name": "stdout",
     "output_type": "stream",
     "text": [
      "index initializing....\n",
      "number of training instances:  1\n",
      "mining complete!\n",
      "training complete!\n",
      "inferring complete!\n",
      "returning 8334 frames in 0.39962147548794746 seconds\n",
      "adfasdfasdfsaf 10000 0.5 5000\n",
      "total number of iframes:  8334\n",
      "total number of anchors selected in index construction:  5000\n",
      "final number that has been selected:  5000\n",
      "bucketing complete!\n"
     ]
    },
    {
     "data": {
      "application/vnd.jupyter.widget-view+json": {
       "model_id": "4faa67c89f75468ca8c45d9dc4c14f77",
       "version_major": 2,
       "version_minor": 0
      },
      "text/plain": [
       "Target DNN Invocations:   0%|          | 0/5000 [00:00<?, ?it/s]"
      ]
     },
     "metadata": {},
     "output_type": "display_data"
    },
    {
     "name": "stderr",
     "output_type": "stream",
     "text": [
      "100%|██████████| 5000/5000 [00:34<00:00, 146.78it/s]\n"
     ]
    },
    {
     "data": {
      "application/vnd.jupyter.widget-view+json": {
       "model_id": "90f01362bd1144c0bb4df25208f9b293",
       "version_major": 2,
       "version_minor": 0
      },
      "text/plain": [
       "Propagation:   0%|          | 0/100000 [00:00<?, ?it/s]"
      ]
     },
     "metadata": {},
     "output_type": "display_data"
    },
    {
     "name": "stdout",
     "output_type": "stream",
     "text": [
      "0.9529395218002813 0.94066196479147\n"
     ]
    }
   ],
   "source": [
    "\n",
    "category = 'car'\n",
    "\n",
    "\n",
    "### run eko on the two categories | use Q2 as to see how the f1-score changes\n",
    "anchor_count = int( len(images) * 0.1) ### this is the variable\n",
    "anchor_per = 0.5\n",
    "dnn_invocation = int(len(images) * 0.1)\n",
    "\n",
    "\n",
    "from eko_paper2022.experiments.main import execute_ekomab\n",
    "c_param = 2\n",
    "eko_mab = execute_ekomab(images, video_name, keep = False, category = category, nb_buckets = anchor_count, anchor_percentage = anchor_per, c_param = c_param)\n",
    "from eko_paper2022.experiments.main import *\n",
    "\n",
    "precision, recall = query_process_precision(eko_mab, dnn_invocation = dnn_invocation)\n",
    "print(precision, recall)\n",
    "\n"
   ]
  },
  {
   "cell_type": "code",
   "execution_count": 4,
   "id": "101d663a-d933-4f50-ba97-5dbe2aae2136",
   "metadata": {},
   "outputs": [
    {
     "data": {
      "text/plain": [
       "(10000, 5000)"
      ]
     },
     "execution_count": 4,
     "metadata": {},
     "output_type": "execute_result"
    }
   ],
   "source": [
    "reps = eko_mab.reps\n",
    "base_reps = eko_mab.base_reps\n",
    "\n",
    "len(reps), len(base_reps)"
   ]
  },
  {
   "cell_type": "code",
   "execution_count": 5,
   "id": "cfd5262e-1660-4e79-b92f-4af27b477e27",
   "metadata": {},
   "outputs": [],
   "source": [
    "### change the category\n",
    "\n",
    "category = 'bus'\n",
    "\n",
    "eko_mab.update_category(category)"
   ]
  },
  {
   "cell_type": "code",
   "execution_count": 7,
   "id": "e7471815-d4f3-4c31-9ab9-b0f4c3f4c5c6",
   "metadata": {},
   "outputs": [
    {
     "name": "stderr",
     "output_type": "stream",
     "text": [
      "100%|██████████| 5000/5000 [00:33<00:00, 150.95it/s]\n"
     ]
    },
    {
     "data": {
      "application/vnd.jupyter.widget-view+json": {
       "model_id": "8b52e6eb6d794f469b9a1cf7ace8f454",
       "version_major": 2,
       "version_minor": 0
      },
      "text/plain": [
       "Propagation:   0%|          | 0/100000 [00:00<?, ?it/s]"
      ]
     },
     "metadata": {},
     "output_type": "display_data"
    },
    {
     "name": "stdout",
     "output_type": "stream",
     "text": [
      "0.5381344671804411 0.791015625\n"
     ]
    }
   ],
   "source": [
    "from eko_paper2022.experiments.main import *\n",
    "\n",
    "precision, recall = query_process_precision(eko_mab, dnn_invocation = dnn_invocation)\n",
    "print(precision, recall)\n"
   ]
  },
  {
   "cell_type": "code",
   "execution_count": null,
   "id": "e10643f4-3926-4daf-a4e6-e3f6f809f055",
   "metadata": {},
   "outputs": [],
   "source": []
  },
  {
   "cell_type": "code",
   "execution_count": null,
   "id": "ed973edd-dcc1-48a1-9867-b35f00c9c1fe",
   "metadata": {},
   "outputs": [],
   "source": []
  },
  {
   "cell_type": "markdown",
   "id": "362248a9-e12d-4131-8fe3-9741e94203ab",
   "metadata": {},
   "source": [
    "#### Perform the experiment on Tasti"
   ]
  },
  {
   "cell_type": "code",
   "execution_count": 9,
   "id": "914728d7-8fdc-46ce-84ef-fbc215627220",
   "metadata": {},
   "outputs": [
    {
     "data": {
      "text/plain": [
       "7488"
      ]
     },
     "execution_count": 9,
     "metadata": {},
     "output_type": "execute_result"
    }
   ],
   "source": [
    "### anchor count\n",
    "\n",
    "anchor_count\n",
    "\n",
    "dnn_invocation"
   ]
  },
  {
   "cell_type": "code",
   "execution_count": 10,
   "id": "bec59878-ec82-4664-86fc-5ccee9964c08",
   "metadata": {},
   "outputs": [
    {
     "name": "stdout",
     "output_type": "stream",
     "text": [
      "Image size is  224\n",
      "index initializing....\n",
      "number of training instances:  3000\n",
      "Image size is  224\n",
      "mining complete!\n",
      "Image size is  224\n",
      "training complete!\n",
      "inferring complete!\n"
     ]
    },
    {
     "name": "stderr",
     "output_type": "stream",
     "text": [
      "RandomBucketter: 100%|██████████| 1871/1871 [00:09<00:00, 203.46it/s]\n",
      "FPFBucketter: 100%|██████████| 5616/5616 [00:30<00:00, 185.71it/s]\n",
      "100%|██████████| 74880/74880 [00:13<00:00, 5581.54it/s]\n"
     ]
    },
    {
     "name": "stdout",
     "output_type": "stream",
     "text": [
      "bucketing complete!\n"
     ]
    },
    {
     "data": {
      "application/vnd.jupyter.widget-view+json": {
       "model_id": "f11b81e20e72448a84c486660f0d7b01",
       "version_major": 2,
       "version_minor": 0
      },
      "text/plain": [
       "Target DNN Invocations:   0%|          | 0/7488 [00:00<?, ?it/s]"
      ]
     },
     "metadata": {},
     "output_type": "display_data"
    },
    {
     "data": {
      "application/vnd.jupyter.widget-view+json": {
       "model_id": "9057c26b41b44dfca84b7ef88de500a2",
       "version_major": 2,
       "version_minor": 0
      },
      "text/plain": [
       "Propagation:   0%|          | 0/74880 [00:00<?, ?it/s]"
      ]
     },
     "metadata": {},
     "output_type": "display_data"
    }
   ],
   "source": [
    "#### run on car first\n",
    "\n",
    "from eko_paper2022.motivation.main import execute_tastipt\n",
    "\n",
    "category = 'car'\n",
    "\n",
    "tastipt = execute_tastipt(images, video_name, category = category, redo = False, image_size = 224, nb_buckets = anchor_count)\n",
    "precision, recall = query_process_precision(tastipt, dnn_invocation = dnn_invocation)\n"
   ]
  },
  {
   "cell_type": "code",
   "execution_count": 11,
   "id": "7a739058-9548-46a7-8148-26792feac317",
   "metadata": {},
   "outputs": [
    {
     "data": {
      "text/plain": [
       "(0.946637775026193, 0.8782529934166925)"
      ]
     },
     "execution_count": 11,
     "metadata": {},
     "output_type": "execute_result"
    }
   ],
   "source": [
    "precision, recall"
   ]
  },
  {
   "cell_type": "code",
   "execution_count": 12,
   "id": "7b52c7fe-5dff-4180-a33e-b25d6421c92a",
   "metadata": {},
   "outputs": [
    {
     "name": "stdout",
     "output_type": "stream",
     "text": [
      "Image size is  224\n",
      "index initializing....\n",
      "number of training instances:  3000\n",
      "Image size is  224\n",
      "mining complete!\n",
      "Image size is  224\n",
      "training complete!\n",
      "inferring complete!\n"
     ]
    },
    {
     "name": "stderr",
     "output_type": "stream",
     "text": [
      "RandomBucketter: 100%|██████████| 1871/1871 [00:09<00:00, 206.55it/s]\n",
      "FPFBucketter: 100%|██████████| 5616/5616 [00:30<00:00, 185.21it/s]\n",
      "100%|██████████| 74880/74880 [00:12<00:00, 6044.94it/s]\n"
     ]
    },
    {
     "name": "stdout",
     "output_type": "stream",
     "text": [
      "bucketing complete!\n"
     ]
    },
    {
     "data": {
      "application/vnd.jupyter.widget-view+json": {
       "model_id": "18efd2c5923145bf92e3f2dfb2bca9cc",
       "version_major": 2,
       "version_minor": 0
      },
      "text/plain": [
       "Target DNN Invocations:   0%|          | 0/7488 [00:00<?, ?it/s]"
      ]
     },
     "metadata": {},
     "output_type": "display_data"
    },
    {
     "data": {
      "application/vnd.jupyter.widget-view+json": {
       "model_id": "fd7db0044e9848309cf65dd8a7791526",
       "version_major": 2,
       "version_minor": 0
      },
      "text/plain": [
       "Propagation:   0%|          | 0/74880 [00:00<?, ?it/s]"
      ]
     },
     "metadata": {},
     "output_type": "display_data"
    },
    {
     "data": {
      "text/plain": [
       "(0.44025790852307073, 0.5193724744473497)"
      ]
     },
     "execution_count": 12,
     "metadata": {},
     "output_type": "execute_result"
    }
   ],
   "source": [
    "category = 'bus'\n",
    "\n",
    "tastipt = execute_tastipt(images, video_name, category = category, redo = False, image_size = 224, nb_buckets = anchor_count)\n",
    "precision, recall = query_process_precision(tastipt, dnn_invocation = dnn_invocation)\n",
    "precision, recall"
   ]
  },
  {
   "cell_type": "code",
   "execution_count": null,
   "id": "e35d2ac2-b9b9-4eed-96e0-dfd4c9059d5d",
   "metadata": {},
   "outputs": [],
   "source": []
  },
  {
   "cell_type": "code",
   "execution_count": null,
   "id": "3670588d-9805-4497-8f8f-6f126e6407ca",
   "metadata": {},
   "outputs": [],
   "source": []
  },
  {
   "cell_type": "code",
   "execution_count": null,
   "id": "bdb8b4cb-cb6f-4e42-8721-2ac63c9f68f7",
   "metadata": {},
   "outputs": [],
   "source": []
  },
  {
   "cell_type": "code",
   "execution_count": null,
   "id": "6c65aa0b-9211-4946-9495-d478f5f9e5c4",
   "metadata": {},
   "outputs": [],
   "source": []
  },
  {
   "cell_type": "code",
   "execution_count": 8,
   "id": "d61d62db-f08d-4df1-9671-787e78526b7f",
   "metadata": {},
   "outputs": [],
   "source": [
    "### log the derived data\n",
    "\n",
    "eko_cherry_q2 = [(0.95, 0.95), (0.52, 0.71)]\n",
    "eko_update_cherry_q2 = [(0.95, 0.95), (0.55, 0.79)]\n",
    "tasti_cherry_q2 = [(0.94, 0.91), (0.51, 0.83)]\n",
    "\n",
    "\n",
    "\n",
    "eko_dashcam_q2 = [(0.96, 0.91), (0.54, 0.57)]\n",
    "eko_update_dashcam_q2 = [(0.96, 0.91), (0.6, 0.6)]\n",
    "tasti_dashcam_q2 = [(0.95, 0.88), (0.44, 0.52)]\n"
   ]
  },
  {
   "cell_type": "code",
   "execution_count": 9,
   "id": "dddc1aa9-eb5f-4d3f-8cf4-b2e917788c40",
   "metadata": {},
   "outputs": [],
   "source": [
    "### get the f1_scores\n",
    "\n",
    "def f1_score2(arr):\n",
    "    result = []\n",
    "    for p,r in arr:\n",
    "        result.append( 2 * p * r / (p + r) )\n",
    "        \n",
    "    return np.array(result)\n"
   ]
  },
  {
   "cell_type": "code",
   "execution_count": 10,
   "id": "11e6513a-c1cd-47a8-8df4-a2aef73d33e0",
   "metadata": {},
   "outputs": [],
   "source": [
    "eko_cherry_q2 = f1_score2(eko_cherry_q2)\n",
    "eko_update_cherry_q2 = f1_score2(eko_update_cherry_q2)\n",
    "tasti_cherry_q2 = f1_score2(tasti_cherry_q2)\n",
    "\n",
    "eko_dashcam_q2 = f1_score2(eko_dashcam_q2)\n",
    "eko_update_dashcam_q2 = f1_score2(eko_update_dashcam_q2)\n",
    "tasti_dashcam_q2 = f1_score2(tasti_dashcam_q2)"
   ]
  },
  {
   "cell_type": "code",
   "execution_count": 17,
   "id": "43a9acfd-a770-434c-a213-1d0603427900",
   "metadata": {},
   "outputs": [
    {
     "data": {
      "text/plain": [
       "(array([       0.95,     0.60033]),\n",
       " array([       0.95,     0.64851]),\n",
       " array([    0.92476,     0.63179]))"
      ]
     },
     "execution_count": 17,
     "metadata": {},
     "output_type": "execute_result"
    }
   ],
   "source": [
    "eko_cherry_q2, eko_update_cherry_q2, tasti_cherry_q2"
   ]
  },
  {
   "cell_type": "code",
   "execution_count": 19,
   "id": "8e2d94ba-e1b6-47da-81c2-f1878462ba84",
   "metadata": {},
   "outputs": [
    {
     "data": {
      "text/plain": [
       "(array([    0.93433,     0.55459]),\n",
       " array([    0.93433,         0.6]),\n",
       " array([    0.91366,     0.47667]))"
      ]
     },
     "execution_count": 19,
     "metadata": {},
     "output_type": "execute_result"
    }
   ],
   "source": [
    "eko_dashcam_q2, eko_update_dashcam_q2, tasti_dashcam_q2"
   ]
  },
  {
   "cell_type": "code",
   "execution_count": null,
   "id": "23506cb3-c85e-4848-a530-2003ff9786db",
   "metadata": {},
   "outputs": [],
   "source": []
  },
  {
   "cell_type": "code",
   "execution_count": null,
   "id": "5815858f-3922-48bb-acf2-287173ae75e2",
   "metadata": {},
   "outputs": [],
   "source": []
  },
  {
   "cell_type": "code",
   "execution_count": null,
   "id": "b58b87dd-4702-43b9-a9f6-73b0df5224dc",
   "metadata": {},
   "outputs": [],
   "source": []
  },
  {
   "cell_type": "code",
   "execution_count": null,
   "id": "9fb96260-9f49-4d72-befc-0703ebb352f7",
   "metadata": {},
   "outputs": [],
   "source": []
  },
  {
   "cell_type": "code",
   "execution_count": 18,
   "id": "f3f6dc34-42e4-4ddb-a163-d2f98e59ae35",
   "metadata": {},
   "outputs": [
    {
     "name": "stderr",
     "output_type": "stream",
     "text": [
      "<ipython-input-18-068be8f7fbe1>:39: UserWarning: FixedFormatter should only be used together with FixedLocator\n",
      "  axes[i].set_xticklabels(x_axis_names, rotation_mode='anchor')\n"
     ]
    },
    {
     "ename": "NameError",
     "evalue": "name 'dashcam_ic' is not defined",
     "output_type": "error",
     "traceback": [
      "\u001b[0;31m---------------------------------------------------------------------------\u001b[0m",
      "\u001b[0;31mNameError\u001b[0m                                 Traceback (most recent call last)",
      "\u001b[0;32m<ipython-input-18-068be8f7fbe1>\u001b[0m in \u001b[0;36m<module>\u001b[0;34m\u001b[0m\n\u001b[1;32m     45\u001b[0m \u001b[0mi\u001b[0m \u001b[0;34m=\u001b[0m \u001b[0;36m1\u001b[0m\u001b[0;34m\u001b[0m\u001b[0;34m\u001b[0m\u001b[0m\n\u001b[1;32m     46\u001b[0m \u001b[0;34m\u001b[0m\u001b[0m\n\u001b[0;32m---> 47\u001b[0;31m \u001b[0maxes\u001b[0m\u001b[0;34m[\u001b[0m\u001b[0mi\u001b[0m\u001b[0;34m]\u001b[0m\u001b[0;34m.\u001b[0m\u001b[0mbar\u001b[0m\u001b[0;34m(\u001b[0m\u001b[0mx_axis_names\u001b[0m\u001b[0;34m,\u001b[0m \u001b[0mdashcam_ic\u001b[0m\u001b[0;34m,\u001b[0m \u001b[0mwidth\u001b[0m\u001b[0;34m,\u001b[0m \u001b[0mlabel\u001b[0m\u001b[0;34m=\u001b[0m\u001b[0;34m'Index Construction'\u001b[0m\u001b[0;34m)\u001b[0m\u001b[0;34m\u001b[0m\u001b[0;34m\u001b[0m\u001b[0m\n\u001b[0m\u001b[1;32m     48\u001b[0m \u001b[0maxes\u001b[0m\u001b[0;34m[\u001b[0m\u001b[0mi\u001b[0m\u001b[0;34m]\u001b[0m\u001b[0;34m.\u001b[0m\u001b[0mbar\u001b[0m\u001b[0;34m(\u001b[0m\u001b[0mx_axis_names\u001b[0m\u001b[0;34m,\u001b[0m \u001b[0mdashcam_q\u001b[0m\u001b[0;34m,\u001b[0m \u001b[0mwidth\u001b[0m\u001b[0;34m,\u001b[0m \u001b[0mbottom\u001b[0m \u001b[0;34m=\u001b[0m \u001b[0mdashcam_ic\u001b[0m\u001b[0;34m,\u001b[0m \u001b[0mlabel\u001b[0m\u001b[0;34m=\u001b[0m\u001b[0;34m'Query Execution'\u001b[0m\u001b[0;34m,\u001b[0m \u001b[0mcolor\u001b[0m \u001b[0;34m=\u001b[0m \u001b[0;34m'lightsteelblue'\u001b[0m\u001b[0;34m)\u001b[0m\u001b[0;34m\u001b[0m\u001b[0;34m\u001b[0m\u001b[0m\n\u001b[1;32m     49\u001b[0m \u001b[0maxes\u001b[0m\u001b[0;34m[\u001b[0m\u001b[0mi\u001b[0m\u001b[0;34m]\u001b[0m\u001b[0;34m.\u001b[0m\u001b[0mset_xticklabels\u001b[0m\u001b[0;34m(\u001b[0m\u001b[0mx_axis_names\u001b[0m\u001b[0;34m,\u001b[0m \u001b[0mrotation\u001b[0m \u001b[0;34m=\u001b[0m \u001b[0;36m30\u001b[0m\u001b[0;34m,\u001b[0m \u001b[0mha\u001b[0m \u001b[0;34m=\u001b[0m \u001b[0;34m'right'\u001b[0m\u001b[0;34m,\u001b[0m \u001b[0mrotation_mode\u001b[0m\u001b[0;34m=\u001b[0m\u001b[0;34m'anchor'\u001b[0m\u001b[0;34m)\u001b[0m\u001b[0;34m\u001b[0m\u001b[0;34m\u001b[0m\u001b[0m\n",
      "\u001b[0;31mNameError\u001b[0m: name 'dashcam_ic' is not defined"
     ]
    },
    {
     "data": {
      "image/png": "[encoded data removed]",
      "text/plain": [
       "<Figure size 576x144 with 2 Axes>"
      ]
     },
     "metadata": {
      "needs_background": "light"
     },
     "output_type": "display_data"
    }
   ],
   "source": [
    "\n",
    "#### now we make the figure,,,... \n",
    "\n",
    "\n",
    "import numpy as np\n",
    "import matplotlib.pyplot as plt\n",
    "%matplotlib inline\n",
    "import matplotlib\n",
    "\n",
    "font = {\n",
    "        'weight' : 'bold',\n",
    "        'size'   : 15}\n",
    "\n",
    "matplotlib.rc('font', **font)\n",
    "matplotlib.rc('ytick', labelsize=15)\n",
    "\n",
    "\n",
    "x_axis_names = ['car', 'bus']\n",
    "\n",
    "x = np.arange(len(x_axis_names))\n",
    "\n",
    "\n",
    "### we need to do subplots\n",
    "rows = 1\n",
    "columns = 2\n",
    "fig_size = (8, 2)\n",
    "fig, axes = plt.subplots(rows, columns, sharey = False, sharex=True, figsize=fig_size)\n",
    "\n",
    "\n",
    "i = 0\n",
    "width = 0.6\n",
    "\n",
    "axes[i].plot(x_axis_names, eko_cherry_q2,  marker = 'o', label='EKO REUSE')\n",
    "axes[i].plot(x_axis_names, eko_update_cherry_q2, marker = '^', label = 'EKO', color = 'lightsteelblue')\n",
    "axes[i].plot(x_axis_names, tasti_cherry_q2, marker = 'v', label='TASTI-PT')\n",
    "axes[i].set_ylabel('Time (s)', weight = 'bold', size = 15)\n",
    "axes[i].set_ylim(0, 1)\n",
    "#axes[i][j].set_yticks([0, 50, 100, 150, 200])\n",
    "\n",
    "axes[i].set_xticklabels(x_axis_names, rotation_mode='anchor')\n",
    "#plt.ylim(0, 2)\n",
    "#plt.xticks(x, x_axis_names)\n",
    "axes[i].set_title('UA-DETRAC | Q1', weight = 'bold', size = 15)\n",
    "\n",
    "\n",
    "i = 1\n",
    "\n",
    "axes[i].bar(x_axis_names, dashcam_ic, width, label='Index Construction')\n",
    "axes[i].bar(x_axis_names, dashcam_q, width, bottom = dashcam_ic, label='Query Execution', color = 'lightsteelblue')\n",
    "axes[i].set_xticklabels(x_axis_names, rotation = 30, ha = 'right', rotation_mode='anchor')\n",
    "#axes[i][j].set_ylabel('Time (s)', weight = 'bold', size = 15)\n",
    "axes[i].set_title('Dashcam | Q1', weight = 'bold', size = 15)\n",
    "\n",
    "axes[i].set_xticklabels(x_axis_names, rotation_mode='anchor')\n",
    "\n",
    "\n",
    "\n",
    "\n",
    "\n",
    "plt.tight_layout()\n",
    "\n",
    "lgd = axes[0].legend(loc='upper center', bbox_to_anchor=(1, 1.6),\n",
    "          fancybox=True, shadow=True, ncol=10)\n",
    "\n",
    "\n",
    "#plt.legend()\n",
    "plt.savefig('plots/rq4.png', bbox_extra_artists=(lgd,), bbox_inches='tight')\n",
    "plt.show()\n",
    "\n"
   ]
  },
  {
   "cell_type": "code",
   "execution_count": null,
   "id": "8930f828-0736-4898-aebd-601f5b07f504",
   "metadata": {},
   "outputs": [],
   "source": []
  }
 ],
 "metadata": {
  "kernelspec": {
   "display_name": "Python 3",
   "language": "python",
   "name": "python3"
  },
  "language_info": {
   "codemirror_mode": {
    "name": "ipython",
    "version": 3
   },
   "file_extension": ".py",
   "mimetype": "text/x-python",
   "name": "python",
   "nbconvert_exporter": "python",
   "pygments_lexer": "ipython3",
   "version": "3.9.7"
  }
 },
 "nbformat": 4,
 "nbformat_minor": 5
}
