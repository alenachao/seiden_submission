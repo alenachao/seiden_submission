{
 "cells": [
  {
   "cell_type": "code",
   "execution_count": 1,
   "id": "8f2d4ef3-cf05-4b9a-bb15-94595f379775",
   "metadata": {},
   "outputs": [],
   "source": [
    "%load_ext autoreload\n",
    "%autoreload 2"
   ]
  },
  {
   "cell_type": "code",
   "execution_count": 2,
   "id": "dc194960-4151-4363-9e98-8f5e2b74f952",
   "metadata": {},
   "outputs": [],
   "source": [
    "\n",
    "import sys\n",
    "sys.path.append('/nethome/jbang36/eko')\n"
   ]
  },
  {
   "cell_type": "code",
   "execution_count": 3,
   "id": "2c417479-ea64-455e-a707-ff6c77b14543",
   "metadata": {},
   "outputs": [
    {
     "name": "stderr",
     "output_type": "stream",
     "text": [
      "10-31-2022 12:50:43 [info:049]INFO : meta data of the video /srv/data/jbang36/video_data/dashcam960/video.mp4 is (74880, 540, 960, 3)\n",
      "meta data of the video /srv/data/jbang36/video_data/dashcam960/video.mp4 is (74880, 540, 960, 3)\n",
      "100%|██████████| 74880/74880 [01:26<00:00, 863.98it/s]\n"
     ]
    }
   ],
   "source": [
    "### let's run the experiment and get the results\n",
    "\n",
    "video_name = 'dashcam960'\n",
    "\n",
    "from eko_paper2022.motivation.main import *\n",
    "\n",
    "images = load_dataset(video_name)\n"
   ]
  },
  {
   "cell_type": "code",
   "execution_count": null,
   "id": "44facbdd-c2ef-49bc-af39-c5056666b684",
   "metadata": {},
   "outputs": [],
   "source": []
  },
  {
   "cell_type": "code",
   "execution_count": 4,
   "id": "29dd8aba-3792-49f6-abdb-f3485d8484d6",
   "metadata": {},
   "outputs": [],
   "source": [
    "percentages = [0, 0.2, 0.4, 0.6, 0.8, 1.0]\n",
    "\n",
    "from eko_paper2022.experiments.main import *\n"
   ]
  },
  {
   "cell_type": "code",
   "execution_count": 5,
   "id": "01663086-0d76-41ee-afa2-3376b0c11079",
   "metadata": {},
   "outputs": [],
   "source": [
    "### okay, run all the ekos for the percentages...."
   ]
  },
  {
   "cell_type": "code",
   "execution_count": 6,
   "id": "3b7a18fd-5551-4827-bb8c-74c02a48c07d",
   "metadata": {},
   "outputs": [],
   "source": [
    "thr = 1 / 140"
   ]
  },
  {
   "cell_type": "code",
   "execution_count": 7,
   "id": "ad078a91-ede0-44b0-acb5-8294744dfaa4",
   "metadata": {
    "scrolled": true,
    "tags": []
   },
   "outputs": [
    {
     "name": "stdout",
     "output_type": "stream",
     "text": [
      ">>>>> 0\n",
      "index initializing....\n",
      "number of training instances:  1\n",
      "mining complete!\n",
      "training complete!\n",
      "inferring complete!\n",
      "0.5 7488\n",
      "rep indices stats 7488 3744\n",
      "3745 7488\n",
      "bucketing complete!\n"
     ]
    },
    {
     "data": {
      "application/vnd.jupyter.widget-view+json": {
       "model_id": "4512ed24e2e843188c1a4308235b44c3",
       "version_major": 2,
       "version_minor": 0
      },
      "text/plain": [
       "Target DNN Invocations:   0%|          | 0/3745 [00:00<?, ?it/s]"
      ]
     },
     "metadata": {},
     "output_type": "display_data"
    },
    {
     "name": "stdout",
     "output_type": "stream",
     "text": [
      ">>>>> 0.2\n",
      "index initializing....\n",
      "number of training instances:  1\n",
      "mining complete!\n",
      "training complete!\n",
      "inferring complete!\n",
      "0.5 7488\n",
      "rep indices stats 7488 3744\n",
      "3745 7488\n",
      "bucketing complete!\n"
     ]
    },
    {
     "data": {
      "application/vnd.jupyter.widget-view+json": {
       "model_id": "809eaeb515a84a8b9b7ab6d70fe3a2b7",
       "version_major": 2,
       "version_minor": 0
      },
      "text/plain": [
       "Target DNN Invocations:   0%|          | 0/3745 [00:00<?, ?it/s]"
      ]
     },
     "metadata": {},
     "output_type": "display_data"
    },
    {
     "name": "stdout",
     "output_type": "stream",
     "text": [
      ">>>>> 0.4\n",
      "index initializing....\n",
      "number of training instances:  1\n",
      "mining complete!\n",
      "training complete!\n",
      "inferring complete!\n",
      "0.5 7488\n",
      "rep indices stats 7488 3744\n",
      "3745 7488\n",
      "bucketing complete!\n"
     ]
    },
    {
     "data": {
      "application/vnd.jupyter.widget-view+json": {
       "model_id": "1747b3c417c646a89b2f630a472eb4a3",
       "version_major": 2,
       "version_minor": 0
      },
      "text/plain": [
       "Target DNN Invocations:   0%|          | 0/3745 [00:00<?, ?it/s]"
      ]
     },
     "metadata": {},
     "output_type": "display_data"
    },
    {
     "name": "stdout",
     "output_type": "stream",
     "text": [
      ">>>>> 0.6\n",
      "index initializing....\n",
      "number of training instances:  1\n",
      "mining complete!\n",
      "training complete!\n",
      "inferring complete!\n",
      "0.5 7488\n",
      "rep indices stats 7488 3744\n",
      "3745 7488\n",
      "bucketing complete!\n"
     ]
    },
    {
     "data": {
      "application/vnd.jupyter.widget-view+json": {
       "model_id": "057d24a45856434493d65df0a853e291",
       "version_major": 2,
       "version_minor": 0
      },
      "text/plain": [
       "Target DNN Invocations:   0%|          | 0/3745 [00:00<?, ?it/s]"
      ]
     },
     "metadata": {},
     "output_type": "display_data"
    },
    {
     "name": "stdout",
     "output_type": "stream",
     "text": [
      ">>>>> 0.8\n",
      "index initializing....\n",
      "number of training instances:  1\n",
      "mining complete!\n",
      "training complete!\n",
      "inferring complete!\n",
      "0.5 7488\n",
      "rep indices stats 7488 3744\n",
      "3745 7488\n",
      "bucketing complete!\n"
     ]
    },
    {
     "data": {
      "application/vnd.jupyter.widget-view+json": {
       "model_id": "67108efb24294eebb37971a0ad876a17",
       "version_major": 2,
       "version_minor": 0
      },
      "text/plain": [
       "Target DNN Invocations:   0%|          | 0/3745 [00:00<?, ?it/s]"
      ]
     },
     "metadata": {},
     "output_type": "display_data"
    },
    {
     "name": "stdout",
     "output_type": "stream",
     "text": [
      ">>>>> 1.0\n",
      "index initializing....\n",
      "number of training instances:  1\n",
      "mining complete!\n",
      "training complete!\n",
      "inferring complete!\n",
      "0.5 7488\n",
      "rep indices stats 7488 3744\n",
      "3745 7488\n",
      "bucketing complete!\n"
     ]
    },
    {
     "data": {
      "application/vnd.jupyter.widget-view+json": {
       "model_id": "e07963c24e2e41438c61d06ca936fd4c",
       "version_major": 2,
       "version_minor": 0
      },
      "text/plain": [
       "Target DNN Invocations:   0%|          | 0/3745 [00:00<?, ?it/s]"
      ]
     },
     "metadata": {},
     "output_type": "display_data"
    }
   ],
   "source": [
    "import time\n",
    "\n",
    "ekos = []\n",
    "index_construction_times = []\n",
    "anchor_count = int( len(images) * 0.1 )\n",
    "anchor_percentage = 0.5\n",
    "for percentage in percentages:\n",
    "    st = time.perf_counter()\n",
    "    print('>>>>>', percentage)\n",
    "    index = execute_ekoalt_rq4(images, video_name, anchor_percentage = anchor_percentage, nb_buckets = anchor_count, exploit_ratio = percentage)\n",
    "    ekos.append(index)\n",
    "    index_construction_times.append(time.perf_counter() - st + anchor_count * anchor_percentage * thr)\n",
    "    \n",
    "    \n",
    "    "
   ]
  },
  {
   "cell_type": "code",
   "execution_count": 8,
   "id": "d227e30b-6646-4ffd-bdbe-27baf0f0031d",
   "metadata": {},
   "outputs": [
    {
     "data": {
      "text/plain": [
       "[28.271485898217986,\n",
       " 28.38023286642773,\n",
       " 28.198998685500452,\n",
       " 28.275298773816655,\n",
       " 28.096823155454228,\n",
       " 28.45089424731476]"
      ]
     },
     "execution_count": 8,
     "metadata": {},
     "output_type": "execute_result"
    }
   ],
   "source": [
    "index_construction_times"
   ]
  },
  {
   "cell_type": "code",
   "execution_count": 9,
   "id": "7c2dac49-0b6f-40fd-85ae-8de88cf2c970",
   "metadata": {
    "scrolled": true,
    "tags": []
   },
   "outputs": [
    {
     "data": {
      "application/vnd.jupyter.widget-view+json": {
       "model_id": "21cd59c7952d41e9ad4a774dd2045051",
       "version_major": 2,
       "version_minor": 0
      },
      "text/plain": [
       "Propagation:   0%|          | 0/74880 [00:00<?, ?it/s]"
      ]
     },
     "metadata": {},
     "output_type": "display_data"
    },
    {
     "name": "stdout",
     "output_type": "stream",
     "text": [
      "r 13.0\n"
     ]
    },
    {
     "name": "stderr",
     "output_type": "stream",
     "text": [
      "/home/jbang36/eko/benchmarks/stanford/blazeit/blazeit/aggregation/samplers.py:62: RuntimeWarning: invalid value encountered in sqrt\n",
      "  sigmat = np.sqrt(1/t * (Xt_sqsum - Xt_sum ** 2 / t))\n"
     ]
    },
    {
     "name": "stdout",
     "output_type": "stream",
     "text": [
      "NightStreetAggregateQuery\n",
      "---------------------------  -----------------------------------------------------------------------------------------------------------------------------------------------------------------------------------\n",
      "initial_estimate             156662.0\n",
      "debiased_estimate            155908.58195989873\n",
      "nb_samples                   2921\n",
      "y_pred                       [          4         3.9         3.8 ...           0           0           0]\n",
      "y_true                       [DNNOutputCacheFloat(idx=0) DNNOutputCacheFloat(idx=1) DNNOutputCacheFloat(idx=2) ... DNNOutputCacheFloat(idx=74877) DNNOutputCacheFloat(idx=74878) DNNOutputCacheFloat(idx=74879)]\n",
      "actual_estimate              157784.0\n"
     ]
    },
    {
     "data": {
      "application/vnd.jupyter.widget-view+json": {
       "model_id": "7ac2e82b8ff94b9080f07ff3c8788a1c",
       "version_major": 2,
       "version_minor": 0
      },
      "text/plain": [
       "Propagation:   0%|          | 0/74880 [00:00<?, ?it/s]"
      ]
     },
     "metadata": {},
     "output_type": "display_data"
    },
    {
     "name": "stdout",
     "output_type": "stream",
     "text": [
      "r 13.0\n",
      "NightStreetAggregateQuery\n",
      "---------------------------  -----------------------------------------------------------------------------------------------------------------------------------------------------------------------------------\n",
      "initial_estimate             156727.0\n",
      "debiased_estimate            157452.46147710577\n",
      "nb_samples                   2976\n",
      "y_pred                       [          4         3.9         3.8 ...           0           0           0]\n",
      "y_true                       [DNNOutputCacheFloat(idx=0) DNNOutputCacheFloat(idx=1) DNNOutputCacheFloat(idx=2) ... DNNOutputCacheFloat(idx=74877) DNNOutputCacheFloat(idx=74878) DNNOutputCacheFloat(idx=74879)]\n",
      "actual_estimate              157784.0\n"
     ]
    },
    {
     "data": {
      "application/vnd.jupyter.widget-view+json": {
       "model_id": "c70a2c51e7c24d9895a0fb7863818243",
       "version_major": 2,
       "version_minor": 0
      },
      "text/plain": [
       "Propagation:   0%|          | 0/74880 [00:00<?, ?it/s]"
      ]
     },
     "metadata": {},
     "output_type": "display_data"
    },
    {
     "name": "stdout",
     "output_type": "stream",
     "text": [
      "r 13.0\n",
      "NightStreetAggregateQuery\n",
      "---------------------------  -----------------------------------------------------------------------------------------------------------------------------------------------------------------------------------\n",
      "initial_estimate             157139.5\n",
      "debiased_estimate            157221.5110620633\n",
      "nb_samples                   2952\n",
      "y_pred                       [          4         3.9         3.8 ...           0           0           0]\n",
      "y_true                       [DNNOutputCacheFloat(idx=0) DNNOutputCacheFloat(idx=1) DNNOutputCacheFloat(idx=2) ... DNNOutputCacheFloat(idx=74877) DNNOutputCacheFloat(idx=74878) DNNOutputCacheFloat(idx=74879)]\n",
      "actual_estimate              157784.0\n"
     ]
    },
    {
     "data": {
      "application/vnd.jupyter.widget-view+json": {
       "model_id": "8a6c568b997d4c6888b3ba9b69643552",
       "version_major": 2,
       "version_minor": 0
      },
      "text/plain": [
       "Propagation:   0%|          | 0/74880 [00:00<?, ?it/s]"
      ]
     },
     "metadata": {},
     "output_type": "display_data"
    },
    {
     "name": "stdout",
     "output_type": "stream",
     "text": [
      "r 13.0\n",
      "NightStreetAggregateQuery\n",
      "---------------------------  -----------------------------------------------------------------------------------------------------------------------------------------------------------------------------------\n",
      "initial_estimate             157279.5\n",
      "debiased_estimate            155479.44566338623\n",
      "nb_samples                   3031\n",
      "y_pred                       [          4         3.9         3.8 ...           0           0           0]\n",
      "y_true                       [DNNOutputCacheFloat(idx=0) DNNOutputCacheFloat(idx=1) DNNOutputCacheFloat(idx=2) ... DNNOutputCacheFloat(idx=74877) DNNOutputCacheFloat(idx=74878) DNNOutputCacheFloat(idx=74879)]\n",
      "actual_estimate              157784.0\n"
     ]
    },
    {
     "data": {
      "application/vnd.jupyter.widget-view+json": {
       "model_id": "c078749744e049cebf32a3b4f7c878f8",
       "version_major": 2,
       "version_minor": 0
      },
      "text/plain": [
       "Propagation:   0%|          | 0/74880 [00:00<?, ?it/s]"
      ]
     },
     "metadata": {},
     "output_type": "display_data"
    },
    {
     "name": "stdout",
     "output_type": "stream",
     "text": [
      "r 13.0\n",
      "NightStreetAggregateQuery\n",
      "---------------------------  -----------------------------------------------------------------------------------------------------------------------------------------------------------------------------------\n",
      "initial_estimate             156904.5\n",
      "debiased_estimate            157514.68700861328\n",
      "nb_samples                   3093\n",
      "y_pred                       [          4         3.9         3.8 ...           0           0           0]\n",
      "y_true                       [DNNOutputCacheFloat(idx=0) DNNOutputCacheFloat(idx=1) DNNOutputCacheFloat(idx=2) ... DNNOutputCacheFloat(idx=74877) DNNOutputCacheFloat(idx=74878) DNNOutputCacheFloat(idx=74879)]\n",
      "actual_estimate              157784.0\n"
     ]
    },
    {
     "data": {
      "application/vnd.jupyter.widget-view+json": {
       "model_id": "186da7b79be44897aed4c22fa8fbaa5f",
       "version_major": 2,
       "version_minor": 0
      },
      "text/plain": [
       "Propagation:   0%|          | 0/74880 [00:00<?, ?it/s]"
      ]
     },
     "metadata": {},
     "output_type": "display_data"
    },
    {
     "name": "stdout",
     "output_type": "stream",
     "text": [
      "r 13.0\n",
      "NightStreetAggregateQuery\n",
      "---------------------------  -----------------------------------------------------------------------------------------------------------------------------------------------------------------------------------\n",
      "initial_estimate             156334.0\n",
      "debiased_estimate            154961.07295952298\n",
      "nb_samples                   3151\n",
      "y_pred                       [          4           4           4 ...           0           0           0]\n",
      "y_true                       [DNNOutputCacheFloat(idx=0) DNNOutputCacheFloat(idx=1) DNNOutputCacheFloat(idx=2) ... DNNOutputCacheFloat(idx=74877) DNNOutputCacheFloat(idx=74878) DNNOutputCacheFloat(idx=74879)]\n",
      "actual_estimate              157784.0\n"
     ]
    }
   ],
   "source": [
    "#### so it doesn't really matter how many anchors we select during index construction, it basically stays the same\n",
    "from eko_paper2022.experiments.main import query_process_aggregate\n",
    "\n",
    "#### let's do query processing.... do query 1, 2, 3, \n",
    "eko_times = []\n",
    "for eko in ekos:\n",
    "    query, times = query_process_aggregate(eko)\n",
    "    eko_times.append(times)\n"
   ]
  },
  {
   "cell_type": "code",
   "execution_count": 10,
   "id": "07166d44-c053-4e27-a0b1-aae6ca8dd956",
   "metadata": {},
   "outputs": [
    {
     "name": "stdout",
     "output_type": "stream",
     "text": [
      "3743 0\n",
      "3034 709\n",
      "2242 1501\n",
      "1481 2262\n",
      "769 2974\n",
      "0 3743\n"
     ]
    }
   ],
   "source": [
    "for eko in ekos:\n",
    "    print(eko.explore_count, eko.exploit_count)"
   ]
  },
  {
   "cell_type": "code",
   "execution_count": 11,
   "id": "4f0b694e-6517-4802-89f3-d92d1114a811",
   "metadata": {},
   "outputs": [
    {
     "name": "stdout",
     "output_type": "stream",
     "text": [
      "7488\n",
      "7488\n",
      "7488\n",
      "7488\n",
      "7488\n",
      "7488\n"
     ]
    }
   ],
   "source": [
    "for eko in ekos:\n",
    "    print(len(eko.reps))"
   ]
  },
  {
   "cell_type": "code",
   "execution_count": 12,
   "id": "a69a42f7-8569-44eb-8437-5836b1abb1c8",
   "metadata": {},
   "outputs": [
    {
     "data": {
      "text/plain": [
       "[25.42267223383699,\n",
       " 25.756576635369232,\n",
       " 25.978928705198424,\n",
       " 26.17547053620219,\n",
       " 26.625999687186308,\n",
       " 27.51323868749397]"
      ]
     },
     "execution_count": 12,
     "metadata": {},
     "output_type": "execute_result"
    }
   ],
   "source": [
    "eko_times"
   ]
  },
  {
   "cell_type": "code",
   "execution_count": 13,
   "id": "2c77c215-65cf-457b-8f46-5767948ed3a9",
   "metadata": {},
   "outputs": [],
   "source": [
    "### we need to add in additional times....\n",
    "query_anchor_times = []\n",
    "for percentage in percentages:\n",
    "    query_anchor_time = (int(len(images) * 0.1) * (1 - anchor_percentage)) * thr\n",
    "    query_anchor_times.append(query_anchor_time)"
   ]
  },
  {
   "cell_type": "code",
   "execution_count": 14,
   "id": "d69a2bb0-ec5b-46f8-a9c8-87c9cd7c4eb9",
   "metadata": {},
   "outputs": [],
   "source": [
    "eko_final_times = np.array(eko_times) + np.array(query_anchor_times)"
   ]
  },
  {
   "cell_type": "code",
   "execution_count": 15,
   "id": "f3affc81-1285-460f-90e1-552500e5275f",
   "metadata": {},
   "outputs": [
    {
     "data": {
      "text/plain": [
       "[26.742857142857144,\n",
       " 26.742857142857144,\n",
       " 26.742857142857144,\n",
       " 26.742857142857144,\n",
       " 26.742857142857144,\n",
       " 26.742857142857144]"
      ]
     },
     "execution_count": 15,
     "metadata": {},
     "output_type": "execute_result"
    }
   ],
   "source": [
    "query_anchor_times"
   ]
  },
  {
   "cell_type": "code",
   "execution_count": 16,
   "id": "51b1e277-97f0-4d14-81d7-3adee383e337",
   "metadata": {},
   "outputs": [
    {
     "data": {
      "text/plain": [
       "[28.271485898217986,\n",
       " 28.38023286642773,\n",
       " 28.198998685500452,\n",
       " 28.275298773816655,\n",
       " 28.096823155454228,\n",
       " 28.45089424731476]"
      ]
     },
     "execution_count": 16,
     "metadata": {},
     "output_type": "execute_result"
    }
   ],
   "source": [
    "index_construction_times"
   ]
  },
  {
   "cell_type": "code",
   "execution_count": 17,
   "id": "8208ccc2-b028-433f-81e2-a6070ea438d0",
   "metadata": {},
   "outputs": [
    {
     "data": {
      "text/plain": [
       "array([     52.166,      52.499,      52.722,      52.918,      53.369,      54.256])"
      ]
     },
     "execution_count": 17,
     "metadata": {},
     "output_type": "execute_result"
    }
   ],
   "source": [
    "eko_final_times"
   ]
  },
  {
   "cell_type": "code",
   "execution_count": null,
   "id": "bc833395-aee1-4a1d-9911-5788e693f8d2",
   "metadata": {},
   "outputs": [],
   "source": []
  },
  {
   "cell_type": "code",
   "execution_count": null,
   "id": "b04074ad-ce13-4f7f-a83c-3d55a2a4dd14",
   "metadata": {},
   "outputs": [],
   "source": []
  },
  {
   "cell_type": "code",
   "execution_count": 18,
   "id": "fe003c54-2b3d-4b36-bbf9-cf6b7056ce59",
   "metadata": {
    "scrolled": true,
    "tags": []
   },
   "outputs": [
    {
     "data": {
      "application/vnd.jupyter.widget-view+json": {
       "model_id": "da569b9ed66642778132f1adc33ecd97",
       "version_major": 2,
       "version_minor": 0
      },
      "text/plain": [
       "Propagation:   0%|          | 0/74880 [00:00<?, ?it/s]"
      ]
     },
     "metadata": {},
     "output_type": "display_data"
    },
    {
     "data": {
      "application/vnd.jupyter.widget-view+json": {
       "model_id": "141952c1f6dd401d85d4fed7bcbc9e7d",
       "version_major": 2,
       "version_minor": 0
      },
      "text/plain": [
       "Propagation:   0%|          | 0/74880 [00:00<?, ?it/s]"
      ]
     },
     "metadata": {},
     "output_type": "display_data"
    },
    {
     "data": {
      "application/vnd.jupyter.widget-view+json": {
       "model_id": "94b67963d5ea49a3a4ba5d35cd0ecc28",
       "version_major": 2,
       "version_minor": 0
      },
      "text/plain": [
       "Propagation:   0%|          | 0/74880 [00:00<?, ?it/s]"
      ]
     },
     "metadata": {},
     "output_type": "display_data"
    },
    {
     "data": {
      "application/vnd.jupyter.widget-view+json": {
       "model_id": "994b8f233d9e48e0966adb477ddd3283",
       "version_major": 2,
       "version_minor": 0
      },
      "text/plain": [
       "Propagation:   0%|          | 0/74880 [00:00<?, ?it/s]"
      ]
     },
     "metadata": {},
     "output_type": "display_data"
    },
    {
     "data": {
      "application/vnd.jupyter.widget-view+json": {
       "model_id": "05f77cc3d3a34445af264ad5fa9697ce",
       "version_major": 2,
       "version_minor": 0
      },
      "text/plain": [
       "Propagation:   0%|          | 0/74880 [00:00<?, ?it/s]"
      ]
     },
     "metadata": {},
     "output_type": "display_data"
    },
    {
     "data": {
      "application/vnd.jupyter.widget-view+json": {
       "model_id": "d322a84e43ce4b3193c9df80d9ef90ef",
       "version_major": 2,
       "version_minor": 0
      },
      "text/plain": [
       "Propagation:   0%|          | 0/74880 [00:00<?, ?it/s]"
      ]
     },
     "metadata": {},
     "output_type": "display_data"
    }
   ],
   "source": [
    "## perform experiments for q2 and q3\n",
    "from eko_paper2022.experiments.main import *\n",
    "cherry_p = []\n",
    "cherry_r = []\n",
    "dnn_invocation = int(len(images) * 0.1)\n",
    "for eko in ekos:\n",
    "    precision, recall = query_process_precision(eko, dnn_invocation = dnn_invocation)\n",
    "    cherry_p.append(precision)\n",
    "    cherry_r.append(recall)\n",
    "    \n"
   ]
  },
  {
   "cell_type": "code",
   "execution_count": null,
   "id": "9604a0b2-35c6-4a71-99cf-a94a91fa7419",
   "metadata": {},
   "outputs": [],
   "source": []
  },
  {
   "cell_type": "code",
   "execution_count": 19,
   "id": "d0fe8be7-4cd4-4998-8356-09efc12346ca",
   "metadata": {},
   "outputs": [],
   "source": [
    "def f1_score(precisions, recalls):\n",
    "    f1s = []\n",
    "    for precision, recall in zip(precisions, recalls):\n",
    "        f1s.append(2* precision * recall / (precision + recall))\n",
    "    return f1s"
   ]
  },
  {
   "cell_type": "code",
   "execution_count": null,
   "id": "042c8d94-6c8f-4d72-b710-cff5477db1fe",
   "metadata": {},
   "outputs": [],
   "source": []
  },
  {
   "cell_type": "code",
   "execution_count": 20,
   "id": "25a75105-7e0e-4c2f-b882-bb46194a7f97",
   "metadata": {},
   "outputs": [
    {
     "data": {
      "text/plain": [
       "[28.271485898217986,\n",
       " 28.38023286642773,\n",
       " 28.198998685500452,\n",
       " 28.275298773816655,\n",
       " 28.096823155454228,\n",
       " 28.45089424731476]"
      ]
     },
     "execution_count": 20,
     "metadata": {},
     "output_type": "execute_result"
    }
   ],
   "source": [
    "index_construction_times"
   ]
  },
  {
   "cell_type": "code",
   "execution_count": 21,
   "id": "e70a2270-e01a-485c-bb6a-52405ee8457d",
   "metadata": {},
   "outputs": [
    {
     "data": {
      "text/plain": [
       "array([     52.166,      52.499,      52.722,      52.918,      53.369,      54.256])"
      ]
     },
     "execution_count": 21,
     "metadata": {},
     "output_type": "execute_result"
    }
   ],
   "source": [
    "eko_final_times"
   ]
  },
  {
   "cell_type": "code",
   "execution_count": null,
   "id": "44239709-cf01-4cf4-b801-30a4ec93c514",
   "metadata": {},
   "outputs": [],
   "source": []
  },
  {
   "cell_type": "code",
   "execution_count": 22,
   "id": "8b6b98fc-efa2-44b2-9249-597011d63455",
   "metadata": {},
   "outputs": [],
   "source": [
    "#### Data Logs\n",
    "### data for q1\n",
    "\n",
    "jackson_ic =[109.26682689892394,\n",
    " 109.01910397516829,\n",
    " 109.07719500841839,\n",
    " 109.00613956632358,\n",
    " 108.83580861719591,\n",
    " 108.86898711430175]\n",
    "\n",
    "\n",
    "jackson_q = [     145.34,      144.13,      144.56,      144.64,      144.02,       144.6]\n",
    "\n",
    "\n",
    "cherry_ic = [36.49524753327881,\n",
    " 36.790962716298445,\n",
    " 36.478793842451914,\n",
    " 36.809803863721235,\n",
    " 36.47406634475504,\n",
    " 36.47887153338109]\n",
    "cherry_q = [      45.55,      44.802,      46.024,      46.074,      46.464,      45.951]\n",
    "\n",
    "dashcam_ic = [28.30529579105122,\n",
    " 28.421567577442953,\n",
    " 28.228549852541516,\n",
    " 28.3128604325865,\n",
    " 28.129240776917765,\n",
    " 28.58868502410395]\n",
    "dashcam_q = [     52.367,      52.367,      53.292,      52.606,      53.661,      54.505]\n",
    "\n",
    "detrac_ic = [34.25588856935501,\n",
    " 33.79428261071443,\n",
    " 33.91505955457687,\n",
    " 34.5066773250699,\n",
    " 33.28187974467873,\n",
    " 34.63254488557577]\n",
    "detrac_q = [ 94.414,      94.025,      95.411,      96.026,      97.475,      97.931]\n",
    "\n",
    "\n"
   ]
  },
  {
   "cell_type": "code",
   "execution_count": 22,
   "id": "0771fe5d-169b-4cde-a407-963026b53e82",
   "metadata": {},
   "outputs": [
    {
     "data": {
      "text/plain": [
       "([0.9601903029454978,\n",
       "  0.9640823785759471,\n",
       "  0.9229112833763996,\n",
       "  0.9368813656577248,\n",
       "  0.9336690647482014,\n",
       "  0.9542812777284827],\n",
       " [0.9095568417797022,\n",
       "  0.9090266425131446,\n",
       "  0.14202712852913887,\n",
       "  0.144280475412009,\n",
       "  0.14335262669553306,\n",
       "  0.9503600936685371])"
      ]
     },
     "execution_count": 27,
     "metadata": {},
     "output_type": "execute_result"
    }
   ],
   "source": [
    "cherry_p, cherry_r"
   ]
  },
  {
   "cell_type": "code",
   "execution_count": 31,
   "id": "80019a0f-e102-4356-8495-ef448a1b6e68",
   "metadata": {},
   "outputs": [],
   "source": [
    "#### data for q2\n",
    "\n",
    "jackson_p = [0.6547713981924508,\n",
    "  0.7677085675736451,\n",
    "  0.7897805738836888,\n",
    "  0.7855151045701007,\n",
    "  0.7750618811881188,\n",
    "  0.7598334104581213]\n",
    "\n",
    "jackson_r = [0.7248583829912455,\n",
    "  0.7534760538512469,\n",
    "  0.7573015522695505,\n",
    "  0.7460457588464651,\n",
    "  0.7371441182961819,\n",
    "  0.7247848157139705]\n",
    "jackson_f = f1_score(jackson_p, jackson_r)\n",
    "\n",
    "cherry_p = []\n",
    "cherry_r = []\n",
    "cherry_f = f1_score(cherry_p, cherry_r)\n",
    "\n",
    "dashcam_p = [0.9601903029454978,\n",
    "  0.9640823785759471,\n",
    "  0.9229112833763996,\n",
    "  0.9368813656577248,\n",
    "  0.9336690647482014,\n",
    "  0.9542812777284827]\n",
    "dashcam_r = [0.9095568417797022,\n",
    "  0.9090266425131446,\n",
    "  0.14202712852913887,\n",
    "  0.144280475412009,\n",
    "  0.14335262669553306,\n",
    "  0.9503600936685371]\n",
    "dashcam_f = f1_score(dashcam_p, dashcam_r)\n",
    "\n",
    "\n",
    "detrac_p = [0.9822713126881282,\n",
    "  0.9842167195334084,\n",
    "  0.98254935600338,\n",
    "  0.9815933643950643,\n",
    "  0.9814037422888883,\n",
    "  0.9809319051458262]\n",
    "detrac_r = [0.9755275758113141,\n",
    "  0.9747168950928483,\n",
    "  0.9720948496440605,\n",
    "  0.9713728371291769,\n",
    "  0.9713095026980467,\n",
    "  0.9709294961112659]\n",
    "detrac_f = f1_score(detrac_p, detrac_r)\n"
   ]
  },
  {
   "cell_type": "code",
   "execution_count": 32,
   "id": "890df909-3664-4700-bbef-f72f85a11e50",
   "metadata": {},
   "outputs": [
    {
     "data": {
      "text/plain": [
       "[0, 0.2, 0.4, 0.6, 0.8, 1.0]"
      ]
     },
     "execution_count": 32,
     "metadata": {},
     "output_type": "execute_result"
    }
   ],
   "source": [
    "percentages"
   ]
  },
  {
   "cell_type": "code",
   "execution_count": 33,
   "id": "6cb7cc04-6ef9-4aee-8a94-2d77f8ca3b4b",
   "metadata": {},
   "outputs": [
    {
     "name": "stderr",
     "output_type": "stream",
     "text": [
      "<ipython-input-33-8d7887a8054a>:36: UserWarning: FixedFormatter should only be used together with FixedLocator\n",
      "  axes[i][j].set_xticklabels(x_axis_names, rotation = 30, ha = 'right',rotation_mode='anchor')\n",
      "<ipython-input-33-8d7887a8054a>:47: UserWarning: FixedFormatter should only be used together with FixedLocator\n",
      "  axes[i][j].set_xticklabels(x_axis_names, rotation = 30, ha = 'right', rotation_mode='anchor')\n",
      "<ipython-input-33-8d7887a8054a>:51: UserWarning: FixedFormatter should only be used together with FixedLocator\n",
      "  axes[i][j].set_xticklabels(x_axis_names, rotation = 30, ha = 'right', rotation_mode='anchor')\n",
      "<ipython-input-33-8d7887a8054a>:60: UserWarning: FixedFormatter should only be used together with FixedLocator\n",
      "  axes[i][j].set_xticklabels(x_axis_names, rotation = 30, ha = 'right', rotation_mode='anchor')\n",
      "<ipython-input-33-8d7887a8054a>:71: UserWarning: FixedFormatter should only be used together with FixedLocator\n",
      "  axes[i][j].set_xticklabels(x_axis_names, rotation = 30, ha = 'right', rotation_mode='anchor')\n"
     ]
    },
    {
     "data": {
      "image/png": "[encoded data removed]",
      "text/plain": [
       "<Figure size 576x360 with 4 Axes>"
      ]
     },
     "metadata": {
      "needs_background": "light"
     },
     "output_type": "display_data"
    }
   ],
   "source": [
    "import numpy as np\n",
    "import matplotlib.pyplot as plt\n",
    "%matplotlib inline\n",
    "import matplotlib\n",
    "\n",
    "font = {\n",
    "        'weight' : 'bold',\n",
    "        'size'   : 15}\n",
    "\n",
    "matplotlib.rc('font', **font)\n",
    "matplotlib.rc('ytick', labelsize=15)\n",
    "\n",
    "\n",
    "x_axis_names = ['0%', '20%', '40%', '60%', '80%', '100%']\n",
    "\n",
    "x = np.arange(len(x_axis_names))\n",
    "\n",
    "\n",
    "### we need to do subplots\n",
    "rows = 2\n",
    "columns = 2\n",
    "fig_size = (8, 5)\n",
    "fig, axes = plt.subplots(rows, columns, sharey = False, sharex=True, figsize=fig_size)\n",
    "\n",
    "\n",
    "i = 0\n",
    "j = 0\n",
    "width = 0.6\n",
    "\n",
    "axes[i][j].bar(x_axis_names, jackson_ic, width, label='Index Construction')\n",
    "axes[i][j].bar(x_axis_names, jackson_q, width, bottom = detrac_ic, label='Query Execution', color = 'lightsteelblue')\n",
    "axes[i][j].set_ylabel('Time (s)', weight = 'bold', size = 15)\n",
    "#axes[i][j].set_ylim(0, 200)\n",
    "#axes[i][j].set_yticks([0, 50, 100, 150, 200])\n",
    "\n",
    "axes[i][j].set_xticklabels(x_axis_names, rotation = 30, ha = 'right',rotation_mode='anchor')\n",
    "#plt.ylim(0, 2)\n",
    "#plt.xticks(x, x_axis_names)\n",
    "axes[i][j].set_title('UA-DETRAC | Q1', weight = 'bold', size = 15)\n",
    "\n",
    "\n",
    "i = 0\n",
    "j = 1\n",
    "\n",
    "axes[i][j].bar(x_axis_names, dashcam_ic, width, label='Index Construction')\n",
    "axes[i][j].bar(x_axis_names, dashcam_q, width, bottom = dashcam_ic, label='Query Execution', color = 'lightsteelblue')\n",
    "axes[i][j].set_xticklabels(x_axis_names, rotation = 30, ha = 'right', rotation_mode='anchor')\n",
    "#axes[i][j].set_ylabel('Time (s)', weight = 'bold', size = 15)\n",
    "axes[i][j].set_title('Dashcam | Q1', weight = 'bold', size = 15)\n",
    "\n",
    "axes[i][j].set_xticklabels(x_axis_names, rotation = 30, ha = 'right', rotation_mode='anchor')\n",
    "\n",
    "\n",
    "i = 1\n",
    "j = 0\n",
    "\n",
    "axes[i][j].bar(x_axis_names, jackson_f, width, label='F1-Score', color = 'slategray')\n",
    "axes[i][j].set_title('UA-Detrac | Q2', weight = 'bold', size = 15)\n",
    "axes[i][j].set_ylabel('F1-Score', weight = 'bold', size = 15)\n",
    "axes[i][j].set_xticklabels(x_axis_names, rotation = 30, ha = 'right', rotation_mode='anchor')\n",
    "\n",
    "\n",
    "\n",
    "i = 1\n",
    "j = 1\n",
    "axes[i][j].bar(x_axis_names, dashcam_f, width, label='F1-Score', color = 'slategray')\n",
    "\n",
    "axes[i][j].set_title('Dashcam | Q2', weight = 'bold', size = 15)\n",
    "#axes[i][j].set_ylabel('F1-Score', weight = 'bold', size = 15)\n",
    "\n",
    "axes[i][j].set_xticklabels(x_axis_names, rotation = 30, ha = 'right', rotation_mode='anchor')\n",
    "\n",
    "\n",
    "\n",
    "\n",
    "plt.tight_layout()\n",
    "\n",
    "lgd = axes[0][0].legend(loc='upper center', bbox_to_anchor=(1, 1.6),\n",
    "          fancybox=True, shadow=True, ncol=10)\n",
    "\n",
    "\n",
    "#plt.legend()\n",
    "plt.savefig('plots/rq4.png', bbox_extra_artists=(lgd,), bbox_inches='tight')\n",
    "plt.show()"
   ]
  },
  {
   "cell_type": "code",
   "execution_count": null,
   "id": "6da22590-0ba9-4ea5-97ac-4d00d81f27fe",
   "metadata": {},
   "outputs": [],
   "source": []
  },
  {
   "cell_type": "code",
   "execution_count": null,
   "id": "36c41d22-ec06-474f-af53-e8ef9a720d4e",
   "metadata": {},
   "outputs": [],
   "source": []
  },
  {
   "cell_type": "code",
   "execution_count": null,
   "id": "00dd0882-cb47-42b8-b91f-57d79f4d9b85",
   "metadata": {},
   "outputs": [],
   "source": []
  },
  {
   "cell_type": "code",
   "execution_count": null,
   "id": "7dfe9477-1a49-47f7-b1df-fd87d71c19db",
   "metadata": {},
   "outputs": [],
   "source": []
  },
  {
   "cell_type": "code",
   "execution_count": null,
   "id": "b26bfd4f-7198-4e9d-a6f2-2b8488745a32",
   "metadata": {},
   "outputs": [],
   "source": []
  },
  {
   "cell_type": "code",
   "execution_count": null,
   "id": "ff5ffff7-3b83-4e17-822c-1bd55d38678c",
   "metadata": {},
   "outputs": [],
   "source": []
  },
  {
   "cell_type": "code",
   "execution_count": null,
   "id": "c552c1df-5e0b-4bbc-b9e4-7cd2d7fbc8eb",
   "metadata": {},
   "outputs": [],
   "source": []
  },
  {
   "cell_type": "markdown",
   "id": "c8072b22-9515-4236-bd78-856e0c32f7c1",
   "metadata": {},
   "source": [
    "### Old Graph"
   ]
  },
  {
   "cell_type": "code",
   "execution_count": null,
   "id": "36ade412-4836-488e-88ea-63316430f8cf",
   "metadata": {},
   "outputs": [],
   "source": [
    "\n",
    "\n",
    "index_construction_times = [1.00, 0.85, 1.04, 0.92, 0.93, 0.95]\n",
    "t1 = [10.22, 10.44, 9.37, 9.55, 9.490, 9.01]\n",
    "    \n"
   ]
  },
  {
   "cell_type": "code",
   "execution_count": null,
   "id": "e3b155d9-f6ee-47e5-8d3f-ce2cfb18b6f9",
   "metadata": {},
   "outputs": [],
   "source": []
  },
  {
   "cell_type": "code",
   "execution_count": 48,
   "id": "482e8b71-a99e-4eda-b0c1-28880ffeed6f",
   "metadata": {},
   "outputs": [
    {
     "data": {
      "image/png": "[encoded data removed]",
      "text/plain": [
       "<Figure size 1080x216 with 2 Axes>"
      ]
     },
     "metadata": {
      "needs_background": "light"
     },
     "output_type": "display_data"
    }
   ],
   "source": [
    "import numpy as np\n",
    "import matplotlib.pyplot as plt\n",
    "%matplotlib inline\n",
    "x_axis_names = percentages\n",
    "\n",
    "x = np.arange(len(x_axis_names))\n",
    "width = 0.2\n",
    "\n",
    "\n",
    "### we need to do subplots\n",
    "rows = 1\n",
    "columns = 3\n",
    "i = 1\n",
    "fig = plt.figure(figsize = (15,3))\n",
    "fig.add_subplot(rows, columns, i)\n",
    "plt.plot(ic_times)\n",
    "plt.ylabel('Time (s)')\n",
    "plt.xlabel('Alpha Values')\n",
    "plt.ylim(0, 2)\n",
    "plt.xticks(x, x_axis_names)\n",
    "plt.title('Index Construction')\n",
    "\n",
    "\n",
    "\n",
    "\n",
    "\n",
    "i = 2\n",
    "fig.add_subplot(rows, columns, i)\n",
    "\n",
    "plt.plot(t1, label = 'Q1 -- Aggregate')\n",
    "plt.xticks(x, x_axis_names)\n",
    "plt.title('Query Execution')\n",
    "plt.ylim(0, 15)\n",
    "plt.xlabel('Alpha Values')\n",
    "\n",
    "plt.legend()\n",
    "plt.show()\n",
    "\n"
   ]
  },
  {
   "cell_type": "code",
   "execution_count": 49,
   "id": "38bb3fdb-3ecc-47e8-afeb-df7945ec7578",
   "metadata": {
    "scrolled": true,
    "tags": []
   },
   "outputs": [
    {
     "name": "stderr",
     "output_type": "stream",
     "text": [
      "Using cache found in /nethome/jbang36/.cache/torch/hub/ultralytics_yolov5_master\n",
      "YOLOv5 🚀 2022-3-2 torch 1.10.2 CUDA:0 (NVIDIA GeForce RTX 2080 Ti, 11019MiB)\n",
      "\n",
      "Fusing layers... \n",
      "Model Summary: 213 layers, 7225885 parameters, 0 gradients, 16.5 GFLOPs\n",
      "Adding AutoShape... \n"
     ]
    },
    {
     "data": {
      "text/plain": [
       "AutoShape(\n",
       "  (model): DetectMultiBackend(\n",
       "    (model): Model(\n",
       "      (model): Sequential(\n",
       "        (0): Conv(\n",
       "          (conv): Conv2d(3, 32, kernel_size=(6, 6), stride=(2, 2), padding=(2, 2))\n",
       "          (act): SiLU(inplace=True)\n",
       "        )\n",
       "        (1): Conv(\n",
       "          (conv): Conv2d(32, 64, kernel_size=(3, 3), stride=(2, 2), padding=(1, 1))\n",
       "          (act): SiLU(inplace=True)\n",
       "        )\n",
       "        (2): C3(\n",
       "          (cv1): Conv(\n",
       "            (conv): Conv2d(64, 32, kernel_size=(1, 1), stride=(1, 1))\n",
       "            (act): SiLU(inplace=True)\n",
       "          )\n",
       "          (cv2): Conv(\n",
       "            (conv): Conv2d(64, 32, kernel_size=(1, 1), stride=(1, 1))\n",
       "            (act): SiLU(inplace=True)\n",
       "          )\n",
       "          (cv3): Conv(\n",
       "            (conv): Conv2d(64, 64, kernel_size=(1, 1), stride=(1, 1))\n",
       "            (act): SiLU(inplace=True)\n",
       "          )\n",
       "          (m): Sequential(\n",
       "            (0): Bottleneck(\n",
       "              (cv1): Conv(\n",
       "                (conv): Conv2d(32, 32, kernel_size=(1, 1), stride=(1, 1))\n",
       "                (act): SiLU(inplace=True)\n",
       "              )\n",
       "              (cv2): Conv(\n",
       "                (conv): Conv2d(32, 32, kernel_size=(3, 3), stride=(1, 1), padding=(1, 1))\n",
       "                (act): SiLU(inplace=True)\n",
       "              )\n",
       "            )\n",
       "          )\n",
       "        )\n",
       "        (3): Conv(\n",
       "          (conv): Conv2d(64, 128, kernel_size=(3, 3), stride=(2, 2), padding=(1, 1))\n",
       "          (act): SiLU(inplace=True)\n",
       "        )\n",
       "        (4): C3(\n",
       "          (cv1): Conv(\n",
       "            (conv): Conv2d(128, 64, kernel_size=(1, 1), stride=(1, 1))\n",
       "            (act): SiLU(inplace=True)\n",
       "          )\n",
       "          (cv2): Conv(\n",
       "            (conv): Conv2d(128, 64, kernel_size=(1, 1), stride=(1, 1))\n",
       "            (act): SiLU(inplace=True)\n",
       "          )\n",
       "          (cv3): Conv(\n",
       "            (conv): Conv2d(128, 128, kernel_size=(1, 1), stride=(1, 1))\n",
       "            (act): SiLU(inplace=True)\n",
       "          )\n",
       "          (m): Sequential(\n",
       "            (0): Bottleneck(\n",
       "              (cv1): Conv(\n",
       "                (conv): Conv2d(64, 64, kernel_size=(1, 1), stride=(1, 1))\n",
       "                (act): SiLU(inplace=True)\n",
       "              )\n",
       "              (cv2): Conv(\n",
       "                (conv): Conv2d(64, 64, kernel_size=(3, 3), stride=(1, 1), padding=(1, 1))\n",
       "                (act): SiLU(inplace=True)\n",
       "              )\n",
       "            )\n",
       "            (1): Bottleneck(\n",
       "              (cv1): Conv(\n",
       "                (conv): Conv2d(64, 64, kernel_size=(1, 1), stride=(1, 1))\n",
       "                (act): SiLU(inplace=True)\n",
       "              )\n",
       "              (cv2): Conv(\n",
       "                (conv): Conv2d(64, 64, kernel_size=(3, 3), stride=(1, 1), padding=(1, 1))\n",
       "                (act): SiLU(inplace=True)\n",
       "              )\n",
       "            )\n",
       "          )\n",
       "        )\n",
       "        (5): Conv(\n",
       "          (conv): Conv2d(128, 256, kernel_size=(3, 3), stride=(2, 2), padding=(1, 1))\n",
       "          (act): SiLU(inplace=True)\n",
       "        )\n",
       "        (6): C3(\n",
       "          (cv1): Conv(\n",
       "            (conv): Conv2d(256, 128, kernel_size=(1, 1), stride=(1, 1))\n",
       "            (act): SiLU(inplace=True)\n",
       "          )\n",
       "          (cv2): Conv(\n",
       "            (conv): Conv2d(256, 128, kernel_size=(1, 1), stride=(1, 1))\n",
       "            (act): SiLU(inplace=True)\n",
       "          )\n",
       "          (cv3): Conv(\n",
       "            (conv): Conv2d(256, 256, kernel_size=(1, 1), stride=(1, 1))\n",
       "            (act): SiLU(inplace=True)\n",
       "          )\n",
       "          (m): Sequential(\n",
       "            (0): Bottleneck(\n",
       "              (cv1): Conv(\n",
       "                (conv): Conv2d(128, 128, kernel_size=(1, 1), stride=(1, 1))\n",
       "                (act): SiLU(inplace=True)\n",
       "              )\n",
       "              (cv2): Conv(\n",
       "                (conv): Conv2d(128, 128, kernel_size=(3, 3), stride=(1, 1), padding=(1, 1))\n",
       "                (act): SiLU(inplace=True)\n",
       "              )\n",
       "            )\n",
       "            (1): Bottleneck(\n",
       "              (cv1): Conv(\n",
       "                (conv): Conv2d(128, 128, kernel_size=(1, 1), stride=(1, 1))\n",
       "                (act): SiLU(inplace=True)\n",
       "              )\n",
       "              (cv2): Conv(\n",
       "                (conv): Conv2d(128, 128, kernel_size=(3, 3), stride=(1, 1), padding=(1, 1))\n",
       "                (act): SiLU(inplace=True)\n",
       "              )\n",
       "            )\n",
       "            (2): Bottleneck(\n",
       "              (cv1): Conv(\n",
       "                (conv): Conv2d(128, 128, kernel_size=(1, 1), stride=(1, 1))\n",
       "                (act): SiLU(inplace=True)\n",
       "              )\n",
       "              (cv2): Conv(\n",
       "                (conv): Conv2d(128, 128, kernel_size=(3, 3), stride=(1, 1), padding=(1, 1))\n",
       "                (act): SiLU(inplace=True)\n",
       "              )\n",
       "            )\n",
       "          )\n",
       "        )\n",
       "        (7): Conv(\n",
       "          (conv): Conv2d(256, 512, kernel_size=(3, 3), stride=(2, 2), padding=(1, 1))\n",
       "          (act): SiLU(inplace=True)\n",
       "        )\n",
       "        (8): C3(\n",
       "          (cv1): Conv(\n",
       "            (conv): Conv2d(512, 256, kernel_size=(1, 1), stride=(1, 1))\n",
       "            (act): SiLU(inplace=True)\n",
       "          )\n",
       "          (cv2): Conv(\n",
       "            (conv): Conv2d(512, 256, kernel_size=(1, 1), stride=(1, 1))\n",
       "            (act): SiLU(inplace=True)\n",
       "          )\n",
       "          (cv3): Conv(\n",
       "            (conv): Conv2d(512, 512, kernel_size=(1, 1), stride=(1, 1))\n",
       "            (act): SiLU(inplace=True)\n",
       "          )\n",
       "          (m): Sequential(\n",
       "            (0): Bottleneck(\n",
       "              (cv1): Conv(\n",
       "                (conv): Conv2d(256, 256, kernel_size=(1, 1), stride=(1, 1))\n",
       "                (act): SiLU(inplace=True)\n",
       "              )\n",
       "              (cv2): Conv(\n",
       "                (conv): Conv2d(256, 256, kernel_size=(3, 3), stride=(1, 1), padding=(1, 1))\n",
       "                (act): SiLU(inplace=True)\n",
       "              )\n",
       "            )\n",
       "          )\n",
       "        )\n",
       "        (9): SPPF(\n",
       "          (cv1): Conv(\n",
       "            (conv): Conv2d(512, 256, kernel_size=(1, 1), stride=(1, 1))\n",
       "            (act): SiLU(inplace=True)\n",
       "          )\n",
       "          (cv2): Conv(\n",
       "            (conv): Conv2d(1024, 512, kernel_size=(1, 1), stride=(1, 1))\n",
       "            (act): SiLU(inplace=True)\n",
       "          )\n",
       "          (m): MaxPool2d(kernel_size=5, stride=1, padding=2, dilation=1, ceil_mode=False)\n",
       "        )\n",
       "        (10): Conv(\n",
       "          (conv): Conv2d(512, 256, kernel_size=(1, 1), stride=(1, 1))\n",
       "          (act): SiLU(inplace=True)\n",
       "        )\n",
       "        (11): Upsample(scale_factor=2.0, mode=nearest)\n",
       "        (12): Concat()\n",
       "        (13): C3(\n",
       "          (cv1): Conv(\n",
       "            (conv): Conv2d(512, 128, kernel_size=(1, 1), stride=(1, 1))\n",
       "            (act): SiLU(inplace=True)\n",
       "          )\n",
       "          (cv2): Conv(\n",
       "            (conv): Conv2d(512, 128, kernel_size=(1, 1), stride=(1, 1))\n",
       "            (act): SiLU(inplace=True)\n",
       "          )\n",
       "          (cv3): Conv(\n",
       "            (conv): Conv2d(256, 256, kernel_size=(1, 1), stride=(1, 1))\n",
       "            (act): SiLU(inplace=True)\n",
       "          )\n",
       "          (m): Sequential(\n",
       "            (0): Bottleneck(\n",
       "              (cv1): Conv(\n",
       "                (conv): Conv2d(128, 128, kernel_size=(1, 1), stride=(1, 1))\n",
       "                (act): SiLU(inplace=True)\n",
       "              )\n",
       "              (cv2): Conv(\n",
       "                (conv): Conv2d(128, 128, kernel_size=(3, 3), stride=(1, 1), padding=(1, 1))\n",
       "                (act): SiLU(inplace=True)\n",
       "              )\n",
       "            )\n",
       "          )\n",
       "        )\n",
       "        (14): Conv(\n",
       "          (conv): Conv2d(256, 128, kernel_size=(1, 1), stride=(1, 1))\n",
       "          (act): SiLU(inplace=True)\n",
       "        )\n",
       "        (15): Upsample(scale_factor=2.0, mode=nearest)\n",
       "        (16): Concat()\n",
       "        (17): C3(\n",
       "          (cv1): Conv(\n",
       "            (conv): Conv2d(256, 64, kernel_size=(1, 1), stride=(1, 1))\n",
       "            (act): SiLU(inplace=True)\n",
       "          )\n",
       "          (cv2): Conv(\n",
       "            (conv): Conv2d(256, 64, kernel_size=(1, 1), stride=(1, 1))\n",
       "            (act): SiLU(inplace=True)\n",
       "          )\n",
       "          (cv3): Conv(\n",
       "            (conv): Conv2d(128, 128, kernel_size=(1, 1), stride=(1, 1))\n",
       "            (act): SiLU(inplace=True)\n",
       "          )\n",
       "          (m): Sequential(\n",
       "            (0): Bottleneck(\n",
       "              (cv1): Conv(\n",
       "                (conv): Conv2d(64, 64, kernel_size=(1, 1), stride=(1, 1))\n",
       "                (act): SiLU(inplace=True)\n",
       "              )\n",
       "              (cv2): Conv(\n",
       "                (conv): Conv2d(64, 64, kernel_size=(3, 3), stride=(1, 1), padding=(1, 1))\n",
       "                (act): SiLU(inplace=True)\n",
       "              )\n",
       "            )\n",
       "          )\n",
       "        )\n",
       "        (18): Conv(\n",
       "          (conv): Conv2d(128, 128, kernel_size=(3, 3), stride=(2, 2), padding=(1, 1))\n",
       "          (act): SiLU(inplace=True)\n",
       "        )\n",
       "        (19): Concat()\n",
       "        (20): C3(\n",
       "          (cv1): Conv(\n",
       "            (conv): Conv2d(256, 128, kernel_size=(1, 1), stride=(1, 1))\n",
       "            (act): SiLU(inplace=True)\n",
       "          )\n",
       "          (cv2): Conv(\n",
       "            (conv): Conv2d(256, 128, kernel_size=(1, 1), stride=(1, 1))\n",
       "            (act): SiLU(inplace=True)\n",
       "          )\n",
       "          (cv3): Conv(\n",
       "            (conv): Conv2d(256, 256, kernel_size=(1, 1), stride=(1, 1))\n",
       "            (act): SiLU(inplace=True)\n",
       "          )\n",
       "          (m): Sequential(\n",
       "            (0): Bottleneck(\n",
       "              (cv1): Conv(\n",
       "                (conv): Conv2d(128, 128, kernel_size=(1, 1), stride=(1, 1))\n",
       "                (act): SiLU(inplace=True)\n",
       "              )\n",
       "              (cv2): Conv(\n",
       "                (conv): Conv2d(128, 128, kernel_size=(3, 3), stride=(1, 1), padding=(1, 1))\n",
       "                (act): SiLU(inplace=True)\n",
       "              )\n",
       "            )\n",
       "          )\n",
       "        )\n",
       "        (21): Conv(\n",
       "          (conv): Conv2d(256, 256, kernel_size=(3, 3), stride=(2, 2), padding=(1, 1))\n",
       "          (act): SiLU(inplace=True)\n",
       "        )\n",
       "        (22): Concat()\n",
       "        (23): C3(\n",
       "          (cv1): Conv(\n",
       "            (conv): Conv2d(512, 256, kernel_size=(1, 1), stride=(1, 1))\n",
       "            (act): SiLU(inplace=True)\n",
       "          )\n",
       "          (cv2): Conv(\n",
       "            (conv): Conv2d(512, 256, kernel_size=(1, 1), stride=(1, 1))\n",
       "            (act): SiLU(inplace=True)\n",
       "          )\n",
       "          (cv3): Conv(\n",
       "            (conv): Conv2d(512, 512, kernel_size=(1, 1), stride=(1, 1))\n",
       "            (act): SiLU(inplace=True)\n",
       "          )\n",
       "          (m): Sequential(\n",
       "            (0): Bottleneck(\n",
       "              (cv1): Conv(\n",
       "                (conv): Conv2d(256, 256, kernel_size=(1, 1), stride=(1, 1))\n",
       "                (act): SiLU(inplace=True)\n",
       "              )\n",
       "              (cv2): Conv(\n",
       "                (conv): Conv2d(256, 256, kernel_size=(3, 3), stride=(1, 1), padding=(1, 1))\n",
       "                (act): SiLU(inplace=True)\n",
       "              )\n",
       "            )\n",
       "          )\n",
       "        )\n",
       "        (24): Detect(\n",
       "          (m): ModuleList(\n",
       "            (0): Conv2d(128, 255, kernel_size=(1, 1), stride=(1, 1))\n",
       "            (1): Conv2d(256, 255, kernel_size=(1, 1), stride=(1, 1))\n",
       "            (2): Conv2d(512, 255, kernel_size=(1, 1), stride=(1, 1))\n",
       "          )\n",
       "        )\n",
       "      )\n",
       "    )\n",
       "  )\n",
       ")"
      ]
     },
     "execution_count": 49,
     "metadata": {},
     "output_type": "execute_result"
    }
   ],
   "source": [
    "model_name = 'yolov5s'\n",
    "model = torch.hub.load('ultralytics/yolov5', model_name, pretrained=True)\n",
    "model"
   ]
  },
  {
   "cell_type": "code",
   "execution_count": 50,
   "id": "5925214f-fe4c-48bd-a9c3-932bdb4adcbc",
   "metadata": {},
   "outputs": [
    {
     "data": {
      "text/plain": [
       "(100000, 540, 960, 3)"
      ]
     },
     "execution_count": 50,
     "metadata": {},
     "output_type": "execute_result"
    }
   ],
   "source": [
    "images.shape"
   ]
  },
  {
   "cell_type": "code",
   "execution_count": 53,
   "id": "1a4dc27c-99b8-4282-a30f-bf482b31f3f8",
   "metadata": {
    "scrolled": true,
    "tags": []
   },
   "outputs": [
    {
     "name": "stdout",
     "output_type": "stream",
     "text": [
      "Collecting torchviz\n",
      "  Downloading torchviz-0.0.2.tar.gz (4.9 kB)\n",
      "Requirement already satisfied: torch in /srv/data/jbang36/anaconda3/envs/eko22/lib/python3.9/site-packages (from torchviz) (1.10.2)\n",
      "Collecting graphviz\n",
      "  Downloading graphviz-0.20.1-py3-none-any.whl (47 kB)\n",
      "\u001b[K     |################################| 47 kB 2.5 MB/s eta 0:00:01\n",
      "\u001b[?25hRequirement already satisfied: typing_extensions in /srv/data/jbang36/anaconda3/envs/eko22/lib/python3.9/site-packages (from torch->torchviz) (3.10.0.2)\n",
      "Building wheels for collected packages: torchviz\n",
      "  Building wheel for torchviz (setup.py) ... \u001b[?25ldone\n",
      "\u001b[?25h  Created wheel for torchviz: filename=torchviz-0.0.2-py3-none-any.whl size=4150 sha256=f8e9d4fc59b8d3ff673d73d1701a25e1dc785bb69113aee8251032c8647da242\n",
      "  Stored in directory: /home/jbang36/.cache/pip/wheels/29/65/6e/db2515eb1dc760fecd36b40d54df65c1e18534013f1c037e2e\n",
      "Successfully built torchviz\n",
      "Installing collected packages: graphviz, torchviz\n",
      "Successfully installed graphviz-0.20.1 torchviz-0.0.2\n"
     ]
    }
   ],
   "source": [
    "!pip install torchviz"
   ]
  },
  {
   "cell_type": "code",
   "execution_count": null,
   "id": "18d4da9d-8322-45e1-9dca-d54c773c085b",
   "metadata": {},
   "outputs": [],
   "source": []
  }
 ],
 "metadata": {
  "kernelspec": {
   "display_name": "Python 3",
   "language": "python",
   "name": "python3"
  },
  "language_info": {
   "codemirror_mode": {
    "name": "ipython",
    "version": 3
   },
   "file_extension": ".py",
   "mimetype": "text/x-python",
   "name": "python",
   "nbconvert_exporter": "python",
   "pygments_lexer": "ipython3",
   "version": "3.9.7"
  }
 },
 "nbformat": 4,
 "nbformat_minor": 5
}
