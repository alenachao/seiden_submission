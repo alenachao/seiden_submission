{
 "cells": [
  {
   "cell_type": "code",
   "execution_count": 1,
   "id": "8f2d4ef3-cf05-4b9a-bb15-94595f379775",
   "metadata": {},
   "outputs": [],
   "source": [
    "%load_ext autoreload\n",
    "%autoreload 2"
   ]
  },
  {
   "cell_type": "code",
   "execution_count": 2,
   "id": "dc194960-4151-4363-9e98-8f5e2b74f952",
   "metadata": {},
   "outputs": [],
   "source": [
    "\n",
    "import sys\n",
    "sys.path.append('/nethome/jbang36/eko')\n"
   ]
  },
  {
   "cell_type": "code",
   "execution_count": 3,
   "id": "2c417479-ea64-455e-a707-ff6c77b14543",
   "metadata": {},
   "outputs": [
    {
     "name": "stderr",
     "output_type": "stream",
     "text": [
      "11-25-2022 12:33:08 [info:049]INFO : meta data of the video /srv/data/jbang36/video_data/dashcam960/video.mp4 is (74880, 540, 960, 3)\n",
      "meta data of the video /srv/data/jbang36/video_data/dashcam960/video.mp4 is (74880, 540, 960, 3)\n",
      "100%|██████████| 74880/74880 [01:20<00:00, 927.07it/s]\n"
     ]
    }
   ],
   "source": [
    "### let's run the experiment and get the results\n",
    "\n",
    "video_name = 'dashcam960'\n",
    "\n",
    "from eko_paper2022.motivation.main import *\n",
    "\n",
    "images = load_dataset(video_name)\n"
   ]
  },
  {
   "cell_type": "code",
   "execution_count": null,
   "id": "2449eaa3-f359-491e-b0f9-55cdc98a6681",
   "metadata": {},
   "outputs": [],
   "source": []
  },
  {
   "cell_type": "code",
   "execution_count": 26,
   "id": "870523bd-3e3e-42e5-8367-0f6291c7517e",
   "metadata": {},
   "outputs": [],
   "source": [
    "##3parameters\n",
    "anchor_count_param = 0.1\n",
    "aggregate_error_param = 0.02\n",
    "precision_invoc_param = 0.05\n",
    "dnn_invocation = int(len(images) * precision_invoc_param)\n",
    "\n",
    "c_param = 2"
   ]
  },
  {
   "cell_type": "code",
   "execution_count": null,
   "id": "cb8da65d-0710-489f-8fcb-e9707bd01317",
   "metadata": {},
   "outputs": [],
   "source": []
  },
  {
   "cell_type": "code",
   "execution_count": 5,
   "id": "8992f3a3-0595-448c-99d5-89d723187386",
   "metadata": {},
   "outputs": [],
   "source": [
    "category = 'car'"
   ]
  },
  {
   "cell_type": "code",
   "execution_count": 6,
   "id": "29dd8aba-3792-49f6-abdb-f3485d8484d6",
   "metadata": {},
   "outputs": [],
   "source": [
    "percentages = [0.2, 0.4, 0.6, 0.8, 1.0]\n",
    "\n",
    "from eko_paper2022.experiments.main import *\n"
   ]
  },
  {
   "cell_type": "code",
   "execution_count": 6,
   "id": "01663086-0d76-41ee-afa2-3376b0c11079",
   "metadata": {},
   "outputs": [],
   "source": [
    "### okay, run all the ekos for the percentages...."
   ]
  },
  {
   "cell_type": "code",
   "execution_count": null,
   "id": "2ed1fdc0-159f-4941-9009-296659aa05a5",
   "metadata": {},
   "outputs": [],
   "source": []
  },
  {
   "cell_type": "code",
   "execution_count": 7,
   "id": "3b7a18fd-5551-4827-bb8c-74c02a48c07d",
   "metadata": {},
   "outputs": [],
   "source": [
    "thr = 1 / 140"
   ]
  },
  {
   "cell_type": "code",
   "execution_count": 27,
   "id": "ad078a91-ede0-44b0-acb5-8294744dfaa4",
   "metadata": {
    "scrolled": true,
    "tags": []
   },
   "outputs": [
    {
     "name": "stdout",
     "output_type": "stream",
     "text": [
      "index initializing....\n",
      "number of training instances:  1\n",
      "mining complete!\n",
      "training complete!\n",
      "inferring complete!\n",
      "returning 6240 frames in 0.6348259747028351 seconds\n",
      "adfasdfasdfsaf 7488 0.2 1497\n",
      "total number of iframes:  6240\n",
      "total number of anchors selected in index construction:  1497\n",
      "final number that has been selected:  1497\n",
      "bucketing complete!\n"
     ]
    },
    {
     "data": {
      "application/vnd.jupyter.widget-view+json": {
       "model_id": "770b6bf94f1345108319c49dcf30017f",
       "version_major": 2,
       "version_minor": 0
      },
      "text/plain": [
       "Target DNN Invocations:   0%|          | 0/1497 [00:00<?, ?it/s]"
      ]
     },
     "metadata": {},
     "output_type": "display_data"
    },
    {
     "name": "stdout",
     "output_type": "stream",
     "text": [
      "index initializing....\n",
      "number of training instances:  1\n",
      "mining complete!\n",
      "training complete!\n",
      "inferring complete!\n",
      "returning 6240 frames in 0.6427686735987663 seconds\n",
      "adfasdfasdfsaf 7488 0.4 2995\n",
      "total number of iframes:  6240\n",
      "total number of anchors selected in index construction:  2995\n",
      "final number that has been selected:  2995\n",
      "bucketing complete!\n"
     ]
    },
    {
     "data": {
      "application/vnd.jupyter.widget-view+json": {
       "model_id": "92d24c0c96db457e815251e6983d7e6f",
       "version_major": 2,
       "version_minor": 0
      },
      "text/plain": [
       "Target DNN Invocations:   0%|          | 0/2995 [00:00<?, ?it/s]"
      ]
     },
     "metadata": {},
     "output_type": "display_data"
    },
    {
     "name": "stdout",
     "output_type": "stream",
     "text": [
      "index initializing....\n",
      "number of training instances:  1\n",
      "mining complete!\n",
      "training complete!\n",
      "inferring complete!\n",
      "returning 6240 frames in 0.6284547299146652 seconds\n",
      "adfasdfasdfsaf 7488 0.6 4492\n",
      "total number of iframes:  6240\n",
      "total number of anchors selected in index construction:  4492\n",
      "final number that has been selected:  4492\n",
      "bucketing complete!\n"
     ]
    },
    {
     "data": {
      "application/vnd.jupyter.widget-view+json": {
       "model_id": "879d36674ec14f41a60f6d048c67c05f",
       "version_major": 2,
       "version_minor": 0
      },
      "text/plain": [
       "Target DNN Invocations:   0%|          | 0/4492 [00:00<?, ?it/s]"
      ]
     },
     "metadata": {},
     "output_type": "display_data"
    },
    {
     "name": "stdout",
     "output_type": "stream",
     "text": [
      "index initializing....\n",
      "number of training instances:  1\n",
      "mining complete!\n",
      "training complete!\n",
      "inferring complete!\n",
      "returning 6240 frames in 0.6262103505432606 seconds\n",
      "adfasdfasdfsaf 7488 0.8 5990\n",
      "total number of iframes:  6240\n",
      "total number of anchors selected in index construction:  5990\n",
      "final number that has been selected:  5990\n",
      "bucketing complete!\n"
     ]
    },
    {
     "data": {
      "application/vnd.jupyter.widget-view+json": {
       "model_id": "53d47d0da01b43009d8fbc86094a6cdf",
       "version_major": 2,
       "version_minor": 0
      },
      "text/plain": [
       "Target DNN Invocations:   0%|          | 0/5990 [00:00<?, ?it/s]"
      ]
     },
     "metadata": {},
     "output_type": "display_data"
    },
    {
     "name": "stdout",
     "output_type": "stream",
     "text": [
      "index initializing....\n",
      "number of training instances:  1\n",
      "mining complete!\n",
      "training complete!\n",
      "inferring complete!\n",
      "returning 6240 frames in 0.6326755098998547 seconds\n",
      "adfasdfasdfsaf 7488 1.0 7488\n",
      "total number of iframes:  6240\n",
      "total number of anchors selected in index construction:  7488\n",
      "final number that has been selected:  6241\n",
      "bucketing complete!\n"
     ]
    },
    {
     "data": {
      "application/vnd.jupyter.widget-view+json": {
       "model_id": "766b83ef4af54b4d85b4a7d763efe8af",
       "version_major": 2,
       "version_minor": 0
      },
      "text/plain": [
       "Target DNN Invocations:   0%|          | 0/6241 [00:00<?, ?it/s]"
      ]
     },
     "metadata": {},
     "output_type": "display_data"
    }
   ],
   "source": [
    "import time\n",
    "from eko_paper2022.experiments.main import execute_ekomab\n",
    "\n",
    "ekos = []\n",
    "index_construction_times = []\n",
    "anchor_count = int( len(images) * anchor_count_param )\n",
    "\n",
    "for percentage in percentages:\n",
    "    st = time.perf_counter()\n",
    "    eko_mab = execute_ekomab(images, video_name, category = category, nb_buckets = anchor_count, anchor_percentage = percentage, c_param = c_param)\n",
    "    \n",
    "    ekos.append(eko_mab)\n",
    "    index_construction_times.append(time.perf_counter() - st + anchor_count * percentage * thr)\n",
    "    \n",
    "    \n",
    "    "
   ]
  },
  {
   "cell_type": "code",
   "execution_count": 14,
   "id": "b9aec7ed-9485-431a-adb3-c6889bac4b19",
   "metadata": {},
   "outputs": [
    {
     "data": {
      "text/plain": [
       "(100000, 540, 960, 3)"
      ]
     },
     "execution_count": 14,
     "metadata": {},
     "output_type": "execute_result"
    }
   ],
   "source": [
    "images.shape"
   ]
  },
  {
   "cell_type": "code",
   "execution_count": 15,
   "id": "d227e30b-6646-4ffd-bdbe-27baf0f0031d",
   "metadata": {},
   "outputs": [
    {
     "data": {
      "text/plain": [
       "[8.706464563629456,\n",
       " 15.870452041072504,\n",
       " 22.62891292518803,\n",
       " 30.21950146981648,\n",
       " 36.88860845725451]"
      ]
     },
     "execution_count": 15,
     "metadata": {},
     "output_type": "execute_result"
    }
   ],
   "source": [
    "index_construction_times"
   ]
  },
  {
   "cell_type": "code",
   "execution_count": 19,
   "id": "7c2dac49-0b6f-40fd-85ae-8de88cf2c970",
   "metadata": {
    "scrolled": true,
    "tags": []
   },
   "outputs": [
    {
     "name": "stderr",
     "output_type": "stream",
     "text": [
      "100%|██████████| 8000/8000 [01:44<00:00, 76.68it/s] \n"
     ]
    },
    {
     "data": {
      "application/vnd.jupyter.widget-view+json": {
       "model_id": "11fb1f6a75ac46d0ba8674523f36343e",
       "version_major": 2,
       "version_minor": 0
      },
      "text/plain": [
       "Propagation:   0%|          | 0/100000 [00:00<?, ?it/s]"
      ]
     },
     "metadata": {},
     "output_type": "display_data"
    },
    {
     "name": "stdout",
     "output_type": "stream",
     "text": [
      "r 4.0\n",
      "NightStreetAggregateQuery\n",
      "---------------------------  -----------------------------------------------------------------------------------------------------------------------------------------------------------------------------------\n",
      "initial_estimate             46064.0\n",
      "debiased_estimate            46141.743226916355\n",
      "nb_samples                   5251\n",
      "y_pred                       [          0           0           0 ...           2           2           2]\n",
      "y_true                       [DNNOutputCacheFloat(idx=0) DNNOutputCacheFloat(idx=1) DNNOutputCacheFloat(idx=2) ... DNNOutputCacheFloat(idx=99997) DNNOutputCacheFloat(idx=99998) DNNOutputCacheFloat(idx=99999)]\n",
      "actual_estimate              46259.0\n"
     ]
    },
    {
     "name": "stderr",
     "output_type": "stream",
     "text": [
      "100%|██████████| 6000/6000 [01:34<00:00, 63.56it/s] \n"
     ]
    },
    {
     "data": {
      "application/vnd.jupyter.widget-view+json": {
       "model_id": "967a4db4c57f47488bcacc9943f731d3",
       "version_major": 2,
       "version_minor": 0
      },
      "text/plain": [
       "Propagation:   0%|          | 0/100000 [00:00<?, ?it/s]"
      ]
     },
     "metadata": {},
     "output_type": "display_data"
    },
    {
     "name": "stdout",
     "output_type": "stream",
     "text": [
      "r 4.0\n",
      "NightStreetAggregateQuery\n",
      "---------------------------  -----------------------------------------------------------------------------------------------------------------------------------------------------------------------------------\n",
      "initial_estimate             45881.0\n",
      "debiased_estimate            45702.56009133285\n",
      "nb_samples                   5105\n",
      "y_pred                       [          0           0           0 ...           2           2           2]\n",
      "y_true                       [DNNOutputCacheFloat(idx=0) DNNOutputCacheFloat(idx=1) DNNOutputCacheFloat(idx=2) ... DNNOutputCacheFloat(idx=99997) DNNOutputCacheFloat(idx=99998) DNNOutputCacheFloat(idx=99999)]\n",
      "actual_estimate              46259.0\n"
     ]
    },
    {
     "name": "stderr",
     "output_type": "stream",
     "text": [
      "100%|██████████| 4000/4000 [01:21<00:00, 49.31it/s]\n"
     ]
    },
    {
     "data": {
      "application/vnd.jupyter.widget-view+json": {
       "model_id": "9718d921b5c64152a72cf9dfb24c2e88",
       "version_major": 2,
       "version_minor": 0
      },
      "text/plain": [
       "Propagation:   0%|          | 0/100000 [00:00<?, ?it/s]"
      ]
     },
     "metadata": {},
     "output_type": "display_data"
    },
    {
     "name": "stdout",
     "output_type": "stream",
     "text": [
      "r 4.0\n"
     ]
    },
    {
     "name": "stderr",
     "output_type": "stream",
     "text": [
      "/home/jbang36/eko/benchmarks/stanford/blazeit/blazeit/aggregation/samplers.py:62: RuntimeWarning: invalid value encountered in sqrt\n",
      "  sigmat = np.sqrt(1/t * (Xt_sqsum - Xt_sum ** 2 / t))\n"
     ]
    },
    {
     "name": "stdout",
     "output_type": "stream",
     "text": [
      "NightStreetAggregateQuery\n",
      "---------------------------  -----------------------------------------------------------------------------------------------------------------------------------------------------------------------------------\n",
      "initial_estimate             45500.5\n",
      "debiased_estimate            45878.141380928326\n",
      "nb_samples                   5335\n",
      "y_pred                       [          0           0           0 ...           2           2           2]\n",
      "y_true                       [DNNOutputCacheFloat(idx=0) DNNOutputCacheFloat(idx=1) DNNOutputCacheFloat(idx=2) ... DNNOutputCacheFloat(idx=99997) DNNOutputCacheFloat(idx=99998) DNNOutputCacheFloat(idx=99999)]\n",
      "actual_estimate              46259.0\n"
     ]
    },
    {
     "name": "stderr",
     "output_type": "stream",
     "text": [
      "100%|██████████| 2000/2000 [00:42<00:00, 47.00it/s]\n"
     ]
    },
    {
     "data": {
      "application/vnd.jupyter.widget-view+json": {
       "model_id": "3d5c2be6071e487dbdd80d437f0f1cb2",
       "version_major": 2,
       "version_minor": 0
      },
      "text/plain": [
       "Propagation:   0%|          | 0/100000 [00:00<?, ?it/s]"
      ]
     },
     "metadata": {},
     "output_type": "display_data"
    },
    {
     "name": "stdout",
     "output_type": "stream",
     "text": [
      "r 4.0\n",
      "NightStreetAggregateQuery\n",
      "---------------------------  -----------------------------------------------------------------------------------------------------------------------------------------------------------------------------------\n",
      "initial_estimate             45689.0\n",
      "debiased_estimate            46145.55899330164\n",
      "nb_samples                   5166\n",
      "y_pred                       [          0           0           0 ...           2           2           2]\n",
      "y_true                       [DNNOutputCacheFloat(idx=0) DNNOutputCacheFloat(idx=1) DNNOutputCacheFloat(idx=2) ... DNNOutputCacheFloat(idx=99997) DNNOutputCacheFloat(idx=99998) DNNOutputCacheFloat(idx=99999)]\n",
      "actual_estimate              46259.0\n"
     ]
    },
    {
     "name": "stderr",
     "output_type": "stream",
     "text": [
      "100%|██████████| 1665/1665 [00:36<00:00, 45.27it/s]\n"
     ]
    },
    {
     "data": {
      "application/vnd.jupyter.widget-view+json": {
       "model_id": "eb3419cd8b9240bb8c2b96ddff05a89d",
       "version_major": 2,
       "version_minor": 0
      },
      "text/plain": [
       "Propagation:   0%|          | 0/100000 [00:00<?, ?it/s]"
      ]
     },
     "metadata": {},
     "output_type": "display_data"
    },
    {
     "name": "stdout",
     "output_type": "stream",
     "text": [
      "r 4.0\n",
      "NightStreetAggregateQuery\n",
      "---------------------------  -----------------------------------------------------------------------------------------------------------------------------------------------------------------------------------\n",
      "initial_estimate             45580.5\n",
      "debiased_estimate            46451.77726245325\n",
      "nb_samples                   5186\n",
      "y_pred                       [          0           0           0 ...           2           2           2]\n",
      "y_true                       [DNNOutputCacheFloat(idx=0) DNNOutputCacheFloat(idx=1) DNNOutputCacheFloat(idx=2) ... DNNOutputCacheFloat(idx=99997) DNNOutputCacheFloat(idx=99998) DNNOutputCacheFloat(idx=99999)]\n",
      "actual_estimate              46259.0\n"
     ]
    }
   ],
   "source": [
    "#### so it doesn't really matter how many anchors we select during index construction, it basically stays the same\n",
    "from eko_paper2022.experiments.main import query_process_aggregate\n",
    "\n",
    "#### let's do query processing.... do query 1, 2, 3, \n",
    "eko_times = []\n",
    "for eko in ekos:\n",
    "    query, times = query_process_aggregate(eko, error = aggregate_error_param)\n",
    "    eko_times.append(times)\n"
   ]
  },
  {
   "cell_type": "code",
   "execution_count": null,
   "id": "ba5e8d1f-5c80-4160-9787-49dde18a7b7f",
   "metadata": {},
   "outputs": [],
   "source": [
    "46, 44, 35, 42, 38\n",
    "46, 40, 38, 36, 36\n",
    "44, 49, 39, 38, 36\n"
   ]
  },
  {
   "cell_type": "code",
   "execution_count": null,
   "id": "a5d9c3f5-ea20-4dcd-a1e6-e6390f4fc708",
   "metadata": {},
   "outputs": [],
   "source": []
  },
  {
   "cell_type": "code",
   "execution_count": null,
   "id": "48224bc8-5ef9-4f79-849b-e79f0597609a",
   "metadata": {},
   "outputs": [],
   "source": []
  },
  {
   "cell_type": "code",
   "execution_count": 11,
   "id": "a69a42f7-8569-44eb-8437-5836b1abb1c8",
   "metadata": {},
   "outputs": [
    {
     "data": {
      "text/plain": [
       "[49.03596685198801,\n",
       " 45.93999642335943,\n",
       " 42.09255796734776,\n",
       " 29.16294353753328,\n",
       " 16.894375141390732]"
      ]
     },
     "execution_count": 11,
     "metadata": {},
     "output_type": "execute_result"
    }
   ],
   "source": [
    "eko_times"
   ]
  },
  {
   "cell_type": "code",
   "execution_count": 12,
   "id": "2c77c215-65cf-457b-8f46-5767948ed3a9",
   "metadata": {},
   "outputs": [],
   "source": [
    "### we need to add in additional times....\n",
    "query_anchor_times = []\n",
    "for percentage in percentages:\n",
    "    query_anchor_time = ((anchor_count) * (1 - percentage)) * thr\n",
    "    query_anchor_times.append(query_anchor_time)"
   ]
  },
  {
   "cell_type": "code",
   "execution_count": 13,
   "id": "d69a2bb0-ec5b-46f8-a9c8-87c9cd7c4eb9",
   "metadata": {},
   "outputs": [],
   "source": [
    "eko_final_times = np.array(eko_times) + np.array(query_anchor_times)"
   ]
  },
  {
   "cell_type": "code",
   "execution_count": 14,
   "id": "f3affc81-1285-460f-90e1-552500e5275f",
   "metadata": {},
   "outputs": [
    {
     "data": {
      "text/plain": [
       "[28.57142857142857,\n",
       " 21.428571428571427,\n",
       " 14.285714285714285,\n",
       " 7.142857142857141,\n",
       " 0.0]"
      ]
     },
     "execution_count": 14,
     "metadata": {},
     "output_type": "execute_result"
    }
   ],
   "source": [
    "query_anchor_times"
   ]
  },
  {
   "cell_type": "code",
   "execution_count": 15,
   "id": "51b1e277-97f0-4d14-81d7-3adee383e337",
   "metadata": {},
   "outputs": [
    {
     "data": {
      "text/plain": [
       "[8.646330178848334,\n",
       " 15.83990008224334,\n",
       " 22.777684878025735,\n",
       " 30.11878348567656,\n",
       " 37.150178840117796]"
      ]
     },
     "execution_count": 15,
     "metadata": {},
     "output_type": "execute_result"
    }
   ],
   "source": [
    "index_construction_times"
   ]
  },
  {
   "cell_type": "code",
   "execution_count": 16,
   "id": "9220dd61-303d-4c8c-8897-5658cc5a5519",
   "metadata": {},
   "outputs": [
    {
     "data": {
      "text/plain": [
       "[49.03596685198801,\n",
       " 45.93999642335943,\n",
       " 42.09255796734776,\n",
       " 29.16294353753328,\n",
       " 16.894375141390732]"
      ]
     },
     "execution_count": 16,
     "metadata": {},
     "output_type": "execute_result"
    }
   ],
   "source": [
    "eko_times"
   ]
  },
  {
   "cell_type": "code",
   "execution_count": 17,
   "id": "0488bc1f-3925-4171-98ca-2a574bde1f54",
   "metadata": {},
   "outputs": [
    {
     "data": {
      "text/plain": [
       "[8.646330178848334,\n",
       " 15.83990008224334,\n",
       " 22.777684878025735,\n",
       " 30.11878348567656,\n",
       " 37.150178840117796]"
      ]
     },
     "execution_count": 17,
     "metadata": {},
     "output_type": "execute_result"
    }
   ],
   "source": [
    "index_construction_times"
   ]
  },
  {
   "cell_type": "code",
   "execution_count": null,
   "id": "bc833395-aee1-4a1d-9911-5788e693f8d2",
   "metadata": {},
   "outputs": [],
   "source": []
  },
  {
   "cell_type": "code",
   "execution_count": null,
   "id": "b04074ad-ce13-4f7f-a83c-3d55a2a4dd14",
   "metadata": {},
   "outputs": [],
   "source": []
  },
  {
   "cell_type": "code",
   "execution_count": 28,
   "id": "fe003c54-2b3d-4b36-bbf9-cf6b7056ce59",
   "metadata": {
    "scrolled": true,
    "tags": []
   },
   "outputs": [
    {
     "name": "stderr",
     "output_type": "stream",
     "text": [
      "100%|██████████| 5991/5991 [00:19<00:00, 303.97it/s]\n"
     ]
    },
    {
     "data": {
      "application/vnd.jupyter.widget-view+json": {
       "model_id": "939dce7423cf4efc8869e962b2553a1c",
       "version_major": 2,
       "version_minor": 0
      },
      "text/plain": [
       "Propagation:   0%|          | 0/74880 [00:00<?, ?it/s]"
      ]
     },
     "metadata": {},
     "output_type": "display_data"
    },
    {
     "name": "stderr",
     "output_type": "stream",
     "text": [
      "100%|██████████| 4493/4493 [00:16<00:00, 271.54it/s]\n"
     ]
    },
    {
     "data": {
      "application/vnd.jupyter.widget-view+json": {
       "model_id": "90fe04dc46bd4a92885b77b273f36ef3",
       "version_major": 2,
       "version_minor": 0
      },
      "text/plain": [
       "Propagation:   0%|          | 0/74880 [00:00<?, ?it/s]"
      ]
     },
     "metadata": {},
     "output_type": "display_data"
    },
    {
     "name": "stderr",
     "output_type": "stream",
     "text": [
      "100%|██████████| 2996/2996 [00:12<00:00, 242.12it/s]\n"
     ]
    },
    {
     "data": {
      "application/vnd.jupyter.widget-view+json": {
       "model_id": "8e1ba9d6ee284f26bcbf80430bc29b9c",
       "version_major": 2,
       "version_minor": 0
      },
      "text/plain": [
       "Propagation:   0%|          | 0/74880 [00:00<?, ?it/s]"
      ]
     },
     "metadata": {},
     "output_type": "display_data"
    },
    {
     "name": "stderr",
     "output_type": "stream",
     "text": [
      "100%|██████████| 1498/1498 [00:06<00:00, 214.13it/s]\n"
     ]
    },
    {
     "data": {
      "application/vnd.jupyter.widget-view+json": {
       "model_id": "16a020a907ef47adac8eabbb1c250f53",
       "version_major": 2,
       "version_minor": 0
      },
      "text/plain": [
       "Propagation:   0%|          | 0/74880 [00:00<?, ?it/s]"
      ]
     },
     "metadata": {},
     "output_type": "display_data"
    },
    {
     "name": "stderr",
     "output_type": "stream",
     "text": [
      "100%|██████████| 1247/1247 [00:05<00:00, 214.30it/s]\n"
     ]
    },
    {
     "data": {
      "application/vnd.jupyter.widget-view+json": {
       "model_id": "c4933e12d85c48c4a9b2968166382fbd",
       "version_major": 2,
       "version_minor": 0
      },
      "text/plain": [
       "Propagation:   0%|          | 0/74880 [00:00<?, ?it/s]"
      ]
     },
     "metadata": {},
     "output_type": "display_data"
    }
   ],
   "source": [
    "## perform experiments for q2 and q3\n",
    "\n",
    "cherry_p = []\n",
    "cherry_r = []\n",
    "for eko in ekos:\n",
    "    precision, recall = query_process_precision(eko, dnn_invocation = dnn_invocation)\n",
    "    cherry_p.append(precision)\n",
    "    cherry_r.append(recall)\n",
    "    \n"
   ]
  },
  {
   "cell_type": "code",
   "execution_count": 29,
   "id": "9604a0b2-35c6-4a71-99cf-a94a91fa7419",
   "metadata": {},
   "outputs": [
    {
     "data": {
      "text/plain": [
       "([0.9678173363186773,\n",
       "  0.9665683382497542,\n",
       "  0.9672143280047365,\n",
       "  0.9574286636242105,\n",
       "  0.967385404845315],\n",
       " [0.8689745062519331,\n",
       "  0.8686431317103345,\n",
       "  0.8661467768302921,\n",
       "  0.9176644722308134,\n",
       "  0.8662572350108249])"
      ]
     },
     "execution_count": 29,
     "metadata": {},
     "output_type": "execute_result"
    }
   ],
   "source": [
    "cherry_p, cherry_r"
   ]
  },
  {
   "cell_type": "code",
   "execution_count": null,
   "id": "79a920c7-377d-4364-8456-9ac99b8e9cce",
   "metadata": {},
   "outputs": [],
   "source": []
  },
  {
   "cell_type": "code",
   "execution_count": null,
   "id": "0467c36a-0f22-4082-a113-1a5d0e846664",
   "metadata": {},
   "outputs": [],
   "source": []
  },
  {
   "cell_type": "code",
   "execution_count": null,
   "id": "d0fe8be7-4cd4-4998-8356-09efc12346ca",
   "metadata": {},
   "outputs": [],
   "source": [
    "def f1_score(precisions, recalls):\n",
    "    f1s = []\n",
    "    for precision, recall in zip(precisions, recalls):\n",
    "        f1s.append(2* precision * recall / (precision + recall))\n",
    "    return f1s"
   ]
  },
  {
   "cell_type": "code",
   "execution_count": 9,
   "id": "042c8d94-6c8f-4d72-b710-cff5477db1fe",
   "metadata": {},
   "outputs": [],
   "source": [
    "def f1_score2(arr):\n",
    "    result = []\n",
    "    for p,r in arr:\n",
    "        result.append( 2 * p * r / (p + r) )\n",
    "        \n",
    "    return np.array(result)"
   ]
  },
  {
   "cell_type": "code",
   "execution_count": null,
   "id": "25a75105-7e0e-4c2f-b882-bb46194a7f97",
   "metadata": {},
   "outputs": [],
   "source": [
    "index_construction_times"
   ]
  },
  {
   "cell_type": "code",
   "execution_count": null,
   "id": "e70a2270-e01a-485c-bb6a-52405ee8457d",
   "metadata": {},
   "outputs": [],
   "source": [
    "eko_final_times"
   ]
  },
  {
   "cell_type": "code",
   "execution_count": null,
   "id": "b2de6535-7e28-4561-a8b9-94e5f381ded1",
   "metadata": {},
   "outputs": [],
   "source": []
  },
  {
   "cell_type": "code",
   "execution_count": null,
   "id": "78473a94-330f-481c-a3af-8b6cf52a9134",
   "metadata": {},
   "outputs": [],
   "source": []
  },
  {
   "cell_type": "code",
   "execution_count": 3,
   "id": "c229f13a-3b6c-41e2-ad2c-77379593aae1",
   "metadata": {},
   "outputs": [],
   "source": [
    "import numpy as np"
   ]
  },
  {
   "cell_type": "code",
   "execution_count": 10,
   "id": "78d89a88-735e-42b3-ae69-1c2bfa37637a",
   "metadata": {},
   "outputs": [],
   "source": [
    "a = np.array([7595, 7399, 7284, 7116, 7163])\n",
    "b = np.array([5637, 5668, 5678, 5449, 5423])\n",
    "c = np.array([5339, 5200, 5354, 5103, 5190])\n",
    "\n",
    "a = a / max(a)\n",
    "b = b / max(b)\n",
    "c = c / max(c)\n",
    "\n",
    "data1 = np.array([a,b,c])"
   ]
  },
  {
   "cell_type": "code",
   "execution_count": 11,
   "id": "2bc8fa80-5658-4140-b1b2-03b2e1515eff",
   "metadata": {},
   "outputs": [],
   "source": [
    "a = np.array([10166, 10012, 10253, 9450, 9310])\n",
    "b = np.array([9985, 9290, 9237, 8690, 7547])\n",
    "c = np.array([8718, 8396, 7964, 7904, 7572])\n",
    "\n",
    "a = a / max(a)\n",
    "b = b / max(b)\n",
    "c = c / max(c)\n",
    "\n",
    "data3 = np.array([a,b,c])"
   ]
  },
  {
   "cell_type": "code",
   "execution_count": null,
   "id": "e1d78fcf-803e-4cc3-a1cb-a460d359d6b4",
   "metadata": {},
   "outputs": [],
   "source": []
  },
  {
   "cell_type": "code",
   "execution_count": 12,
   "id": "7422f307-c99d-4924-b942-5c7f331eeec5",
   "metadata": {},
   "outputs": [],
   "source": [
    "\n",
    "a = np.array([(0.78, 0.1), (0.92, 0.69), (0.8, 0.1), (0.79, 0.1), (0.79, 0.1)])\n",
    "b = np.array([(0.96, 0.86), (0.95, 0.9), (0.96, 0.9), (0.96, 0.89), (0.96, 0.9)])\n",
    "c = np.array([(0.97, 0.92), (0.95, 0.95), (0.95, 0.95), (0.97, 0.92), (0.95, 0.94)])\n",
    "\n",
    "a = f1_score2(a)\n",
    "b = f1_score2(b)\n",
    "c = f1_score2(c)\n",
    "\n",
    "a = 1 / a\n",
    "b = 1 / b\n",
    "c = 1 / c\n",
    "\n",
    "a\n",
    "\n",
    "a = a / max(a)\n",
    "b = b / max(b)\n",
    "c = c / max(c)\n",
    "\n",
    "data2 = np.array([a, b, c])"
   ]
  },
  {
   "cell_type": "code",
   "execution_count": 13,
   "id": "3b61fe29-423b-4813-a564-c6362a2644df",
   "metadata": {},
   "outputs": [],
   "source": [
    "\n",
    "a = np.array([(0.8, 0.06), (0.84, 0.07), (0.87, 0.11), (0.83, 0.06), (0.83, 0.06)])\n",
    "b = np.array([(0.86, 0.07), (0.87, 0.07), (0.96, 0.72), (0.96, 0.84), (0.95, 0.61)])\n",
    "c = np.array([(0.97, 0.87), (0.97, 0.87), (0.97, 0.87), (0.96, 0.92), (0.97, 0.87)])\n",
    "\n",
    "a = f1_score2(a)\n",
    "b = f1_score2(b)\n",
    "c = f1_score2(c)\n",
    "\n",
    "a = 1 / a\n",
    "b = 1 / b\n",
    "c = 1 / c\n",
    "\n",
    "a\n",
    "\n",
    "a = a / max(a)\n",
    "b = b / max(b)\n",
    "c = c / max(c)\n",
    "\n",
    "data4 = np.array([a, b, c])"
   ]
  },
  {
   "cell_type": "code",
   "execution_count": 18,
   "id": "128df2fd-db0c-4c86-8094-7cb7865bb713",
   "metadata": {},
   "outputs": [
    {
     "name": "stdout",
     "output_type": "stream",
     "text": [
      "['1%', '5%', '10%']\n",
      "['20%', '40%', '60%', '80%', '100%']\n",
      "['1%', '5%', '10%']\n",
      "['20%', '40%', '60%', '80%', '100%']\n",
      "['1%', '5%', '10%']\n",
      "['20%', '40%', '60%', '80%', '100%']\n",
      "['1%', '5%', '10%']\n",
      "['20%', '40%', '60%', '80%', '100%']\n"
     ]
    },
    {
     "data": {
      "image/png": "[encoded data removed]",
      "text/plain": [
       "<Figure size 720x432 with 8 Axes>"
      ]
     },
     "metadata": {
      "needs_background": "light"
     },
     "output_type": "display_data"
    }
   ],
   "source": [
    "import numpy as np\n",
    "import matplotlib\n",
    "import matplotlib as mpl\n",
    "import matplotlib.pyplot as plt\n",
    "font = {\n",
    "        'weight' : 'normal',\n",
    "        'size'   : 15}\n",
    "\n",
    "\n",
    "matplotlib.rc('font', **font)\n",
    "matplotlib.rc('ytick', labelsize=15)\n",
    "\n",
    "row = ['1%', '5%', '10%']\n",
    "col = ['20%', '40%', '60%', '80%', '100%']\n",
    "\n",
    "rows = 2\n",
    "columns = 2\n",
    "fig_size = (10, 6)\n",
    "fig, axes = plt.subplots(rows, columns, sharey = False, sharex=True, figsize=fig_size)\n",
    "\n",
    "#fig, ax = plt.subplots()\n",
    "\n",
    "im, cbar = heatmap(data1, col, row, ax=axes[0,0],\n",
    "                   cmap=\"Blues\", xlabel = '', title = 'Cherry | Q1')\n",
    "#texts = annotate_heatmap(im, valfmt=\"{x:.1f}\")\n",
    "\n",
    "im, cbar = heatmap(data3, col, row, ax=axes[0,1],\n",
    "                   cmap=\"Blues\", ylabel = '', xlabel = '', title = 'Dashcam | Q1', cbarlabel=\"Normalized Time\\n (Lower is Better)\")\n",
    "\n",
    "im, cbar = heatmap(data2, col, row, ax=axes[1,0],\n",
    "                   cmap=\"Blues\", xlabel = 'Anchor Sampling Ratio', title = 'Cherry | Q2')\n",
    "\n",
    "im, cbar = heatmap(data4, col, row, ax=axes[1,1],\n",
    "                   cmap=\"Blues\", xlabel = 'Anchor Sampling Ratio', ylabel = '', title = 'Dashcam | Q2',  cbarlabel=\"Normalized\\n Reciprocal of F1-Score\\n(Lower is Better)\")\n",
    "\n",
    "\n",
    "fig.tight_layout()\n",
    "\n",
    "plt.savefig('plots/rq3.png',  bbox_inches='tight')\n",
    "plt.show()"
   ]
  },
  {
   "cell_type": "code",
   "execution_count": 2,
   "id": "167db6b1-2f5e-44a0-846d-0d30e9d857a8",
   "metadata": {},
   "outputs": [],
   "source": [
    "\n",
    "\n",
    "\n",
    "def heatmap(data, row_labels, col_labels, ax=None,\n",
    "            cbar_kw=None, cbarlabel=\"\", xlabel = 'C Param Value', ylabel = 'Sampling Budget',title = '', **kwargs):\n",
    "    \"\"\"\n",
    "    Create a heatmap from a numpy array and two lists of labels.\n",
    "\n",
    "    Parameters\n",
    "    ----------\n",
    "    data\n",
    "        A 2D numpy array of shape (M, N).\n",
    "    row_labels\n",
    "        A list or array of length M with the labels for the rows.\n",
    "    col_labels\n",
    "        A list or array of length N with the labels for the columns.\n",
    "    ax\n",
    "        A `matplotlib.axes.Axes` instance to which the heatmap is plotted.  If\n",
    "        not provided, use current axes or create a new one.  Optional.\n",
    "    cbar_kw\n",
    "        A dictionary with arguments to `matplotlib.Figure.colorbar`.  Optional.\n",
    "    cbarlabel\n",
    "        The label for the colorbar.  Optional.\n",
    "    **kwargs\n",
    "        All other arguments are forwarded to `imshow`.\n",
    "    \"\"\"\n",
    "\n",
    "    if ax is None:\n",
    "        ax = plt.gca()\n",
    "\n",
    "    if cbar_kw is None:\n",
    "        cbar_kw = {}\n",
    "\n",
    "    # Plot the heatmap\n",
    "    im = ax.imshow(data, **kwargs)\n",
    "\n",
    "    # Create colorbar\n",
    "    cbar = ax.figure.colorbar(im, ax=ax)\n",
    "    cbar.ax.set_ylabel(cbarlabel, rotation=-90, weight = 'bold', va=\"bottom\")\n",
    "    print(col_labels)\n",
    "    print(row_labels)\n",
    "\n",
    "    # Show all ticks and label them with the respective list entries.\n",
    "    ax.set_xticks(np.arange(data.shape[1]))\n",
    "    ax.set_yticks(np.arange(data.shape[0]))\n",
    "    ax.set_xticklabels(row_labels, weight = 'normal')\n",
    "    ax.set_yticklabels(col_labels, weight = 'normal')\n",
    "    ax.set_xlabel(xlabel, weight = 'bold')\n",
    "    ax.set_ylabel(ylabel, weight = 'bold')\n",
    "    ax.set_title(title, weight = 'bold')\n",
    "\n",
    "    \n",
    "    \n",
    "    # Let the horizontal axes labeling appear on top.\n",
    "    ax.tick_params(top=True, bottom=False,\n",
    "                   labeltop=True, labelbottom=False)\n",
    "\n",
    "    # Rotate the tick labels and set their alignment.\n",
    "    plt.setp(ax.get_xticklabels(), \n",
    "             rotation_mode=\"anchor\")\n",
    "\n",
    "    # Turn spines off and create white grid.\n",
    "    ax.spines[:].set_visible(False)\n",
    "\n",
    "    ax.set_xticks(np.arange(data.shape[1]+1)-.5, minor=True)\n",
    "    ax.set_yticks(np.arange(data.shape[0]+1)-.5, minor=True)\n",
    "    ax.grid(which=\"minor\", color=\"w\", linestyle='-', linewidth=10)\n",
    "    ax.tick_params(which=\"minor\", bottom=False, left=False)\n",
    "\n",
    "    return im, cbar\n",
    "\n",
    "\n",
    "def annotate_heatmap(im, data=None, valfmt=\"{x:.2f}\",\n",
    "                     textcolors=(\"black\", \"white\"),\n",
    "                     threshold=None, **textkw):\n",
    "    \"\"\"\n",
    "    A function to annotate a heatmap.\n",
    "\n",
    "    Parameters\n",
    "    ----------\n",
    "    im\n",
    "        The AxesImage to be labeled.\n",
    "    data\n",
    "        Data used to annotate.  If None, the image's data is used.  Optional.\n",
    "    valfmt\n",
    "        The format of the annotations inside the heatmap.  This should either\n",
    "        use the string format method, e.g. \"$ {x:.2f}\", or be a\n",
    "        `matplotlib.ticker.Formatter`.  Optional.\n",
    "    textcolors\n",
    "        A pair of colors.  The first is used for values below a threshold,\n",
    "        the second for those above.  Optional.\n",
    "    threshold\n",
    "        Value in data units according to which the colors from textcolors are\n",
    "        applied.  If None (the default) uses the middle of the colormap as\n",
    "        separation.  Optional.\n",
    "    **kwargs\n",
    "        All other arguments are forwarded to each call to `text` used to create\n",
    "        the text labels.\n",
    "    \"\"\"\n",
    "\n",
    "    if not isinstance(data, (list, np.ndarray)):\n",
    "        data = im.get_array()\n",
    "\n",
    "    # Normalize the threshold to the images color range.\n",
    "    if threshold is not None:\n",
    "        threshold = im.norm(threshold)\n",
    "    else:\n",
    "        threshold = im.norm(data.max())/2.\n",
    "\n",
    "    # Set default alignment to center, but allow it to be\n",
    "    # overwritten by textkw.\n",
    "    kw = dict(horizontalalignment=\"center\",\n",
    "              verticalalignment=\"center\")\n",
    "    kw.update(textkw)\n",
    "\n",
    "    # Get the formatter in case a string is supplied\n",
    "    if isinstance(valfmt, str):\n",
    "        valfmt = matplotlib.ticker.StrMethodFormatter(valfmt)\n",
    "\n",
    "    # Loop over the data and create a `Text` for each \"pixel\".\n",
    "    # Change the text's color depending on the data.\n",
    "    texts = []\n",
    "    for i in range(data.shape[0]):\n",
    "        for j in range(data.shape[1]):\n",
    "            kw.update(color=textcolors[int(im.norm(data[i, j]) > threshold)])\n",
    "            text = im.axes.text(j, i, valfmt(data[i, j], None), **kw)\n",
    "            texts.append(text)\n",
    "\n",
    "    return texts"
   ]
  },
  {
   "cell_type": "code",
   "execution_count": null,
   "id": "94fc3771-8a9d-4ed0-9cab-a8183be36a27",
   "metadata": {},
   "outputs": [],
   "source": []
  },
  {
   "cell_type": "code",
   "execution_count": null,
   "id": "9d8a48ad-6ddc-4b67-8759-cf687b872caf",
   "metadata": {},
   "outputs": [],
   "source": []
  },
  {
   "cell_type": "code",
   "execution_count": null,
   "id": "465f2ce3-2ad5-46f2-b350-e6e9b41d69a7",
   "metadata": {},
   "outputs": [],
   "source": []
  },
  {
   "cell_type": "code",
   "execution_count": null,
   "id": "196e0e67-6983-44e9-ab84-320385611123",
   "metadata": {},
   "outputs": [],
   "source": []
  },
  {
   "cell_type": "code",
   "execution_count": null,
   "id": "99a082d8-000d-4169-b2b8-09c34986bc64",
   "metadata": {},
   "outputs": [],
   "source": []
  },
  {
   "cell_type": "code",
   "execution_count": null,
   "id": "b4fc394a-9c72-4cc6-ac6f-81b05ad16c64",
   "metadata": {},
   "outputs": [],
   "source": []
  },
  {
   "cell_type": "code",
   "execution_count": 21,
   "id": "8b6b98fc-efa2-44b2-9249-597011d63455",
   "metadata": {},
   "outputs": [],
   "source": [
    "#### Data Logs\n",
    "### data for q1\n",
    "\n",
    "cherry_ic = [1.0710389316082,\n",
    " 15.383615641189472,\n",
    " 29.464398205812486,\n",
    " 43.89342100811856,\n",
    " 58.07528316708547,\n",
    " 72.35027253574559]\n",
    "cherry_q = [     84.324,        69.8,      54.851,       39.94,      24.578,      9.6502]\n",
    "\n",
    "\n",
    "detrac_ic = [1.5058171339333057,\n",
    " 12.327909092434815,\n",
    " 22.83930432985936,\n",
    " 33.62358132475189,\n",
    " 44.15341447672674,\n",
    " 55.206115334374566]\n",
    "detrac_q = [     82.642,      70.249,      59.914,      47.818,      34.056,       24.74]\n",
    "\n",
    "dashcam_ic = [1.206959567964077,\n",
    " 12.324619951673917,\n",
    " 22.604819027738912,\n",
    " 33.79782994561962,\n",
    " 43.98191894597241,\n",
    " 54.671717691315074]\n",
    "dashcam_q = [     84.619,      71.855,      60.019,      48.933,      33.928,       24.52]\n",
    "\n"
   ]
  },
  {
   "cell_type": "code",
   "execution_count": 22,
   "id": "0771fe5d-169b-4cde-a407-963026b53e82",
   "metadata": {},
   "outputs": [
    {
     "data": {
      "text/plain": [
       "([0.9320137693631669,\n",
       "  0.9501276595744681,\n",
       "  0.9549714337330353,\n",
       "  0.9588087631218621,\n",
       "  0.9572455802876249,\n",
       "  0.9601903029454978],\n",
       " [0.1435514514204922,\n",
       "  0.6165775637343701,\n",
       "  0.934233199310741,\n",
       "  0.9281800910175407,\n",
       "  0.9234524808907347,\n",
       "  0.9095568417797022])"
      ]
     },
     "execution_count": 22,
     "metadata": {},
     "output_type": "execute_result"
    }
   ],
   "source": [
    "cherry_p, cherry_r"
   ]
  },
  {
   "cell_type": "code",
   "execution_count": 23,
   "id": "80019a0f-e102-4356-8495-ef448a1b6e68",
   "metadata": {},
   "outputs": [],
   "source": [
    "#### data for q2\n",
    "cherry_p = [0.9637119113573407,\n",
    "  0.964120338278109,\n",
    "  0.9656433558683365,\n",
    "  0.9691447331812364,\n",
    "  0.9655881127621164,\n",
    "  0.953049703979072]\n",
    "cherry_r = [0.9660132170822457,\n",
    "  0.9654856444715944,\n",
    "  0.9677347698117399,\n",
    "  0.9672071972010885,\n",
    "  0.9653468095740545,\n",
    "  0.9610151607708114]\n",
    "cherry_f = f1_score(cherry_p, cherry_r)\n",
    "\n",
    "detrac_p = [0.9320137693631669,\n",
    "  0.9501276595744681,\n",
    "  0.9549714337330353,\n",
    "  0.9588087631218621,\n",
    "  0.9572455802876249,\n",
    "  0.9601903029454978]\n",
    "detrac_r = [0.1435514514204922,\n",
    "  0.6165775637343701,\n",
    "  0.934233199310741,\n",
    "  0.9281800910175407,\n",
    "  0.9234524808907347,\n",
    "  0.9095568417797022]\n",
    "detrac_f = f1_score(detrac_p, detrac_r)\n",
    "\n",
    "dashcam_p = [0.9320137693631669,\n",
    "  0.9501276595744681,\n",
    "  0.9549714337330353,\n",
    "  0.9588087631218621,\n",
    "  0.9572455802876249,\n",
    "  0.9601903029454978]\n",
    "dashcam_r = [0.1435514514204922,\n",
    "  0.6165775637343701,\n",
    "  0.934233199310741,\n",
    "  0.9281800910175407,\n",
    "  0.9234524808907347,\n",
    "  0.9095568417797022]\n",
    "dashcam_f = f1_score(dashcam_p, dashcam_r)\n",
    "\n"
   ]
  },
  {
   "cell_type": "code",
   "execution_count": 25,
   "id": "c7b52a6e-18f8-4e27-828b-edb82fb55aae",
   "metadata": {},
   "outputs": [
    {
     "data": {
      "text/plain": [
       "[0.24878440981660863,\n",
       " 0.7478463578998137,\n",
       " 0.944488492333806,\n",
       " 0.9432458523224748,\n",
       " 0.940045426945825,\n",
       " 0.9341879857053718]"
      ]
     },
     "execution_count": 25,
     "metadata": {},
     "output_type": "execute_result"
    }
   ],
   "source": [
    "detrac_f"
   ]
  },
  {
   "cell_type": "code",
   "execution_count": 24,
   "id": "890df909-3664-4700-bbef-f72f85a11e50",
   "metadata": {},
   "outputs": [
    {
     "data": {
      "text/plain": [
       "[0, 0.2, 0.4, 0.6, 0.8, 1.0]"
      ]
     },
     "execution_count": 24,
     "metadata": {},
     "output_type": "execute_result"
    }
   ],
   "source": [
    "percentages"
   ]
  },
  {
   "cell_type": "code",
   "execution_count": 27,
   "id": "bd387d66-59d0-4178-84c9-a70d4a63b470",
   "metadata": {},
   "outputs": [
    {
     "name": "stderr",
     "output_type": "stream",
     "text": [
      "<ipython-input-27-8e1f5efaa55b>:36: UserWarning: FixedFormatter should only be used together with FixedLocator\n",
      "  axes[i][j].set_xticklabels(x_axis_names, rotation = 30, ha = 'right',rotation_mode='anchor')\n",
      "<ipython-input-27-8e1f5efaa55b>:47: UserWarning: FixedFormatter should only be used together with FixedLocator\n",
      "  axes[i][j].set_xticklabels(x_axis_names, rotation = 30, ha = 'right', rotation_mode='anchor')\n",
      "<ipython-input-27-8e1f5efaa55b>:51: UserWarning: FixedFormatter should only be used together with FixedLocator\n",
      "  axes[i][j].set_xticklabels(x_axis_names, rotation = 30, ha = 'right', rotation_mode='anchor')\n",
      "<ipython-input-27-8e1f5efaa55b>:60: UserWarning: FixedFormatter should only be used together with FixedLocator\n",
      "  axes[i][j].set_xticklabels(x_axis_names, rotation = 30, ha = 'right', rotation_mode='anchor')\n",
      "<ipython-input-27-8e1f5efaa55b>:71: UserWarning: FixedFormatter should only be used together with FixedLocator\n",
      "  axes[i][j].set_xticklabels(x_axis_names, rotation = 30, ha = 'right', rotation_mode='anchor')\n"
     ]
    },
    {
     "data": {
      "image/png": "[encoded data removed]",
      "text/plain": [
       "<Figure size 576x360 with 4 Axes>"
      ]
     },
     "metadata": {
      "needs_background": "light"
     },
     "output_type": "display_data"
    }
   ],
   "source": [
    "import numpy as np\n",
    "import matplotlib.pyplot as plt\n",
    "%matplotlib inline\n",
    "import matplotlib\n",
    "\n",
    "font = {\n",
    "        'weight' : 'bold',\n",
    "        'size'   : 15}\n",
    "\n",
    "matplotlib.rc('font', **font)\n",
    "matplotlib.rc('ytick', labelsize=15)\n",
    "\n",
    "\n",
    "x_axis_names = ['0%', '20%', '40%', '60%', '80%', '100%']\n",
    "\n",
    "x = np.arange(len(x_axis_names))\n",
    "\n",
    "\n",
    "### we need to do subplots\n",
    "rows = 2\n",
    "columns = 2\n",
    "fig_size = (8, 5)\n",
    "fig, axes = plt.subplots(rows, columns, sharey = False, sharex=True, figsize=fig_size)\n",
    "\n",
    "\n",
    "i = 0\n",
    "j = 0\n",
    "width = 0.6\n",
    "\n",
    "axes[i][j].bar(x_axis_names, detrac_ic, width, label='Index Construction')\n",
    "axes[i][j].bar(x_axis_names, detrac_q, width, bottom = detrac_ic, label='Query Execution', color = 'lightsteelblue')\n",
    "axes[i][j].set_ylabel('Time (s)', weight = 'bold', size = 15)\n",
    "#axes[i][j].set_ylim(0, 200)\n",
    "#axes[i][j].set_yticks([0, 50, 100, 150, 200])\n",
    "\n",
    "axes[i][j].set_xticklabels(x_axis_names, rotation = 30, ha = 'right',rotation_mode='anchor')\n",
    "#plt.ylim(0, 2)\n",
    "#plt.xticks(x, x_axis_names)\n",
    "axes[i][j].set_title('UA-DETRAC | Q1', weight = 'bold', size = 15)\n",
    "\n",
    "\n",
    "i = 0\n",
    "j = 1\n",
    "\n",
    "axes[i][j].bar(x_axis_names, dashcam_ic, width, label='Index Construction')\n",
    "axes[i][j].bar(x_axis_names, dashcam_q, width, bottom = dashcam_ic, label='Query Execution', color = 'lightsteelblue')\n",
    "axes[i][j].set_xticklabels(x_axis_names, rotation = 30, ha = 'right', rotation_mode='anchor')\n",
    "#axes[i][j].set_ylabel('Time (s)', weight = 'bold', size = 15)\n",
    "axes[i][j].set_title('Dashcam | Q1', weight = 'bold', size = 15)\n",
    "\n",
    "axes[i][j].set_xticklabels(x_axis_names, rotation = 30, ha = 'right', rotation_mode='anchor')\n",
    "\n",
    "\n",
    "i = 1\n",
    "j = 0\n",
    "\n",
    "axes[i][j].bar(x_axis_names, detrac_f, width, label='F1-Score', color = 'slategray')\n",
    "axes[i][j].set_title('UA-DETRAC | Q2', weight = 'bold', size = 15)\n",
    "axes[i][j].set_ylabel('F1-Score', weight = 'bold', size = 15)\n",
    "axes[i][j].set_xticklabels(x_axis_names, rotation = 30, ha = 'right', rotation_mode='anchor')\n",
    "\n",
    "\n",
    "\n",
    "i = 1\n",
    "j = 1\n",
    "axes[i][j].bar(x_axis_names, dashcam_f, width, label='F1-Score', color = 'slategray')\n",
    "\n",
    "axes[i][j].set_title('Dashcam | Q2', weight = 'bold', size = 15)\n",
    "#axes[i][j].set_ylabel('F1-Score', weight = 'bold', size = 15)\n",
    "\n",
    "axes[i][j].set_xticklabels(x_axis_names, rotation = 30, ha = 'right', rotation_mode='anchor')\n",
    "\n",
    "\n",
    "\n",
    "\n",
    "plt.tight_layout()\n",
    "\n",
    "lgd = axes[0][0].legend(loc='upper center', bbox_to_anchor=(1, 1.6),\n",
    "          fancybox=True, shadow=True, ncol=10)\n",
    "\n",
    "\n",
    "#plt.legend()\n",
    "plt.savefig('plots/rq3.png', bbox_extra_artists=(lgd,), bbox_inches='tight')\n",
    "plt.show()"
   ]
  },
  {
   "cell_type": "markdown",
   "id": "dcb2383e-3c4f-4834-a208-1e2a6ac4510c",
   "metadata": {},
   "source": [
    "## Post Analysis"
   ]
  },
  {
   "cell_type": "code",
   "execution_count": 29,
   "id": "e33c67b2-7e26-4bf3-b648-0860b4b60b74",
   "metadata": {},
   "outputs": [
    {
     "name": "stdout",
     "output_type": "stream",
     "text": [
      "hello world\n"
     ]
    }
   ],
   "source": [
    "print('hello world')"
   ]
  },
  {
   "cell_type": "code",
   "execution_count": 30,
   "id": "39c796c6-7c40-4aba-ab9b-1870f20e93ab",
   "metadata": {},
   "outputs": [
    {
     "data": {
      "text/plain": [
       "(74880, 540, 960, 3)"
      ]
     },
     "execution_count": 30,
     "metadata": {},
     "output_type": "execute_result"
    }
   ],
   "source": [
    "images.shape"
   ]
  },
  {
   "cell_type": "code",
   "execution_count": 33,
   "id": "73625b54-7d69-485a-9ee9-f042e4f8abdf",
   "metadata": {},
   "outputs": [
    {
     "data": {
      "text/plain": [
       "([EKO, EKO, EKO, EKO, EKO, EKO], [0, 0.2, 0.4, 0.6, 0.8, 1.0])"
      ]
     },
     "execution_count": 33,
     "metadata": {},
     "output_type": "execute_result"
    }
   ],
   "source": [
    "### we will have to get 3 things\n",
    "### 1. GT_retrieval\n",
    "### 2. eko labels\n",
    "### 3. anchor locations\n",
    "\n",
    "\n",
    "ekos, percentages"
   ]
  },
  {
   "cell_type": "code",
   "execution_count": 70,
   "id": "f02a630e-b78e-4db2-9769-2e8073c36378",
   "metadata": {},
   "outputs": [],
   "source": [
    "### define a label smoothing function\n",
    "\n",
    "def label_smoothing(labels):\n",
    "    new_labels = []\n",
    "    smooth_rate = 15\n",
    "    for i in range(len(labels)):\n",
    "        start = max(i - smooth_rate, 0)\n",
    "        end = min(i + smooth_rate, len(labels) - 1)\n",
    "        candidates = labels[start:end]\n",
    "        if sum(candidates) / len(candidates) >= 0.5:\n",
    "            new_labels.append(1)\n",
    "        else: \n",
    "            new_labels.append(0)\n",
    "            \n",
    "    return np.array(new_labels)"
   ]
  },
  {
   "cell_type": "code",
   "execution_count": 71,
   "id": "423cf92e-6c32-40f0-9762-245d1d447252",
   "metadata": {},
   "outputs": [],
   "source": [
    "gt_smooth = label_smoothing(gt_retrieval)"
   ]
  },
  {
   "cell_type": "code",
   "execution_count": 72,
   "id": "9cf10dc6-19ce-4746-b722-6d357e27cfd7",
   "metadata": {},
   "outputs": [
    {
     "data": {
      "text/plain": [
       "<matplotlib.legend.Legend at 0x7f2c3b8a7e20>"
      ]
     },
     "execution_count": 72,
     "metadata": {},
     "output_type": "execute_result"
    },
    {
     "data": {
      "image/png": "[encoded data removed]",
      "text/plain": [
       "<Figure size 1440x216 with 1 Axes>"
      ]
     },
     "metadata": {
      "needs_background": "light"
     },
     "output_type": "display_data"
    }
   ],
   "source": [
    "plt.figure(figsize = (20, 3))\n",
    "plt.plot(gt_retrieval[0:1000], label = 'retrieval')\n",
    "plt.plot(gt_smooth[0:1000], label = 'smooth')\n",
    "plt.legend()"
   ]
  },
  {
   "cell_type": "code",
   "execution_count": 77,
   "id": "3c37e48e-9b2f-43f6-944a-6cdd68252449",
   "metadata": {},
   "outputs": [
    {
     "data": {
      "text/plain": [
       "45234"
      ]
     },
     "execution_count": 77,
     "metadata": {},
     "output_type": "execute_result"
    }
   ],
   "source": [
    "sum(gt_smooth)"
   ]
  },
  {
   "cell_type": "code",
   "execution_count": 78,
   "id": "49399a2a-0bc6-40b8-9fa7-ff673da07e34",
   "metadata": {},
   "outputs": [
    {
     "data": {
      "text/plain": [
       "45266.0"
      ]
     },
     "execution_count": 78,
     "metadata": {},
     "output_type": "execute_result"
    }
   ],
   "source": [
    "sum(gt_retrieval)"
   ]
  },
  {
   "cell_type": "code",
   "execution_count": 73,
   "id": "bcb87357-7d3a-441e-a5a5-27fc86621f17",
   "metadata": {},
   "outputs": [
    {
     "data": {
      "application/vnd.jupyter.widget-view+json": {
       "model_id": "1b1c9626d42245df9e8b6d3e0722ce6f",
       "version_major": 2,
       "version_minor": 0
      },
      "text/plain": [
       "Propagation:   0%|          | 0/74880 [00:00<?, ?it/s]"
      ]
     },
     "metadata": {},
     "output_type": "display_data"
    },
    {
     "data": {
      "application/vnd.jupyter.widget-view+json": {
       "model_id": "bf35d920782e41b78a3c8e1003eb907b",
       "version_major": 2,
       "version_minor": 0
      },
      "text/plain": [
       "Propagation:   0%|          | 0/74880 [00:00<?, ?it/s]"
      ]
     },
     "metadata": {},
     "output_type": "display_data"
    },
    {
     "data": {
      "application/vnd.jupyter.widget-view+json": {
       "model_id": "9326bba09883446dacbdd3d3f064c8f7",
       "version_major": 2,
       "version_minor": 0
      },
      "text/plain": [
       "Propagation:   0%|          | 0/74880 [00:00<?, ?it/s]"
      ]
     },
     "metadata": {},
     "output_type": "display_data"
    },
    {
     "data": {
      "application/vnd.jupyter.widget-view+json": {
       "model_id": "32fe2e38021c48ee9beff03ff379a9eb",
       "version_major": 2,
       "version_minor": 0
      },
      "text/plain": [
       "Propagation:   0%|          | 0/74880 [00:00<?, ?it/s]"
      ]
     },
     "metadata": {},
     "output_type": "display_data"
    },
    {
     "data": {
      "application/vnd.jupyter.widget-view+json": {
       "model_id": "baa89ee0ce424eeb84d76ac72d86b8a4",
       "version_major": 2,
       "version_minor": 0
      },
      "text/plain": [
       "Propagation:   0%|          | 0/74880 [00:00<?, ?it/s]"
      ]
     },
     "metadata": {},
     "output_type": "display_data"
    },
    {
     "data": {
      "application/vnd.jupyter.widget-view+json": {
       "model_id": "651aedc23aae4479bfa67f523b50cc59",
       "version_major": 2,
       "version_minor": 0
      },
      "text/plain": [
       "Propagation:   0%|          | 0/74880 [00:00<?, ?it/s]"
      ]
     },
     "metadata": {},
     "output_type": "display_data"
    }
   ],
   "source": [
    "\n",
    "cherry_p = []\n",
    "cherry_r = []\n",
    "dnn_invocation = int(len(images) * 0.1)\n",
    "for eko in ekos:\n",
    "    \n",
    "    query = get_labels(eko)\n",
    "    a = query.y_pred\n",
    "    b = query.y_true\n",
    "    eko_pred = a\n",
    "    precision, recall = query_process_precision(None, dnn_invocation = dnn_invocation, y = (eko_pred, gt_smooth))\n",
    "    cherry_p.append(precision)\n",
    "    cherry_r.append(recall)"
   ]
  },
  {
   "cell_type": "code",
   "execution_count": 76,
   "id": "ec3f6e88-6514-4ffd-9232-72edcb56c028",
   "metadata": {},
   "outputs": [
    {
     "data": {
      "text/plain": [
       "([0.9679339948712231,\n",
       "  0.9646349304893461,\n",
       "  0.9626552368392131,\n",
       "  0.9658002129169624,\n",
       "  0.958443815593039,\n",
       "  0.9664824961599303],\n",
       " [0.9596100278551533,\n",
       "  0.9617986470354158,\n",
       "  0.968209753725074,\n",
       "  0.9626829376132997,\n",
       "  0.950921872927444,\n",
       "  0.9319759472962815])"
      ]
     },
     "execution_count": 76,
     "metadata": {},
     "output_type": "execute_result"
    }
   ],
   "source": [
    "cherry_p, cherry_r"
   ]
  },
  {
   "cell_type": "code",
   "execution_count": 75,
   "id": "f2bc50e6-b92f-4f7e-9744-c141c4fe3a8d",
   "metadata": {},
   "outputs": [
    {
     "data": {
      "text/plain": [
       "[0.9637540381220928,\n",
       " 0.9632147008357779,\n",
       " 0.9654245059462795,\n",
       " 0.9642390558225017,\n",
       " 0.9546680279204999,\n",
       " 0.9489156246834659]"
      ]
     },
     "execution_count": 75,
     "metadata": {},
     "output_type": "execute_result"
    }
   ],
   "source": [
    "f1_score(cherry_p, cherry_r)    "
   ]
  },
  {
   "cell_type": "code",
   "execution_count": null,
   "id": "42fbe5b4-a40a-4515-bb8a-716c90985b7f",
   "metadata": {},
   "outputs": [],
   "source": []
  },
  {
   "cell_type": "code",
   "execution_count": null,
   "id": "b3caa348-53db-4f73-859e-d930407fd799",
   "metadata": {},
   "outputs": [],
   "source": []
  },
  {
   "cell_type": "code",
   "execution_count": 34,
   "id": "6bc7311d-5d18-4108-af4b-17cf168f59b8",
   "metadata": {
    "scrolled": true,
    "tags": []
   },
   "outputs": [
    {
     "name": "stdout",
     "output_type": "stream",
     "text": [
      "index initializing....\n",
      "number of training instances:  1\n",
      "mining complete!\n",
      "training complete!\n",
      "inferring complete!\n",
      "0.8 70000\n",
      "rep indices stats 70000 74880\n",
      "74880 70000\n",
      "bucketing complete!\n"
     ]
    },
    {
     "data": {
      "application/vnd.jupyter.widget-view+json": {
       "model_id": "92530d99c7e642c9b18627465f179ccf",
       "version_major": 2,
       "version_minor": 0
      },
      "text/plain": [
       "Target DNN Invocations:   0%|          | 0/74880 [00:00<?, ?it/s]"
      ]
     },
     "metadata": {},
     "output_type": "display_data"
    },
    {
     "data": {
      "application/vnd.jupyter.widget-view+json": {
       "model_id": "4c731607df7140f1a8fc08910bb6f1a0",
       "version_major": 2,
       "version_minor": 0
      },
      "text/plain": [
       "Propagation:   0%|          | 0/74880 [00:00<?, ?it/s]"
      ]
     },
     "metadata": {},
     "output_type": "display_data"
    }
   ],
   "source": [
    "### What's the difference between 0 and 1.0?\n",
    "\n",
    "### get the gt_retrieval\n",
    "\n",
    "\n",
    "from eko_paper2022.motivation.main import execute_ekoalt\n",
    "from eko_paper2022.experiments.main import *\n",
    "\n",
    "\n",
    "eko = execute_ekoalt(images, video_name, nb_buckets = 70000)\n",
    "\n",
    "from eko_paper2022.experiments.main import *\n",
    "\n",
    "\n",
    "query = get_labels(eko)\n",
    "a = query.y_pred\n",
    "b = query.y_true\n",
    "gt_retrieval = []\n",
    "for bb in b:\n",
    "    gt_retrieval.append(float(bb))\n",
    "gt_retrieval = np.array(gt_retrieval)\n",
    "\n",
    "\n"
   ]
  },
  {
   "cell_type": "code",
   "execution_count": 35,
   "id": "7c4bf38f-6d67-4b7c-949c-320341a82c6e",
   "metadata": {},
   "outputs": [
    {
     "data": {
      "text/plain": [
       "45266.0"
      ]
     },
     "execution_count": 35,
     "metadata": {},
     "output_type": "execute_result"
    }
   ],
   "source": [
    "sum(gt_retrieval)"
   ]
  },
  {
   "cell_type": "code",
   "execution_count": 36,
   "id": "8e27d902-4f29-4e3e-90eb-c95f52f0646a",
   "metadata": {},
   "outputs": [],
   "source": [
    "eko0 = ekos[0]\n",
    "eko1 = ekos[-1]"
   ]
  },
  {
   "cell_type": "code",
   "execution_count": 37,
   "id": "58a5011a-958f-4ba1-9a0b-26067383544f",
   "metadata": {},
   "outputs": [
    {
     "data": {
      "application/vnd.jupyter.widget-view+json": {
       "model_id": "b92f88d064704fe3a2bda25cb986278d",
       "version_major": 2,
       "version_minor": 0
      },
      "text/plain": [
       "Propagation:   0%|          | 0/74880 [00:00<?, ?it/s]"
      ]
     },
     "metadata": {},
     "output_type": "display_data"
    },
    {
     "data": {
      "application/vnd.jupyter.widget-view+json": {
       "model_id": "27e5022007f14067bf53fb4eb944edda",
       "version_major": 2,
       "version_minor": 0
      },
      "text/plain": [
       "Propagation:   0%|          | 0/74880 [00:00<?, ?it/s]"
      ]
     },
     "metadata": {},
     "output_type": "display_data"
    }
   ],
   "source": [
    "query = get_labels(eko0)\n",
    "eko0_labels = query.y_pred\n",
    "query = get_labels(eko1)\n",
    "eko1_labels = query.y_pred"
   ]
  },
  {
   "cell_type": "code",
   "execution_count": 48,
   "id": "09f25a6f-3ed8-466a-ad86-c1372973478e",
   "metadata": {},
   "outputs": [],
   "source": [
    "eko0_reps = np.array(eko0.reps)\n",
    "eko1_reps = np.array(eko1.reps)\n",
    "\n",
    "\n",
    "\n",
    "\n",
    "\n"
   ]
  },
  {
   "cell_type": "code",
   "execution_count": null,
   "id": "191f1064-bbb8-4501-ae87-63440d472335",
   "metadata": {},
   "outputs": [],
   "source": [
    "#### plotting the rep locations..\n",
    "\n"
   ]
  },
  {
   "cell_type": "code",
   "execution_count": 59,
   "id": "4f34fd72-3ece-49e0-a503-e13bf98e83ac",
   "metadata": {},
   "outputs": [
    {
     "data": {
      "text/plain": [
       "[<matplotlib.lines.Line2D at 0x7f2c3bb5ae20>]"
      ]
     },
     "execution_count": 59,
     "metadata": {},
     "output_type": "execute_result"
    },
    {
     "data": {
      "image/png": "[encoded data removed]",
      "text/plain": [
       "<Figure size 1440x216 with 1 Axes>"
      ]
     },
     "metadata": {
      "needs_background": "light"
     },
     "output_type": "display_data"
    }
   ],
   "source": [
    "start, end = 350, 600\n",
    "plt.figure(figsize = (20, 3))\n",
    "plt.plot(gt_retrieval[start:end])"
   ]
  },
  {
   "cell_type": "code",
   "execution_count": 53,
   "id": "080c1e0f-621f-411a-a221-b74b4bbb43b2",
   "metadata": {},
   "outputs": [
    {
     "data": {
      "text/plain": [
       "<matplotlib.legend.Legend at 0x7f2c3bd73c40>"
      ]
     },
     "execution_count": 53,
     "metadata": {},
     "output_type": "execute_result"
    },
    {
     "data": {
      "image/png": "[encoded data removed]",
      "text/plain": [
       "<Figure size 1440x216 with 1 Axes>"
      ]
     },
     "metadata": {
      "needs_background": "light"
     },
     "output_type": "display_data"
    }
   ],
   "source": [
    "### now, we have everything.... gt, proposed, and anchor locations.\n",
    "start, end = 100, 1500\n",
    "import matplotlib.pyplot as plt\n",
    "plt.figure(figsize = (20,3))\n",
    "plt.plot(gt_retrieval[start:end], label = 'gt')\n",
    "plt.plot(eko0_labels[start:end], label = 'eko0')\n",
    "plt.plot(eko1_labels[start:end], label = 'eko1')\n",
    "\n",
    "\n",
    "\n",
    "### determine the points that fall between start and end\n",
    "tmp0 = eko0_reps[eko0_reps >= start]\n",
    "tmp0 = tmp0[tmp0 <= end]\n",
    "tmp0 -= start\n",
    "y_tmp = np.ones(len(tmp0))\n",
    "plt.scatter(tmp0, y_tmp, label = 'eko0 rep', color = 'orange')\n",
    "\n",
    "tmp1 = eko1_reps[eko1_reps >= start]\n",
    "tmp1 = tmp1[tmp1 <= end]\n",
    "tmp1 -= start\n",
    "y_tmp = np.ones(len(tmp1))\n",
    "plt.scatter(tmp1, y_tmp, label = 'eko1 rep', color = 'green')\n",
    "\n",
    "\n",
    "\n",
    "\n",
    "plt.legend()\n"
   ]
  },
  {
   "cell_type": "code",
   "execution_count": null,
   "id": "5cd6d4db-f7fa-4a01-b0b8-59b2b8301e86",
   "metadata": {},
   "outputs": [],
   "source": []
  },
  {
   "cell_type": "code",
   "execution_count": null,
   "id": "21ba1d78-ad94-4af9-8331-7c6d63951fc3",
   "metadata": {},
   "outputs": [],
   "source": []
  },
  {
   "cell_type": "code",
   "execution_count": null,
   "id": "7489068e-7f5d-4ad1-96b9-c90f66afb82c",
   "metadata": {},
   "outputs": [],
   "source": []
  },
  {
   "cell_type": "code",
   "execution_count": null,
   "id": "ce4fd169-6a37-4bf4-87fc-fbc71290d11e",
   "metadata": {},
   "outputs": [],
   "source": []
  },
  {
   "cell_type": "code",
   "execution_count": null,
   "id": "991dcd08-b34f-403f-85c7-71043c5cc486",
   "metadata": {},
   "outputs": [],
   "source": []
  },
  {
   "cell_type": "code",
   "execution_count": null,
   "id": "15fa1815-d126-4f68-b704-00fb85269f98",
   "metadata": {},
   "outputs": [],
   "source": []
  },
  {
   "cell_type": "code",
   "execution_count": null,
   "id": "fe963bb6-3117-44f4-95e3-1d4027209002",
   "metadata": {},
   "outputs": [],
   "source": []
  },
  {
   "cell_type": "code",
   "execution_count": 41,
   "id": "6cb7cc04-6ef9-4aee-8a94-2d77f8ca3b4b",
   "metadata": {},
   "outputs": [
    {
     "name": "stderr",
     "output_type": "stream",
     "text": [
      "<ipython-input-41-e86f97b394b6>:36: UserWarning: FixedFormatter should only be used together with FixedLocator\n",
      "  axes[i][j].set_xticklabels(x_axis_names, rotation = 30, ha = 'right',rotation_mode='anchor')\n",
      "<ipython-input-41-e86f97b394b6>:47: UserWarning: FixedFormatter should only be used together with FixedLocator\n",
      "  axes[i][j].set_xticklabels(x_axis_names, rotation = 30, ha = 'right', rotation_mode='anchor')\n",
      "<ipython-input-41-e86f97b394b6>:51: UserWarning: FixedFormatter should only be used together with FixedLocator\n",
      "  axes[i][j].set_xticklabels(x_axis_names, rotation = 30, ha = 'right', rotation_mode='anchor')\n",
      "<ipython-input-41-e86f97b394b6>:60: UserWarning: FixedFormatter should only be used together with FixedLocator\n",
      "  axes[i][j].set_xticklabels(x_axis_names, rotation = 30, ha = 'right', rotation_mode='anchor')\n",
      "<ipython-input-41-e86f97b394b6>:71: UserWarning: FixedFormatter should only be used together with FixedLocator\n",
      "  axes[i][j].set_xticklabels(x_axis_names, rotation = 30, ha = 'right', rotation_mode='anchor')\n"
     ]
    },
    {
     "data": {
      "image/png": "[encoded data removed]",
      "text/plain": [
       "<Figure size 576x360 with 4 Axes>"
      ]
     },
     "metadata": {
      "needs_background": "light"
     },
     "output_type": "display_data"
    }
   ],
   "source": [
    "import numpy as np\n",
    "import matplotlib.pyplot as plt\n",
    "%matplotlib inline\n",
    "import matplotlib\n",
    "\n",
    "font = {\n",
    "        'weight' : 'bold',\n",
    "        'size'   : 15}\n",
    "\n",
    "matplotlib.rc('font', **font)\n",
    "matplotlib.rc('ytick', labelsize=15)\n",
    "\n",
    "\n",
    "x_axis_names = ['0%', '20%', '40%', '60%', '80%', '100%']\n",
    "\n",
    "x = np.arange(len(x_axis_names))\n",
    "\n",
    "\n",
    "### we need to do subplots\n",
    "rows = 2\n",
    "columns = 2\n",
    "fig_size = (8, 5)\n",
    "fig, axes = plt.subplots(rows, columns, sharey = False, sharex=True, figsize=fig_size)\n",
    "\n",
    "\n",
    "i = 0\n",
    "j = 0\n",
    "width = 0.6\n",
    "\n",
    "axes[i][j].bar(x_axis_names, cherry_ic, width, label='Index Construction')\n",
    "axes[i][j].bar(x_axis_names, cherry_q, width, bottom = cherry_ic, label='Query Execution', color = 'lightsteelblue')\n",
    "axes[i][j].set_ylabel('Time (s)', weight = 'bold', size = 15)\n",
    "#axes[i][j].set_ylim(0, 200)\n",
    "#axes[i][j].set_yticks([0, 50, 100, 150, 200])\n",
    "\n",
    "axes[i][j].set_xticklabels(x_axis_names, rotation = 30, ha = 'right',rotation_mode='anchor')\n",
    "#plt.ylim(0, 2)\n",
    "#plt.xticks(x, x_axis_names)\n",
    "axes[i][j].set_title('Cherry | Q1', weight = 'bold', size = 15)\n",
    "\n",
    "\n",
    "i = 0\n",
    "j = 1\n",
    "\n",
    "axes[i][j].bar(x_axis_names, dashcam_ic, width, label='Index Construction')\n",
    "axes[i][j].bar(x_axis_names, dashcam_q, width, bottom = dashcam_ic, label='Query Execution', color = 'lightsteelblue')\n",
    "axes[i][j].set_xticklabels(x_axis_names, rotation = 30, ha = 'right', rotation_mode='anchor')\n",
    "#axes[i][j].set_ylabel('Time (s)', weight = 'bold', size = 15)\n",
    "axes[i][j].set_title('Dashcam | Q1', weight = 'bold', size = 15)\n",
    "\n",
    "axes[i][j].set_xticklabels(x_axis_names, rotation = 30, ha = 'right', rotation_mode='anchor')\n",
    "\n",
    "\n",
    "i = 1\n",
    "j = 0\n",
    "\n",
    "axes[i][j].bar(x_axis_names, cherry_f, width, label='F1-Score', color = 'slategray')\n",
    "axes[i][j].set_title('Cherry | Q2', weight = 'bold', size = 15)\n",
    "axes[i][j].set_ylabel('F1-Score', weight = 'bold', size = 15)\n",
    "axes[i][j].set_xticklabels(x_axis_names, rotation = 30, ha = 'right', rotation_mode='anchor')\n",
    "\n",
    "\n",
    "\n",
    "i = 1\n",
    "j = 1\n",
    "axes[i][j].bar(x_axis_names, dashcam_f, width, label='F1-Score', color = 'slategray')\n",
    "\n",
    "axes[i][j].set_title('Dashcam | Q2', weight = 'bold', size = 15)\n",
    "#axes[i][j].set_ylabel('F1-Score', weight = 'bold', size = 15)\n",
    "\n",
    "axes[i][j].set_xticklabels(x_axis_names, rotation = 30, ha = 'right', rotation_mode='anchor')\n",
    "\n",
    "\n",
    "\n",
    "\n",
    "plt.tight_layout()\n",
    "\n",
    "lgd = axes[0][0].legend(loc='upper center', bbox_to_anchor=(1, 1.6),\n",
    "          fancybox=True, shadow=True, ncol=10)\n",
    "\n",
    "\n",
    "#plt.legend()\n",
    "plt.savefig('plots/rq3.png', bbox_extra_artists=(lgd,), bbox_inches='tight')\n",
    "plt.show()"
   ]
  },
  {
   "cell_type": "code",
   "execution_count": null,
   "id": "6da22590-0ba9-4ea5-97ac-4d00d81f27fe",
   "metadata": {},
   "outputs": [],
   "source": [
    "### we need to show reasons why this is so... \n",
    "### for example, why are the results in dashcam for 0% so low? What is missing?"
   ]
  },
  {
   "cell_type": "code",
   "execution_count": null,
   "id": "36c41d22-ec06-474f-af53-e8ef9a720d4e",
   "metadata": {},
   "outputs": [],
   "source": []
  },
  {
   "cell_type": "code",
   "execution_count": null,
   "id": "00dd0882-cb47-42b8-b91f-57d79f4d9b85",
   "metadata": {},
   "outputs": [],
   "source": []
  },
  {
   "cell_type": "code",
   "execution_count": null,
   "id": "7dfe9477-1a49-47f7-b1df-fd87d71c19db",
   "metadata": {},
   "outputs": [],
   "source": []
  },
  {
   "cell_type": "code",
   "execution_count": null,
   "id": "b26bfd4f-7198-4e9d-a6f2-2b8488745a32",
   "metadata": {},
   "outputs": [],
   "source": []
  },
  {
   "cell_type": "code",
   "execution_count": null,
   "id": "ff5ffff7-3b83-4e17-822c-1bd55d38678c",
   "metadata": {},
   "outputs": [],
   "source": []
  },
  {
   "cell_type": "code",
   "execution_count": null,
   "id": "c552c1df-5e0b-4bbc-b9e4-7cd2d7fbc8eb",
   "metadata": {},
   "outputs": [],
   "source": []
  },
  {
   "cell_type": "markdown",
   "id": "c8072b22-9515-4236-bd78-856e0c32f7c1",
   "metadata": {},
   "source": [
    "### Old Graph"
   ]
  },
  {
   "cell_type": "code",
   "execution_count": null,
   "id": "36ade412-4836-488e-88ea-63316430f8cf",
   "metadata": {},
   "outputs": [],
   "source": [
    "\n",
    "\n",
    "index_construction_times = [1.00, 0.85, 1.04, 0.92, 0.93, 0.95]\n",
    "t1 = [10.22, 10.44, 9.37, 9.55, 9.490, 9.01]\n",
    "    \n"
   ]
  },
  {
   "cell_type": "code",
   "execution_count": null,
   "id": "e3b155d9-f6ee-47e5-8d3f-ce2cfb18b6f9",
   "metadata": {},
   "outputs": [],
   "source": []
  },
  {
   "cell_type": "code",
   "execution_count": 48,
   "id": "482e8b71-a99e-4eda-b0c1-28880ffeed6f",
   "metadata": {},
   "outputs": [
    {
     "data": {
      "image/png": "[encoded data removed]",
      "text/plain": [
       "<Figure size 1080x216 with 2 Axes>"
      ]
     },
     "metadata": {
      "needs_background": "light"
     },
     "output_type": "display_data"
    }
   ],
   "source": [
    "import numpy as np\n",
    "import matplotlib.pyplot as plt\n",
    "%matplotlib inline\n",
    "x_axis_names = percentages\n",
    "\n",
    "x = np.arange(len(x_axis_names))\n",
    "width = 0.2\n",
    "\n",
    "\n",
    "### we need to do subplots\n",
    "rows = 1\n",
    "columns = 3\n",
    "i = 1\n",
    "fig = plt.figure(figsize = (15,3))\n",
    "fig.add_subplot(rows, columns, i)\n",
    "plt.plot(ic_times)\n",
    "plt.ylabel('Time (s)')\n",
    "plt.xlabel('Alpha Values')\n",
    "plt.ylim(0, 2)\n",
    "plt.xticks(x, x_axis_names)\n",
    "plt.title('Index Construction')\n",
    "\n",
    "\n",
    "\n",
    "\n",
    "\n",
    "i = 2\n",
    "fig.add_subplot(rows, columns, i)\n",
    "\n",
    "plt.plot(t1, label = 'Q1 -- Aggregate')\n",
    "plt.xticks(x, x_axis_names)\n",
    "plt.title('Query Execution')\n",
    "plt.ylim(0, 15)\n",
    "plt.xlabel('Alpha Values')\n",
    "\n",
    "plt.legend()\n",
    "plt.show()\n",
    "\n"
   ]
  },
  {
   "cell_type": "code",
   "execution_count": null,
   "id": "18d4da9d-8322-45e1-9dca-d54c773c085b",
   "metadata": {},
   "outputs": [],
   "source": []
  }
 ],
 "metadata": {
  "kernelspec": {
   "display_name": "Python 3",
   "language": "python",
   "name": "python3"
  },
  "language_info": {
   "codemirror_mode": {
    "name": "ipython",
    "version": 3
   },
   "file_extension": ".py",
   "mimetype": "text/x-python",
   "name": "python",
   "nbconvert_exporter": "python",
   "pygments_lexer": "ipython3",
   "version": "3.9.7"
  }
 },
 "nbformat": 4,
 "nbformat_minor": 5
}
