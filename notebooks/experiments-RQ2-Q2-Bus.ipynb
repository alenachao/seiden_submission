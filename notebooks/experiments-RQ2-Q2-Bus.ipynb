{
 "cells": [
  {
   "cell_type": "code",
   "execution_count": 1,
   "id": "5d0d460b-78f2-4d10-8fa2-27e7b4299fbc",
   "metadata": {},
   "outputs": [],
   "source": [
    "%load_ext autoreload\n",
    "%autoreload 2"
   ]
  },
  {
   "cell_type": "code",
   "execution_count": 2,
   "id": "0ce14d47-8ef3-489c-8802-21cd55a85505",
   "metadata": {},
   "outputs": [],
   "source": [
    "### In this script, we will take care of the precision queries."
   ]
  },
  {
   "cell_type": "code",
   "execution_count": null,
   "id": "af5bdac1-1bdc-4282-86cf-45578e02b9ae",
   "metadata": {},
   "outputs": [],
   "source": []
  },
  {
   "cell_type": "code",
   "execution_count": 2,
   "id": "44a1fb0a-07f7-44ce-b2b3-8ab0393b97c0",
   "metadata": {},
   "outputs": [],
   "source": [
    "\n",
    "import sys\n",
    "sys.path.append('/nethome/jbang36/eko')\n"
   ]
  },
  {
   "cell_type": "code",
   "execution_count": 3,
   "id": "03ce896d-4cb0-488d-a611-2e40080fb849",
   "metadata": {},
   "outputs": [
    {
     "name": "stderr",
     "output_type": "stream",
     "text": [
      "11-04-2022 13:47:17 [info:049]INFO : meta data of the video /srv/data/jbang36/video_data/jackson/video.mp4 is (300000, 300, 300, 3)\n",
      "meta data of the video /srv/data/jbang36/video_data/jackson/video.mp4 is (300000, 300, 300, 3)\n",
      "100%|██████████| 300000/300000 [00:59<00:00, 5033.36it/s]\n"
     ]
    }
   ],
   "source": [
    "### let's run the experiment and get the results\n",
    "video_names = ['cherry960', 'ua_detra960', 'dashcam960', 'jackson']\n",
    "video_name = 'jackson'\n",
    "category = 'bus'\n",
    "\n",
    "from eko_paper2022.motivation.main import *\n",
    "\n",
    "images = load_dataset(video_name)\n"
   ]
  },
  {
   "cell_type": "code",
   "execution_count": 4,
   "id": "fd243c27-1bda-4092-8ea4-f97b58c9f33a",
   "metadata": {},
   "outputs": [
    {
     "data": {
      "text/plain": [
       "(300000, 300, 300, 3)"
      ]
     },
     "execution_count": 4,
     "metadata": {},
     "output_type": "execute_result"
    }
   ],
   "source": [
    "images.shape"
   ]
  },
  {
   "cell_type": "code",
   "execution_count": null,
   "id": "a0d23c4e-aee1-4f77-98c8-203ed935f4c1",
   "metadata": {},
   "outputs": [],
   "source": []
  },
  {
   "cell_type": "code",
   "execution_count": 5,
   "id": "6dd7de6a-9ae5-4357-8590-8a177974ae6e",
   "metadata": {
    "scrolled": true,
    "tags": []
   },
   "outputs": [
    {
     "name": "stdout",
     "output_type": "stream",
     "text": [
      "index initializing....\n",
      "number of training instances:  1\n",
      "mining complete!\n",
      "training complete!\n",
      "inferring complete!\n",
      "0.8 70000\n",
      "rep indices stats 70000 60000\n",
      "60001 70000\n",
      "bucketing complete!\n"
     ]
    },
    {
     "data": {
      "application/vnd.jupyter.widget-view+json": {
       "model_id": "9f44e7866e6b401e959e1fab306af9c9",
       "version_major": 2,
       "version_minor": 0
      },
      "text/plain": [
       "Target DNN Invocations:   0%|          | 0/60001 [00:00<?, ?it/s]"
      ]
     },
     "metadata": {},
     "output_type": "display_data"
    },
    {
     "data": {
      "application/vnd.jupyter.widget-view+json": {
       "model_id": "5ef292fb0fca425dbb6e01cb2f905c59",
       "version_major": 2,
       "version_minor": 0
      },
      "text/plain": [
       "Propagation:   0%|          | 0/300000 [00:00<?, ?it/s]"
      ]
     },
     "metadata": {},
     "output_type": "display_data"
    }
   ],
   "source": [
    "#### let's use eko and see what the y_pred, y_true gives\n",
    "\n",
    "from eko_paper2022.motivation.main import execute_ekoalt\n",
    "from eko_paper2022.experiments.main import *\n",
    "\n",
    "\n",
    "eko = execute_ekoalt(images, video_name, category = category, nb_buckets = 70000)\n",
    "\n",
    "from eko_paper2022.experiments.main import *\n",
    "\n",
    "\n",
    "query = get_labels(eko)\n",
    "a = query.y_pred\n",
    "b = query.y_true\n",
    "gt_retrieval = []\n",
    "for bb in b:\n",
    "    gt_retrieval.append(float(bb))\n",
    "gt_retrieval = np.array(gt_retrieval)\n",
    "\n"
   ]
  },
  {
   "cell_type": "code",
   "execution_count": 6,
   "id": "0b8db850-1a26-40ef-a267-9c34561c28f1",
   "metadata": {},
   "outputs": [
    {
     "data": {
      "application/vnd.jupyter.widget-view+json": {
       "model_id": "c75b4e7882044173a9d1146c6a08616f",
       "version_major": 2,
       "version_minor": 0
      },
      "text/plain": [
       "Propagation:   0%|          | 0/300000 [00:00<?, ?it/s]"
      ]
     },
     "metadata": {},
     "output_type": "display_data"
    },
    {
     "name": "stdout",
     "output_type": "stream",
     "text": [
      "r 3.0\n",
      "NightStreetAggregateQuery\n",
      "---------------------------  --------------------------------------------------------------------------------------------------------------------------------------------------------------------------------------\n",
      "initial_estimate             2596.5\n",
      "debiased_estimate            -147.01865871209336\n",
      "nb_samples                   464\n",
      "y_pred                       [          1           1           1 ...           0           0           0]\n",
      "y_true                       [DNNOutputCacheFloat(idx=0) DNNOutputCacheFloat(idx=1) DNNOutputCacheFloat(idx=2) ... DNNOutputCacheFloat(idx=299997) DNNOutputCacheFloat(idx=299998) DNNOutputCacheFloat(idx=299999)]\n",
      "actual_estimate              2801.0\n"
     ]
    }
   ],
   "source": [
    "query, times = query_process_aggregate(eko)\n",
    "\n",
    "a = query.y_pred\n",
    "b = query.y_true\n",
    "gt_aggregate = []\n",
    "for bb in b:\n",
    "    gt_aggregate.append(float(bb))\n",
    "gt_aggregate = np.array(gt_aggregate)"
   ]
  },
  {
   "cell_type": "code",
   "execution_count": 7,
   "id": "a2e69f5e-b84e-4487-a6dc-66f6e2270d78",
   "metadata": {},
   "outputs": [
    {
     "data": {
      "text/plain": [
       "((300000, 300, 300, 3), (300000,))"
      ]
     },
     "execution_count": 7,
     "metadata": {},
     "output_type": "execute_result"
    }
   ],
   "source": [
    "images.shape,gt_retrieval.shape"
   ]
  },
  {
   "cell_type": "code",
   "execution_count": 8,
   "id": "ff3cb9e0-9584-434c-aad3-e5b1b59f42f1",
   "metadata": {},
   "outputs": [
    {
     "data": {
      "text/plain": [
       "0.00915"
      ]
     },
     "execution_count": 8,
     "metadata": {},
     "output_type": "execute_result"
    }
   ],
   "source": [
    "sum(gt_retrieval) / len(gt_retrieval)"
   ]
  },
  {
   "cell_type": "code",
   "execution_count": null,
   "id": "83b5b06e-c77c-430b-8513-eea67c3f7b2c",
   "metadata": {},
   "outputs": [],
   "source": []
  },
  {
   "cell_type": "code",
   "execution_count": null,
   "id": "35094e07-50f7-4476-90cc-dc95b883080d",
   "metadata": {},
   "outputs": [],
   "source": []
  },
  {
   "cell_type": "code",
   "execution_count": null,
   "id": "88e65997-c7a8-4dcf-8175-a798e9343fde",
   "metadata": {},
   "outputs": [],
   "source": [
    "#### now we go into individual methods and compute their numbers...\n",
    "#### we will do precision and recall in 1 pass\n",
    "\n",
    "\n"
   ]
  },
  {
   "cell_type": "markdown",
   "id": "fe0e2d02-4e18-4a43-b786-69753f24bd87",
   "metadata": {},
   "source": [
    "#### SVM"
   ]
  },
  {
   "cell_type": "code",
   "execution_count": 9,
   "id": "ff165596-2b0b-4f9d-a139-9cd7196ff7b4",
   "metadata": {},
   "outputs": [
    {
     "name": "stdout",
     "output_type": "stream",
     "text": [
      "SVM training start....\n",
      "SVM training done!!\n"
     ]
    },
    {
     "data": {
      "text/plain": [
       "9.147671230137348"
      ]
     },
     "execution_count": 9,
     "metadata": {},
     "output_type": "execute_result"
    }
   ],
   "source": [
    "\n",
    "from eko_paper2022.experiments.svm_wrapper import SVMWrapper\n",
    "\n",
    "\n",
    "svm_wrapper = SVMWrapper()\n",
    "labels = gt_aggregate\n",
    "\n",
    "st = time.perf_counter()\n",
    "svm_wrapper.train(images, labels)\n",
    "et  = time.perf_counter()\n",
    "\n",
    "et - st\n"
   ]
  },
  {
   "cell_type": "code",
   "execution_count": null,
   "id": "dab4cfe3-9ed8-4ebc-859f-ba31c7fe75d8",
   "metadata": {},
   "outputs": [],
   "source": []
  },
  {
   "cell_type": "code",
   "execution_count": 10,
   "id": "4c2ac196-75c3-4952-abe4-2411c1fd21c4",
   "metadata": {},
   "outputs": [],
   "source": [
    "### svm_precision\n",
    "\n",
    "svm_retrieval = svm_wrapper.inference_retrieval(images)"
   ]
  },
  {
   "cell_type": "code",
   "execution_count": 11,
   "id": "e12e6aa5-4131-4348-9d47-1ff4303b1621",
   "metadata": {},
   "outputs": [
    {
     "data": {
      "text/plain": [
       "0.007621830401792574"
      ]
     },
     "execution_count": 11,
     "metadata": {},
     "output_type": "execute_result"
    }
   ],
   "source": [
    "sum(svm_retrieval) / len(svm_retrieval)"
   ]
  },
  {
   "cell_type": "code",
   "execution_count": 12,
   "id": "8424a638-7248-471f-a10b-73bd49ac50a0",
   "metadata": {},
   "outputs": [
    {
     "data": {
      "text/plain": [
       "0.00915"
      ]
     },
     "execution_count": 12,
     "metadata": {},
     "output_type": "execute_result"
    }
   ],
   "source": [
    "sum(gt_retrieval) / len(gt_retrieval)"
   ]
  },
  {
   "cell_type": "code",
   "execution_count": 13,
   "id": "b60b37a6-72cc-4967-a9e5-d9d7c2195d97",
   "metadata": {},
   "outputs": [],
   "source": [
    "dnn_invocation = int(len(images) * 0.1)\n"
   ]
  },
  {
   "cell_type": "code",
   "execution_count": 14,
   "id": "ad34d779-7a02-464c-8ef2-ad61a76a27ff",
   "metadata": {
    "scrolled": true,
    "tags": []
   },
   "outputs": [
    {
     "data": {
      "text/plain": [
       "(1.0, 0.11366120218579236)"
      ]
     },
     "execution_count": 14,
     "metadata": {},
     "output_type": "execute_result"
    }
   ],
   "source": [
    "\n",
    "precision, recall = query_process_precision(None, dnn_invocation = dnn_invocation, y = (svm_retrieval, gt_retrieval))\n",
    "precision, recall"
   ]
  },
  {
   "cell_type": "code",
   "execution_count": 15,
   "id": "2633d99d-e7d8-4790-8243-611ede4ffc89",
   "metadata": {},
   "outputs": [
    {
     "data": {
      "text/plain": [
       "(0.04564336287650729, 0.9887067395264116)"
      ]
     },
     "execution_count": 15,
     "metadata": {},
     "output_type": "execute_result"
    }
   ],
   "source": [
    "precision, recall = query_process_recall(None, dnn_invocation = dnn_invocation, y = (svm_retrieval, gt_retrieval))\n",
    "precision, recall"
   ]
  },
  {
   "cell_type": "code",
   "execution_count": null,
   "id": "21bc8793-f4d8-47aa-9a8b-fbd0ecb5e57e",
   "metadata": {},
   "outputs": [],
   "source": []
  },
  {
   "cell_type": "markdown",
   "id": "882f2fa6-327e-4c5f-aea7-ecdf6a81d28d",
   "metadata": {},
   "source": [
    "## Resnet-18"
   ]
  },
  {
   "cell_type": "code",
   "execution_count": 13,
   "id": "3e94fc8c-3ad3-40c9-aab7-864e2dfb1d81",
   "metadata": {},
   "outputs": [],
   "source": [
    "## Resnet-18\n",
    "\n",
    "images.shape\n",
    "### load the labels -- it's loading the csv file \n",
    "if category == 'car':\n",
    "\n",
    "    label_file = f'/srv/data/jbang36/video_data/{video_name}/tasti_labels.csv'\n",
    "else:\n",
    "    label_file = f'/srv/data/jbang36/video_data/{video_name}/tasti_labels_{category}.csv'\n",
    "\n",
    "from eko_paper2022.experiments.resnet_wrapper import ResnetWrapper\n",
    "\n",
    "\n",
    "resnet = ResnetWrapper()\n",
    "\n",
    "labels = resnet._load_labels(images, label_file)\n",
    "\n"
   ]
  },
  {
   "cell_type": "code",
   "execution_count": 14,
   "id": "8251a12b-aaac-42c2-800f-af7b863ed52b",
   "metadata": {
    "scrolled": true,
    "tags": []
   },
   "outputs": [
    {
     "name": "stdout",
     "output_type": "stream",
     "text": [
      "Epoch 1\n",
      "\n",
      "Epoch [1/5], Step [0/210], Loss: 2.1917\n",
      "Epoch [1/5], Step [20/210], Loss: -0.0000\n",
      "Epoch [1/5], Step [40/210], Loss: -0.0000\n",
      "Epoch [1/5], Step [60/210], Loss: -0.0000\n",
      "Epoch [1/5], Step [80/210], Loss: -0.0000\n",
      "Epoch [1/5], Step [100/210], Loss: -0.0000\n",
      "Epoch [1/5], Step [120/210], Loss: -0.0000\n",
      "Epoch [1/5], Step [140/210], Loss: -0.0000\n",
      "Epoch [1/5], Step [160/210], Loss: -0.0000\n",
      "Epoch [1/5], Step [180/210], Loss: -0.0000\n",
      "Epoch [1/5], Step [200/210], Loss: -0.0000\n",
      "\n",
      "train-loss: 0.0108, train-acc: 99.5227\n",
      "Epoch 2\n",
      "\n",
      "Epoch [2/5], Step [0/210], Loss: -0.0000\n",
      "Epoch [2/5], Step [20/210], Loss: -0.0000\n",
      "Epoch [2/5], Step [40/210], Loss: -0.0000\n",
      "Epoch [2/5], Step [60/210], Loss: -0.0000\n",
      "Epoch [2/5], Step [80/210], Loss: -0.0000\n",
      "Epoch [2/5], Step [100/210], Loss: -0.0000\n",
      "Epoch [2/5], Step [120/210], Loss: -0.0000\n",
      "Epoch [2/5], Step [140/210], Loss: -0.0000\n",
      "Epoch [2/5], Step [160/210], Loss: -0.0000\n",
      "Epoch [2/5], Step [180/210], Loss: -0.0000\n",
      "Epoch [2/5], Step [200/210], Loss: -0.0000\n",
      "\n",
      "train-loss: 0.0054, train-acc: 100.0000\n",
      "Epoch 3\n",
      "\n",
      "Epoch [3/5], Step [0/210], Loss: -0.0000\n",
      "Epoch [3/5], Step [20/210], Loss: -0.0000\n",
      "Epoch [3/5], Step [40/210], Loss: -0.0000\n",
      "Epoch [3/5], Step [60/210], Loss: -0.0000\n",
      "Epoch [3/5], Step [80/210], Loss: -0.0000\n",
      "Epoch [3/5], Step [100/210], Loss: -0.0000\n",
      "Epoch [3/5], Step [120/210], Loss: -0.0000\n",
      "Epoch [3/5], Step [140/210], Loss: -0.0000\n",
      "Epoch [3/5], Step [160/210], Loss: -0.0000\n",
      "Epoch [3/5], Step [180/210], Loss: -0.0000\n",
      "Epoch [3/5], Step [200/210], Loss: -0.0000\n",
      "\n",
      "train-loss: 0.0036, train-acc: 100.0000\n",
      "Epoch 4\n",
      "\n",
      "Epoch [4/5], Step [0/210], Loss: -0.0000\n",
      "Epoch [4/5], Step [20/210], Loss: -0.0000\n",
      "Epoch [4/5], Step [40/210], Loss: -0.0000\n",
      "Epoch [4/5], Step [60/210], Loss: -0.0000\n",
      "Epoch [4/5], Step [80/210], Loss: -0.0000\n",
      "Epoch [4/5], Step [100/210], Loss: -0.0000\n",
      "Epoch [4/5], Step [120/210], Loss: -0.0000\n",
      "Epoch [4/5], Step [140/210], Loss: -0.0000\n",
      "Epoch [4/5], Step [160/210], Loss: -0.0000\n",
      "Epoch [4/5], Step [180/210], Loss: -0.0000\n",
      "Epoch [4/5], Step [200/210], Loss: -0.0000\n",
      "\n",
      "train-loss: 0.0027, train-acc: 100.0000\n",
      "Epoch 5\n",
      "\n",
      "Epoch [5/5], Step [0/210], Loss: -0.0000\n",
      "Epoch [5/5], Step [20/210], Loss: -0.0000\n",
      "Epoch [5/5], Step [40/210], Loss: -0.0000\n",
      "Epoch [5/5], Step [60/210], Loss: -0.0000\n",
      "Epoch [5/5], Step [80/210], Loss: -0.0000\n",
      "Epoch [5/5], Step [100/210], Loss: -0.0000\n",
      "Epoch [5/5], Step [120/210], Loss: -0.0000\n",
      "Epoch [5/5], Step [140/210], Loss: -0.0000\n",
      "Epoch [5/5], Step [160/210], Loss: -0.0000\n",
      "Epoch [5/5], Step [180/210], Loss: -0.0000\n",
      "Epoch [5/5], Step [200/210], Loss: -0.0000\n",
      "\n",
      "train-loss: 0.0022, train-acc: 100.0000\n"
     ]
    }
   ],
   "source": [
    "### okay, let's try the training step..\n",
    "st = time.perf_counter()\n",
    "resnet.train(images, labels)\n",
    "et = time.perf_counter()"
   ]
  },
  {
   "cell_type": "code",
   "execution_count": 15,
   "id": "ef360750-11f2-40b8-9e31-01085b0bd235",
   "metadata": {},
   "outputs": [
    {
     "data": {
      "text/plain": [
       "10.280803713947535"
      ]
     },
     "execution_count": 15,
     "metadata": {},
     "output_type": "execute_result"
    }
   ],
   "source": [
    "et - st"
   ]
  },
  {
   "cell_type": "code",
   "execution_count": 16,
   "id": "78328293-7963-40ce-ab5e-780ca9f99376",
   "metadata": {
    "scrolled": true,
    "tags": []
   },
   "outputs": [
    {
     "name": "stdout",
     "output_type": "stream",
     "text": [
      "inference image size is  224\n",
      "cuda\n"
     ]
    },
    {
     "name": "stderr",
     "output_type": "stream",
     "text": [
      "100%|██████████| 10474/10474 [05:40<00:00, 30.73it/s]\n"
     ]
    }
   ],
   "source": [
    "resnet_retrieval = resnet.inference_retrieval(images, image_size = 224)"
   ]
  },
  {
   "cell_type": "code",
   "execution_count": 20,
   "id": "0021c042-3ee3-4b2d-8811-f16c22942607",
   "metadata": {},
   "outputs": [
    {
     "data": {
      "text/plain": [
       "0.0"
      ]
     },
     "execution_count": 20,
     "metadata": {},
     "output_type": "execute_result"
    }
   ],
   "source": [
    "sum(resnet_retrieval)"
   ]
  },
  {
   "cell_type": "code",
   "execution_count": 18,
   "id": "bcf44d5c-0231-4cdb-b854-fee6a6629347",
   "metadata": {},
   "outputs": [
    {
     "data": {
      "text/plain": [
       "78946.0"
      ]
     },
     "execution_count": 18,
     "metadata": {},
     "output_type": "execute_result"
    }
   ],
   "source": [
    "sum(gt_retrieval)"
   ]
  },
  {
   "cell_type": "code",
   "execution_count": null,
   "id": "b1fc0e17-a8eb-4143-8995-4ebab8fa1592",
   "metadata": {},
   "outputs": [],
   "source": []
  },
  {
   "cell_type": "code",
   "execution_count": null,
   "id": "068286c5-4d35-41ce-9299-2a3964cb8d53",
   "metadata": {},
   "outputs": [],
   "source": []
  },
  {
   "cell_type": "code",
   "execution_count": 19,
   "id": "56dfa3fa-a7b8-4f0b-a433-0745095df09d",
   "metadata": {
    "scrolled": true,
    "tags": []
   },
   "outputs": [
    {
     "name": "stderr",
     "output_type": "stream",
     "text": [
      "/home/jbang36/eko/benchmarks/stanford/supg/supg/sampler/imp_sampler.py:28: RuntimeWarning: invalid value encountered in true_divide\n",
      "  scaled_probs = weights / np.sum(weights)\n"
     ]
    },
    {
     "ename": "ValueError",
     "evalue": "probabilities contain NaN",
     "output_type": "error",
     "traceback": [
      "\u001b[0;31m---------------------------------------------------------------------------\u001b[0m",
      "\u001b[0;31mValueError\u001b[0m                                Traceback (most recent call last)",
      "\u001b[0;32m<ipython-input-19-9ec6cea56e1e>\u001b[0m in \u001b[0;36m<module>\u001b[0;34m\u001b[0m\n\u001b[0;32m----> 1\u001b[0;31m \u001b[0mprecision\u001b[0m\u001b[0;34m,\u001b[0m \u001b[0mrecall\u001b[0m \u001b[0;34m=\u001b[0m \u001b[0mquery_process_precision\u001b[0m\u001b[0;34m(\u001b[0m\u001b[0;32mNone\u001b[0m\u001b[0;34m,\u001b[0m \u001b[0mdnn_invocation\u001b[0m \u001b[0;34m=\u001b[0m \u001b[0mdnn_invocation\u001b[0m\u001b[0;34m,\u001b[0m \u001b[0my\u001b[0m \u001b[0;34m=\u001b[0m \u001b[0;34m(\u001b[0m\u001b[0mresnet_retrieval\u001b[0m\u001b[0;34m,\u001b[0m \u001b[0mgt_retrieval\u001b[0m\u001b[0;34m)\u001b[0m\u001b[0;34m)\u001b[0m\u001b[0;34m\u001b[0m\u001b[0;34m\u001b[0m\u001b[0m\n\u001b[0m\u001b[1;32m      2\u001b[0m \u001b[0mprecision\u001b[0m\u001b[0;34m,\u001b[0m \u001b[0mrecall\u001b[0m\u001b[0;34m\u001b[0m\u001b[0;34m\u001b[0m\u001b[0m\n",
      "\u001b[0;32m~/eko/eko_paper2022/experiments/main.py\u001b[0m in \u001b[0;36mquery_process_precision\u001b[0;34m(index, dnn_invocation, y)\u001b[0m\n\u001b[1;32m     52\u001b[0m \u001b[0;34m\u001b[0m\u001b[0m\n\u001b[1;32m     53\u001b[0m     \u001b[0mquery\u001b[0m \u001b[0;34m=\u001b[0m \u001b[0mNightStreetSUPGPrecisionQuery\u001b[0m\u001b[0;34m(\u001b[0m\u001b[0mindex\u001b[0m\u001b[0;34m)\u001b[0m\u001b[0;34m\u001b[0m\u001b[0;34m\u001b[0m\u001b[0m\n\u001b[0;32m---> 54\u001b[0;31m     \u001b[0mresult\u001b[0m \u001b[0;34m=\u001b[0m \u001b[0mquery\u001b[0m\u001b[0;34m.\u001b[0m\u001b[0mexecute_metrics\u001b[0m\u001b[0;34m(\u001b[0m\u001b[0mdnn_invocation\u001b[0m\u001b[0;34m,\u001b[0m \u001b[0my\u001b[0m\u001b[0;34m=\u001b[0m\u001b[0my\u001b[0m\u001b[0;34m)\u001b[0m\u001b[0;34m\u001b[0m\u001b[0;34m\u001b[0m\u001b[0m\n\u001b[0m\u001b[1;32m     55\u001b[0m     \u001b[0mprecision\u001b[0m \u001b[0;34m=\u001b[0m \u001b[0mresult\u001b[0m\u001b[0;34m[\u001b[0m\u001b[0;34m'precision'\u001b[0m\u001b[0;34m]\u001b[0m\u001b[0;34m\u001b[0m\u001b[0;34m\u001b[0m\u001b[0m\n\u001b[1;32m     56\u001b[0m     \u001b[0mrecall\u001b[0m \u001b[0;34m=\u001b[0m \u001b[0mresult\u001b[0m\u001b[0;34m[\u001b[0m\u001b[0;34m'recall'\u001b[0m\u001b[0;34m]\u001b[0m\u001b[0;34m\u001b[0m\u001b[0;34m\u001b[0m\u001b[0m\n",
      "\u001b[0;32m~/eko/benchmarks/stanford/tasti/tasti/query.py\u001b[0m in \u001b[0;36mexecute_metrics\u001b[0;34m(self, budget, y)\u001b[0m\n\u001b[1;32m    193\u001b[0m \u001b[0;34m\u001b[0m\u001b[0m\n\u001b[1;32m    194\u001b[0m     \u001b[0;32mdef\u001b[0m \u001b[0mexecute_metrics\u001b[0m\u001b[0;34m(\u001b[0m\u001b[0mself\u001b[0m\u001b[0;34m,\u001b[0m \u001b[0mbudget\u001b[0m\u001b[0;34m,\u001b[0m \u001b[0my\u001b[0m\u001b[0;34m=\u001b[0m\u001b[0;32mNone\u001b[0m\u001b[0;34m)\u001b[0m\u001b[0;34m:\u001b[0m\u001b[0;34m\u001b[0m\u001b[0;34m\u001b[0m\u001b[0m\n\u001b[0;32m--> 195\u001b[0;31m         \u001b[0mres\u001b[0m \u001b[0;34m=\u001b[0m \u001b[0mself\u001b[0m\u001b[0;34m.\u001b[0m\u001b[0m_execute\u001b[0m\u001b[0;34m(\u001b[0m\u001b[0mbudget\u001b[0m\u001b[0;34m,\u001b[0m \u001b[0my\u001b[0m\u001b[0;34m)\u001b[0m\u001b[0;34m\u001b[0m\u001b[0;34m\u001b[0m\u001b[0m\n\u001b[0m\u001b[1;32m    196\u001b[0m         \u001b[0msource\u001b[0m \u001b[0;34m=\u001b[0m \u001b[0mres\u001b[0m\u001b[0;34m[\u001b[0m\u001b[0;34m'source'\u001b[0m\u001b[0;34m]\u001b[0m\u001b[0;34m\u001b[0m\u001b[0;34m\u001b[0m\u001b[0m\n\u001b[1;32m    197\u001b[0m         \u001b[0minds\u001b[0m \u001b[0;34m=\u001b[0m \u001b[0mres\u001b[0m\u001b[0;34m[\u001b[0m\u001b[0;34m'inds'\u001b[0m\u001b[0;34m]\u001b[0m\u001b[0;34m\u001b[0m\u001b[0;34m\u001b[0m\u001b[0m\n",
      "\u001b[0;32m~/eko/benchmarks/stanford/tasti/tasti/query.py\u001b[0m in \u001b[0;36m_execute\u001b[0;34m(self, budget, y)\u001b[0m\n\u001b[1;32m    175\u001b[0m         )\n\u001b[1;32m    176\u001b[0m         \u001b[0mselector\u001b[0m \u001b[0;34m=\u001b[0m \u001b[0mImportancePrecisionTwoStageSelector\u001b[0m\u001b[0;34m(\u001b[0m\u001b[0mquery\u001b[0m\u001b[0;34m,\u001b[0m \u001b[0msource\u001b[0m\u001b[0;34m,\u001b[0m \u001b[0msampler\u001b[0m\u001b[0;34m)\u001b[0m\u001b[0;34m\u001b[0m\u001b[0;34m\u001b[0m\u001b[0m\n\u001b[0;32m--> 177\u001b[0;31m         \u001b[0minds\u001b[0m \u001b[0;34m=\u001b[0m \u001b[0mselector\u001b[0m\u001b[0;34m.\u001b[0m\u001b[0mselect\u001b[0m\u001b[0;34m(\u001b[0m\u001b[0;34m)\u001b[0m\u001b[0;34m\u001b[0m\u001b[0;34m\u001b[0m\u001b[0m\n\u001b[0m\u001b[1;32m    178\u001b[0m \u001b[0;34m\u001b[0m\u001b[0m\n\u001b[1;32m    179\u001b[0m         res = {\n",
      "\u001b[0;32m/home/jbang36/eko/benchmarks/stanford/supg/supg/selector/importance_precision_twostage.py\u001b[0m in \u001b[0;36mselect\u001b[0;34m(self)\u001b[0m\n\u001b[1;32m     44\u001b[0m         \u001b[0mn_sample_2\u001b[0m \u001b[0;34m=\u001b[0m \u001b[0mself\u001b[0m\u001b[0;34m.\u001b[0m\u001b[0mquery\u001b[0m\u001b[0;34m.\u001b[0m\u001b[0mbudget\u001b[0m \u001b[0;34m-\u001b[0m \u001b[0mn_sample_1\u001b[0m\u001b[0;34m\u001b[0m\u001b[0;34m\u001b[0m\u001b[0m\n\u001b[1;32m     45\u001b[0m \u001b[0;34m\u001b[0m\u001b[0m\n\u001b[0;32m---> 46\u001b[0;31m         \u001b[0msamp_ranks\u001b[0m \u001b[0;34m=\u001b[0m \u001b[0mnp\u001b[0m\u001b[0;34m.\u001b[0m\u001b[0msort\u001b[0m\u001b[0;34m(\u001b[0m\u001b[0mself\u001b[0m\u001b[0;34m.\u001b[0m\u001b[0msampler\u001b[0m\u001b[0;34m.\u001b[0m\u001b[0msample\u001b[0m\u001b[0;34m(\u001b[0m\u001b[0mmax_idx\u001b[0m\u001b[0;34m=\u001b[0m\u001b[0mn\u001b[0m\u001b[0;34m,\u001b[0m \u001b[0ms\u001b[0m\u001b[0;34m=\u001b[0m\u001b[0mn_sample_1\u001b[0m\u001b[0;34m)\u001b[0m\u001b[0;34m)\u001b[0m\u001b[0;34m\u001b[0m\u001b[0;34m\u001b[0m\u001b[0m\n\u001b[0m\u001b[1;32m     47\u001b[0m         \u001b[0msamp_basep\u001b[0m \u001b[0;34m=\u001b[0m \u001b[0mx_basep\u001b[0m\u001b[0;34m[\u001b[0m\u001b[0msamp_ranks\u001b[0m\u001b[0;34m]\u001b[0m\u001b[0;34m\u001b[0m\u001b[0;34m\u001b[0m\u001b[0m\n\u001b[1;32m     48\u001b[0m         \u001b[0msamp_weights\u001b[0m \u001b[0;34m=\u001b[0m \u001b[0mx_weights\u001b[0m\u001b[0;34m[\u001b[0m\u001b[0msamp_ranks\u001b[0m\u001b[0;34m]\u001b[0m\u001b[0;34m\u001b[0m\u001b[0;34m\u001b[0m\u001b[0m\n",
      "\u001b[0;32m/home/jbang36/eko/benchmarks/stanford/supg/supg/sampler/imp_sampler.py\u001b[0m in \u001b[0;36msample\u001b[0;34m(self, max_idx, s)\u001b[0m\n\u001b[1;32m     48\u001b[0m         \u001b[0;32melse\u001b[0m\u001b[0;34m:\u001b[0m\u001b[0;34m\u001b[0m\u001b[0;34m\u001b[0m\u001b[0m\n\u001b[1;32m     49\u001b[0m             \u001b[0mweights\u001b[0m \u001b[0;34m=\u001b[0m \u001b[0mself\u001b[0m\u001b[0;34m.\u001b[0m\u001b[0mweights\u001b[0m\u001b[0;34m\u001b[0m\u001b[0;34m\u001b[0m\u001b[0m\n\u001b[0;32m---> 50\u001b[0;31m         \u001b[0mself\u001b[0m\u001b[0;34m.\u001b[0m\u001b[0msampled_idxs\u001b[0m \u001b[0;34m=\u001b[0m \u001b[0mself\u001b[0m\u001b[0;34m.\u001b[0m\u001b[0mrandom\u001b[0m\u001b[0;34m.\u001b[0m\u001b[0mchoice\u001b[0m\u001b[0;34m(\u001b[0m\u001b[0mmax_idx\u001b[0m\u001b[0;34m,\u001b[0m \u001b[0msize\u001b[0m\u001b[0;34m=\u001b[0m\u001b[0ms\u001b[0m\u001b[0;34m,\u001b[0m \u001b[0mreplace\u001b[0m\u001b[0;34m=\u001b[0m\u001b[0;32mTrue\u001b[0m\u001b[0;34m,\u001b[0m \u001b[0mp\u001b[0m\u001b[0;34m=\u001b[0m\u001b[0mweights\u001b[0m\u001b[0;34m)\u001b[0m\u001b[0;34m\u001b[0m\u001b[0;34m\u001b[0m\u001b[0m\n\u001b[0m\u001b[1;32m     51\u001b[0m         \u001b[0mself\u001b[0m\u001b[0;34m.\u001b[0m\u001b[0msampled_weights\u001b[0m \u001b[0;34m=\u001b[0m \u001b[0mself\u001b[0m\u001b[0;34m.\u001b[0m\u001b[0mweights\u001b[0m\u001b[0;34m[\u001b[0m\u001b[0mself\u001b[0m\u001b[0;34m.\u001b[0m\u001b[0msampled_idxs\u001b[0m\u001b[0;34m]\u001b[0m\u001b[0;34m\u001b[0m\u001b[0;34m\u001b[0m\u001b[0m\n\u001b[1;32m     52\u001b[0m         \u001b[0;32mreturn\u001b[0m \u001b[0mself\u001b[0m\u001b[0;34m.\u001b[0m\u001b[0msampled_idxs\u001b[0m\u001b[0;34m\u001b[0m\u001b[0;34m\u001b[0m\u001b[0m\n",
      "\u001b[0;32mmtrand.pyx\u001b[0m in \u001b[0;36mnumpy.random.mtrand.RandomState.choice\u001b[0;34m()\u001b[0m\n",
      "\u001b[0;31mValueError\u001b[0m: probabilities contain NaN"
     ]
    }
   ],
   "source": [
    "\n",
    "precision, recall = query_process_precision(None, dnn_invocation = dnn_invocation, y = (resnet_retrieval, gt_retrieval))\n",
    "precision, recall\n"
   ]
  },
  {
   "cell_type": "code",
   "execution_count": null,
   "id": "fa4217be-1e96-430e-9e10-c7112f99603f",
   "metadata": {
    "scrolled": true,
    "tags": []
   },
   "outputs": [],
   "source": [
    "precision, recall = query_process_recall(None, dnn_invocation = dnn_invocation, y = (resnet_retrieval, gt_retrieval))\n",
    "precision, recall\n"
   ]
  },
  {
   "cell_type": "code",
   "execution_count": null,
   "id": "7a31f1f6-197b-4b42-aea9-673dca549daf",
   "metadata": {},
   "outputs": [],
   "source": []
  },
  {
   "cell_type": "code",
   "execution_count": null,
   "id": "295470a2-313b-4818-9782-4a6b88fa859f",
   "metadata": {},
   "outputs": [],
   "source": []
  },
  {
   "cell_type": "markdown",
   "id": "dd474b07-3181-49b8-9882-62798dee9db5",
   "metadata": {},
   "source": [
    "### EKO"
   ]
  },
  {
   "cell_type": "code",
   "execution_count": null,
   "id": "eefb1df2-4591-4b40-a8af-d2408f72907a",
   "metadata": {},
   "outputs": [],
   "source": []
  },
  {
   "cell_type": "code",
   "execution_count": 16,
   "id": "61eb1b8a-7c4f-401c-a4e5-f203425892e0",
   "metadata": {},
   "outputs": [
    {
     "name": "stdout",
     "output_type": "stream",
     "text": [
      "index initializing....\n",
      "number of training instances:  1\n",
      "mining complete!\n",
      "training complete!\n",
      "inferring complete!\n",
      "0.8 30000\n",
      "rep indices stats 30000 25000\n",
      "25001 30000\n",
      "bucketing complete!\n"
     ]
    },
    {
     "data": {
      "application/vnd.jupyter.widget-view+json": {
       "model_id": "dbb94e7f723c46eab183b75e428f28a8",
       "version_major": 2,
       "version_minor": 0
      },
      "text/plain": [
       "Target DNN Invocations:   0%|          | 0/25001 [00:00<?, ?it/s]"
      ]
     },
     "metadata": {},
     "output_type": "display_data"
    }
   ],
   "source": [
    "#### let's try eko\n",
    "\n",
    "anchor_count = int( len(images) * 0.1 )\n",
    "\n",
    "eko = execute_ekoalt(images, video_name, category = category, nb_buckets = anchor_count)\n"
   ]
  },
  {
   "cell_type": "code",
   "execution_count": 17,
   "id": "08733eb3-57f6-4b63-b159-db83e57ada1c",
   "metadata": {},
   "outputs": [
    {
     "data": {
      "text/plain": [
       "25001"
      ]
     },
     "execution_count": 17,
     "metadata": {},
     "output_type": "execute_result"
    }
   ],
   "source": [
    "len(eko.reps)"
   ]
  },
  {
   "cell_type": "code",
   "execution_count": 18,
   "id": "16204471-f0f7-4996-a0f9-8fd6ae55e51c",
   "metadata": {},
   "outputs": [
    {
     "data": {
      "application/vnd.jupyter.widget-view+json": {
       "model_id": "edee4c9715c9451f8afb97defbb0f1e7",
       "version_major": 2,
       "version_minor": 0
      },
      "text/plain": [
       "Propagation:   0%|          | 0/300000 [00:00<?, ?it/s]"
      ]
     },
     "metadata": {},
     "output_type": "display_data"
    }
   ],
   "source": [
    "### let's get the eko results and see the percentage\n",
    "\n",
    "query = get_labels(eko)\n",
    "a = query.y_pred\n",
    "b = query.y_true\n",
    "eko_retrieval = []\n",
    "for aa in a:\n",
    "     eko_retrieval.append(float(aa))\n",
    "eko_retrieval = np.array(eko_retrieval)"
   ]
  },
  {
   "cell_type": "code",
   "execution_count": 19,
   "id": "dc135814-c13b-415f-9cf6-a10e1b872daf",
   "metadata": {},
   "outputs": [
    {
     "data": {
      "text/plain": [
       "0.007633333333333333"
      ]
     },
     "execution_count": 19,
     "metadata": {},
     "output_type": "execute_result"
    }
   ],
   "source": [
    "sum(eko_retrieval) / len(eko_retrieval)"
   ]
  },
  {
   "cell_type": "code",
   "execution_count": 20,
   "id": "54a42a7c-6801-4b68-b16c-f2d3f60b2359",
   "metadata": {},
   "outputs": [
    {
     "data": {
      "text/plain": [
       "30000"
      ]
     },
     "execution_count": 20,
     "metadata": {},
     "output_type": "execute_result"
    }
   ],
   "source": [
    "anchor_count"
   ]
  },
  {
   "cell_type": "code",
   "execution_count": 21,
   "id": "31ae6dd9-b941-461f-bfa6-6fbd4b6f3101",
   "metadata": {
    "scrolled": true,
    "tags": []
   },
   "outputs": [
    {
     "data": {
      "application/vnd.jupyter.widget-view+json": {
       "model_id": "54fc6bcb035646aabbc6ced151dcdea2",
       "version_major": 2,
       "version_minor": 0
      },
      "text/plain": [
       "Propagation:   0%|          | 0/300000 [00:00<?, ?it/s]"
      ]
     },
     "metadata": {},
     "output_type": "display_data"
    },
    {
     "data": {
      "text/plain": [
       "(0.494944119212347, 0.6775956284153005)"
      ]
     },
     "execution_count": 21,
     "metadata": {},
     "output_type": "execute_result"
    }
   ],
   "source": [
    "### Q2:\n",
    "dnn_invocation = int(len(images) * 0.1)\n",
    "\n",
    "precision, recall = query_process_precision(eko, dnn_invocation = dnn_invocation)\n",
    "precision, recall\n",
    "\n"
   ]
  },
  {
   "cell_type": "code",
   "execution_count": 22,
   "id": "43f537dd-21ac-4eee-a68a-4047fcf08486",
   "metadata": {},
   "outputs": [
    {
     "data": {
      "application/vnd.jupyter.widget-view+json": {
       "model_id": "77ad876d01b344f4afcace5904968694",
       "version_major": 2,
       "version_minor": 0
      },
      "text/plain": [
       "Propagation:   0%|          | 0/300000 [00:00<?, ?it/s]"
      ]
     },
     "metadata": {},
     "output_type": "display_data"
    },
    {
     "data": {
      "text/plain": [
       "(0.00915, 1.0)"
      ]
     },
     "execution_count": 22,
     "metadata": {},
     "output_type": "execute_result"
    }
   ],
   "source": [
    "### Q3:\n",
    "precision, recall = query_process_recall(eko, dnn_invocation = dnn_invocation)\n",
    "precision, recall\n",
    "\n"
   ]
  },
  {
   "cell_type": "code",
   "execution_count": null,
   "id": "d0df2515-fe80-4fc4-b6ed-558499d106c2",
   "metadata": {},
   "outputs": [],
   "source": []
  },
  {
   "cell_type": "code",
   "execution_count": null,
   "id": "476453a1-a6df-488c-b15e-637a9d55ff6a",
   "metadata": {},
   "outputs": [],
   "source": []
  },
  {
   "cell_type": "code",
   "execution_count": null,
   "id": "d4883812-a7a0-4c26-9020-8fa69959ea2c",
   "metadata": {},
   "outputs": [],
   "source": []
  },
  {
   "cell_type": "code",
   "execution_count": null,
   "id": "356d74cf-8a57-478e-ab06-91ec8e77882e",
   "metadata": {},
   "outputs": [],
   "source": []
  },
  {
   "cell_type": "code",
   "execution_count": null,
   "id": "b4a532c9-3423-4853-a027-2ade3a4882db",
   "metadata": {},
   "outputs": [],
   "source": []
  },
  {
   "cell_type": "markdown",
   "id": "7a392c01-76df-4733-85b7-26dc5ef3ed75",
   "metadata": {},
   "source": [
    "### TASTIPT"
   ]
  },
  {
   "cell_type": "code",
   "execution_count": 23,
   "id": "89c71f34-ad69-4d35-a09f-f236460bd941",
   "metadata": {},
   "outputs": [
    {
     "data": {
      "text/plain": [
       "30000"
      ]
     },
     "execution_count": 23,
     "metadata": {},
     "output_type": "execute_result"
    }
   ],
   "source": [
    "anchor_count = int( len(images) * 0.1 )\n",
    "\n",
    "anchor_count"
   ]
  },
  {
   "cell_type": "code",
   "execution_count": 24,
   "id": "6e16006d-b8f8-4e79-b79e-2c9b53aab6c4",
   "metadata": {
    "scrolled": true,
    "tags": []
   },
   "outputs": [
    {
     "name": "stdout",
     "output_type": "stream",
     "text": [
      "Image size is  224\n",
      "index initializing....\n",
      "number of training instances:  3000\n",
      "Image size is  224\n",
      "mining complete!\n",
      "Image size is  224\n",
      "training complete!\n",
      "inferring complete!\n"
     ]
    },
    {
     "name": "stderr",
     "output_type": "stream",
     "text": [
      "RandomBucketter: 100%|██████████| 7499/7499 [02:57<00:00, 42.35it/s]\n",
      "FPFBucketter: 100%|██████████| 22500/22500 [09:10<00:00, 40.85it/s]\n",
      "100%|██████████| 300000/300000 [04:44<00:00, 1054.02it/s]\n"
     ]
    },
    {
     "name": "stdout",
     "output_type": "stream",
     "text": [
      "bucketing complete!\n"
     ]
    },
    {
     "data": {
      "application/vnd.jupyter.widget-view+json": {
       "model_id": "ec8c9851d451443ba242b58bfdf87716",
       "version_major": 2,
       "version_minor": 0
      },
      "text/plain": [
       "Target DNN Invocations:   0%|          | 0/30000 [00:00<?, ?it/s]"
      ]
     },
     "metadata": {},
     "output_type": "display_data"
    }
   ],
   "source": [
    "from eko_paper2022.motivation.main import execute_tastipt\n",
    "\n",
    "tastipt = execute_tastipt(images, video_name, category = category, redo = False, image_size = 224, nb_buckets = anchor_count)\n",
    "\n"
   ]
  },
  {
   "cell_type": "code",
   "execution_count": 25,
   "id": "cab31ad1-1a8a-4a91-a126-1a916fb631ce",
   "metadata": {
    "scrolled": true,
    "tags": []
   },
   "outputs": [
    {
     "data": {
      "application/vnd.jupyter.widget-view+json": {
       "model_id": "e626d358619a4062a958f78fdda69ed4",
       "version_major": 2,
       "version_minor": 0
      },
      "text/plain": [
       "Propagation:   0%|          | 0/300000 [00:00<?, ?it/s]"
      ]
     },
     "metadata": {},
     "output_type": "display_data"
    },
    {
     "data": {
      "text/plain": [
       "(0.324577861163227, 0.8823315118397086)"
      ]
     },
     "execution_count": 25,
     "metadata": {},
     "output_type": "execute_result"
    }
   ],
   "source": [
    "### Q2:\n",
    "### Q2:\n",
    "precision, recall = query_process_precision(tastipt, dnn_invocation = dnn_invocation)\n",
    "precision, recall\n",
    "\n"
   ]
  },
  {
   "cell_type": "code",
   "execution_count": 26,
   "id": "00d3953b-04ba-41e7-b54f-40784b626b6f",
   "metadata": {},
   "outputs": [
    {
     "data": {
      "application/vnd.jupyter.widget-view+json": {
       "model_id": "384908bc1e3842bda6b03ddd391ae6d4",
       "version_major": 2,
       "version_minor": 0
      },
      "text/plain": [
       "Propagation:   0%|          | 0/300000 [00:00<?, ?it/s]"
      ]
     },
     "metadata": {},
     "output_type": "display_data"
    },
    {
     "data": {
      "text/plain": [
       "(0.00915, 1.0)"
      ]
     },
     "execution_count": 26,
     "metadata": {},
     "output_type": "execute_result"
    }
   ],
   "source": [
    "### Q2:\n",
    "precision, recall = query_process_recall(tastipt, dnn_invocation = dnn_invocation)\n",
    "precision, recall\n",
    "\n"
   ]
  },
  {
   "cell_type": "code",
   "execution_count": 27,
   "id": "c7c69a60-41ab-42ba-809a-2cf2e29bf43b",
   "metadata": {},
   "outputs": [
    {
     "data": {
      "application/vnd.jupyter.widget-view+json": {
       "model_id": "7c9bf980d08e4094ba2545d8dba54d0a",
       "version_major": 2,
       "version_minor": 0
      },
      "text/plain": [
       "Propagation:   0%|          | 0/300000 [00:00<?, ?it/s]"
      ]
     },
     "metadata": {},
     "output_type": "display_data"
    }
   ],
   "source": [
    "query = get_labels(tastipt)\n",
    "a = query.y_pred\n",
    "b = query.y_true\n",
    "tasti_retrieval = []\n",
    "for aa in a:\n",
    "     tasti_retrieval.append(float(aa))\n",
    "tasti_retrieval = np.array(tasti_retrieval)"
   ]
  },
  {
   "cell_type": "code",
   "execution_count": 28,
   "id": "8131104f-4593-4f19-a517-180adbded60a",
   "metadata": {},
   "outputs": [
    {
     "data": {
      "text/plain": [
       "0.008903526984861888"
      ]
     },
     "execution_count": 28,
     "metadata": {},
     "output_type": "execute_result"
    }
   ],
   "source": [
    "sum(tasti_retrieval) / len(tasti_retrieval)"
   ]
  },
  {
   "cell_type": "code",
   "execution_count": null,
   "id": "c70c2ebb-4c43-4bc6-ae6c-4a0b31cdac93",
   "metadata": {},
   "outputs": [],
   "source": []
  },
  {
   "cell_type": "code",
   "execution_count": null,
   "id": "2de886e2-0e75-433c-ba29-3883a29ddfdf",
   "metadata": {},
   "outputs": [],
   "source": []
  },
  {
   "cell_type": "code",
   "execution_count": null,
   "id": "2a6e90d2-cd38-4bfb-9ff6-3b7764148c4d",
   "metadata": {},
   "outputs": [],
   "source": []
  },
  {
   "cell_type": "code",
   "execution_count": 30,
   "id": "fbde92e2-3985-4e77-9dde-839de841a140",
   "metadata": {},
   "outputs": [],
   "source": [
    "def f1_score(precisions, recalls):\n",
    "    f1s = []\n",
    "    for precision, recall in zip(precisions, recalls):\n",
    "        f1s.append(2* precision * recall / (precision + recall))\n",
    "    return f1s"
   ]
  },
  {
   "cell_type": "code",
   "execution_count": 31,
   "id": "4229d292-8a8a-4d51-b696-2ad51cbcbc61",
   "metadata": {},
   "outputs": [],
   "source": [
    "#### Q2\n",
    "\n",
    "\n",
    "\n",
    "x_axis_names = ['SVM', 'Resnet-18', 'TASTI-PT', 'EKO']\n",
    "\n",
    "\n",
    "cherry_p = np.array([1.0, 0.01, 0.51, 0.68]) \n",
    "cherry_r = np.array([0.26, 0.01, 0.83, 0.82])\n",
    "cherry_f = f1_score(cherry_p, cherry_r)\n",
    "\n",
    "detrac_p = np.array([1.0, 0.01, 0.91, 0.84]) \n",
    "detrac_r = np.array([0.09, 0.01, 0.63, 0.16])\n",
    "detrac_f = f1_score(detrac_p, detrac_r)\n",
    "\n",
    "dashcam_p = np.array([1.0, 0.01, 0.44, 0.65]) \n",
    "dashcam_r = np.array([0.05, 0.01, 0.52, 0.61])\n",
    "dashcam_f = f1_score(dashcam_p, dashcam_r)\n",
    "\n",
    "jackson_p = np.array([1.0, 0.01, 0.32, 0.49]) \n",
    "jackson_r = np.array([0.11, 0.01, 0.88, 0.67])\n",
    "jackson_f = f1_score(jackson_p, jackson_r)\n"
   ]
  },
  {
   "cell_type": "code",
   "execution_count": 49,
   "id": "74bce84d-227b-4184-98be-644151dc39fa",
   "metadata": {},
   "outputs": [
    {
     "data": {
      "text/plain": [
       "([0.3188135593220339,\n",
       "  0.6770469798657718,\n",
       "  0.9247567567567566,\n",
       "  0.9398936170212766],\n",
       " [0.9473684210526316,\n",
       "  0.9498947368421051,\n",
       "  0.9698969072164948,\n",
       "  0.974974358974359],\n",
       " [0.16513761467889906,\n",
       "  0.7459872611464969,\n",
       "  0.903646408839779,\n",
       "  0.9295698924731183],\n",
       " [0.41269841269841273,\n",
       "  0.319327731092437,\n",
       "  0.7048951048951049,\n",
       "  0.6575757575757577])"
      ]
     },
     "execution_count": 49,
     "metadata": {},
     "output_type": "execute_result"
    }
   ],
   "source": [
    "cherry_f, detrac_f, dashcam_f, jackson_f"
   ]
  },
  {
   "cell_type": "code",
   "execution_count": 50,
   "id": "3dabb225-d9fb-4aff-9464-4f797f378e75",
   "metadata": {},
   "outputs": [
    {
     "data": {
      "text/plain": [
       "(array([     2.9481,      1.3882,      1.0164,           1]),\n",
       " array([     1.0291,      1.0264,      1.0052,           1]),\n",
       " array([     5.6291,      1.2461,      1.0287,           1]),\n",
       " array([     1.5934,      2.0593,     0.93287,           1]))"
      ]
     },
     "execution_count": 50,
     "metadata": {},
     "output_type": "execute_result"
    }
   ],
   "source": [
    "cherry_f[3] / cherry_f, detrac_f[3] / detrac_f, dashcam_f[3] / dashcam_f, jackson_f[3] / jackson_f"
   ]
  },
  {
   "cell_type": "code",
   "execution_count": 14,
   "id": "98762bfe-edf5-4340-9ec4-ce44ff626a73",
   "metadata": {},
   "outputs": [
    {
     "name": "stderr",
     "output_type": "stream",
     "text": [
      "<ipython-input-14-e436e8300b45>:35: UserWarning: FixedFormatter should only be used together with FixedLocator\n",
      "  axes[i][j].set_xticklabels(x_axis_names, rotation = 30, ha = 'right',rotation_mode='anchor')\n",
      "<ipython-input-14-e436e8300b45>:45: UserWarning: FixedFormatter should only be used together with FixedLocator\n",
      "  axes[i][j].set_xticklabels(x_axis_names, rotation = 30, ha = 'right', rotation_mode='anchor')\n",
      "<ipython-input-14-e436e8300b45>:51: UserWarning: FixedFormatter should only be used together with FixedLocator\n",
      "  axes[i][j].set_xticklabels(x_axis_names, rotation = 30, ha = 'right', rotation_mode='anchor')\n",
      "<ipython-input-14-e436e8300b45>:62: UserWarning: FixedFormatter should only be used together with FixedLocator\n",
      "  axes[i][j].set_xticklabels(x_axis_names, rotation = 30, ha = 'right', rotation_mode='anchor')\n"
     ]
    },
    {
     "data": {
      "image/png": "[encoded data removed]",
      "text/plain": [
       "<Figure size 576x360 with 4 Axes>"
      ]
     },
     "metadata": {
      "needs_background": "light"
     },
     "output_type": "display_data"
    }
   ],
   "source": [
    "import numpy as np\n",
    "import matplotlib.pyplot as plt\n",
    "%matplotlib inline\n",
    "import matplotlib\n",
    "\n",
    "font = {\n",
    "        'weight' : 'bold',\n",
    "        'size'   : 15}\n",
    "\n",
    "matplotlib.rc('font', **font)\n",
    "matplotlib.rc('ytick', labelsize=15)\n",
    "\n",
    "\n",
    "x_axis_names = ['SVM', 'Resnet-18', 'TASTI-PT', 'EKO']\n",
    "\n",
    "x = np.arange(len(x_axis_names))\n",
    "\n",
    "\n",
    "### we need to do subplots\n",
    "rows = 2\n",
    "columns = 2\n",
    "fig_size = (8, 5)\n",
    "fig, axes = plt.subplots(rows, columns, sharey = False, sharex=True, figsize=fig_size)\n",
    "\n",
    "\n",
    "i = 0\n",
    "j = 0\n",
    "width = 0.6\n",
    "\n",
    "axes[i][j].bar(x_axis_names, cherry_f, width)\n",
    "axes[i][j].set_ylabel('F1-Score', weight = 'bold', size = 15)\n",
    "#axes[i][j].set_ylim(0, 200)\n",
    "#axes[i][j].set_yticks([0, 50, 100, 150, 200])\n",
    "\n",
    "axes[i][j].set_xticklabels(x_axis_names, rotation = 30, ha = 'right',rotation_mode='anchor')\n",
    "#plt.ylim(0, 2)\n",
    "#plt.xticks(x, x_axis_names)\n",
    "axes[i][j].set_title('Cherry', weight = 'bold', size = 15)\n",
    "\n",
    "\n",
    "i = 0\n",
    "j = 1\n",
    "axes[i][j].bar(x_axis_names, detrac_f, width)\n",
    "axes[i][j].set_title('UA-DETRAC', weight = 'bold', size = 15)\n",
    "axes[i][j].set_xticklabels(x_axis_names, rotation = 30, ha = 'right', rotation_mode='anchor')\n",
    "\n",
    "\n",
    "i = 1\n",
    "j = 0\n",
    "axes[i][j].bar(x_axis_names, dashcam_f, width)\n",
    "axes[i][j].set_xticklabels(x_axis_names, rotation = 30, ha = 'right', rotation_mode='anchor')\n",
    "axes[i][j].set_ylabel('F1-Score', weight = 'bold', size = 15)\n",
    "\n",
    "axes[i][j].set_title('Dashcam', weight = 'bold', size = 15)\n",
    "\n",
    "\n",
    "i = 1\n",
    "j = 1\n",
    "axes[i][j].bar(x_axis_names, jackson_f, width)\n",
    "\n",
    "axes[i][j].set_title('Jackson', weight = 'bold', size = 15)\n",
    "axes[i][j].set_xticklabels(x_axis_names, rotation = 30, ha = 'right', rotation_mode='anchor')\n",
    "\n",
    "\n",
    "fig.tight_layout()\n",
    "\n",
    "#plt.legend()\n",
    "plt.savefig('plots/query-execution-q2.png')\n",
    "plt.show()"
   ]
  },
  {
   "cell_type": "markdown",
   "id": "55965793-24a7-47ae-a8aa-ba687256239c",
   "metadata": {},
   "source": [
    "## Q3"
   ]
  },
  {
   "cell_type": "code",
   "execution_count": 32,
   "id": "215140e9-d0f7-49b3-9bc1-333eb5b5fd55",
   "metadata": {},
   "outputs": [],
   "source": [
    "#### Q3\n",
    "\n",
    "\n",
    "\n",
    "x_axis_names = ['SVM', 'Resnet-18', 'TASTI-PT', 'EKO']\n",
    "\n",
    "\n",
    "cherry_p = np.array([0.03, 0.01, 0.43, 0.02]) \n",
    "cherry_r = np.array([0.97, 0.01, 0.91, 1])\n",
    "cherry_f = f1_score(cherry_p, cherry_r)\n",
    "\n",
    "detrac_p = np.array([0.48, 0.01, 0.82, 0.88]) \n",
    "detrac_r = np.array([0.96, 0.01, 0.85, 0.88])\n",
    "detrac_f = f1_score(detrac_p, detrac_r)\n",
    "\n",
    "dashcam_p = np.array([0.05, 0.01, 0.05, 0.05]) \n",
    "dashcam_r = np.array([0.99, 0.01, 1.0, 1])\n",
    "dashcam_f = f1_score(dashcam_p, dashcam_r)\n",
    "\n",
    "jackson_p = np.array([0.04, 0.01, 0.01, 0.01]) \n",
    "jackson_r = np.array([0.96, 0.01, 1.0, 1])\n",
    "jackson_f = f1_score(jackson_p, jackson_r)"
   ]
  },
  {
   "cell_type": "code",
   "execution_count": 16,
   "id": "c24e4cea-971c-4639-a677-bc8bfb0bd9a0",
   "metadata": {},
   "outputs": [
    {
     "data": {
      "text/plain": [
       "[0.7607547169811322, 0.01, 0.5840298507462686, 0.0392156862745098]"
      ]
     },
     "execution_count": 16,
     "metadata": {},
     "output_type": "execute_result"
    }
   ],
   "source": [
    "cherry_f"
   ]
  },
  {
   "cell_type": "code",
   "execution_count": 17,
   "id": "ba0cdf12-d72c-4ed1-82db-a94af28d2f88",
   "metadata": {},
   "outputs": [
    {
     "name": "stderr",
     "output_type": "stream",
     "text": [
      "<ipython-input-17-deebd495768d>:35: UserWarning: FixedFormatter should only be used together with FixedLocator\n",
      "  axes[i][j].set_xticklabels(x_axis_names, rotation = 30, ha = 'right',rotation_mode='anchor')\n",
      "<ipython-input-17-deebd495768d>:45: UserWarning: FixedFormatter should only be used together with FixedLocator\n",
      "  axes[i][j].set_xticklabels(x_axis_names, rotation = 30, ha = 'right', rotation_mode='anchor')\n",
      "<ipython-input-17-deebd495768d>:51: UserWarning: FixedFormatter should only be used together with FixedLocator\n",
      "  axes[i][j].set_xticklabels(x_axis_names, rotation = 30, ha = 'right', rotation_mode='anchor')\n",
      "<ipython-input-17-deebd495768d>:62: UserWarning: FixedFormatter should only be used together with FixedLocator\n",
      "  axes[i][j].set_xticklabels(x_axis_names, rotation = 30, ha = 'right', rotation_mode='anchor')\n"
     ]
    },
    {
     "data": {
      "image/png": "[encoded data removed]",
      "text/plain": [
       "<Figure size 576x360 with 4 Axes>"
      ]
     },
     "metadata": {
      "needs_background": "light"
     },
     "output_type": "display_data"
    }
   ],
   "source": [
    "import numpy as np\n",
    "import matplotlib.pyplot as plt\n",
    "%matplotlib inline\n",
    "import matplotlib\n",
    "\n",
    "font = {\n",
    "        'weight' : 'bold',\n",
    "        'size'   : 15}\n",
    "\n",
    "matplotlib.rc('font', **font)\n",
    "matplotlib.rc('ytick', labelsize=15)\n",
    "\n",
    "\n",
    "x_axis_names = ['SVM', 'Resnet-18', 'TASTI-PT', 'EKO']\n",
    "\n",
    "x = np.arange(len(x_axis_names))\n",
    "\n",
    "\n",
    "### we need to do subplots\n",
    "rows = 2\n",
    "columns = 2\n",
    "fig_size = (8, 5)\n",
    "fig, axes = plt.subplots(rows, columns, sharey = False, sharex=True, figsize=fig_size)\n",
    "\n",
    "\n",
    "i = 0\n",
    "j = 0\n",
    "width = 0.6\n",
    "\n",
    "axes[i][j].bar(x_axis_names, cherry_f, width)\n",
    "axes[i][j].set_ylabel('F1-Score', weight = 'bold', size = 15)\n",
    "#axes[i][j].set_ylim(0, 200)\n",
    "#axes[i][j].set_yticks([0, 50, 100, 150, 200])\n",
    "\n",
    "axes[i][j].set_xticklabels(x_axis_names, rotation = 30, ha = 'right',rotation_mode='anchor')\n",
    "#plt.ylim(0, 2)\n",
    "#plt.xticks(x, x_axis_names)\n",
    "axes[i][j].set_title('Cherry', weight = 'bold', size = 15)\n",
    "\n",
    "\n",
    "i = 0\n",
    "j = 1\n",
    "axes[i][j].bar(x_axis_names, detrac_f, width)\n",
    "axes[i][j].set_title('UA-DETRAC', weight = 'bold', size = 15)\n",
    "axes[i][j].set_xticklabels(x_axis_names, rotation = 30, ha = 'right', rotation_mode='anchor')\n",
    "\n",
    "\n",
    "i = 1\n",
    "j = 0\n",
    "axes[i][j].bar(x_axis_names, dashcam_f, width)\n",
    "axes[i][j].set_xticklabels(x_axis_names, rotation = 30, ha = 'right', rotation_mode='anchor')\n",
    "axes[i][j].set_ylabel('F1-Score', weight = 'bold', size = 15)\n",
    "\n",
    "axes[i][j].set_title('Dashcam', weight = 'bold', size = 15)\n",
    "\n",
    "\n",
    "i = 1\n",
    "j = 1\n",
    "axes[i][j].bar(x_axis_names, jackson_f, width)\n",
    "\n",
    "axes[i][j].set_title('Jackson', weight = 'bold', size = 15)\n",
    "axes[i][j].set_xticklabels(x_axis_names, rotation = 30, ha = 'right', rotation_mode='anchor')\n",
    "\n",
    "\n",
    "fig.tight_layout()\n",
    "\n",
    "#plt.legend()\n",
    "plt.savefig('plots/query-execution-q3.png')\n",
    "plt.show()"
   ]
  },
  {
   "cell_type": "code",
   "execution_count": null,
   "id": "35e90c9f-3e85-45a0-a995-043ff3e6bdfe",
   "metadata": {},
   "outputs": [],
   "source": []
  },
  {
   "cell_type": "markdown",
   "id": "064ecc6f-6ff8-4e9a-909c-e08e1768dfae",
   "metadata": {},
   "source": [
    "### Analysis\n",
    "\n",
    "Questions. \n",
    "1. Why is Q2 low for UA-DETRAC?\n",
    "2. Why is Q3 low for all datasets?"
   ]
  },
  {
   "cell_type": "code",
   "execution_count": 9,
   "id": "33ee0e12-e027-4291-86e8-3ca3228fcf5d",
   "metadata": {},
   "outputs": [
    {
     "data": {
      "text/plain": [
       "array([          1,           1,           1, ...,           1,           1,           1])"
      ]
     },
     "execution_count": 9,
     "metadata": {},
     "output_type": "execute_result"
    }
   ],
   "source": [
    "### Why is Q2 low for UA-DETRAC?\n",
    "\n",
    "## what do we need to answer this question?\n",
    "## gt_retrieval, anchor locations, eko_proposals\n",
    "\n",
    "gt_retrieval\n"
   ]
  },
  {
   "cell_type": "code",
   "execution_count": 24,
   "id": "b37d514a-fb00-45fa-8041-2a59afbf3fc3",
   "metadata": {},
   "outputs": [
    {
     "data": {
      "text/plain": [
       "0.9421775608358893"
      ]
     },
     "execution_count": 24,
     "metadata": {},
     "output_type": "execute_result"
    }
   ],
   "source": [
    "sum(gt_retrieval) / len(gt_retrieval)"
   ]
  },
  {
   "cell_type": "code",
   "execution_count": null,
   "id": "443614e1-fd27-4495-800b-dbeb12bbe965",
   "metadata": {},
   "outputs": [],
   "source": [
    "#### so.....almost all frames have buses in them????\n"
   ]
  },
  {
   "cell_type": "code",
   "execution_count": null,
   "id": "bfa93a5c-41b5-48ea-bb70-2ce96a70906b",
   "metadata": {},
   "outputs": [],
   "source": []
  },
  {
   "cell_type": "code",
   "execution_count": null,
   "id": "22423b78-ae55-4be0-9e39-1bd3b1463c14",
   "metadata": {},
   "outputs": [],
   "source": []
  },
  {
   "cell_type": "code",
   "execution_count": 15,
   "id": "a00ab2c2-9ff6-4d63-baef-d4d419b513d1",
   "metadata": {},
   "outputs": [
    {
     "data": {
      "text/plain": [
       "8379"
      ]
     },
     "execution_count": 15,
     "metadata": {},
     "output_type": "execute_result"
    }
   ],
   "source": [
    "len(eko.reps)"
   ]
  },
  {
   "cell_type": "code",
   "execution_count": 23,
   "id": "86fa3fbb-bda8-450c-9f0e-843385e90b33",
   "metadata": {},
   "outputs": [
    {
     "data": {
      "text/plain": [
       "[<matplotlib.lines.Line2D at 0x7ef2b3e835b0>]"
      ]
     },
     "execution_count": 23,
     "metadata": {},
     "output_type": "execute_result"
    },
    {
     "data": {
      "image/png": "[encoded data removed]",
      "text/plain": [
       "<Figure size 1440x216 with 1 Axes>"
      ]
     },
     "metadata": {
      "needs_background": "light"
     },
     "output_type": "display_data"
    }
   ],
   "source": [
    "### now let's plot the thing\n",
    "import matplotlib.pyplot as plt\n",
    "\n",
    "start = 1250\n",
    "end = 1500\n",
    "\n",
    "plt.figure(figsize = (20,3))\n",
    "\n",
    "\n",
    "\n",
    "plt.plot(gt_retrieval[start:end])"
   ]
  },
  {
   "cell_type": "code",
   "execution_count": null,
   "id": "6f2e6ff1-4b90-49da-bc09-a8de7fd4560a",
   "metadata": {},
   "outputs": [],
   "source": [
    "#### that's not cool, would smoothing change things?\n",
    "\n",
    "\n",
    "\n",
    "\n"
   ]
  },
  {
   "cell_type": "code",
   "execution_count": null,
   "id": "d49ca8ab-0c68-4068-85e6-2bc4d375092e",
   "metadata": {},
   "outputs": [],
   "source": []
  },
  {
   "cell_type": "code",
   "execution_count": null,
   "id": "d782b02d-3d06-4ce7-9b48-21cd540ca7d2",
   "metadata": {},
   "outputs": [],
   "source": []
  },
  {
   "cell_type": "code",
   "execution_count": null,
   "id": "3d6626e0-2e66-49f0-8bca-86243863637a",
   "metadata": {},
   "outputs": [],
   "source": []
  },
  {
   "cell_type": "code",
   "execution_count": null,
   "id": "e8008d89-0a52-48d6-8213-ea4c61d71577",
   "metadata": {},
   "outputs": [],
   "source": []
  },
  {
   "cell_type": "code",
   "execution_count": null,
   "id": "18e9c5be-c1b9-46f6-9da2-2f2525515623",
   "metadata": {},
   "outputs": [],
   "source": []
  },
  {
   "cell_type": "code",
   "execution_count": null,
   "id": "5e47c42f-56f6-414a-ad36-797de123ffb8",
   "metadata": {},
   "outputs": [],
   "source": []
  },
  {
   "cell_type": "code",
   "execution_count": null,
   "id": "703223d1-44a4-4561-aa8d-935c8b6ffcea",
   "metadata": {},
   "outputs": [],
   "source": []
  },
  {
   "cell_type": "code",
   "execution_count": null,
   "id": "649343d7-0033-4e9a-abc3-f61fc45f868b",
   "metadata": {},
   "outputs": [],
   "source": []
  },
  {
   "cell_type": "code",
   "execution_count": null,
   "id": "f6f9800f-f1f5-4583-bfa7-ba17f915bdf0",
   "metadata": {},
   "outputs": [],
   "source": []
  },
  {
   "cell_type": "code",
   "execution_count": null,
   "id": "d431b0c4-4c7c-4b13-8f23-1ed27ebc23fe",
   "metadata": {},
   "outputs": [],
   "source": []
  },
  {
   "cell_type": "code",
   "execution_count": 55,
   "id": "38535b55-b285-40ae-aac4-7600a02b86ce",
   "metadata": {},
   "outputs": [],
   "source": [
    "### Cherry Q1\n",
    "cherry_q1 = np.array([3341, 2352, 1900, 1759]) * (1 / 140) + np.array([0, 0, 4.2, 4])\n",
    "cherry_q2 = np.array([-1, -1, 300, 300]) * 1 / 140 + np.array([0, 0, 4.2, 4])\n",
    "cherry_q3 = np.array([100, 100, 100, 600]) * 1 / 140 + np.array([0, 0, 4.2, 4])\n",
    "detrac_q1 = np.array([55607, 28323, 23147, 20943]) * (1 / 140) + np.array([0, 0, 3.9, 4.5])\n",
    "detrac_q2 = np.array([210, 210, 210, 210]) * (1 / 140) + np.array([0, 0, 3.9, 4.5])\n",
    "detrac_q3 = np.array([100, 100, 110, 100]) * (1 / 140) + np.array([0, 0, 3.9, 4.5])\n",
    "\n",
    "dashcam_q1 = np.array([20679, 14638, 8426, 7571]) * (1 / 140) + np.array([0, 0, 3.7, 3.9])\n",
    "dashcam_q2 = np.array([-1, -1, 240, 210]) * (1 / 140) + np.array([0, 0, 3.7, 3.9])\n",
    "dashcam_q3 = np.array([100, 100, 100, 100]) * (1 / 140) + np.array([0, 0, 3.7, 3.9])\n",
    "\n",
    "dashcam_q1 = np.array([1316, 921, 1145, 1425]) * (1 / 140) + np.array([0, 0, 13, 12])\n",
    "dashcam_q2 = np.array([-1, -1, -1, -1]) * (1 / 140) + np.array([0, 0, 13, 12])\n",
    "dashcam_q3 = np.array([1500, 17600, -1, -1]) * (1 / 140) + np.array([0, 0, 13, 12])\n"
   ]
  },
  {
   "cell_type": "code",
   "execution_count": 56,
   "id": "a98cb171-532f-486e-811b-6b44b8884402",
   "metadata": {},
   "outputs": [
    {
     "data": {
      "text/plain": [
       "array([        9.4,      6.5786,      21.179,      22.179])"
      ]
     },
     "execution_count": 56,
     "metadata": {},
     "output_type": "execute_result"
    }
   ],
   "source": [
    "dashcam_q1"
   ]
  },
  {
   "cell_type": "code",
   "execution_count": null,
   "id": "7502e52a-9786-4fc7-b50d-d47f07d10f06",
   "metadata": {},
   "outputs": [],
   "source": []
  },
  {
   "cell_type": "code",
   "execution_count": null,
   "id": "c2f9a3ec-fb19-4f06-bcd1-40825e79f1dc",
   "metadata": {},
   "outputs": [],
   "source": [
    "THR = 1 / 140\n",
    "\n",
    "\n",
    "#### Q1\n",
    "x_axis_names = ['SVM', 'Resnet-18', 'TASTI-PT', 'EKO']\n",
    "cherry_q1_others = [0, 0, 4.2, 3.9]\n",
    "cherry_q1_post = [3300 * THR, 2545 * THR, 1892 * THR, 1829 * THR]\n",
    "\n",
    "#### Q2\n",
    "cherry_q2_others = [0, 0, 4.2, 3.9]\n",
    "cherry_q2_post = [1219 * THR, 886 * THR, 779 * THR, 778 * THR]\n",
    "\n",
    "#### Q3\n",
    "cherry_q3_others = [0, 0, 4.2, 3.9]\n",
    "cherry_q3_post = [1219 * THR, 886 * THR, 779 * THR, 778 * THR]\n",
    "\n",
    "\n",
    "#### Q1\n",
    "detrac_q1_others = [0, 0, 4.2, 3.9]\n",
    "detrac_q1_post = [1219 * THR, 886 * THR, 779 * THR, 778 * THR]\n",
    "\n",
    "\n",
    "#### Q2\n",
    "detrac_q2_others = [0, 0, 4.2, 3.9]\n",
    "detrac_q2_post = [1219 * THR, 886 * THR, 779 * THR, 778 * THR]\n",
    "\n",
    "\n",
    "#### Q3\n",
    "detrac_q3_others = [0, 0, 4.2, 3.9]\n",
    "detrac_q3_post = [1219 * THR, 886 * THR, 779 * THR, 778 * THR]\n",
    "\n",
    "\n",
    "#### Q1\n",
    "dashcam_q1_others = [0, 0, 4.2, 3.9]\n",
    "dashcam_q1_post = [1219 * THR, 886 * THR, 779 * THR, 778 * THR]\n",
    "\n",
    "\n",
    "#### Q2\n",
    "dashcam_q2_others = [0, 0, 4.2, 3.9]\n",
    "dashcam_q2_post = [1219 * THR, 886 * THR, 779 * THR, 778 * THR]\n",
    "\n",
    "\n",
    "#### Q3\n",
    "dashcam_q3_others = [0, 0, 4.2, 3.9]\n",
    "dashcam_q3_post = [1219 * THR, 886 * THR, 779 * THR, 778 * THR]\n",
    "\n",
    "\n",
    "#### Q1\n",
    "jackson_q1_others = [0, 0, 4.2, 3.9]\n",
    "jackson_q1_post = [1219 * THR, 886 * THR, 779 * THR, 778 * THR]\n",
    "\n",
    "\n",
    "#### Q2\n",
    "jackson_q2_others = [0, 0, 4.2, 3.9]\n",
    "jackson_q2_post = [1219 * THR, 886 * THR, 779 * THR, 778 * THR]\n",
    "\n",
    "\n",
    "#### Q3\n",
    "jackson_q3_others = [0, 0, 4.2, 3.9]\n",
    "jackson_q3_post = [1219 * THR, 886 * THR, 779 * THR, 778 * THR]\n",
    "\n",
    "\n",
    "\n",
    "import numpy as np\n",
    "import matplotlib.pyplot as plt\n",
    "%matplotlib inline\n",
    "\n",
    "\n",
    "### we need to do subplots\n",
    "rows = 1\n",
    "columns = 3\n",
    "i = 1\n",
    "fig = plt.figure(figsize = (15,3))\n",
    "fig.add_subplot(rows, columns, i)\n",
    "plt.bar(x - width, cherry_values, width, label = 'Cherry')\n",
    "plt.bar(x, ua_values, width, label = 'UA_DETRAC')\n",
    "plt.bar(x + width, da_values, width, label = 'Dashcam')\n",
    "plt.ylabel('Time (s)')\n",
    "plt.xticks(x, x_axis_names)\n",
    "plt.title('Q1 -- Aggregate')\n",
    "\n",
    "\n",
    "i = 2\n",
    "fig.add_subplot(rows, columns, i)\n",
    "plt.bar(x - width, cherry_values, width, label = 'Cherry')\n",
    "plt.bar(x, ua_values, width, label = 'UA_DETRAC')\n",
    "plt.bar(x + width, da_values, width, label = 'Dashcam')\n",
    "plt.xticks(x, x_axis_names)\n",
    "plt.title('Q2 -- Precision')\n",
    "\n",
    "\n",
    "\n",
    "i = 3\n",
    "fig.add_subplot(rows, columns, i)\n",
    "plt.bar(x - width, cherry_values, width, label = 'Cherry')\n",
    "plt.bar(x, ua_values, width, label = 'UA_DETRAC')\n",
    "plt.bar(x + width, da_values, width, label = 'Dashcam')\n",
    "plt.xticks(x, x_axis_names)\n",
    "plt.title('Q3 -- Recall')\n",
    "\n",
    "\n",
    "\n",
    "\n",
    "plt.xticks(x, x_axis_names)\n",
    "plt.legend()\n",
    "plt.show()\n",
    "\n"
   ]
  },
  {
   "cell_type": "code",
   "execution_count": null,
   "id": "58352758-0fce-462b-b10a-308797267ca2",
   "metadata": {},
   "outputs": [],
   "source": []
  },
  {
   "cell_type": "code",
   "execution_count": null,
   "id": "38ca18fd-1aec-40cf-adfc-e967c752d127",
   "metadata": {},
   "outputs": [],
   "source": [
    "### TODO: Need to include the YOLOv5 inference time for EKO -- this is pretty significant"
   ]
  },
  {
   "cell_type": "code",
   "execution_count": 14,
   "id": "7c7a6942-7f1d-4ddb-993f-46e8fa9d410d",
   "metadata": {},
   "outputs": [
    {
     "data": {
      "image/png": "[encoded data removed]",
      "text/plain": [
       "<Figure size 1080x216 with 3 Axes>"
      ]
     },
     "metadata": {
      "needs_background": "light"
     },
     "output_type": "display_data"
    }
   ],
   "source": [
    "### generate the outcome graph first \n",
    "import numpy as np\n",
    "import matplotlib.pyplot as plt\n",
    "%matplotlib inline\n",
    "### drawing function for the graph\n",
    "\n",
    "#### Q1 values\n",
    "\n",
    "x_axis_names = ['YOLOv5', 'TASTI-PT', 'EKO']\n",
    "cherry_values = [0, 9.68, 9.5]\n",
    "ua_values = [0, 61.25, 65.4]\n",
    "da_values = [0, 3.3 + 21.47, 2.9 + 22.17]\n",
    "\n",
    "\n",
    "##### Q2 values\n",
    "cherry_values = [0, 4.48 + 7.14, 4.26 + 7.14]\n",
    "ua_values = [0, 11.18, 12.94]\n",
    "da_values = [0, 3.57 + 7.14, 3.4 + 7.14]\n",
    "\n",
    "##### Q3 values\n",
    "cherry_values = [0, 4.56 + 7.14, 4.32 + 7.14]\n",
    "ua_values = [0, 11.84, 11.04]\n",
    "da_values = [0, 3.4 + 7.14, 3.4 + 7.14]\n",
    "\n",
    "\n",
    "x = np.arange(len(x_axis_names))\n",
    "width = 0.2\n",
    "\n",
    "\n",
    "### we need to do subplots\n",
    "rows = 1\n",
    "columns = 3\n",
    "i = 1\n",
    "fig = plt.figure(figsize = (15,3))\n",
    "fig.add_subplot(rows, columns, i)\n",
    "plt.bar(x - width, cherry_values, width, label = 'Cherry')\n",
    "plt.bar(x, ua_values, width, label = 'UA_DETRAC')\n",
    "plt.bar(x + width, da_values, width, label = 'Dashcam')\n",
    "plt.ylabel('Time (s)')\n",
    "plt.xticks(x, x_axis_names)\n",
    "plt.title('Q1 -- Aggregate')\n",
    "\n",
    "\n",
    "\n",
    "\n",
    "\n",
    "i = 2\n",
    "fig.add_subplot(rows, columns, i)\n",
    "plt.bar(x - width, cherry_values, width, label = 'Cherry')\n",
    "plt.bar(x, ua_values, width, label = 'UA_DETRAC')\n",
    "plt.bar(x + width, da_values, width, label = 'Dashcam')\n",
    "plt.xticks(x, x_axis_names)\n",
    "plt.title('Q2 -- Precision')\n",
    "\n",
    "\n",
    "\n",
    "i = 3\n",
    "fig.add_subplot(rows, columns, i)\n",
    "plt.bar(x - width, cherry_values, width, label = 'Cherry')\n",
    "plt.bar(x, ua_values, width, label = 'UA_DETRAC')\n",
    "plt.bar(x + width, da_values, width, label = 'Dashcam')\n",
    "plt.xticks(x, x_axis_names)\n",
    "plt.title('Q3 -- Recall')\n",
    "\n",
    "\n",
    "\n",
    "\n",
    "plt.xticks(x, x_axis_names)\n",
    "plt.legend()\n",
    "plt.show()\n"
   ]
  },
  {
   "cell_type": "code",
   "execution_count": 15,
   "id": "6d10bd56-050d-4722-9312-6b0f384da566",
   "metadata": {},
   "outputs": [],
   "source": [
    "cherry_values = [0, 9.68, 9.5]\n",
    "ua_values = [0, 61.25, 65.4]\n",
    "da_values = [0, 3.3 + 21.47, 2.9 + 22.17]\n",
    "\n",
    "\n",
    "##### Q2 values\n",
    "cherry_values2 = [0, 4.48 + 7.14, 4.26 + 7.14]\n",
    "ua_values2 = [0, 11.18, 12.94]\n",
    "da_values2 = [0, 3.57 + 7.14, 3.4 + 7.14]\n",
    "\n",
    "##### Q3 values\n",
    "cherry_values3 = [0, 4.56 + 7.14, 4.32 + 7.14]\n",
    "ua_values3 = [0, 11.84, 11.04]\n",
    "da_values3 = [0, 3.4 + 7.14, 3.4 + 7.14]"
   ]
  },
  {
   "cell_type": "code",
   "execution_count": 17,
   "id": "4dd49179-99c3-4125-9e4f-95dd09d460eb",
   "metadata": {},
   "outputs": [
    {
     "data": {
      "text/plain": [
       "array([          0,      18.143,      18.654])"
      ]
     },
     "execution_count": 17,
     "metadata": {},
     "output_type": "execute_result"
    }
   ],
   "source": [
    "tmp = np.array([cherry_values, ua_values, da_values, cherry_values2, ua_values2, da_values2, cherry_values3, ua_values3, da_values3])\n",
    "tmp.mean(axis = 0)"
   ]
  },
  {
   "cell_type": "code",
   "execution_count": 18,
   "id": "345f2553-55bb-4841-848a-3a8dc9a2816f",
   "metadata": {},
   "outputs": [
    {
     "name": "stdout",
     "output_type": "stream",
     "text": [
      "hello world\n"
     ]
    }
   ],
   "source": [
    "print('hello world')"
   ]
  },
  {
   "cell_type": "code",
   "execution_count": null,
   "id": "f780a99b-518b-4dc0-981c-14785655dbbb",
   "metadata": {},
   "outputs": [],
   "source": []
  }
 ],
 "metadata": {
  "kernelspec": {
   "display_name": "Python 3",
   "language": "python",
   "name": "python3"
  },
  "language_info": {
   "codemirror_mode": {
    "name": "ipython",
    "version": 3
   },
   "file_extension": ".py",
   "mimetype": "text/x-python",
   "name": "python",
   "nbconvert_exporter": "python",
   "pygments_lexer": "ipython3",
   "version": "3.9.7"
  }
 },
 "nbformat": 4,
 "nbformat_minor": 5
}
