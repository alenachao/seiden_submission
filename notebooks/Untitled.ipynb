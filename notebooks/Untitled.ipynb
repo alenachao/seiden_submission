{
 "cells": [
  {
   "cell_type": "code",
   "execution_count": 2,
   "id": "2b3573c2-6a80-4d59-a491-df7d877a90be",
   "metadata": {},
   "outputs": [],
   "source": [
    "import numpy as np\n",
    "\n",
    "## up to shivam goenka\n",
    "grades = [360, 270, 315, 310, 290, 275, 270, 250, 340, 310, 335, 305, 295, 315, 355]\n",
    "\n",
    "## up to Vishal Malla\n",
    "grades2 = [365, 215, 325, 320, 325, 425, 385, 320, 335, 360, 410, 365, 380, 365, 370]\n",
    "\n",
    "## Fan Shu\n",
    "grades3 = [420, 330, 315, 230, 360, 345, 405, 330, 355, 365, 350, 305, 430, 430, 330]\n",
    "\n",
    "## Daniel Yuan\n",
    "grades4 = [390, 305, 365, 145, 345, 345, 280, 370, 395, 315, 210, 405, 385, 400, 380]\n",
    "\n",
    "## Test Student\n",
    "grades5 = [245, 310, 260, 420, 0, 285, 0]"
   ]
  },
  {
   "cell_type": "code",
   "execution_count": 16,
   "id": "de51a6b3-ab5b-4aae-ab97-a62fff9c9387",
   "metadata": {},
   "outputs": [],
   "source": [
    "def convert6422(grades):\n",
    "    return np.round(np.array(grades) * 375 / 460)"
   ]
  },
  {
   "cell_type": "code",
   "execution_count": 17,
   "id": "3b5ad957-5b8d-47ee-9190-9e506abc8a8e",
   "metadata": {},
   "outputs": [
    {
     "data": {
      "text/plain": [
       "array([293., 220., 257., 253., 236., 224., 220., 204., 277., 253., 273.,\n",
       "       249., 240., 257., 289.])"
      ]
     },
     "execution_count": 17,
     "metadata": {},
     "output_type": "execute_result"
    }
   ],
   "source": [
    "convert6422(grades)"
   ]
  },
  {
   "cell_type": "code",
   "execution_count": 18,
   "id": "3e73a77a-3870-4677-a09c-49831149526d",
   "metadata": {},
   "outputs": [
    {
     "data": {
      "text/plain": [
       "array([298., 175., 265., 261., 265., 346., 314., 261., 273., 293., 334.,\n",
       "       298., 310., 298., 302.])"
      ]
     },
     "execution_count": 18,
     "metadata": {},
     "output_type": "execute_result"
    }
   ],
   "source": [
    "convert6422(grades2)"
   ]
  },
  {
   "cell_type": "code",
   "execution_count": 19,
   "id": "317a3358-bc0e-4182-8baa-636e2d4edcf4",
   "metadata": {},
   "outputs": [
    {
     "data": {
      "text/plain": [
       "array([342., 269., 257., 188., 293., 281., 330., 269., 289., 298., 285.,\n",
       "       249., 351., 351., 269.])"
      ]
     },
     "execution_count": 19,
     "metadata": {},
     "output_type": "execute_result"
    }
   ],
   "source": [
    "convert6422(grades3)"
   ]
  },
  {
   "cell_type": "code",
   "execution_count": 20,
   "id": "204b93b4-df8e-4ee5-bd57-ea786eda71b3",
   "metadata": {},
   "outputs": [
    {
     "data": {
      "text/plain": [
       "array([318., 249., 298., 118., 281., 281., 228., 302., 322., 257., 171.,\n",
       "       330., 314., 326., 310.])"
      ]
     },
     "execution_count": 20,
     "metadata": {},
     "output_type": "execute_result"
    }
   ],
   "source": [
    "convert6422(grades4)"
   ]
  },
  {
   "cell_type": "code",
   "execution_count": 21,
   "id": "82d37de0-d331-48ce-9f16-d9cdb7832017",
   "metadata": {},
   "outputs": [
    {
     "data": {
      "text/plain": [
       "array([200., 253., 212., 342.,   0., 232.,   0.])"
      ]
     },
     "execution_count": 21,
     "metadata": {},
     "output_type": "execute_result"
    }
   ],
   "source": [
    "convert6422(grades5)"
   ]
  },
  {
   "cell_type": "code",
   "execution_count": null,
   "id": "4560c9ca-7611-4711-b6a8-9edd83876e27",
   "metadata": {},
   "outputs": [],
   "source": []
  }
 ],
 "metadata": {
  "kernelspec": {
   "display_name": "Python 3",
   "language": "python",
   "name": "python3"
  },
  "language_info": {
   "codemirror_mode": {
    "name": "ipython",
    "version": 3
   },
   "file_extension": ".py",
   "mimetype": "text/x-python",
   "name": "python",
   "nbconvert_exporter": "python",
   "pygments_lexer": "ipython3",
   "version": "3.9.7"
  }
 },
 "nbformat": 4,
 "nbformat_minor": 5
}
