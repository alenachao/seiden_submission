{
 "cells": [
  {
   "cell_type": "code",
   "execution_count": 1,
   "id": "5d0d460b-78f2-4d10-8fa2-27e7b4299fbc",
   "metadata": {},
   "outputs": [],
   "source": [
    "%load_ext autoreload\n",
    "%autoreload 2"
   ]
  },
  {
   "cell_type": "code",
   "execution_count": null,
   "id": "0ce14d47-8ef3-489c-8802-21cd55a85505",
   "metadata": {},
   "outputs": [],
   "source": [
    "### In this script, we will take care of the precision queries."
   ]
  },
  {
   "cell_type": "code",
   "execution_count": null,
   "id": "af5bdac1-1bdc-4282-86cf-45578e02b9ae",
   "metadata": {},
   "outputs": [],
   "source": []
  },
  {
   "cell_type": "code",
   "execution_count": 2,
   "id": "44a1fb0a-07f7-44ce-b2b3-8ab0393b97c0",
   "metadata": {},
   "outputs": [],
   "source": [
    "\n",
    "import sys\n",
    "sys.path.append('/nethome/jbang36/eko')\n"
   ]
  },
  {
   "cell_type": "code",
   "execution_count": 3,
   "id": "03ce896d-4cb0-488d-a611-2e40080fb849",
   "metadata": {},
   "outputs": [
    {
     "name": "stderr",
     "output_type": "stream",
     "text": [
      "10-27-2022 14:53:58 [info:049]INFO : meta data of the video /srv/data/jbang36/video_data/jackson/video.mp4 is (300000, 300, 300, 3)\n",
      "meta data of the video /srv/data/jbang36/video_data/jackson/video.mp4 is (300000, 300, 300, 3)\n",
      "100%|██████████| 300000/300000 [00:58<00:00, 5085.11it/s]\n"
     ]
    }
   ],
   "source": [
    "### let's run the experiment and get the results\n",
    "video_names = ['cherry960', 'ua_detra960', 'dashcam960', 'jackson']\n",
    "video_name = 'jackson'\n",
    "category = 'car'\n",
    "\n",
    "from eko_paper2022.motivation.main import *\n",
    "\n",
    "images = load_dataset(video_name)\n"
   ]
  },
  {
   "cell_type": "code",
   "execution_count": 4,
   "id": "6dd7de6a-9ae5-4357-8590-8a177974ae6e",
   "metadata": {
    "scrolled": true,
    "tags": []
   },
   "outputs": [
    {
     "name": "stdout",
     "output_type": "stream",
     "text": [
      "index initializing....\n",
      "number of training instances:  1\n",
      "mining complete!\n",
      "training complete!\n",
      "inferring complete!\n",
      "0.8 70000\n",
      "rep indices stats 70000 60000\n",
      "60001 70000\n",
      "bucketing complete!\n"
     ]
    },
    {
     "data": {
      "application/vnd.jupyter.widget-view+json": {
       "model_id": "b48dbeb25367414cb7fdd341381452cf",
       "version_major": 2,
       "version_minor": 0
      },
      "text/plain": [
       "Target DNN Invocations:   0%|          | 0/60001 [00:00<?, ?it/s]"
      ]
     },
     "metadata": {},
     "output_type": "display_data"
    },
    {
     "data": {
      "application/vnd.jupyter.widget-view+json": {
       "model_id": "ae2597cd318f4b28bdee85c7056c873d",
       "version_major": 2,
       "version_minor": 0
      },
      "text/plain": [
       "Propagation:   0%|          | 0/300000 [00:00<?, ?it/s]"
      ]
     },
     "metadata": {},
     "output_type": "display_data"
    }
   ],
   "source": [
    "#### let's use eko and see what the y_pred, y_true gives\n",
    "\n",
    "from eko_paper2022.motivation.main import execute_ekoalt\n",
    "from eko_paper2022.experiments.main import *\n",
    "\n",
    "\n",
    "eko = execute_ekoalt(images, video_name, nb_buckets = 70000)\n",
    "\n",
    "from eko_paper2022.experiments.main import *\n",
    "\n",
    "\n",
    "query = get_labels(eko)\n",
    "a = query.y_pred\n",
    "b = query.y_true\n",
    "gt_retrieval = []\n",
    "for bb in b:\n",
    "    gt_retrieval.append(float(bb))\n",
    "gt_retrieval = np.array(gt_retrieval)\n",
    "\n"
   ]
  },
  {
   "cell_type": "code",
   "execution_count": 5,
   "id": "0b8db850-1a26-40ef-a267-9c34561c28f1",
   "metadata": {},
   "outputs": [
    {
     "data": {
      "application/vnd.jupyter.widget-view+json": {
       "model_id": "0e37b1f798e34920b17587ff8e22f2e4",
       "version_major": 2,
       "version_minor": 0
      },
      "text/plain": [
       "Propagation:   0%|          | 0/300000 [00:00<?, ?it/s]"
      ]
     },
     "metadata": {},
     "output_type": "display_data"
    },
    {
     "name": "stdout",
     "output_type": "stream",
     "text": [
      "r 4.0\n",
      "NightStreetAggregateQuery\n",
      "---------------------------  --------------------------------------------------------------------------------------------------------------------------------------------------------------------------------------\n",
      "initial_estimate             14945.0\n",
      "debiased_estimate            12146.806814591122\n",
      "nb_samples                   634\n",
      "y_pred                       [          0           0           0 ...           0           0           0]\n",
      "y_true                       [DNNOutputCacheFloat(idx=0) DNNOutputCacheFloat(idx=1) DNNOutputCacheFloat(idx=2) ... DNNOutputCacheFloat(idx=299997) DNNOutputCacheFloat(idx=299998) DNNOutputCacheFloat(idx=299999)]\n",
      "actual_estimate              14860.0\n"
     ]
    }
   ],
   "source": [
    "query, times = query_process_aggregate(eko)\n",
    "\n",
    "a = query.y_pred\n",
    "b = query.y_true\n",
    "gt_aggregate = []\n",
    "for bb in b:\n",
    "    gt_aggregate.append(float(bb))\n",
    "gt_aggregate = np.array(gt_aggregate)"
   ]
  },
  {
   "cell_type": "code",
   "execution_count": 6,
   "id": "a2e69f5e-b84e-4487-a6dc-66f6e2270d78",
   "metadata": {},
   "outputs": [
    {
     "data": {
      "text/plain": [
       "((300000, 300, 300, 3), (300000,))"
      ]
     },
     "execution_count": 6,
     "metadata": {},
     "output_type": "execute_result"
    }
   ],
   "source": [
    "images.shape,gt_retrieval.shape"
   ]
  },
  {
   "cell_type": "code",
   "execution_count": null,
   "id": "83b5b06e-c77c-430b-8513-eea67c3f7b2c",
   "metadata": {},
   "outputs": [],
   "source": []
  },
  {
   "cell_type": "code",
   "execution_count": null,
   "id": "35094e07-50f7-4476-90cc-dc95b883080d",
   "metadata": {},
   "outputs": [],
   "source": []
  },
  {
   "cell_type": "code",
   "execution_count": null,
   "id": "88e65997-c7a8-4dcf-8175-a798e9343fde",
   "metadata": {},
   "outputs": [],
   "source": [
    "#### now we go into individual methods and compute their numbers...\n",
    "#### we will do precision and recall in 1 pass\n",
    "\n",
    "\n"
   ]
  },
  {
   "cell_type": "markdown",
   "id": "fe0e2d02-4e18-4a43-b786-69753f24bd87",
   "metadata": {},
   "source": [
    "#### SVM"
   ]
  },
  {
   "cell_type": "code",
   "execution_count": 7,
   "id": "ff165596-2b0b-4f9d-a139-9cd7196ff7b4",
   "metadata": {},
   "outputs": [
    {
     "name": "stdout",
     "output_type": "stream",
     "text": [
      "SVM training start....\n",
      "SVM training done!!\n"
     ]
    },
    {
     "data": {
      "text/plain": [
       "9.385698299854994"
      ]
     },
     "execution_count": 7,
     "metadata": {},
     "output_type": "execute_result"
    }
   ],
   "source": [
    "\n",
    "from eko_paper2022.experiments.svm_wrapper import SVMWrapper\n",
    "\n",
    "\n",
    "svm_wrapper = SVMWrapper()\n",
    "labels = gt_aggregate\n",
    "\n",
    "st = time.perf_counter()\n",
    "svm_wrapper.train(images, labels)\n",
    "et  = time.perf_counter()\n",
    "\n",
    "et - st\n"
   ]
  },
  {
   "cell_type": "code",
   "execution_count": null,
   "id": "dab4cfe3-9ed8-4ebc-859f-ba31c7fe75d8",
   "metadata": {},
   "outputs": [],
   "source": []
  },
  {
   "cell_type": "code",
   "execution_count": 8,
   "id": "4c2ac196-75c3-4952-abe4-2411c1fd21c4",
   "metadata": {},
   "outputs": [],
   "source": [
    "### svm_precision\n",
    "\n",
    "svm_retrieval = svm_wrapper.inference_retrieval(images)"
   ]
  },
  {
   "cell_type": "code",
   "execution_count": 9,
   "id": "b60b37a6-72cc-4967-a9e5-d9d7c2195d97",
   "metadata": {},
   "outputs": [],
   "source": [
    "dnn_invocation = int(len(images) * 0.1)\n"
   ]
  },
  {
   "cell_type": "code",
   "execution_count": 10,
   "id": "ad34d779-7a02-464c-8ef2-ad61a76a27ff",
   "metadata": {
    "scrolled": true,
    "tags": []
   },
   "outputs": [
    {
     "data": {
      "text/plain": [
       "(1.0, 0.26521003457662035)"
      ]
     },
     "execution_count": 10,
     "metadata": {},
     "output_type": "execute_result"
    }
   ],
   "source": [
    "\n",
    "precision, recall = query_process_precision(None, dnn_invocation = dnn_invocation, y = (svm_retrieval, gt_retrieval))\n",
    "precision, recall"
   ]
  },
  {
   "cell_type": "code",
   "execution_count": 11,
   "id": "2633d99d-e7d8-4790-8243-611ede4ffc89",
   "metadata": {},
   "outputs": [
    {
     "data": {
      "text/plain": [
       "(0.19706982919910676, 0.9608622084896637)"
      ]
     },
     "execution_count": 11,
     "metadata": {},
     "output_type": "execute_result"
    }
   ],
   "source": [
    "precision, recall = query_process_recall(None, dnn_invocation = dnn_invocation, y = (svm_retrieval, gt_retrieval))\n",
    "precision, recall"
   ]
  },
  {
   "cell_type": "code",
   "execution_count": null,
   "id": "21bc8793-f4d8-47aa-9a8b-fbd0ecb5e57e",
   "metadata": {},
   "outputs": [],
   "source": []
  },
  {
   "cell_type": "markdown",
   "id": "882f2fa6-327e-4c5f-aea7-ecdf6a81d28d",
   "metadata": {},
   "source": [
    "## Resnet-18"
   ]
  },
  {
   "cell_type": "code",
   "execution_count": 12,
   "id": "3e94fc8c-3ad3-40c9-aab7-864e2dfb1d81",
   "metadata": {},
   "outputs": [],
   "source": [
    "## Resnet-18\n",
    "\n",
    "images.shape\n",
    "### load the labels -- it's loading the csv file \n",
    "label_file = f'/srv/data/jbang36/video_data/{video_name}/tasti_labels.csv'\n",
    "\n",
    "from eko_paper2022.experiments.resnet_wrapper import ResnetWrapper\n",
    "\n",
    "\n",
    "resnet = ResnetWrapper()\n",
    "\n",
    "labels = resnet._load_labels(images, label_file)\n",
    "\n"
   ]
  },
  {
   "cell_type": "code",
   "execution_count": 13,
   "id": "8251a12b-aaac-42c2-800f-af7b863ed52b",
   "metadata": {
    "scrolled": true,
    "tags": []
   },
   "outputs": [
    {
     "name": "stdout",
     "output_type": "stream",
     "text": [
      "Epoch 1\n",
      "\n",
      "Epoch [1/5], Step [0/750], Loss: 2.1881\n",
      "Epoch [1/5], Step [20/750], Loss: 0.0476\n",
      "Epoch [1/5], Step [40/750], Loss: 0.3996\n",
      "Epoch [1/5], Step [60/750], Loss: 0.1043\n",
      "Epoch [1/5], Step [80/750], Loss: 0.0472\n",
      "Epoch [1/5], Step [100/750], Loss: 1.6048\n",
      "Epoch [1/5], Step [120/750], Loss: 0.0016\n",
      "Epoch [1/5], Step [140/750], Loss: 0.0280\n",
      "Epoch [1/5], Step [160/750], Loss: 0.0014\n",
      "Epoch [1/5], Step [180/750], Loss: 0.1926\n",
      "Epoch [1/5], Step [200/750], Loss: 0.0145\n",
      "Epoch [1/5], Step [220/750], Loss: 0.0026\n",
      "Epoch [1/5], Step [240/750], Loss: 0.0228\n",
      "Epoch [1/5], Step [260/750], Loss: 1.1017\n",
      "Epoch [1/5], Step [280/750], Loss: 0.0029\n",
      "Epoch [1/5], Step [300/750], Loss: 0.0137\n",
      "Epoch [1/5], Step [320/750], Loss: 0.0004\n",
      "Epoch [1/5], Step [340/750], Loss: 0.0307\n",
      "Epoch [1/5], Step [360/750], Loss: 0.9070\n",
      "Epoch [1/5], Step [380/750], Loss: 0.1448\n",
      "Epoch [1/5], Step [400/750], Loss: 0.0685\n",
      "Epoch [1/5], Step [420/750], Loss: 0.0008\n",
      "Epoch [1/5], Step [440/750], Loss: 0.0000\n",
      "Epoch [1/5], Step [460/750], Loss: 0.6123\n",
      "Epoch [1/5], Step [480/750], Loss: 0.0000\n",
      "Epoch [1/5], Step [500/750], Loss: 0.1418\n",
      "Epoch [1/5], Step [520/750], Loss: 0.0768\n",
      "Epoch [1/5], Step [540/750], Loss: 0.0118\n",
      "Epoch [1/5], Step [560/750], Loss: 0.0067\n",
      "Epoch [1/5], Step [580/750], Loss: 0.0989\n",
      "Epoch [1/5], Step [600/750], Loss: 0.0002\n",
      "Epoch [1/5], Step [620/750], Loss: 0.0124\n",
      "Epoch [1/5], Step [640/750], Loss: 0.0170\n",
      "Epoch [1/5], Step [660/750], Loss: 0.0042\n",
      "Epoch [1/5], Step [680/750], Loss: 0.0002\n",
      "Epoch [1/5], Step [700/750], Loss: 0.0165\n",
      "Epoch [1/5], Step [720/750], Loss: 3.7553\n",
      "Epoch [1/5], Step [740/750], Loss: 0.4622\n",
      "\n",
      "train-loss: 0.2457, train-acc: 95.0333\n",
      "Epoch 2\n",
      "\n",
      "Epoch [2/5], Step [0/750], Loss: 0.0264\n",
      "Epoch [2/5], Step [20/750], Loss: 1.3710\n",
      "Epoch [2/5], Step [40/750], Loss: 0.0332\n",
      "Epoch [2/5], Step [60/750], Loss: 0.0200\n",
      "Epoch [2/5], Step [80/750], Loss: 0.0085\n",
      "Epoch [2/5], Step [100/750], Loss: 0.0123\n",
      "Epoch [2/5], Step [120/750], Loss: 0.0093\n",
      "Epoch [2/5], Step [140/750], Loss: 0.0198\n",
      "Epoch [2/5], Step [160/750], Loss: 0.0264\n",
      "Epoch [2/5], Step [180/750], Loss: 0.0002\n",
      "Epoch [2/5], Step [200/750], Loss: 0.0017\n",
      "Epoch [2/5], Step [220/750], Loss: 0.1231\n",
      "Epoch [2/5], Step [240/750], Loss: 0.1615\n",
      "Epoch [2/5], Step [260/750], Loss: 0.0025\n",
      "Epoch [2/5], Step [280/750], Loss: 0.1083\n",
      "Epoch [2/5], Step [300/750], Loss: 0.0115\n",
      "Epoch [2/5], Step [320/750], Loss: 0.0001\n",
      "Epoch [2/5], Step [340/750], Loss: 0.0506\n",
      "Epoch [2/5], Step [360/750], Loss: 0.2615\n",
      "Epoch [2/5], Step [380/750], Loss: 0.1044\n",
      "Epoch [2/5], Step [400/750], Loss: 0.2150\n",
      "Epoch [2/5], Step [420/750], Loss: 0.0025\n",
      "Epoch [2/5], Step [440/750], Loss: 0.0129\n",
      "Epoch [2/5], Step [460/750], Loss: 0.0004\n",
      "Epoch [2/5], Step [480/750], Loss: 0.0039\n",
      "Epoch [2/5], Step [500/750], Loss: 0.0004\n",
      "Epoch [2/5], Step [520/750], Loss: 0.0092\n",
      "Epoch [2/5], Step [540/750], Loss: 0.0015\n",
      "Epoch [2/5], Step [560/750], Loss: 0.0013\n",
      "Epoch [2/5], Step [580/750], Loss: 0.0000\n",
      "Epoch [2/5], Step [600/750], Loss: 0.1648\n",
      "Epoch [2/5], Step [620/750], Loss: 0.0503\n",
      "Epoch [2/5], Step [640/750], Loss: 0.1071\n",
      "Epoch [2/5], Step [660/750], Loss: 0.0000\n",
      "Epoch [2/5], Step [680/750], Loss: 0.1396\n",
      "Epoch [2/5], Step [700/750], Loss: 0.0002\n",
      "Epoch [2/5], Step [720/750], Loss: 3.7725\n",
      "Epoch [2/5], Step [740/750], Loss: 1.8275\n",
      "\n",
      "train-loss: 0.2413, train-acc: 95.2000\n",
      "Epoch 3\n",
      "\n",
      "Epoch [3/5], Step [0/750], Loss: 0.0092\n",
      "Epoch [3/5], Step [20/750], Loss: 0.0036\n",
      "Epoch [3/5], Step [40/750], Loss: 0.0000\n",
      "Epoch [3/5], Step [60/750], Loss: 0.0000\n",
      "Epoch [3/5], Step [80/750], Loss: 0.0000\n",
      "Epoch [3/5], Step [100/750], Loss: 0.0081\n",
      "Epoch [3/5], Step [120/750], Loss: 0.0000\n",
      "Epoch [3/5], Step [140/750], Loss: 0.0021\n",
      "Epoch [3/5], Step [160/750], Loss: 0.0015\n",
      "Epoch [3/5], Step [180/750], Loss: 0.0000\n",
      "Epoch [3/5], Step [200/750], Loss: 0.0000\n",
      "Epoch [3/5], Step [220/750], Loss: -0.0000\n",
      "Epoch [3/5], Step [240/750], Loss: 0.2852\n",
      "Epoch [3/5], Step [260/750], Loss: 0.0382\n",
      "Epoch [3/5], Step [280/750], Loss: 0.0156\n",
      "Epoch [3/5], Step [300/750], Loss: 0.0011\n",
      "Epoch [3/5], Step [320/750], Loss: 0.0009\n",
      "Epoch [3/5], Step [340/750], Loss: 0.0003\n",
      "Epoch [3/5], Step [360/750], Loss: 0.0002\n",
      "Epoch [3/5], Step [380/750], Loss: 0.0061\n",
      "Epoch [3/5], Step [400/750], Loss: 0.0012\n",
      "Epoch [3/5], Step [420/750], Loss: 0.0002\n",
      "Epoch [3/5], Step [440/750], Loss: 0.0001\n",
      "Epoch [3/5], Step [460/750], Loss: 0.0427\n",
      "Epoch [3/5], Step [480/750], Loss: 0.0000\n",
      "Epoch [3/5], Step [500/750], Loss: 1.0571\n",
      "Epoch [3/5], Step [520/750], Loss: 0.0075\n",
      "Epoch [3/5], Step [540/750], Loss: 0.0000\n",
      "Epoch [3/5], Step [560/750], Loss: 0.0000\n",
      "Epoch [3/5], Step [580/750], Loss: 0.0001\n",
      "Epoch [3/5], Step [600/750], Loss: 0.5192\n",
      "Epoch [3/5], Step [620/750], Loss: 0.0000\n",
      "Epoch [3/5], Step [640/750], Loss: 0.0000\n",
      "Epoch [3/5], Step [660/750], Loss: 0.0373\n",
      "Epoch [3/5], Step [680/750], Loss: 0.0004\n",
      "Epoch [3/5], Step [700/750], Loss: 0.0009\n",
      "Epoch [3/5], Step [720/750], Loss: 0.0000\n",
      "Epoch [3/5], Step [740/750], Loss: 1.5179\n",
      "\n",
      "train-loss: 0.2417, train-acc: 95.6667\n",
      "Epoch 4\n",
      "\n",
      "Epoch [4/5], Step [0/750], Loss: 0.0000\n",
      "Epoch [4/5], Step [20/750], Loss: 0.0000\n",
      "Epoch [4/5], Step [40/750], Loss: 0.3427\n",
      "Epoch [4/5], Step [60/750], Loss: 0.0000\n",
      "Epoch [4/5], Step [80/750], Loss: 0.2759\n",
      "Epoch [4/5], Step [100/750], Loss: 0.0623\n",
      "Epoch [4/5], Step [120/750], Loss: -0.0000\n",
      "Epoch [4/5], Step [140/750], Loss: 2.2579\n",
      "Epoch [4/5], Step [160/750], Loss: -0.0000\n",
      "Epoch [4/5], Step [180/750], Loss: 0.0774\n",
      "Epoch [4/5], Step [200/750], Loss: 0.1408\n",
      "Epoch [4/5], Step [220/750], Loss: 0.0000\n",
      "Epoch [4/5], Step [240/750], Loss: 0.0005\n",
      "Epoch [4/5], Step [260/750], Loss: 0.2180\n",
      "Epoch [4/5], Step [280/750], Loss: 0.0098\n",
      "Epoch [4/5], Step [300/750], Loss: 0.0001\n",
      "Epoch [4/5], Step [320/750], Loss: 0.6378\n",
      "Epoch [4/5], Step [340/750], Loss: 0.0002\n",
      "Epoch [4/5], Step [360/750], Loss: 0.0007\n",
      "Epoch [4/5], Step [380/750], Loss: 0.0016\n",
      "Epoch [4/5], Step [400/750], Loss: -0.0000\n",
      "Epoch [4/5], Step [420/750], Loss: 0.0939\n",
      "Epoch [4/5], Step [440/750], Loss: 0.0000\n",
      "Epoch [4/5], Step [460/750], Loss: 0.0266\n",
      "Epoch [4/5], Step [480/750], Loss: 0.0015\n",
      "Epoch [4/5], Step [500/750], Loss: -0.0000\n",
      "Epoch [4/5], Step [520/750], Loss: 0.0000\n",
      "Epoch [4/5], Step [540/750], Loss: 0.0000\n",
      "Epoch [4/5], Step [560/750], Loss: 0.5481\n",
      "Epoch [4/5], Step [580/750], Loss: 0.0015\n",
      "Epoch [4/5], Step [600/750], Loss: 0.0107\n",
      "Epoch [4/5], Step [620/750], Loss: 0.0004\n",
      "Epoch [4/5], Step [640/750], Loss: 0.0322\n",
      "Epoch [4/5], Step [660/750], Loss: 0.1066\n",
      "Epoch [4/5], Step [680/750], Loss: 4.1663\n",
      "Epoch [4/5], Step [700/750], Loss: 0.0010\n",
      "Epoch [4/5], Step [720/750], Loss: 0.0001\n",
      "Epoch [4/5], Step [740/750], Loss: 0.0000\n",
      "\n",
      "train-loss: 0.2534, train-acc: 95.4000\n",
      "Epoch 5\n",
      "\n",
      "Epoch [5/5], Step [0/750], Loss: 0.0000\n",
      "Epoch [5/5], Step [20/750], Loss: 0.0000\n",
      "Epoch [5/5], Step [40/750], Loss: 0.0000\n",
      "Epoch [5/5], Step [60/750], Loss: 0.7008\n",
      "Epoch [5/5], Step [80/750], Loss: 0.0240\n",
      "Epoch [5/5], Step [100/750], Loss: 0.0000\n",
      "Epoch [5/5], Step [120/750], Loss: 0.0335\n",
      "Epoch [5/5], Step [140/750], Loss: 0.0000\n",
      "Epoch [5/5], Step [160/750], Loss: 0.0000\n",
      "Epoch [5/5], Step [180/750], Loss: 0.0007\n",
      "Epoch [5/5], Step [200/750], Loss: 0.0000\n",
      "Epoch [5/5], Step [220/750], Loss: 0.0010\n",
      "Epoch [5/5], Step [240/750], Loss: 0.0055\n",
      "Epoch [5/5], Step [260/750], Loss: 0.0001\n",
      "Epoch [5/5], Step [280/750], Loss: 0.0000\n",
      "Epoch [5/5], Step [300/750], Loss: 0.0005\n",
      "Epoch [5/5], Step [320/750], Loss: 0.0001\n",
      "Epoch [5/5], Step [340/750], Loss: 0.8098\n",
      "Epoch [5/5], Step [360/750], Loss: 0.0001\n",
      "Epoch [5/5], Step [380/750], Loss: 0.0000\n",
      "Epoch [5/5], Step [400/750], Loss: 0.0014\n",
      "Epoch [5/5], Step [420/750], Loss: 0.0000\n",
      "Epoch [5/5], Step [440/750], Loss: 0.0000\n",
      "Epoch [5/5], Step [460/750], Loss: 0.0439\n",
      "Epoch [5/5], Step [480/750], Loss: 0.0000\n",
      "Epoch [5/5], Step [500/750], Loss: 0.0000\n",
      "Epoch [5/5], Step [520/750], Loss: 0.0001\n",
      "Epoch [5/5], Step [540/750], Loss: 0.0001\n",
      "Epoch [5/5], Step [560/750], Loss: 0.0016\n",
      "Epoch [5/5], Step [580/750], Loss: 0.7046\n",
      "Epoch [5/5], Step [600/750], Loss: 0.0000\n",
      "Epoch [5/5], Step [620/750], Loss: 0.0006\n",
      "Epoch [5/5], Step [640/750], Loss: 0.0034\n",
      "Epoch [5/5], Step [660/750], Loss: -0.0000\n",
      "Epoch [5/5], Step [680/750], Loss: 0.9638\n",
      "Epoch [5/5], Step [700/750], Loss: 0.0011\n",
      "Epoch [5/5], Step [720/750], Loss: 1.4216\n",
      "Epoch [5/5], Step [740/750], Loss: -0.0000\n",
      "\n",
      "train-loss: 0.2589, train-acc: 95.1000\n"
     ]
    }
   ],
   "source": [
    "### okay, let's try the training step..\n",
    "st = time.perf_counter()\n",
    "resnet.train(images, labels)\n",
    "et = time.perf_counter()"
   ]
  },
  {
   "cell_type": "code",
   "execution_count": 14,
   "id": "ef360750-11f2-40b8-9e31-01085b0bd235",
   "metadata": {},
   "outputs": [
    {
     "data": {
      "text/plain": [
       "22.634621389210224"
      ]
     },
     "execution_count": 14,
     "metadata": {},
     "output_type": "execute_result"
    }
   ],
   "source": [
    "et - st"
   ]
  },
  {
   "cell_type": "code",
   "execution_count": 15,
   "id": "78328293-7963-40ce-ab5e-780ca9f99376",
   "metadata": {
    "scrolled": true,
    "tags": []
   },
   "outputs": [
    {
     "name": "stdout",
     "output_type": "stream",
     "text": [
      "inference image size is  224\n",
      "cuda\n"
     ]
    },
    {
     "name": "stderr",
     "output_type": "stream",
     "text": [
      "100%|██████████| 37500/37500 [09:25<00:00, 66.30it/s]\n"
     ]
    }
   ],
   "source": [
    "resnet_retrieval = resnet.inference_retrieval(images, image_size = 224)"
   ]
  },
  {
   "cell_type": "code",
   "execution_count": 16,
   "id": "56dfa3fa-a7b8-4f0b-a433-0745095df09d",
   "metadata": {
    "scrolled": true,
    "tags": []
   },
   "outputs": [
    {
     "data": {
      "text/plain": [
       "(1.0, 0.1975281394835577)"
      ]
     },
     "execution_count": 16,
     "metadata": {},
     "output_type": "execute_result"
    }
   ],
   "source": [
    "\n",
    "precision, recall = query_process_precision(None, dnn_invocation = dnn_invocation, y = (resnet_retrieval, gt_retrieval))\n",
    "precision, recall\n"
   ]
  },
  {
   "cell_type": "code",
   "execution_count": 17,
   "id": "fa4217be-1e96-430e-9e10-c7112f99603f",
   "metadata": {
    "scrolled": true,
    "tags": []
   },
   "outputs": [
    {
     "data": {
      "text/plain": [
       "(0.04642637283586838, 0.9875671301405134)"
      ]
     },
     "execution_count": 17,
     "metadata": {},
     "output_type": "execute_result"
    }
   ],
   "source": [
    "precision, recall = query_process_recall(None, dnn_invocation = dnn_invocation, y = (resnet_retrieval, gt_retrieval))\n",
    "precision, recall\n"
   ]
  },
  {
   "cell_type": "code",
   "execution_count": null,
   "id": "7a31f1f6-197b-4b42-aea9-673dca549daf",
   "metadata": {},
   "outputs": [],
   "source": []
  },
  {
   "cell_type": "code",
   "execution_count": null,
   "id": "295470a2-313b-4818-9782-4a6b88fa859f",
   "metadata": {},
   "outputs": [],
   "source": []
  },
  {
   "cell_type": "markdown",
   "id": "dd474b07-3181-49b8-9882-62798dee9db5",
   "metadata": {},
   "source": [
    "### EKO"
   ]
  },
  {
   "cell_type": "code",
   "execution_count": 7,
   "id": "61eb1b8a-7c4f-401c-a4e5-f203425892e0",
   "metadata": {},
   "outputs": [
    {
     "name": "stdout",
     "output_type": "stream",
     "text": [
      "index initializing....\n",
      "number of training instances:  1\n",
      "mining complete!\n",
      "training complete!\n",
      "inferring complete!\n",
      "0.8 30000\n",
      "rep indices stats 30000 25000\n",
      "25001 30000\n",
      "bucketing complete!\n"
     ]
    },
    {
     "data": {
      "application/vnd.jupyter.widget-view+json": {
       "model_id": "2288a108b5094e5aab158a3d52bcc3d4",
       "version_major": 2,
       "version_minor": 0
      },
      "text/plain": [
       "Target DNN Invocations:   0%|          | 0/25001 [00:00<?, ?it/s]"
      ]
     },
     "metadata": {},
     "output_type": "display_data"
    }
   ],
   "source": [
    "#### let's try eko\n",
    "\n",
    "anchor_count = int( len(images) * 0.1 )\n",
    "\n",
    "eko = execute_ekoalt(images, video_name, nb_buckets = anchor_count)\n"
   ]
  },
  {
   "cell_type": "code",
   "execution_count": 8,
   "id": "31ae6dd9-b941-461f-bfa6-6fbd4b6f3101",
   "metadata": {
    "scrolled": true,
    "tags": []
   },
   "outputs": [
    {
     "data": {
      "application/vnd.jupyter.widget-view+json": {
       "model_id": "c2f10c3c67b642dd808469bb1ab06a94",
       "version_major": 2,
       "version_minor": 0
      },
      "text/plain": [
       "Propagation:   0%|          | 0/300000 [00:00<?, ?it/s]"
      ]
     },
     "metadata": {},
     "output_type": "display_data"
    },
    {
     "data": {
      "text/plain": [
       "(0.7693693693693694, 0.7539174575148974)"
      ]
     },
     "execution_count": 8,
     "metadata": {},
     "output_type": "execute_result"
    }
   ],
   "source": [
    "### Q2:\n",
    "dnn_invocation = int(len(images) * 0.1)\n",
    "\n",
    "precision, recall = query_process_precision(eko, dnn_invocation = dnn_invocation)\n",
    "precision, recall\n",
    "\n"
   ]
  },
  {
   "cell_type": "code",
   "execution_count": 9,
   "id": "43f537dd-21ac-4eee-a68a-4047fcf08486",
   "metadata": {},
   "outputs": [
    {
     "data": {
      "application/vnd.jupyter.widget-view+json": {
       "model_id": "92c450ee9ba84ae0bdffa36ffecb370c",
       "version_major": 2,
       "version_minor": 0
      },
      "text/plain": [
       "Propagation:   0%|          | 0/300000 [00:00<?, ?it/s]"
      ]
     },
     "metadata": {},
     "output_type": "display_data"
    },
    {
     "data": {
      "text/plain": [
       "(0.6966616541353383, 0.8520562053998382)"
      ]
     },
     "execution_count": 9,
     "metadata": {},
     "output_type": "execute_result"
    }
   ],
   "source": [
    "### Q2:\n",
    "precision, recall = query_process_recall(eko, dnn_invocation = dnn_invocation)\n",
    "precision, recall\n",
    "\n"
   ]
  },
  {
   "cell_type": "code",
   "execution_count": null,
   "id": "8b4efdb9-7cc4-49d7-83d3-f70712716e23",
   "metadata": {},
   "outputs": [],
   "source": []
  },
  {
   "cell_type": "code",
   "execution_count": null,
   "id": "c8b9ff5d-9516-4a4d-bec1-9172ca3b0658",
   "metadata": {},
   "outputs": [],
   "source": []
  },
  {
   "cell_type": "code",
   "execution_count": null,
   "id": "6c51f7c6-87f7-4958-b476-f32ff7e259ad",
   "metadata": {},
   "outputs": [],
   "source": []
  },
  {
   "cell_type": "code",
   "execution_count": null,
   "id": "dda53a88-0842-4cef-9067-1f93697ba608",
   "metadata": {},
   "outputs": [],
   "source": []
  },
  {
   "cell_type": "code",
   "execution_count": null,
   "id": "14dff8a7-401d-4b2b-8071-2e4a1fdce033",
   "metadata": {},
   "outputs": [],
   "source": []
  },
  {
   "cell_type": "code",
   "execution_count": null,
   "id": "e18825c0-4a79-444b-9bfd-4f3a97e6f099",
   "metadata": {},
   "outputs": [],
   "source": []
  },
  {
   "cell_type": "markdown",
   "id": "7a392c01-76df-4733-85b7-26dc5ef3ed75",
   "metadata": {},
   "source": [
    "### TASTIPT"
   ]
  },
  {
   "cell_type": "code",
   "execution_count": 21,
   "id": "6e16006d-b8f8-4e79-b79e-2c9b53aab6c4",
   "metadata": {
    "scrolled": true,
    "tags": []
   },
   "outputs": [
    {
     "name": "stdout",
     "output_type": "stream",
     "text": [
      "Image size is  224\n",
      "index initializing....\n",
      "number of training instances:  3000\n",
      "Image size is  224\n",
      "mining complete!\n",
      "Image size is  224\n",
      "training complete!\n",
      "inferring complete!\n"
     ]
    },
    {
     "name": "stderr",
     "output_type": "stream",
     "text": [
      "RandomBucketter: 100%|██████████| 7499/7499 [02:55<00:00, 42.61it/s]\n",
      "FPFBucketter: 100%|██████████| 22500/22500 [09:17<00:00, 40.36it/s]\n",
      "100%|██████████| 300000/300000 [04:29<00:00, 1115.04it/s]\n"
     ]
    },
    {
     "name": "stdout",
     "output_type": "stream",
     "text": [
      "bucketing complete!\n"
     ]
    },
    {
     "data": {
      "application/vnd.jupyter.widget-view+json": {
       "model_id": "2eef1583788049c8b332ee1aafa5acb6",
       "version_major": 2,
       "version_minor": 0
      },
      "text/plain": [
       "Target DNN Invocations:   0%|          | 0/30000 [00:00<?, ?it/s]"
      ]
     },
     "metadata": {},
     "output_type": "display_data"
    }
   ],
   "source": [
    "from eko_paper2022.motivation.main import execute_tastipt\n",
    "\n",
    "tastipt = execute_tastipt(images, video_name, category = category, redo = False, image_size = 224, nb_buckets = anchor_count)\n",
    "\n"
   ]
  },
  {
   "cell_type": "code",
   "execution_count": 22,
   "id": "cab31ad1-1a8a-4a91-a126-1a916fb631ce",
   "metadata": {
    "scrolled": true,
    "tags": []
   },
   "outputs": [
    {
     "data": {
      "application/vnd.jupyter.widget-view+json": {
       "model_id": "3638cc10c15d4d0b9520de83798b7e36",
       "version_major": 2,
       "version_minor": 0
      },
      "text/plain": [
       "Propagation:   0%|          | 0/300000 [00:00<?, ?it/s]"
      ]
     },
     "metadata": {},
     "output_type": "display_data"
    },
    {
     "data": {
      "text/plain": [
       "(0.6328441003120305, 0.8057088207165453)"
      ]
     },
     "execution_count": 22,
     "metadata": {},
     "output_type": "execute_result"
    }
   ],
   "source": [
    "### Q2:\n",
    "### Q2:\n",
    "precision, recall = query_process_precision(tastipt, dnn_invocation = dnn_invocation)\n",
    "precision, recall\n",
    "\n"
   ]
  },
  {
   "cell_type": "code",
   "execution_count": 23,
   "id": "00d3953b-04ba-41e7-b54f-40784b626b6f",
   "metadata": {},
   "outputs": [
    {
     "data": {
      "application/vnd.jupyter.widget-view+json": {
       "model_id": "ee8f370db0a54875a0180dc880565957",
       "version_major": 2,
       "version_minor": 0
      },
      "text/plain": [
       "Propagation:   0%|          | 0/300000 [00:00<?, ?it/s]"
      ]
     },
     "metadata": {},
     "output_type": "display_data"
    },
    {
     "data": {
      "text/plain": [
       "(0.5552465702632555, 0.8813359817553152)"
      ]
     },
     "execution_count": 23,
     "metadata": {},
     "output_type": "execute_result"
    }
   ],
   "source": [
    "### Q2:\n",
    "precision, recall = query_process_recall(tastipt, dnn_invocation = dnn_invocation)\n",
    "precision, recall\n",
    "\n"
   ]
  },
  {
   "cell_type": "code",
   "execution_count": 3,
   "id": "2de886e2-0e75-433c-ba29-3883a29ddfdf",
   "metadata": {},
   "outputs": [],
   "source": [
    "import numpy as np"
   ]
  },
  {
   "cell_type": "code",
   "execution_count": 4,
   "id": "fbde92e2-3985-4e77-9dde-839de841a140",
   "metadata": {},
   "outputs": [],
   "source": [
    "def f1_score(precisions, recalls):\n",
    "    f1s = []\n",
    "    for precision, recall in zip(precisions, recalls):\n",
    "        f1s.append(2* precision * recall / (precision + recall))\n",
    "    return f1s"
   ]
  },
  {
   "cell_type": "code",
   "execution_count": 5,
   "id": "4229d292-8a8a-4d51-b696-2ad51cbcbc61",
   "metadata": {},
   "outputs": [],
   "source": [
    "#### Q2\n",
    "\n",
    "\n",
    "\n",
    "x_axis_names = ['SVM', 'Resnet-18', 'TASTI-PT', 'EKO']\n",
    "\n",
    "\n",
    "cherry_p = np.array([0.99, 0.97, 0.94, 0.96]) \n",
    "cherry_r = np.array([0.19, 0.52, 0.91, 0.96])\n",
    "cherry_f = f1_score(cherry_p, cherry_r)\n",
    "\n",
    "detrac_p = np.array([1.0, 0.96, 0.96, 0.98]) \n",
    "detrac_r = np.array([0.90, 0.94, 0.98, 0.97])\n",
    "detrac_f = f1_score(detrac_p, detrac_r)\n",
    "\n",
    "dashcam_p = np.array([1.0, 0.96, 0.94, 0.95]) \n",
    "dashcam_r = np.array([0.09, 0.61, 0.87, 0.92])\n",
    "dashcam_f = f1_score(dashcam_p, dashcam_r)\n",
    "\n",
    "jackson_p = np.array([1.0, 1.0, 0.63, 0.77]) \n",
    "jackson_r = np.array([0.26, 0.19, 0.8, 0.75])\n",
    "jackson_f = f1_score(jackson_p, jackson_r)\n"
   ]
  },
  {
   "cell_type": "code",
   "execution_count": 6,
   "id": "74bce84d-227b-4184-98be-644151dc39fa",
   "metadata": {},
   "outputs": [
    {
     "data": {
      "text/plain": [
       "([0.3188135593220339, 0.6770469798657718, 0.9247567567567566, 0.96],\n",
       " [0.9473684210526316,\n",
       "  0.9498947368421051,\n",
       "  0.9698969072164948,\n",
       "  0.974974358974359],\n",
       " [0.16513761467889906,\n",
       "  0.7459872611464969,\n",
       "  0.903646408839779,\n",
       "  0.93475935828877],\n",
       " [0.41269841269841273,\n",
       "  0.319327731092437,\n",
       "  0.7048951048951049,\n",
       "  0.7598684210526316])"
      ]
     },
     "execution_count": 6,
     "metadata": {},
     "output_type": "execute_result"
    }
   ],
   "source": [
    "cherry_f, detrac_f, dashcam_f, jackson_f"
   ]
  },
  {
   "cell_type": "code",
   "execution_count": 7,
   "id": "1c8415f9-b0a9-484c-9d32-6d2c6d7c3976",
   "metadata": {},
   "outputs": [
    {
     "data": {
      "text/plain": [
       "(0.4610045019379943,\n",
       " 0.6730641772367028,\n",
       " 0.8757987944270338,\n",
       " 0.9074005345789402)"
      ]
     },
     "execution_count": 7,
     "metadata": {},
     "output_type": "execute_result"
    }
   ],
   "source": [
    "cherry_t = cherry_f\n",
    "detrac_t = detrac_f\n",
    "dashcam_t = dashcam_f\n",
    "jackson_t = jackson_f\n",
    "\n",
    "i = 0\n",
    "svm_times = [cherry_t[i], detrac_t[i], dashcam_t[i], jackson_t[i]]\n",
    "i = 1\n",
    "resnet_times = [cherry_t[i], detrac_t[i], dashcam_t[i], jackson_t[i]]\n",
    "\n",
    "i = 2\n",
    "tasti_times = [cherry_t[i], detrac_t[i], dashcam_t[i], jackson_t[i]]\n",
    "\n",
    "i = 3\n",
    "eko_times = [cherry_t[i], detrac_t[i], dashcam_t[i], jackson_t[i]]\n",
    "\n",
    "np.average(svm_times), np.average(resnet_times), np.average(tasti_times), np.average(eko_times)"
   ]
  },
  {
   "cell_type": "code",
   "execution_count": 8,
   "id": "f2770e49-0c81-4cce-ad9f-91e7b17ae869",
   "metadata": {},
   "outputs": [
    {
     "data": {
      "text/plain": [
       "(1.9565217391304348, 1.3432835820895523, 1.0344827586206897)"
      ]
     },
     "execution_count": 8,
     "metadata": {},
     "output_type": "execute_result"
    }
   ],
   "source": [
    "90 / 46, 90 / 67, 90 / 87"
   ]
  },
  {
   "cell_type": "code",
   "execution_count": null,
   "id": "b74baab9-a63e-4840-bda9-25186acb4558",
   "metadata": {},
   "outputs": [],
   "source": []
  },
  {
   "cell_type": "code",
   "execution_count": 9,
   "id": "3dabb225-d9fb-4aff-9464-4f797f378e75",
   "metadata": {},
   "outputs": [
    {
     "data": {
      "text/plain": [
       "(array([3.01116427, 1.41792228, 1.03811083, 1.        ]),\n",
       " array([1.0291396 , 1.02640253, 1.00523504, 1.        ]),\n",
       " array([5.66048723, 1.25305003, 1.03443045, 1.        ]),\n",
       " array([1.84121964, 2.37958795, 1.07798794, 1.        ]))"
      ]
     },
     "execution_count": 9,
     "metadata": {},
     "output_type": "execute_result"
    }
   ],
   "source": [
    "cherry_f[3] / cherry_f, detrac_f[3] / detrac_f, dashcam_f[3] / dashcam_f, jackson_f[3] / jackson_f"
   ]
  },
  {
   "cell_type": "code",
   "execution_count": 10,
   "id": "98762bfe-edf5-4340-9ec4-ce44ff626a73",
   "metadata": {},
   "outputs": [
    {
     "name": "stderr",
     "output_type": "stream",
     "text": [
      "<ipython-input-10-2a8fea29b543>:35: UserWarning: FixedFormatter should only be used together with FixedLocator\n",
      "  axes[i][j].set_xticklabels(x_axis_names, rotation = 30, ha = 'right',rotation_mode='anchor')\n",
      "<ipython-input-10-2a8fea29b543>:45: UserWarning: FixedFormatter should only be used together with FixedLocator\n",
      "  axes[i][j].set_xticklabels(x_axis_names, rotation = 30, ha = 'right', rotation_mode='anchor')\n",
      "<ipython-input-10-2a8fea29b543>:51: UserWarning: FixedFormatter should only be used together with FixedLocator\n",
      "  axes[i][j].set_xticklabels(x_axis_names, rotation = 30, ha = 'right', rotation_mode='anchor')\n",
      "<ipython-input-10-2a8fea29b543>:62: UserWarning: FixedFormatter should only be used together with FixedLocator\n",
      "  axes[i][j].set_xticklabels(x_axis_names, rotation = 30, ha = 'right', rotation_mode='anchor')\n"
     ]
    },
    {
     "data": {
      "image/png": "[encoded data removed]",
      "text/plain": [
       "<Figure size 576x360 with 4 Axes>"
      ]
     },
     "metadata": {
      "needs_background": "light"
     },
     "output_type": "display_data"
    }
   ],
   "source": [
    "import numpy as np\n",
    "import matplotlib.pyplot as plt\n",
    "%matplotlib inline\n",
    "import matplotlib\n",
    "\n",
    "font = {\n",
    "        'weight' : 'bold',\n",
    "        'size'   : 15}\n",
    "\n",
    "matplotlib.rc('font', **font)\n",
    "matplotlib.rc('ytick', labelsize=15)\n",
    "\n",
    "\n",
    "x_axis_names = ['SVM', 'Resnet-18', 'TASTI-PT', 'SEIDEN']\n",
    "\n",
    "x = np.arange(len(x_axis_names))\n",
    "\n",
    "\n",
    "### we need to do subplots\n",
    "rows = 2\n",
    "columns = 2\n",
    "fig_size = (8, 5)\n",
    "fig, axes = plt.subplots(rows, columns, sharey = False, sharex=True, figsize=fig_size)\n",
    "\n",
    "\n",
    "i = 0\n",
    "j = 0\n",
    "width = 0.6\n",
    "\n",
    "axes[i][j].bar(x_axis_names, cherry_f, width)\n",
    "axes[i][j].set_ylabel('F1-Score', weight = 'bold', size = 15)\n",
    "#axes[i][j].set_ylim(0, 200)\n",
    "#axes[i][j].set_yticks([0, 50, 100, 150, 200])\n",
    "\n",
    "axes[i][j].set_xticklabels(x_axis_names, rotation = 30, ha = 'right',rotation_mode='anchor')\n",
    "#plt.ylim(0, 2)\n",
    "#plt.xticks(x, x_axis_names)\n",
    "axes[i][j].set_title('Cherry', weight = 'bold', size = 15)\n",
    "\n",
    "\n",
    "i = 0\n",
    "j = 1\n",
    "axes[i][j].bar(x_axis_names, detrac_f, width)\n",
    "axes[i][j].set_title('UA-DETRAC', weight = 'bold', size = 15)\n",
    "axes[i][j].set_xticklabels(x_axis_names, rotation = 30, ha = 'right', rotation_mode='anchor')\n",
    "\n",
    "\n",
    "i = 1\n",
    "j = 0\n",
    "axes[i][j].bar(x_axis_names, dashcam_f, width)\n",
    "axes[i][j].set_xticklabels(x_axis_names, rotation = 30, ha = 'right', rotation_mode='anchor')\n",
    "axes[i][j].set_ylabel('F1-Score', weight = 'bold', size = 15)\n",
    "\n",
    "axes[i][j].set_title('Dashcam', weight = 'bold', size = 15)\n",
    "\n",
    "\n",
    "i = 1\n",
    "j = 1\n",
    "axes[i][j].bar(x_axis_names, jackson_f, width)\n",
    "\n",
    "axes[i][j].set_title('Jackson', weight = 'bold', size = 15)\n",
    "axes[i][j].set_xticklabels(x_axis_names, rotation = 30, ha = 'right', rotation_mode='anchor')\n",
    "\n",
    "\n",
    "fig.tight_layout()\n",
    "\n",
    "#plt.legend()\n",
    "plt.savefig('plots/query-execution-q2.png')\n",
    "plt.show()"
   ]
  },
  {
   "cell_type": "markdown",
   "id": "55965793-24a7-47ae-a8aa-ba687256239c",
   "metadata": {},
   "source": [
    "## Q3"
   ]
  },
  {
   "cell_type": "code",
   "execution_count": 11,
   "id": "215140e9-d0f7-49b3-9bc1-333eb5b5fd55",
   "metadata": {},
   "outputs": [],
   "source": [
    "#### Q3\n",
    "\n",
    "\n",
    "\n",
    "x_axis_names = ['SVM', 'Resnet-18', 'TASTI-PT', 'SEIDEN']\n",
    "\n",
    "\n",
    "cherry_p = np.array([0.63, 0.42, 0.91, 0.96]) \n",
    "cherry_r = np.array([0.96, 0.96, 0.92, 0.95])\n",
    "cherry_f = f1_score(cherry_p, cherry_r)\n",
    "\n",
    "detrac_p = np.array([0.94, 0.96, 0.98, 0.98]) \n",
    "detrac_r = np.array([0.96, 0.95, 0.95, 0.95])\n",
    "detrac_f = f1_score(detrac_p, detrac_r)\n",
    "\n",
    "dashcam_p = np.array([0.6, 0.7, 0.92, 0.95]) \n",
    "dashcam_r = np.array([0.96, 0.96, 0.91, 0.94])\n",
    "dashcam_f = f1_score(dashcam_p, dashcam_r)\n",
    "\n",
    "jackson_p = np.array([0.19, 0.04, 0.55, 0.70]) \n",
    "jackson_r = np.array([0.96, 0.98, 0.88, 0.85])\n",
    "jackson_f = f1_score(jackson_p, jackson_r)"
   ]
  },
  {
   "cell_type": "code",
   "execution_count": 12,
   "id": "b7f56205-9f81-4496-9dc4-3de3b11eba99",
   "metadata": {},
   "outputs": [
    {
     "data": {
      "text/plain": [
       "(0.6915820958972809,\n",
       " 0.6064557368478479,\n",
       " 0.8679088178731431,\n",
       " 0.9081140354562958)"
      ]
     },
     "execution_count": 12,
     "metadata": {},
     "output_type": "execute_result"
    }
   ],
   "source": [
    "cherry_t = cherry_f\n",
    "detrac_t = detrac_f\n",
    "dashcam_t = dashcam_f\n",
    "jackson_t = jackson_f\n",
    "\n",
    "i = 0\n",
    "svm_times = [cherry_t[i], detrac_t[i], dashcam_t[i], jackson_t[i]]\n",
    "i = 1\n",
    "resnet_times = [cherry_t[i], detrac_t[i], dashcam_t[i], jackson_t[i]]\n",
    "\n",
    "i = 2\n",
    "tasti_times = [cherry_t[i], detrac_t[i], dashcam_t[i], jackson_t[i]]\n",
    "\n",
    "i = 3\n",
    "eko_times = [cherry_t[i], detrac_t[i], dashcam_t[i], jackson_t[i]]\n",
    "\n",
    "np.average(svm_times), np.average(resnet_times), np.average(tasti_times), np.average(eko_times)"
   ]
  },
  {
   "cell_type": "code",
   "execution_count": 13,
   "id": "daaafd7b-45db-45b6-9d5d-94466455f81b",
   "metadata": {},
   "outputs": [
    {
     "data": {
      "text/plain": [
       "(1.318840579710145, 1.5166666666666666, 1.0459770114942528)"
      ]
     },
     "execution_count": 13,
     "metadata": {},
     "output_type": "execute_result"
    }
   ],
   "source": [
    "91 / 69, 91 / 60, 91 / 87"
   ]
  },
  {
   "cell_type": "code",
   "execution_count": null,
   "id": "034cfe9e-f80d-4b1e-87a1-42a3a039af87",
   "metadata": {},
   "outputs": [],
   "source": []
  },
  {
   "cell_type": "code",
   "execution_count": 14,
   "id": "c24e4cea-971c-4639-a677-bc8bfb0bd9a0",
   "metadata": {},
   "outputs": [
    {
     "data": {
      "text/plain": [
       "[0.7607547169811322,\n",
       " 0.5843478260869565,\n",
       " 0.9149726775956284,\n",
       " 0.9549738219895287]"
      ]
     },
     "execution_count": 14,
     "metadata": {},
     "output_type": "execute_result"
    }
   ],
   "source": [
    "cherry_f"
   ]
  },
  {
   "cell_type": "code",
   "execution_count": 15,
   "id": "ba0cdf12-d72c-4ed1-82db-a94af28d2f88",
   "metadata": {},
   "outputs": [
    {
     "name": "stderr",
     "output_type": "stream",
     "text": [
      "<ipython-input-15-21a570e9b1d7>:35: UserWarning: FixedFormatter should only be used together with FixedLocator\n",
      "  axes[i][j].set_xticklabels(x_axis_names, rotation = 30, ha = 'right',rotation_mode='anchor')\n",
      "<ipython-input-15-21a570e9b1d7>:45: UserWarning: FixedFormatter should only be used together with FixedLocator\n",
      "  axes[i][j].set_xticklabels(x_axis_names, rotation = 30, ha = 'right', rotation_mode='anchor')\n",
      "<ipython-input-15-21a570e9b1d7>:51: UserWarning: FixedFormatter should only be used together with FixedLocator\n",
      "  axes[i][j].set_xticklabels(x_axis_names, rotation = 30, ha = 'right', rotation_mode='anchor')\n",
      "<ipython-input-15-21a570e9b1d7>:62: UserWarning: FixedFormatter should only be used together with FixedLocator\n",
      "  axes[i][j].set_xticklabels(x_axis_names, rotation = 30, ha = 'right', rotation_mode='anchor')\n"
     ]
    },
    {
     "data": {
      "image/png": "[encoded data removed]",
      "text/plain": [
       "<Figure size 576x360 with 4 Axes>"
      ]
     },
     "metadata": {
      "needs_background": "light"
     },
     "output_type": "display_data"
    }
   ],
   "source": [
    "import numpy as np\n",
    "import matplotlib.pyplot as plt\n",
    "%matplotlib inline\n",
    "import matplotlib\n",
    "\n",
    "font = {\n",
    "        'weight' : 'bold',\n",
    "        'size'   : 15}\n",
    "\n",
    "matplotlib.rc('font', **font)\n",
    "matplotlib.rc('ytick', labelsize=15)\n",
    "\n",
    "\n",
    "x_axis_names = ['SVM', 'Resnet-18', 'TASTI-PT', 'SEIDEN']\n",
    "\n",
    "x = np.arange(len(x_axis_names))\n",
    "\n",
    "\n",
    "### we need to do subplots\n",
    "rows = 2\n",
    "columns = 2\n",
    "fig_size = (8, 5)\n",
    "fig, axes = plt.subplots(rows, columns, sharey = False, sharex=True, figsize=fig_size)\n",
    "\n",
    "\n",
    "i = 0\n",
    "j = 0\n",
    "width = 0.6\n",
    "\n",
    "axes[i][j].bar(x_axis_names, cherry_f, width)\n",
    "axes[i][j].set_ylabel('F1-Score', weight = 'bold', size = 15)\n",
    "#axes[i][j].set_ylim(0, 200)\n",
    "#axes[i][j].set_yticks([0, 50, 100, 150, 200])\n",
    "\n",
    "axes[i][j].set_xticklabels(x_axis_names, rotation = 30, ha = 'right',rotation_mode='anchor')\n",
    "#plt.ylim(0, 2)\n",
    "#plt.xticks(x, x_axis_names)\n",
    "axes[i][j].set_title('Cherry', weight = 'bold', size = 15)\n",
    "\n",
    "\n",
    "i = 0\n",
    "j = 1\n",
    "axes[i][j].bar(x_axis_names, detrac_f, width)\n",
    "axes[i][j].set_title('UA-DETRAC', weight = 'bold', size = 15)\n",
    "axes[i][j].set_xticklabels(x_axis_names, rotation = 30, ha = 'right', rotation_mode='anchor')\n",
    "\n",
    "\n",
    "i = 1\n",
    "j = 0\n",
    "axes[i][j].bar(x_axis_names, dashcam_f, width)\n",
    "axes[i][j].set_xticklabels(x_axis_names, rotation = 30, ha = 'right', rotation_mode='anchor')\n",
    "axes[i][j].set_ylabel('F1-Score', weight = 'bold', size = 15)\n",
    "\n",
    "axes[i][j].set_title('Dashcam', weight = 'bold', size = 15)\n",
    "\n",
    "\n",
    "i = 1\n",
    "j = 1\n",
    "axes[i][j].bar(x_axis_names, jackson_f, width)\n",
    "\n",
    "axes[i][j].set_title('Jackson', weight = 'bold', size = 15)\n",
    "axes[i][j].set_xticklabels(x_axis_names, rotation = 30, ha = 'right', rotation_mode='anchor')\n",
    "\n",
    "\n",
    "fig.tight_layout()\n",
    "\n",
    "#plt.legend()\n",
    "plt.savefig('plots/query-execution-q3.png')\n",
    "plt.show()"
   ]
  },
  {
   "cell_type": "code",
   "execution_count": null,
   "id": "f6f9800f-f1f5-4583-bfa7-ba17f915bdf0",
   "metadata": {},
   "outputs": [],
   "source": []
  },
  {
   "cell_type": "code",
   "execution_count": null,
   "id": "d431b0c4-4c7c-4b13-8f23-1ed27ebc23fe",
   "metadata": {},
   "outputs": [],
   "source": []
  },
  {
   "cell_type": "code",
   "execution_count": 55,
   "id": "38535b55-b285-40ae-aac4-7600a02b86ce",
   "metadata": {},
   "outputs": [],
   "source": [
    "### Cherry Q1\n",
    "cherry_q1 = np.array([3341, 2352, 1900, 1759]) * (1 / 140) + np.array([0, 0, 4.2, 4])\n",
    "cherry_q2 = np.array([-1, -1, 300, 300]) * 1 / 140 + np.array([0, 0, 4.2, 4])\n",
    "cherry_q3 = np.array([100, 100, 100, 600]) * 1 / 140 + np.array([0, 0, 4.2, 4])\n",
    "detrac_q1 = np.array([55607, 28323, 23147, 20943]) * (1 / 140) + np.array([0, 0, 3.9, 4.5])\n",
    "detrac_q2 = np.array([210, 210, 210, 210]) * (1 / 140) + np.array([0, 0, 3.9, 4.5])\n",
    "detrac_q3 = np.array([100, 100, 110, 100]) * (1 / 140) + np.array([0, 0, 3.9, 4.5])\n",
    "\n",
    "dashcam_q1 = np.array([20679, 14638, 8426, 7571]) * (1 / 140) + np.array([0, 0, 3.7, 3.9])\n",
    "dashcam_q2 = np.array([-1, -1, 240, 210]) * (1 / 140) + np.array([0, 0, 3.7, 3.9])\n",
    "dashcam_q3 = np.array([100, 100, 100, 100]) * (1 / 140) + np.array([0, 0, 3.7, 3.9])\n",
    "\n",
    "dashcam_q1 = np.array([1316, 921, 1145, 1425]) * (1 / 140) + np.array([0, 0, 13, 12])\n",
    "dashcam_q2 = np.array([-1, -1, -1, -1]) * (1 / 140) + np.array([0, 0, 13, 12])\n",
    "dashcam_q3 = np.array([1500, 17600, -1, -1]) * (1 / 140) + np.array([0, 0, 13, 12])\n"
   ]
  },
  {
   "cell_type": "code",
   "execution_count": 56,
   "id": "a98cb171-532f-486e-811b-6b44b8884402",
   "metadata": {},
   "outputs": [
    {
     "data": {
      "text/plain": [
       "array([        9.4,      6.5786,      21.179,      22.179])"
      ]
     },
     "execution_count": 56,
     "metadata": {},
     "output_type": "execute_result"
    }
   ],
   "source": [
    "dashcam_q1"
   ]
  },
  {
   "cell_type": "code",
   "execution_count": null,
   "id": "7502e52a-9786-4fc7-b50d-d47f07d10f06",
   "metadata": {},
   "outputs": [],
   "source": []
  },
  {
   "cell_type": "code",
   "execution_count": null,
   "id": "c2f9a3ec-fb19-4f06-bcd1-40825e79f1dc",
   "metadata": {},
   "outputs": [],
   "source": [
    "THR = 1 / 140\n",
    "\n",
    "\n",
    "#### Q1\n",
    "x_axis_names = ['SVM', 'Resnet-18', 'TASTI-PT', 'EKO']\n",
    "cherry_q1_others = [0, 0, 4.2, 3.9]\n",
    "cherry_q1_post = [3300 * THR, 2545 * THR, 1892 * THR, 1829 * THR]\n",
    "\n",
    "#### Q2\n",
    "cherry_q2_others = [0, 0, 4.2, 3.9]\n",
    "cherry_q2_post = [1219 * THR, 886 * THR, 779 * THR, 778 * THR]\n",
    "\n",
    "#### Q3\n",
    "cherry_q3_others = [0, 0, 4.2, 3.9]\n",
    "cherry_q3_post = [1219 * THR, 886 * THR, 779 * THR, 778 * THR]\n",
    "\n",
    "\n",
    "#### Q1\n",
    "detrac_q1_others = [0, 0, 4.2, 3.9]\n",
    "detrac_q1_post = [1219 * THR, 886 * THR, 779 * THR, 778 * THR]\n",
    "\n",
    "\n",
    "#### Q2\n",
    "detrac_q2_others = [0, 0, 4.2, 3.9]\n",
    "detrac_q2_post = [1219 * THR, 886 * THR, 779 * THR, 778 * THR]\n",
    "\n",
    "\n",
    "#### Q3\n",
    "detrac_q3_others = [0, 0, 4.2, 3.9]\n",
    "detrac_q3_post = [1219 * THR, 886 * THR, 779 * THR, 778 * THR]\n",
    "\n",
    "\n",
    "#### Q1\n",
    "dashcam_q1_others = [0, 0, 4.2, 3.9]\n",
    "dashcam_q1_post = [1219 * THR, 886 * THR, 779 * THR, 778 * THR]\n",
    "\n",
    "\n",
    "#### Q2\n",
    "dashcam_q2_others = [0, 0, 4.2, 3.9]\n",
    "dashcam_q2_post = [1219 * THR, 886 * THR, 779 * THR, 778 * THR]\n",
    "\n",
    "\n",
    "#### Q3\n",
    "dashcam_q3_others = [0, 0, 4.2, 3.9]\n",
    "dashcam_q3_post = [1219 * THR, 886 * THR, 779 * THR, 778 * THR]\n",
    "\n",
    "\n",
    "#### Q1\n",
    "jackson_q1_others = [0, 0, 4.2, 3.9]\n",
    "jackson_q1_post = [1219 * THR, 886 * THR, 779 * THR, 778 * THR]\n",
    "\n",
    "\n",
    "#### Q2\n",
    "jackson_q2_others = [0, 0, 4.2, 3.9]\n",
    "jackson_q2_post = [1219 * THR, 886 * THR, 779 * THR, 778 * THR]\n",
    "\n",
    "\n",
    "#### Q3\n",
    "jackson_q3_others = [0, 0, 4.2, 3.9]\n",
    "jackson_q3_post = [1219 * THR, 886 * THR, 779 * THR, 778 * THR]\n",
    "\n",
    "\n",
    "\n",
    "import numpy as np\n",
    "import matplotlib.pyplot as plt\n",
    "%matplotlib inline\n",
    "\n",
    "\n",
    "### we need to do subplots\n",
    "rows = 1\n",
    "columns = 3\n",
    "i = 1\n",
    "fig = plt.figure(figsize = (15,3))\n",
    "fig.add_subplot(rows, columns, i)\n",
    "plt.bar(x - width, cherry_values, width, label = 'Cherry')\n",
    "plt.bar(x, ua_values, width, label = 'UA_DETRAC')\n",
    "plt.bar(x + width, da_values, width, label = 'Dashcam')\n",
    "plt.ylabel('Time (s)')\n",
    "plt.xticks(x, x_axis_names)\n",
    "plt.title('Q1 -- Aggregate')\n",
    "\n",
    "\n",
    "i = 2\n",
    "fig.add_subplot(rows, columns, i)\n",
    "plt.bar(x - width, cherry_values, width, label = 'Cherry')\n",
    "plt.bar(x, ua_values, width, label = 'UA_DETRAC')\n",
    "plt.bar(x + width, da_values, width, label = 'Dashcam')\n",
    "plt.xticks(x, x_axis_names)\n",
    "plt.title('Q2 -- Precision')\n",
    "\n",
    "\n",
    "\n",
    "i = 3\n",
    "fig.add_subplot(rows, columns, i)\n",
    "plt.bar(x - width, cherry_values, width, label = 'Cherry')\n",
    "plt.bar(x, ua_values, width, label = 'UA_DETRAC')\n",
    "plt.bar(x + width, da_values, width, label = 'Dashcam')\n",
    "plt.xticks(x, x_axis_names)\n",
    "plt.title('Q3 -- Recall')\n",
    "\n",
    "\n",
    "\n",
    "\n",
    "plt.xticks(x, x_axis_names)\n",
    "plt.legend()\n",
    "plt.show()\n",
    "\n"
   ]
  },
  {
   "cell_type": "code",
   "execution_count": null,
   "id": "58352758-0fce-462b-b10a-308797267ca2",
   "metadata": {},
   "outputs": [],
   "source": []
  },
  {
   "cell_type": "code",
   "execution_count": null,
   "id": "38ca18fd-1aec-40cf-adfc-e967c752d127",
   "metadata": {},
   "outputs": [],
   "source": [
    "### TODO: Need to include the YOLOv5 inference time for EKO -- this is pretty significant"
   ]
  },
  {
   "cell_type": "code",
   "execution_count": 14,
   "id": "7c7a6942-7f1d-4ddb-993f-46e8fa9d410d",
   "metadata": {},
   "outputs": [
    {
     "data": {
      "image/png": "[encoded data removed]",
      "text/plain": [
       "<Figure size 1080x216 with 3 Axes>"
      ]
     },
     "metadata": {
      "needs_background": "light"
     },
     "output_type": "display_data"
    }
   ],
   "source": [
    "### generate the outcome graph first \n",
    "import numpy as np\n",
    "import matplotlib.pyplot as plt\n",
    "%matplotlib inline\n",
    "### drawing function for the graph\n",
    "\n",
    "#### Q1 values\n",
    "\n",
    "x_axis_names = ['YOLOv5', 'TASTI-PT', 'EKO']\n",
    "cherry_values = [0, 9.68, 9.5]\n",
    "ua_values = [0, 61.25, 65.4]\n",
    "da_values = [0, 3.3 + 21.47, 2.9 + 22.17]\n",
    "\n",
    "\n",
    "##### Q2 values\n",
    "cherry_values = [0, 4.48 + 7.14, 4.26 + 7.14]\n",
    "ua_values = [0, 11.18, 12.94]\n",
    "da_values = [0, 3.57 + 7.14, 3.4 + 7.14]\n",
    "\n",
    "##### Q3 values\n",
    "cherry_values = [0, 4.56 + 7.14, 4.32 + 7.14]\n",
    "ua_values = [0, 11.84, 11.04]\n",
    "da_values = [0, 3.4 + 7.14, 3.4 + 7.14]\n",
    "\n",
    "\n",
    "x = np.arange(len(x_axis_names))\n",
    "width = 0.2\n",
    "\n",
    "\n",
    "### we need to do subplots\n",
    "rows = 1\n",
    "columns = 3\n",
    "i = 1\n",
    "fig = plt.figure(figsize = (15,3))\n",
    "fig.add_subplot(rows, columns, i)\n",
    "plt.bar(x - width, cherry_values, width, label = 'Cherry')\n",
    "plt.bar(x, ua_values, width, label = 'UA_DETRAC')\n",
    "plt.bar(x + width, da_values, width, label = 'Dashcam')\n",
    "plt.ylabel('Time (s)')\n",
    "plt.xticks(x, x_axis_names)\n",
    "plt.title('Q1 -- Aggregate')\n",
    "\n",
    "\n",
    "\n",
    "\n",
    "\n",
    "i = 2\n",
    "fig.add_subplot(rows, columns, i)\n",
    "plt.bar(x - width, cherry_values, width, label = 'Cherry')\n",
    "plt.bar(x, ua_values, width, label = 'UA_DETRAC')\n",
    "plt.bar(x + width, da_values, width, label = 'Dashcam')\n",
    "plt.xticks(x, x_axis_names)\n",
    "plt.title('Q2 -- Precision')\n",
    "\n",
    "\n",
    "\n",
    "i = 3\n",
    "fig.add_subplot(rows, columns, i)\n",
    "plt.bar(x - width, cherry_values, width, label = 'Cherry')\n",
    "plt.bar(x, ua_values, width, label = 'UA_DETRAC')\n",
    "plt.bar(x + width, da_values, width, label = 'Dashcam')\n",
    "plt.xticks(x, x_axis_names)\n",
    "plt.title('Q3 -- Recall')\n",
    "\n",
    "\n",
    "\n",
    "\n",
    "plt.xticks(x, x_axis_names)\n",
    "plt.legend()\n",
    "plt.show()\n"
   ]
  },
  {
   "cell_type": "code",
   "execution_count": 15,
   "id": "6d10bd56-050d-4722-9312-6b0f384da566",
   "metadata": {},
   "outputs": [],
   "source": [
    "cherry_values = [0, 9.68, 9.5]\n",
    "ua_values = [0, 61.25, 65.4]\n",
    "da_values = [0, 3.3 + 21.47, 2.9 + 22.17]\n",
    "\n",
    "\n",
    "##### Q2 values\n",
    "cherry_values2 = [0, 4.48 + 7.14, 4.26 + 7.14]\n",
    "ua_values2 = [0, 11.18, 12.94]\n",
    "da_values2 = [0, 3.57 + 7.14, 3.4 + 7.14]\n",
    "\n",
    "##### Q3 values\n",
    "cherry_values3 = [0, 4.56 + 7.14, 4.32 + 7.14]\n",
    "ua_values3 = [0, 11.84, 11.04]\n",
    "da_values3 = [0, 3.4 + 7.14, 3.4 + 7.14]"
   ]
  },
  {
   "cell_type": "code",
   "execution_count": 17,
   "id": "4dd49179-99c3-4125-9e4f-95dd09d460eb",
   "metadata": {},
   "outputs": [
    {
     "data": {
      "text/plain": [
       "array([          0,      18.143,      18.654])"
      ]
     },
     "execution_count": 17,
     "metadata": {},
     "output_type": "execute_result"
    }
   ],
   "source": [
    "tmp = np.array([cherry_values, ua_values, da_values, cherry_values2, ua_values2, da_values2, cherry_values3, ua_values3, da_values3])\n",
    "tmp.mean(axis = 0)"
   ]
  },
  {
   "cell_type": "code",
   "execution_count": 18,
   "id": "345f2553-55bb-4841-848a-3a8dc9a2816f",
   "metadata": {},
   "outputs": [
    {
     "name": "stdout",
     "output_type": "stream",
     "text": [
      "hello world\n"
     ]
    }
   ],
   "source": [
    "print('hello world')"
   ]
  },
  {
   "cell_type": "code",
   "execution_count": null,
   "id": "f780a99b-518b-4dc0-981c-14785655dbbb",
   "metadata": {},
   "outputs": [],
   "source": []
  }
 ],
 "metadata": {
  "kernelspec": {
   "display_name": "Python 3",
   "language": "python",
   "name": "python3"
  },
  "language_info": {
   "codemirror_mode": {
    "name": "ipython",
    "version": 3
   },
   "file_extension": ".py",
   "mimetype": "text/x-python",
   "name": "python",
   "nbconvert_exporter": "python",
   "pygments_lexer": "ipython3",
   "version": "3.9.7"
  }
 },
 "nbformat": 4,
 "nbformat_minor": 5
}
